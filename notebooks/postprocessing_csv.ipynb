{
 "cells": [
  {
   "cell_type": "markdown",
   "metadata": {
    "deletable": true,
    "editable": true
   },
   "source": [
    "# Post-processing CSV"
   ]
  },
  {
   "cell_type": "code",
   "execution_count": 1,
   "metadata": {
    "collapsed": true,
    "deletable": true,
    "editable": true
   },
   "outputs": [],
   "source": [
    "# https://ipython.org/ipython-doc/3/config/extensions/autoreload.html\n",
    "%load_ext autoreload\n",
    "%autoreload 2"
   ]
  },
  {
   "cell_type": "code",
   "execution_count": 2,
   "metadata": {
    "collapsed": false,
    "deletable": true,
    "editable": true
   },
   "outputs": [
    {
     "name": "stderr",
     "output_type": "stream",
     "text": [
      "/usr/local/lib/python2.7/site-packages/matplotlib/font_manager.py:273: UserWarning: Matplotlib is building the font cache using fc-list. This may take a moment.\n",
      "  warnings.warn('Matplotlib is building the font cache using fc-list. This may take a moment.')\n"
     ]
    }
   ],
   "source": [
    "from datetime import datetime\n",
    "\n",
    "\n",
    "import cv2\n",
    "import numpy as np\n",
    "import matplotlib.pylab as plt\n",
    "\n",
    "%matplotlib inline"
   ]
  },
  {
   "cell_type": "code",
   "execution_count": 3,
   "metadata": {
    "collapsed": true,
    "deletable": true,
    "editable": true
   },
   "outputs": [],
   "source": [
    "import sys\n",
    "sys.path.append(\"../common/\")"
   ]
  },
  {
   "cell_type": "code",
   "execution_count": 4,
   "metadata": {
    "collapsed": true,
    "deletable": true,
    "editable": true
   },
   "outputs": [],
   "source": [
    "from data_utils import get_scalers, LABELS, TRAIN_IMAGE_IDS\n",
    "from image_utils import get_image_data\n",
    "from submission_utils import submission_iterator, write_shp_from_polygons, write_shp_from_csv, write_shp_from_mask\n",
    "from submission_utils import get_scaled_polygons, get_polygons, compute_label_image, get_data_csv, get_image_ids\n",
    "from submission_utils import rewrite_submission\n",
    "from visu_utils import plt_st, display_img_1b"
   ]
  },
  {
   "cell_type": "code",
   "execution_count": 5,
   "metadata": {
    "collapsed": false,
    "deletable": true,
    "editable": true
   },
   "outputs": [
    {
     "name": "stdout",
     "output_type": "stream",
     "text": [
      "0 None\n",
      "1 Buildings\n",
      "2 Misc. Manmade structures\n",
      "3 Road\n",
      "4 Track\n",
      "5 Trees\n",
      "6 Crops\n",
      "7 Waterway\n",
      "8 Standing water\n",
      "9 Vehicle Large\n",
      "10 Vehicle Small\n"
     ]
    }
   ],
   "source": [
    "for i, l in enumerate(LABELS):\n",
    "    print i, l"
   ]
  },
  {
   "cell_type": "markdown",
   "metadata": {
    "deletable": true,
    "editable": true
   },
   "source": [
    "Compare submission's predictions raw and post-processed on trained data with ground truth"
   ]
  },
  {
   "cell_type": "code",
   "execution_count": 6,
   "metadata": {
    "collapsed": false,
    "deletable": true,
    "editable": true
   },
   "outputs": [],
   "source": [
    "from np_metrics import score"
   ]
  },
  {
   "cell_type": "markdown",
   "metadata": {
    "deletable": true,
    "editable": true
   },
   "source": [
    "Get common image ids from submission file and training image ids"
   ]
  },
  {
   "cell_type": "code",
   "execution_count": 7,
   "metadata": {
    "collapsed": true,
    "deletable": true,
    "editable": true
   },
   "outputs": [],
   "source": [
    "def write_shp_pred_pp(image_id, csv_file):\n",
    "    data_csv = get_data_csv(image_id, csv_file)\n",
    "    assert data_csv is not None, \"No data_csv\"\n",
    "    write_shp_from_csv(\"../results/shp/%s_new.shp\" % image_id, data_csv)\n",
    "    polygons = get_scaled_polygons(data_csv)\n",
    "    y_pred_raw = compute_label_image(image_id, polygons)\n",
    "    y_pred_pp = mask_postprocessing(y_pred_raw, class_pp_func_list)\n",
    "    write_shp_from_mask(\"../results/shp/%s_pp.shp\" % image_id, image_id, y_pred_pp)"
   ]
  },
  {
   "cell_type": "code",
   "execution_count": 8,
   "metadata": {
    "collapsed": false,
    "deletable": true,
    "editable": true
   },
   "outputs": [],
   "source": [
    "def compare_true_pred_pp(image_id, csv_file, write_shp=True, visualize_labels=()):\n",
    "    y_true = get_image_data(image_id, 'label')\n",
    "    data_csv = get_data_csv(image_id, csv_file)\n",
    "    assert data_csv is not None, \"No data_csv\"\n",
    "    if write_shp:\n",
    "        write_shp_from_csv(\"../results/shp/%s_new.shp\" % image_id, data_csv)\n",
    "    polygons = get_scaled_polygons(data_csv)    \n",
    "    y_pred_raw = compute_label_image(image_id, polygons)\n",
    "    \n",
    "    h = min(y_true.shape[0], y_pred_raw.shape[0])\n",
    "    w = min(y_true.shape[1], y_pred_raw.shape[1])\n",
    "    s1 = score(y_true[:h,:w,:], y_pred_raw[:h,:w,:])    \n",
    "    print \"True vs Pred Raw: \", s1\n",
    "    \n",
    "    polygons = shape_postprocessing(polygons, class_shape_pp_func_list)\n",
    "    y_pred_pp = compute_label_image(image_id, polygons)\n",
    "    y_pred_pp = mask_postprocessing(y_pred_pp, class_pp_func_list)\n",
    "    \n",
    "    h = min(y_true.shape[0], y_pred_pp.shape[0])\n",
    "    w = min(y_true.shape[1], y_pred_pp.shape[1])\n",
    "    s2 = score(y_true[:h,:w,:], y_pred_pp[:h,:w,:])\n",
    "    print \"True vs Pred PP: \", s2\n",
    "    if write_shp:\n",
    "        write_shp_from_mask(\"../results/shp/%s_pp.shp\" % image_id, image_id, y_pred_pp)\n",
    "        \n",
    "        \n",
    "        \n",
    "    if len(visualize_labels) > 0:\n",
    "        ll = len(visualize_labels)\n",
    "        for i in visualize_labels:\n",
    "            if i % 2 == 0:\n",
    "                plt_st(12, 6)\n",
    "            plt.subplot(131)\n",
    "            display_img_1b(y_true[:,:,i])\n",
    "            plt.title(\"Truth\")\n",
    "            plt.subplot(132)\n",
    "            display_img_1b(y_pred_raw[:,:,i])\n",
    "            plt.title(\"Raw\")\n",
    "            plt.subplot(133)\n",
    "            display_img_1b(y_pred_pp[:,:,i])\n",
    "            plt.title(\"PP\")\n",
    "        \n",
    "        \n",
    "        \n",
    "    return s1, s2"
   ]
  },
  {
   "cell_type": "code",
   "execution_count": 10,
   "metadata": {
    "collapsed": true,
    "editable": true
   },
   "outputs": [],
   "source": [
    "CSV_FILE_NEW = \"../results/sub_mix_20170304_2329.csv\"\n",
    "# CSV_FILE_NEW = \"../results/submission_2017-03-05-23-26.csv\"\n",
    "CSV_FILE_TRAIN = \"../results/sub_model_1_20170304_1826_nan.csv\"\n"
   ]
  },
  {
   "cell_type": "code",
   "execution_count": 49,
   "metadata": {
    "collapsed": false,
    "deletable": true,
    "editable": true
   },
   "outputs": [],
   "source": [
    "from postprocessing_utils import mask_postprocessing\n",
    "from postprocessing_utils import trees_postprocessing, buildings_postprocessing, roads_postprocessing, standing_water_postprocessing\n",
    "from postprocessing_utils import shape_postprocessing, roads_shape_postprocessing\n",
    "from postprocessing_utils import buildings_shape_postprocessing\n",
    "\n",
    "\n",
    "class_pp_func_list = {\n",
    "    1: buildings_postprocessing, \n",
    "#     3: roads_postprocessing,\n",
    "    5: trees_postprocessing, \n",
    "    8: standing_water_postprocessing, \n",
    "}\n",
    "\n",
    "class_shape_pp_func_list = {\n",
    "    1: buildings_shape_postprocessing,\n",
    "    3: roads_shape_postprocessing\n",
    "}"
   ]
  },
  {
   "cell_type": "markdown",
   "metadata": {
    "collapsed": true,
    "deletable": true,
    "editable": true
   },
   "source": [
    "Check on all training data:"
   ]
  },
  {
   "cell_type": "code",
   "execution_count": 13,
   "metadata": {
    "collapsed": true,
    "deletable": true,
    "editable": true
   },
   "outputs": [],
   "source": [
    "train_ids = TRAIN_IMAGE_IDS"
   ]
  },
  {
   "cell_type": "code",
   "execution_count": 14,
   "metadata": {
    "collapsed": false,
    "deletable": true,
    "editable": true,
    "scrolled": true
   },
   "outputs": [
    {
     "name": "stdout",
     "output_type": "stream",
     "text": [
      "-- 6040_2_2\n",
      "True vs Pred Raw:  0.124523\n",
      "True vs Pred PP:  0.124523\n",
      "-- 6120_2_2\n",
      "True vs Pred Raw:  0.301466\n",
      "True vs Pred PP:  0.303625\n",
      "-- 6120_2_0\n",
      "True vs Pred Raw:  0.332018\n",
      "True vs Pred PP:  0.335627\n",
      "-- 6090_2_0\n",
      "True vs Pred Raw:  0.14743\n",
      "True vs Pred PP:  0.14743\n",
      "-- 6040_1_3\n",
      "True vs Pred Raw:  0.137345\n",
      "True vs Pred PP:  0.137345\n",
      "-- 6040_1_0\n",
      "True vs Pred Raw:  0.145944\n",
      "True vs Pred PP:  0.145954\n",
      "-- 6100_1_3\n",
      "True vs Pred Raw:  0.349125\n",
      "True vs Pred PP:  0.363135\n",
      "-- 6010_4_2\n",
      "True vs Pred Raw:  0.131629\n",
      "True vs Pred PP:  0.131629\n",
      "-- 6110_4_0\n",
      "True vs Pred Raw:  0.398946\n",
      "True vs Pred PP:  0.404301\n",
      "-- 6140_3_1\n",
      "True vs Pred Raw:  0.335387\n",
      "True vs Pred PP:  0.341293\n",
      "-- 6110_1_2\n",
      "True vs Pred Raw:  0.233097\n",
      "True vs Pred PP:  0.237071\n",
      "-- 6100_2_3\n",
      "True vs Pred Raw:  0.293448\n",
      "True vs Pred PP:  0.305344\n",
      "-- 6150_2_3\n",
      "True vs Pred Raw:  0.2014\n",
      "True vs Pred PP:  0.2014\n",
      "-- 6160_2_1\n",
      "True vs Pred Raw:  0.139019\n",
      "True vs Pred PP:  0.139031\n",
      "-- 6140_1_2\n",
      "True vs Pred Raw:  0.243752\n",
      "True vs Pred PP:  0.245974\n",
      "-- 6110_3_1\n",
      "True vs Pred Raw:  0.355562\n",
      "True vs Pred PP:  0.363596\n",
      "-- 6010_4_4\n",
      "True vs Pred Raw:  0.120205\n",
      "True vs Pred PP:  0.120216\n",
      "-- 6170_2_4\n",
      "True vs Pred Raw:  0.220104\n",
      "True vs Pred PP:  0.220132\n",
      "-- 6170_4_1\n",
      "True vs Pred Raw:  0.117173\n",
      "True vs Pred PP:  0.117173\n",
      "-- 6170_0_4\n",
      "True vs Pred Raw:  0.1282\n",
      "True vs Pred PP:  0.1282\n",
      "-- 6060_2_3\n",
      "True vs Pred Raw:  0.183337\n",
      "True vs Pred PP:  0.183439\n",
      "-- 6070_2_3\n",
      "True vs Pred Raw:  0.213583\n",
      "True vs Pred PP:  0.216689\n",
      "-- 6010_1_2\n",
      "True vs Pred Raw:  0.119722\n",
      "True vs Pred PP:  0.119722\n",
      "-- 6040_4_4\n",
      "True vs Pred Raw:  0.121834\n",
      "True vs Pred PP:  0.121849\n",
      "-- 6100_2_2\n",
      "True vs Pred Raw:  0.256762\n",
      "True vs Pred PP:  0.277133\n",
      "Final score:  0.214040441513 0.217273302674\n"
     ]
    }
   ],
   "source": [
    "total_s1 = 0\n",
    "total_s2 = 0\n",
    "for image_id in train_ids:\n",
    "    print \"--\", image_id\n",
    "    s1, s2 = compare_true_pred_pp(image_id, CSV_FILE_TRAIN, write_shp=False)\n",
    "    total_s1 += s1\n",
    "    total_s2 += s2\n",
    "\n",
    "total_s1 *= 1.0 / len(train_ids)\n",
    "total_s2 *= 1.0 / len(train_ids)\n",
    "print \"Final score: \", total_s1, total_s2"
   ]
  },
  {
   "cell_type": "markdown",
   "metadata": {
    "deletable": true,
    "editable": true
   },
   "source": [
    "Standing water\n",
    "\n",
    "-- 6040_2_2\n",
    "True vs Pred Raw:  0.124523\n",
    "True vs Pred PP:  0.124523\n",
    "-- 6120_2_2\n",
    "True vs Pred Raw:  0.301466\n",
    "True vs Pred PP:  0.302711\n",
    "-- 6120_2_0\n",
    "True vs Pred Raw:  0.332018\n",
    "True vs Pred PP:  0.332018\n",
    "-- 6090_2_0\n",
    "True vs Pred Raw:  0.14743\n",
    "True vs Pred PP:  0.155803\n",
    "-- 6040_1_3\n",
    "True vs Pred Raw:  0.137345\n",
    "True vs Pred PP:  0.137345\n",
    "-- 6040_1_0\n",
    "True vs Pred Raw:  0.145944\n",
    "True vs Pred PP:  0.145944\n",
    "-- 6100_1_3\n",
    "True vs Pred Raw:  0.349125\n",
    "True vs Pred PP:  0.352157\n",
    "-- 6010_4_2\n",
    "True vs Pred Raw:  0.131629\n",
    "True vs Pred PP:  0.131629\n",
    "-- 6110_4_0\n",
    "True vs Pred Raw:  0.398946\n",
    "True vs Pred PP:  0.399476\n",
    "-- 6140_3_1\n",
    "True vs Pred Raw:  0.335387\n",
    "True vs Pred PP:  0.338185\n",
    "-- 6110_1_2\n",
    "True vs Pred Raw:  0.233097\n",
    "True vs Pred PP:  0.23354\n",
    "-- 6100_2_3\n",
    "True vs Pred Raw:  0.293448\n",
    "True vs Pred PP:  0.295865\n",
    "-- 6150_2_3\n",
    "True vs Pred Raw:  0.2014\n",
    "True vs Pred PP:  0.2014\n",
    "-- 6160_2_1\n",
    "True vs Pred Raw:  0.139019\n",
    "True vs Pred PP:  0.139019\n",
    "-- 6140_1_2\n",
    "True vs Pred Raw:  0.243752\n",
    "True vs Pred PP:  0.243999\n",
    "-- 6110_3_1\n",
    "True vs Pred Raw:  0.355562\n",
    "True vs Pred PP:  0.358455\n",
    "-- 6010_4_4\n",
    "True vs Pred Raw:  0.120205\n",
    "True vs Pred PP:  0.120205\n",
    "-- 6170_2_4\n",
    "True vs Pred Raw:  0.220104\n",
    "True vs Pred PP:  0.219598\n",
    "-- 6170_4_1\n",
    "True vs Pred Raw:  0.117173\n",
    "True vs Pred PP:  0.117173\n",
    "-- 6170_0_4\n",
    "True vs Pred Raw:  0.1282\n",
    "True vs Pred PP:  0.1282\n",
    "-- 6060_2_3\n",
    "True vs Pred Raw:  0.183337\n",
    "True vs Pred PP:  0.183337\n",
    "-- 6070_2_3\n",
    "True vs Pred Raw:  0.213583\n",
    "True vs Pred PP:  0.212168\n",
    "-- 6010_1_2\n",
    "True vs Pred Raw:  0.119722\n",
    "True vs Pred PP:  0.119722\n",
    "-- 6040_4_4\n",
    "True vs Pred Raw:  0.121834\n",
    "True vs Pred PP:  0.121834\n",
    "-- 6100_2_2\n",
    "True vs Pred Raw:  0.256762\n",
    "True vs Pred PP:  0.256735\n",
    "Final score:  0.214040441513 0.214841640592\n",
    "\n",
    "\n",
    "\n",
    "Buildings + Roads1 + Trees + Water\n",
    "\n",
    "-- 6040_2_2\n",
    "True vs Pred Raw:  0.124523\n",
    "True vs Pred PP:  0.124417\n",
    "-- 6120_2_2\n",
    "True vs Pred Raw:  0.301466\n",
    "True vs Pred PP:  0.300468\n",
    "-- 6120_2_0\n",
    "True vs Pred Raw:  0.332018\n",
    "True vs Pred PP:  0.333829\n",
    "-- 6090_2_0\n",
    "True vs Pred Raw:  0.14743\n",
    "True vs Pred PP:  0.15652\n",
    "-- 6040_1_3\n",
    "True vs Pred Raw:  0.137345\n",
    "True vs Pred PP:  0.136793\n",
    "-- 6040_1_0\n",
    "True vs Pred Raw:  0.145944\n",
    "True vs Pred PP:  0.143904\n",
    "-- 6100_1_3\n",
    "True vs Pred Raw:  0.349125\n",
    "True vs Pred PP:  0.36002\n",
    "-- 6010_4_2\n",
    "True vs Pred Raw:  0.131629\n",
    "True vs Pred PP:  0.132173\n",
    "-- 6110_4_0\n",
    "True vs Pred Raw:  0.398946\n",
    "True vs Pred PP:  0.406208\n",
    "-- 6140_3_1\n",
    "True vs Pred Raw:  0.335387\n",
    "True vs Pred PP:  0.343092\n",
    "-- 6110_1_2\n",
    "True vs Pred Raw:  0.233097\n",
    "True vs Pred PP:  0.23561\n",
    "-- 6100_2_3\n",
    "True vs Pred Raw:  0.293448\n",
    "True vs Pred PP:  0.297894\n",
    "-- 6150_2_3\n",
    "True vs Pred Raw:  0.2014\n",
    "True vs Pred PP:  0.204052\n",
    "-- 6160_2_1\n",
    "True vs Pred Raw:  0.139019\n",
    "True vs Pred PP:  0.1398\n",
    "-- 6140_1_2\n",
    "True vs Pred Raw:  0.243752\n",
    "True vs Pred PP:  0.246068\n",
    "-- 6110_3_1\n",
    "True vs Pred Raw:  0.355562\n",
    "True vs Pred PP:  0.36527\n",
    "-- 6010_4_4\n",
    "True vs Pred Raw:  0.120205\n",
    "True vs Pred PP:  0.120364\n",
    "-- 6170_2_4\n",
    "True vs Pred Raw:  0.220104\n",
    "True vs Pred PP:  0.218764\n",
    "-- 6170_4_1\n",
    "True vs Pred Raw:  0.117173\n",
    "True vs Pred PP:  0.117373\n",
    "-- 6170_0_4\n",
    "True vs Pred Raw:  0.1282\n",
    "True vs Pred PP:  0.12805\n",
    "-- 6060_2_3\n",
    "True vs Pred Raw:  0.183337\n",
    "True vs Pred PP:  0.185514\n",
    "-- 6070_2_3\n",
    "True vs Pred Raw:  0.213583\n",
    "True vs Pred PP:  0.21341\n",
    "-- 6010_1_2\n",
    "True vs Pred Raw:  0.119722\n",
    "True vs Pred PP:  0.120306\n",
    "-- 6040_4_4\n",
    "True vs Pred Raw:  0.121834\n",
    "True vs Pred PP:  0.120114\n",
    "-- 6100_2_2\n",
    "True vs Pred Raw:  0.256762\n",
    "True vs Pred PP:  0.262434\n",
    "Final score:  0.214040441513 0.21649792999"
   ]
  },
  {
   "cell_type": "markdown",
   "metadata": {
    "deletable": true,
    "editable": true
   },
   "source": [
    "Save new submission"
   ]
  },
  {
   "cell_type": "code",
   "execution_count": 50,
   "metadata": {
    "collapsed": false,
    "deletable": true,
    "editable": true,
    "scrolled": true
   },
   "outputs": [
    {
     "name": "stdout",
     "output_type": "stream",
     "text": [
      "-- 6120_2_4 10 0\n"
     ]
    },
    {
     "name": "stderr",
     "output_type": "stream",
     "text": [
      "Self-intersection at or near point 1331 2425.75\n"
     ]
    },
    {
     "name": "stdout",
     "output_type": "stream",
     "text": [
      "-- 6120_2_3 10 1\n"
     ]
    },
    {
     "name": "stderr",
     "output_type": "stream",
     "text": [
      "Self-intersection at or near point 3195 1987.4666666666667\n"
     ]
    },
    {
     "name": "stdout",
     "output_type": "stream",
     "text": [
      "-- 6120_2_1 10 2\n",
      "-- 6180_2_4 10 3\n"
     ]
    },
    {
     "name": "stderr",
     "output_type": "stream",
     "text": [
      "Ring Self-intersection at or near point 2934 2924\n"
     ]
    },
    {
     "name": "stdout",
     "output_type": "stream",
     "text": [
      "-- 6180_2_1 10 4\n"
     ]
    },
    {
     "name": "stderr",
     "output_type": "stream",
     "text": [
      "Ring Self-intersection at or near point 2404 2485\n"
     ]
    },
    {
     "name": "stdout",
     "output_type": "stream",
     "text": [
      "-- 6180_2_0 10 5\n"
     ]
    },
    {
     "name": "stderr",
     "output_type": "stream",
     "text": [
      "Ring Self-intersection at or near point 398 2941\n"
     ]
    },
    {
     "name": "stdout",
     "output_type": "stream",
     "text": [
      "-- 6180_2_3 10 6\n"
     ]
    },
    {
     "name": "stderr",
     "output_type": "stream",
     "text": [
      "Ring Self-intersection at or near point 1481 2955\n"
     ]
    },
    {
     "name": "stdout",
     "output_type": "stream",
     "text": [
      "-- 6180_2_2 10 7\n"
     ]
    },
    {
     "name": "stderr",
     "output_type": "stream",
     "text": [
      "Ring Self-intersection at or near point 970 3016\n"
     ]
    },
    {
     "name": "stdout",
     "output_type": "stream",
     "text": [
      "-- 6180_0_3 10 8\n"
     ]
    },
    {
     "name": "stderr",
     "output_type": "stream",
     "text": [
      "Ring Self-intersection at or near point 2033 3085\n"
     ]
    },
    {
     "name": "stdout",
     "output_type": "stream",
     "text": [
      "-- 6180_0_2 10 9\n"
     ]
    },
    {
     "name": "stderr",
     "output_type": "stream",
     "text": [
      "Ring Self-intersection at or near point 981 3118\n"
     ]
    },
    {
     "name": "stdout",
     "output_type": "stream",
     "text": [
      "-- 6180_0_1 10 10\n"
     ]
    },
    {
     "name": "stderr",
     "output_type": "stream",
     "text": [
      "Ring Self-intersection at or near point 2622 2848\n"
     ]
    },
    {
     "name": "stdout",
     "output_type": "stream",
     "text": [
      "-- 6180_0_0 10 11\n"
     ]
    },
    {
     "name": "stderr",
     "output_type": "stream",
     "text": [
      "Ring Self-intersection at or near point 377 2029\n"
     ]
    },
    {
     "name": "stdout",
     "output_type": "stream",
     "text": [
      "-- 6180_0_4 10 12\n"
     ]
    },
    {
     "name": "stderr",
     "output_type": "stream",
     "text": [
      "Ring Self-intersection at or near point 2974 2580\n"
     ]
    },
    {
     "name": "stdout",
     "output_type": "stream",
     "text": [
      "-- 6080_4_4 10 13\n"
     ]
    },
    {
     "name": "stderr",
     "output_type": "stream",
     "text": [
      "Ring Self-intersection at or near point 35 1004\n"
     ]
    },
    {
     "name": "stdout",
     "output_type": "stream",
     "text": [
      "-- 6080_4_2 10 14\n",
      "-- 6080_4_3 10 15\n",
      "-- 6080_4_0 10 16\n"
     ]
    },
    {
     "name": "stderr",
     "output_type": "stream",
     "text": [
      "Ring Self-intersection at or near point 2239 2577\n"
     ]
    },
    {
     "name": "stdout",
     "output_type": "stream",
     "text": [
      "-- 6080_4_1 10 17\n"
     ]
    },
    {
     "name": "stderr",
     "output_type": "stream",
     "text": [
      "Ring Self-intersection at or near point 2180 1469\n"
     ]
    },
    {
     "name": "stdout",
     "output_type": "stream",
     "text": [
      "-- 6090_4_1 10 18\n"
     ]
    },
    {
     "name": "stderr",
     "output_type": "stream",
     "text": [
      "Ring Self-intersection at or near point 3206 263\n"
     ]
    },
    {
     "name": "stdout",
     "output_type": "stream",
     "text": [
      "-- 6090_4_0 10 19\n"
     ]
    },
    {
     "name": "stderr",
     "output_type": "stream",
     "text": [
      "Ring Self-intersection at or near point 333 2323\n"
     ]
    },
    {
     "name": "stdout",
     "output_type": "stream",
     "text": [
      "-- 6090_4_3 10 20\n"
     ]
    },
    {
     "name": "stderr",
     "output_type": "stream",
     "text": [
      "Ring Self-intersection at or near point 141 1345\n"
     ]
    },
    {
     "name": "stdout",
     "output_type": "stream",
     "text": [
      "-- 6090_4_2 10 21\n",
      "-- 6090_4_4 10 22\n"
     ]
    },
    {
     "name": "stderr",
     "output_type": "stream",
     "text": [
      "Ring Self-intersection at or near point 2421 301\n"
     ]
    },
    {
     "name": "stdout",
     "output_type": "stream",
     "text": [
      "-- 6180_4_4 10 23\n"
     ]
    },
    {
     "name": "stderr",
     "output_type": "stream",
     "text": [
      "Ring Self-intersection at or near point 247 2857\n"
     ]
    },
    {
     "name": "stdout",
     "output_type": "stream",
     "text": [
      "-- 6180_4_3 10 24\n"
     ]
    },
    {
     "name": "stderr",
     "output_type": "stream",
     "text": [
      "Ring Self-intersection at or near point 3371 2848\n"
     ]
    },
    {
     "name": "stdout",
     "output_type": "stream",
     "text": [
      "-- 6180_4_2 10 25\n"
     ]
    },
    {
     "name": "stderr",
     "output_type": "stream",
     "text": [
      "Ring Self-intersection at or near point 183 2690\n"
     ]
    },
    {
     "name": "stdout",
     "output_type": "stream",
     "text": [
      "-- 6180_4_1 10 26\n"
     ]
    },
    {
     "name": "stderr",
     "output_type": "stream",
     "text": [
      "Ring Self-intersection at or near point 2955 2889\n"
     ]
    },
    {
     "name": "stdout",
     "output_type": "stream",
     "text": [
      "-- 6180_4_0 10 27\n"
     ]
    },
    {
     "name": "stderr",
     "output_type": "stream",
     "text": [
      "Ring Self-intersection at or near point 1061 2028\n"
     ]
    },
    {
     "name": "stdout",
     "output_type": "stream",
     "text": [
      "-- 6160_3_2 10 28\n",
      "-- 6160_3_3 10 29\n",
      "-- 6160_3_0 10 30\n",
      "-- 6160_3_1 10 31\n"
     ]
    },
    {
     "name": "stderr",
     "output_type": "stream",
     "text": [
      "Ring Self-intersection at or near point 1649 877\n"
     ]
    },
    {
     "name": "stdout",
     "output_type": "stream",
     "text": [
      "-- 6160_3_4 10 32\n",
      "-- 6080_2_4 10 33\n",
      "-- 6080_2_0 10 34\n"
     ]
    },
    {
     "name": "stderr",
     "output_type": "stream",
     "text": [
      "Ring Self-intersection at or near point 3089 1573\n"
     ]
    },
    {
     "name": "stdout",
     "output_type": "stream",
     "text": [
      "-- 6080_2_1 10 35\n"
     ]
    },
    {
     "name": "stderr",
     "output_type": "stream",
     "text": [
      "Ring Self-intersection at or near point 1960 3276\n"
     ]
    },
    {
     "name": "stdout",
     "output_type": "stream",
     "text": [
      "-- 6080_2_2 10 36\n",
      "-- 6080_2_3 10 37\n",
      "-- 6080_0_2 10 38\n"
     ]
    },
    {
     "name": "stderr",
     "output_type": "stream",
     "text": [
      "Ring Self-intersection at or near point 2162 1716\n"
     ]
    },
    {
     "name": "stdout",
     "output_type": "stream",
     "text": [
      "-- 6080_0_3 10 39\n"
     ]
    },
    {
     "name": "stderr",
     "output_type": "stream",
     "text": [
      "Ring Self-intersection at or near point 2341 2024\n"
     ]
    },
    {
     "name": "stdout",
     "output_type": "stream",
     "text": [
      "-- 6080_0_0 10 40\n",
      "-- 6080_0_1 10 41\n",
      "-- 6080_0_4 10 42\n"
     ]
    },
    {
     "name": "stderr",
     "output_type": "stream",
     "text": [
      "Self-intersection at or near point 2892.031007751938 2870.1860465116279\n"
     ]
    },
    {
     "name": "stdout",
     "output_type": "stream",
     "text": [
      "-- 6010_0_4 10 43\n",
      "-- 6010_0_1 10 44\n"
     ]
    },
    {
     "name": "stderr",
     "output_type": "stream",
     "text": [
      "Ring Self-intersection at or near point 3030 1855\n"
     ]
    },
    {
     "name": "stdout",
     "output_type": "stream",
     "text": [
      "-- 6010_0_0 10 45\n",
      "-- 6010_0_3 10 46\n"
     ]
    },
    {
     "name": "stderr",
     "output_type": "stream",
     "text": [
      "Ring Self-intersection at or near point 489 2581\n"
     ]
    },
    {
     "name": "stdout",
     "output_type": "stream",
     "text": [
      "-- 6010_0_2 10 47\n",
      "-- 6010_2_3 10 48\n"
     ]
    },
    {
     "name": "stderr",
     "output_type": "stream",
     "text": [
      "Ring Self-intersection at or near point 2955 2968\n"
     ]
    },
    {
     "name": "stdout",
     "output_type": "stream",
     "text": [
      "-- 6010_2_2 10 49\n",
      "-- 6010_2_1 10 50\n",
      "-- 6010_2_0 10 51\n",
      "-- 6010_2_4 10 52\n"
     ]
    },
    {
     "name": "stderr",
     "output_type": "stream",
     "text": [
      "Self-intersection at or near point 642.10559006211179 2215.9565217391305\n"
     ]
    },
    {
     "name": "stdout",
     "output_type": "stream",
     "text": [
      "-- 6010_4_1 10 53\n",
      "-- 6170_3_4 10 54\n"
     ]
    },
    {
     "name": "stderr",
     "output_type": "stream",
     "text": [
      "Self-intersection at or near point 33.073619631901842 3056.0797546012268\n"
     ]
    },
    {
     "name": "stdout",
     "output_type": "stream",
     "text": [
      "-- 6010_4_3 10 55\n"
     ]
    },
    {
     "name": "stderr",
     "output_type": "stream",
     "text": [
      "Ring Self-intersection at or near point 3079 2530\n"
     ]
    },
    {
     "name": "stdout",
     "output_type": "stream",
     "text": [
      "-- 6170_3_1 10 56\n"
     ]
    },
    {
     "name": "stderr",
     "output_type": "stream",
     "text": [
      "Ring Self-intersection at or near point 548 3007\n"
     ]
    },
    {
     "name": "stdout",
     "output_type": "stream",
     "text": [
      "-- 6170_3_0 10 57\n"
     ]
    },
    {
     "name": "stderr",
     "output_type": "stream",
     "text": [
      "Ring Self-intersection at or near point 3271 2559\n"
     ]
    },
    {
     "name": "stdout",
     "output_type": "stream",
     "text": [
      "-- 6170_3_3 10 58\n"
     ]
    },
    {
     "name": "stderr",
     "output_type": "stream",
     "text": [
      "Ring Self-intersection at or near point 643 3237\n"
     ]
    },
    {
     "name": "stdout",
     "output_type": "stream",
     "text": [
      "-- 6170_3_2 10 59\n",
      "-- 6170_1_3 10 60\n"
     ]
    },
    {
     "name": "stderr",
     "output_type": "stream",
     "text": [
      "Ring Self-intersection at or near point 2202 3134\n"
     ]
    },
    {
     "name": "stdout",
     "output_type": "stream",
     "text": [
      "-- 6170_1_2 10 61\n"
     ]
    },
    {
     "name": "stderr",
     "output_type": "stream",
     "text": [
      "Ring Self-intersection at or near point 479 1693\n"
     ]
    },
    {
     "name": "stdout",
     "output_type": "stream",
     "text": [
      "-- 6170_1_1 10 62\n"
     ]
    },
    {
     "name": "stderr",
     "output_type": "stream",
     "text": [
      "Ring Self-intersection at or near point 3077 2846\n"
     ]
    },
    {
     "name": "stdout",
     "output_type": "stream",
     "text": [
      "-- 6170_1_0 10 63\n"
     ]
    },
    {
     "name": "stderr",
     "output_type": "stream",
     "text": [
      "Ring Self-intersection at or near point 1536 1000\n"
     ]
    },
    {
     "name": "stdout",
     "output_type": "stream",
     "text": [
      "-- 6170_1_4 10 64\n"
     ]
    },
    {
     "name": "stderr",
     "output_type": "stream",
     "text": [
      "Ring Self-intersection at or near point 557 3099\n"
     ]
    },
    {
     "name": "stdout",
     "output_type": "stream",
     "text": [
      "-- 6130_4_2 10 65\n",
      "-- 6130_4_3 10 66\n",
      "-- 6130_4_0 10 67\n",
      "-- 6130_4_1 10 68\n",
      "-- 6130_4_4 10 69\n"
     ]
    },
    {
     "name": "stderr",
     "output_type": "stream",
     "text": [
      "Ring Self-intersection at or near point 2564 633\n"
     ]
    },
    {
     "name": "stdout",
     "output_type": "stream",
     "text": [
      "-- 6150_3_3 10 70\n",
      "-- 6150_3_2 10 71\n"
     ]
    },
    {
     "name": "stderr",
     "output_type": "stream",
     "text": [
      "Ring Self-intersection at or near point 3320 2799\n"
     ]
    },
    {
     "name": "stdout",
     "output_type": "stream",
     "text": [
      "-- 6150_3_1 10 72\n"
     ]
    },
    {
     "name": "stderr",
     "output_type": "stream",
     "text": [
      "Ring Self-intersection at or near point 2971 137\n"
     ]
    },
    {
     "name": "stdout",
     "output_type": "stream",
     "text": [
      "-- 6150_3_0 10 73\n"
     ]
    },
    {
     "name": "stderr",
     "output_type": "stream",
     "text": [
      "Self-intersection at or near point 168.19999999999999 3258.5999999999999\n"
     ]
    },
    {
     "name": "stdout",
     "output_type": "stream",
     "text": [
      "-- 6150_3_4 10 74\n",
      "-- 6130_2_0 10 75\n"
     ]
    },
    {
     "name": "stderr",
     "output_type": "stream",
     "text": [
      "Ring Self-intersection at or near point 221 70\n",
      "Ring Self-intersection at or near point 355 301\n"
     ]
    },
    {
     "name": "stdout",
     "output_type": "stream",
     "text": [
      "-- 6130_2_1 10 76\n"
     ]
    },
    {
     "name": "stderr",
     "output_type": "stream",
     "text": [
      "Ring Self-intersection at or near point 519 2877\n"
     ]
    },
    {
     "name": "stdout",
     "output_type": "stream",
     "text": [
      "-- 6130_2_2 10 77\n",
      "-- 6130_2_3 10 78\n",
      "-- 6130_2_4 10 79\n"
     ]
    },
    {
     "name": "stderr",
     "output_type": "stream",
     "text": [
      "Self-intersection at or near point 3023.1116279069765 2775.1069767441859\n"
     ]
    },
    {
     "name": "stdout",
     "output_type": "stream",
     "text": [
      "-- 6130_0_4 10 80\n",
      "-- 6130_0_2 10 81\n",
      "-- 6130_0_3 10 82\n",
      "-- 6130_0_0 10 83\n",
      "-- 6130_0_1 10 84\n",
      "-- 6150_1_4 10 85\n",
      "-- 6150_1_1 10 86\n"
     ]
    },
    {
     "name": "stderr",
     "output_type": "stream",
     "text": [
      "Ring Self-intersection at or near point 1604 2606\n",
      "Ring Self-intersection at or near point 952 1809\n"
     ]
    },
    {
     "name": "stdout",
     "output_type": "stream",
     "text": [
      "-- 6150_1_0 10 87\n",
      "-- 6150_1_3 10 88\n",
      "-- 6150_1_2 10 89\n"
     ]
    },
    {
     "name": "stderr",
     "output_type": "stream",
     "text": [
      "Ring Self-intersection at or near point 1721 1256\n"
     ]
    },
    {
     "name": "stdout",
     "output_type": "stream",
     "text": [
      "-- 6180_3_4 10 90\n"
     ]
    },
    {
     "name": "stderr",
     "output_type": "stream",
     "text": [
      "Ring Self-intersection at or near point 3275 2204\n"
     ]
    },
    {
     "name": "stdout",
     "output_type": "stream",
     "text": [
      "-- 6180_3_0 10 91\n"
     ]
    },
    {
     "name": "stderr",
     "output_type": "stream",
     "text": [
      "Ring Self-intersection at or near point 1459 2826\n"
     ]
    },
    {
     "name": "stdout",
     "output_type": "stream",
     "text": [
      "-- 6180_3_1 10 92\n"
     ]
    },
    {
     "name": "stderr",
     "output_type": "stream",
     "text": [
      "Ring Self-intersection at or near point 968 2609\n"
     ]
    },
    {
     "name": "stdout",
     "output_type": "stream",
     "text": [
      "-- 6180_3_2 10 93\n"
     ]
    },
    {
     "name": "stderr",
     "output_type": "stream",
     "text": [
      "Ring Self-intersection at or near point 1566 3045\n"
     ]
    },
    {
     "name": "stdout",
     "output_type": "stream",
     "text": [
      "-- 6180_3_3 10 94\n"
     ]
    },
    {
     "name": "stderr",
     "output_type": "stream",
     "text": [
      "Ring Self-intersection at or near point 998 2849\n"
     ]
    },
    {
     "name": "stdout",
     "output_type": "stream",
     "text": [
      "-- 6180_1_2 10 95\n"
     ]
    },
    {
     "name": "stderr",
     "output_type": "stream",
     "text": [
      "Ring Self-intersection at or near point 800 542\n"
     ]
    },
    {
     "name": "stdout",
     "output_type": "stream",
     "text": [
      "-- 6180_1_3 10 96\n"
     ]
    },
    {
     "name": "stderr",
     "output_type": "stream",
     "text": [
      "Ring Self-intersection at or near point 1479 3109\n"
     ]
    },
    {
     "name": "stdout",
     "output_type": "stream",
     "text": [
      "-- 6180_1_0 10 97\n"
     ]
    },
    {
     "name": "stderr",
     "output_type": "stream",
     "text": [
      "Ring Self-intersection at or near point 555 2457\n"
     ]
    },
    {
     "name": "stdout",
     "output_type": "stream",
     "text": [
      "-- 6180_1_1 10 98\n"
     ]
    },
    {
     "name": "stderr",
     "output_type": "stream",
     "text": [
      "Ring Self-intersection at or near point 1872 2721\n"
     ]
    },
    {
     "name": "stdout",
     "output_type": "stream",
     "text": [
      "-- 6180_1_4 10 99\n"
     ]
    },
    {
     "name": "stderr",
     "output_type": "stream",
     "text": [
      "Ring Self-intersection at or near point 2578 3328\n"
     ]
    },
    {
     "name": "stdout",
     "output_type": "stream",
     "text": [
      "-- 6010_1_4 10 100\n"
     ]
    },
    {
     "name": "stderr",
     "output_type": "stream",
     "text": [
      "Ring Self-intersection at or near point 3344 1155\n"
     ]
    },
    {
     "name": "stdout",
     "output_type": "stream",
     "text": [
      "-- 6010_1_0 10 101\n"
     ]
    },
    {
     "name": "stderr",
     "output_type": "stream",
     "text": [
      "Ring Self-intersection at or near point 1548 1874\n"
     ]
    },
    {
     "name": "stdout",
     "output_type": "stream",
     "text": [
      "-- 6010_1_1 10 102\n"
     ]
    },
    {
     "name": "stderr",
     "output_type": "stream",
     "text": [
      "Ring Self-intersection at or near point 3133 2171\n"
     ]
    },
    {
     "name": "stdout",
     "output_type": "stream",
     "text": [
      "-- 6010_1_2 10 103\n",
      "-- 6010_1_3 10 104\n"
     ]
    },
    {
     "name": "stderr",
     "output_type": "stream",
     "text": [
      "Ring Self-intersection at or near point 2501 2900\n"
     ]
    },
    {
     "name": "stdout",
     "output_type": "stream",
     "text": [
      "-- 6010_3_2 10 105\n"
     ]
    },
    {
     "name": "stderr",
     "output_type": "stream",
     "text": [
      "Ring Self-intersection at or near point 2651 3123\n"
     ]
    },
    {
     "name": "stdout",
     "output_type": "stream",
     "text": [
      "-- 6010_3_3 10 106\n",
      "-- 6010_3_0 10 107\n"
     ]
    },
    {
     "name": "stderr",
     "output_type": "stream",
     "text": [
      "Ring Self-intersection at or near point 2683 3232\n"
     ]
    },
    {
     "name": "stdout",
     "output_type": "stream",
     "text": [
      "-- 6010_3_1 10 108\n",
      "-- 6010_3_4 10 109\n"
     ]
    },
    {
     "name": "stderr",
     "output_type": "stream",
     "text": [
      "Ring Self-intersection at or near point 341 2046\n",
      "Self-intersection at or near point 2185.5288461538462 1021.0961538461538\n"
     ]
    },
    {
     "name": "stdout",
     "output_type": "stream",
     "text": [
      "-- 6020_0_4 10 110\n",
      "-- 6020_0_0 10 111\n",
      "-- 6020_0_1 10 112\n",
      "-- 6020_0_2 10 113\n",
      "-- 6020_0_3 10 114\n",
      "-- 6020_2_2 10 115\n",
      "-- 6020_2_3 10 116\n",
      "-- 6020_2_0 10 117\n"
     ]
    },
    {
     "name": "stderr",
     "output_type": "stream",
     "text": [
      "Ring Self-intersection at or near point 2079 2951\n"
     ]
    },
    {
     "name": "stdout",
     "output_type": "stream",
     "text": [
      "-- 6020_2_1 10 118\n",
      "-- 6020_2_4 10 119\n"
     ]
    },
    {
     "name": "stderr",
     "output_type": "stream",
     "text": [
      "Ring Self-intersection at or near point 2460 2035\n"
     ]
    },
    {
     "name": "stdout",
     "output_type": "stream",
     "text": [
      "-- 6020_4_0 10 120\n",
      "-- 6020_4_1 10 121\n"
     ]
    },
    {
     "name": "stderr",
     "output_type": "stream",
     "text": [
      "Ring Self-intersection at or near point 2835 2868\n"
     ]
    },
    {
     "name": "stdout",
     "output_type": "stream",
     "text": [
      "-- 6020_4_2 10 122\n",
      "-- 6020_4_3 10 123\n"
     ]
    },
    {
     "name": "stderr",
     "output_type": "stream",
     "text": [
      "Ring Self-intersection at or near point 2385 1563\n"
     ]
    },
    {
     "name": "stdout",
     "output_type": "stream",
     "text": [
      "-- 6020_4_4 10 124\n"
     ]
    },
    {
     "name": "stderr",
     "output_type": "stream",
     "text": [
      "Ring Self-intersection at or near point 2978 3337\n"
     ]
    },
    {
     "name": "stdout",
     "output_type": "stream",
     "text": [
      "-- 6110_0_1 10 125\n",
      "-- 6150_0_4 10 126\n",
      "-- 6150_0_0 10 127\n",
      "-- 6150_0_1 10 128\n"
     ]
    },
    {
     "name": "stderr",
     "output_type": "stream",
     "text": [
      "Ring Self-intersection at or near point 1158 3324\n"
     ]
    },
    {
     "name": "stdout",
     "output_type": "stream",
     "text": [
      "-- 6150_0_2 10 129\n",
      "-- 6150_0_3 10 130\n",
      "-- 6100_2_1 10 131\n",
      "-- 6100_2_0 10 132\n",
      "-- 6150_2_2 10 133\n"
     ]
    },
    {
     "name": "stderr",
     "output_type": "stream",
     "text": [
      "Ring Self-intersection at or near point 2469 2386\n"
     ]
    },
    {
     "name": "stdout",
     "output_type": "stream",
     "text": [
      "-- 6150_2_0 10 134\n"
     ]
    },
    {
     "name": "stderr",
     "output_type": "stream",
     "text": [
      "Ring Self-intersection at or near point 3221 2085\n"
     ]
    },
    {
     "name": "stdout",
     "output_type": "stream",
     "text": [
      "-- 6150_2_1 10 135\n",
      "-- 6150_2_4 10 136\n",
      "-- 6170_4_2 10 137\n"
     ]
    },
    {
     "name": "stderr",
     "output_type": "stream",
     "text": [
      "Ring Self-intersection at or near point 673 2340\n"
     ]
    },
    {
     "name": "stdout",
     "output_type": "stream",
     "text": [
      "-- 6050_3_1 10 138\n",
      "-- 6170_4_3 10 139\n"
     ]
    },
    {
     "name": "stderr",
     "output_type": "stream",
     "text": [
      "Ring Self-intersection at or near point 2994 3094\n"
     ]
    },
    {
     "name": "stdout",
     "output_type": "stream",
     "text": [
      "-- 6150_4_0 10 140\n",
      "-- 6150_4_1 10 141\n"
     ]
    },
    {
     "name": "stderr",
     "output_type": "stream",
     "text": [
      "Ring Self-intersection at or near point 2086 2494\n",
      "Self-intersection at or near point 3218.0202020202019 3106.8989898989898\n"
     ]
    },
    {
     "name": "stdout",
     "output_type": "stream",
     "text": [
      "-- 6150_4_2 10 142\n",
      "-- 6150_4_3 10 143\n",
      "-- 6150_4_4 10 144\n",
      "-- 6170_4_0 10 145\n"
     ]
    },
    {
     "name": "stderr",
     "output_type": "stream",
     "text": [
      "Ring Self-intersection at or near point 2309 3060\n"
     ]
    },
    {
     "name": "stdout",
     "output_type": "stream",
     "text": [
      "-- 6070_3_4 10 146\n"
     ]
    },
    {
     "name": "stderr",
     "output_type": "stream",
     "text": [
      "Ring Self-intersection at or near point 2693 2323\n"
     ]
    },
    {
     "name": "stdout",
     "output_type": "stream",
     "text": [
      "-- 6070_3_0 10 147\n",
      "-- 6070_3_1 10 148\n",
      "-- 6070_3_2 10 149\n"
     ]
    },
    {
     "name": "stderr",
     "output_type": "stream",
     "text": [
      "Ring Self-intersection at or near point 2086 1749\n"
     ]
    },
    {
     "name": "stdout",
     "output_type": "stream",
     "text": [
      "-- 6070_3_3 10 150\n",
      "-- 6070_1_2 10 151\n"
     ]
    },
    {
     "name": "stderr",
     "output_type": "stream",
     "text": [
      "Ring Self-intersection at or near point 2737 2311\n"
     ]
    },
    {
     "name": "stdout",
     "output_type": "stream",
     "text": [
      "-- 6070_1_3 10 152\n"
     ]
    },
    {
     "name": "stderr",
     "output_type": "stream",
     "text": [
      "Ring Self-intersection at or near point 749 2450\n"
     ]
    },
    {
     "name": "stdout",
     "output_type": "stream",
     "text": [
      "-- 6070_1_0 10 153\n",
      "-- 6070_1_1 10 154\n"
     ]
    },
    {
     "name": "stderr",
     "output_type": "stream",
     "text": [
      "Ring Self-intersection at or near point 650 3112\n"
     ]
    },
    {
     "name": "stdout",
     "output_type": "stream",
     "text": [
      "-- 6070_1_4 10 155\n"
     ]
    },
    {
     "name": "stderr",
     "output_type": "stream",
     "text": [
      "Ring Self-intersection at or near point 3138 2523\n"
     ]
    },
    {
     "name": "stdout",
     "output_type": "stream",
     "text": [
      "-- 6120_0_3 10 156\n"
     ]
    },
    {
     "name": "stderr",
     "output_type": "stream",
     "text": [
      "Self-intersection at or near point 2379.0055248618783 25.966850828729282\n"
     ]
    },
    {
     "name": "stdout",
     "output_type": "stream",
     "text": [
      "-- 6110_1_1 10 157\n",
      "-- 6110_1_0 10 158\n",
      "-- 6110_1_3 10 159\n",
      "-- 6110_1_4 10 160\n",
      "-- 6110_3_4 10 161\n",
      "-- 6110_3_3 10 162\n"
     ]
    },
    {
     "name": "stderr",
     "output_type": "stream",
     "text": [
      "Ring Self-intersection at or near point 2358 801\n"
     ]
    },
    {
     "name": "stdout",
     "output_type": "stream",
     "text": [
      "-- 6110_3_2 10 163\n",
      "-- 6110_3_0 10 164\n"
     ]
    },
    {
     "name": "stderr",
     "output_type": "stream",
     "text": [
      "Self-intersection at or near point 2033.5604395604396 1757.4945054945056\n"
     ]
    },
    {
     "name": "stdout",
     "output_type": "stream",
     "text": [
      "-- 6060_2_1 10 165\n",
      "-- 6140_3_3 10 166\n",
      "-- 6020_1_4 10 167\n"
     ]
    },
    {
     "name": "stderr",
     "output_type": "stream",
     "text": [
      "Self-intersection at or near point 3116.0972222222222 1686.4166666666667\n",
      "Ring Self-intersection at or near point 2714 2512\n"
     ]
    },
    {
     "name": "stdout",
     "output_type": "stream",
     "text": [
      "-- 6020_1_1 10 168\n",
      "-- 6020_1_0 10 169\n"
     ]
    },
    {
     "name": "stderr",
     "output_type": "stream",
     "text": [
      "Ring Self-intersection at or near point 778 3157\n"
     ]
    },
    {
     "name": "stdout",
     "output_type": "stream",
     "text": [
      "-- 6020_1_3 10 170\n"
     ]
    },
    {
     "name": "stderr",
     "output_type": "stream",
     "text": [
      "Ring Self-intersection at or near point 171 690\n"
     ]
    },
    {
     "name": "stdout",
     "output_type": "stream",
     "text": [
      "-- 6020_1_2 10 171\n",
      "-- 6020_3_3 10 172\n",
      "-- 6020_3_2 10 173\n"
     ]
    },
    {
     "name": "stderr",
     "output_type": "stream",
     "text": [
      "Self-intersection at or near point 3310.344827586207 1894.344827586207\n"
     ]
    },
    {
     "name": "stdout",
     "output_type": "stream",
     "text": [
      "-- 6020_3_1 10 174\n",
      "-- 6020_3_0 10 175\n"
     ]
    },
    {
     "name": "stderr",
     "output_type": "stream",
     "text": [
      "Ring Self-intersection at or near point 1458 3321\n"
     ]
    },
    {
     "name": "stdout",
     "output_type": "stream",
     "text": [
      "-- 6020_3_4 10 176\n",
      "-- 6050_2_4 10 177\n",
      "-- 6050_2_3 10 178\n",
      "-- 6050_2_2 10 179\n",
      "-- 6050_2_1 10 180\n",
      "-- 6050_2_0 10 181\n",
      "-- 6100_3_4 10 182\n",
      "-- 6100_3_0 10 183\n",
      "-- 6100_3_1 10 184\n",
      "-- 6100_3_2 10 185\n",
      "-- 6100_3_3 10 186\n"
     ]
    },
    {
     "name": "stderr",
     "output_type": "stream",
     "text": [
      "Self-intersection at or near point 2989.1764705882351 3.2549019607843137\n",
      "Self-intersection at or near point 2593.4285714285716 303.52380952380952\n"
     ]
    },
    {
     "name": "stdout",
     "output_type": "stream",
     "text": [
      "-- 6060_1_1 10 187\n",
      "-- 6060_1_0 10 188\n",
      "-- 6060_1_3 10 189\n"
     ]
    },
    {
     "name": "stderr",
     "output_type": "stream",
     "text": [
      "Self-intersection at or near point 2986.3617021276596 1244.4468085106382\n"
     ]
    },
    {
     "name": "stdout",
     "output_type": "stream",
     "text": [
      "-- 6060_1_2 10 190\n"
     ]
    },
    {
     "name": "stderr",
     "output_type": "stream",
     "text": [
      "Self-intersection at or near point 1358 1683.4285714285713\n"
     ]
    },
    {
     "name": "stdout",
     "output_type": "stream",
     "text": [
      "-- 6060_1_4 10 191\n",
      "-- 6060_3_4 10 192\n"
     ]
    },
    {
     "name": "stderr",
     "output_type": "stream",
     "text": [
      "Self-intersection at or near point 1163.159090909091 1174.8181818181818\n"
     ]
    },
    {
     "name": "stdout",
     "output_type": "stream",
     "text": [
      "-- 6060_3_3 10 193\n"
     ]
    },
    {
     "name": "stderr",
     "output_type": "stream",
     "text": [
      "Self-intersection at or near point 559 3332\n"
     ]
    },
    {
     "name": "stdout",
     "output_type": "stream",
     "text": [
      "-- 6060_3_2 10 194\n",
      "-- 6060_3_1 10 195\n"
     ]
    },
    {
     "name": "stderr",
     "output_type": "stream",
     "text": [
      "Self-intersection at or near point 3399.2655367231637 628.62146892655369\n"
     ]
    },
    {
     "name": "stdout",
     "output_type": "stream",
     "text": [
      "-- 6060_3_0 10 196\n",
      "-- 6070_2_4 10 197\n"
     ]
    },
    {
     "name": "stderr",
     "output_type": "stream",
     "text": [
      "Ring Self-intersection at or near point 449 1356\n"
     ]
    },
    {
     "name": "stdout",
     "output_type": "stream",
     "text": [
      "-- 6070_2_1 10 198\n",
      "-- 6070_2_0 10 199\n",
      "-- 6070_2_3 10 200\n"
     ]
    },
    {
     "name": "stderr",
     "output_type": "stream",
     "text": [
      "Self-intersection at or near point 1791 3061\n",
      "Ring Self-intersection at or near point 942 2260\n"
     ]
    },
    {
     "name": "stdout",
     "output_type": "stream",
     "text": [
      "-- 6070_2_2 10 201\n"
     ]
    },
    {
     "name": "stderr",
     "output_type": "stream",
     "text": [
      "Ring Self-intersection at or near point 2621 2731\n"
     ]
    },
    {
     "name": "stdout",
     "output_type": "stream",
     "text": [
      "-- 6040_2_0 10 202\n"
     ]
    },
    {
     "name": "stderr",
     "output_type": "stream",
     "text": [
      "Ring Self-intersection at or near point 2658 670\n"
     ]
    },
    {
     "name": "stdout",
     "output_type": "stream",
     "text": [
      "-- 6040_2_1 10 203\n"
     ]
    },
    {
     "name": "stderr",
     "output_type": "stream",
     "text": [
      "Ring Self-intersection at or near point 1643 2761\n"
     ]
    },
    {
     "name": "stdout",
     "output_type": "stream",
     "text": [
      "-- 6040_2_3 10 204\n"
     ]
    },
    {
     "name": "stderr",
     "output_type": "stream",
     "text": [
      "Ring Self-intersection at or near point 2416 1482\n"
     ]
    },
    {
     "name": "stdout",
     "output_type": "stream",
     "text": [
      "-- 6040_2_4 10 205\n"
     ]
    },
    {
     "name": "stderr",
     "output_type": "stream",
     "text": [
      "Ring Self-intersection at or near point 1778 56\n"
     ]
    },
    {
     "name": "stdout",
     "output_type": "stream",
     "text": [
      "-- 6070_0_3 10 206\n"
     ]
    },
    {
     "name": "stderr",
     "output_type": "stream",
     "text": [
      "Ring Self-intersection at or near point 2716 3224\n"
     ]
    },
    {
     "name": "stdout",
     "output_type": "stream",
     "text": [
      "-- 6070_0_2 10 207\n",
      "-- 6070_0_1 10 208\n",
      "-- 6070_0_0 10 209\n"
     ]
    },
    {
     "name": "stderr",
     "output_type": "stream",
     "text": [
      "Self-intersection at or near point 3220 3124\n"
     ]
    },
    {
     "name": "stdout",
     "output_type": "stream",
     "text": [
      "-- 6070_0_4 10 210\n",
      "-- 6100_4_3 10 211\n",
      "-- 6040_0_4 10 212\n"
     ]
    },
    {
     "name": "stderr",
     "output_type": "stream",
     "text": [
      "Ring Self-intersection at or near point 1148 3067\n"
     ]
    },
    {
     "name": "stdout",
     "output_type": "stream",
     "text": [
      "-- 6040_0_2 10 213\n",
      "-- 6040_0_3 10 214\n"
     ]
    },
    {
     "name": "stderr",
     "output_type": "stream",
     "text": [
      "Ring Self-intersection at or near point 2973 3207\n"
     ]
    },
    {
     "name": "stdout",
     "output_type": "stream",
     "text": [
      "-- 6040_0_0 10 215\n"
     ]
    },
    {
     "name": "stderr",
     "output_type": "stream",
     "text": [
      "Ring Self-intersection at or near point 1288 1463\n"
     ]
    },
    {
     "name": "stdout",
     "output_type": "stream",
     "text": [
      "-- 6040_0_1 10 216\n"
     ]
    },
    {
     "name": "stderr",
     "output_type": "stream",
     "text": [
      "Ring Self-intersection at or near point 3021 2143\n"
     ]
    },
    {
     "name": "stdout",
     "output_type": "stream",
     "text": [
      "-- 6050_0_1 10 217\n",
      "-- 6050_0_0 10 218\n"
     ]
    },
    {
     "name": "stderr",
     "output_type": "stream",
     "text": [
      "Ring Self-intersection at or near point 1577 710\n"
     ]
    },
    {
     "name": "stdout",
     "output_type": "stream",
     "text": [
      "-- 6050_0_3 10 219\n",
      "-- 6050_0_2 10 220\n",
      "-- 6050_0_4 10 221\n",
      "-- 6070_4_4 10 222\n",
      "-- 6070_4_3 10 223\n"
     ]
    },
    {
     "name": "stderr",
     "output_type": "stream",
     "text": [
      "Ring Self-intersection at or near point 787 3155\n"
     ]
    },
    {
     "name": "stdout",
     "output_type": "stream",
     "text": [
      "-- 6070_4_2 10 224\n"
     ]
    },
    {
     "name": "stderr",
     "output_type": "stream",
     "text": [
      "Ring Self-intersection at or near point 1570 2329\n",
      "Self-intersection at or near point 768 972\n"
     ]
    },
    {
     "name": "stdout",
     "output_type": "stream",
     "text": [
      "-- 6070_4_1 10 225\n",
      "-- 6070_4_0 10 226\n"
     ]
    },
    {
     "name": "stderr",
     "output_type": "stream",
     "text": [
      "Self-intersection at or near point 3121 2140\n"
     ]
    },
    {
     "name": "stdout",
     "output_type": "stream",
     "text": [
      "-- 6140_3_0 10 227\n",
      "-- 6140_3_2 10 228\n",
      "-- 6100_4_4 10 229\n",
      "-- 6140_3_4 10 230\n",
      "-- 6100_4_2 10 231\n",
      "-- 6100_4_1 10 232\n",
      "-- 6100_4_0 10 233\n",
      "-- 6140_0_1 10 234\n",
      "-- 6140_1_4 10 235\n",
      "-- 6140_1_3 10 236\n",
      "-- 6140_1_0 10 237\n"
     ]
    },
    {
     "name": "stderr",
     "output_type": "stream",
     "text": [
      "Self-intersection at or near point 3249 833\n"
     ]
    },
    {
     "name": "stdout",
     "output_type": "stream",
     "text": [
      "-- 6140_1_1 10 238\n",
      "-- 6040_4_2 10 239\n"
     ]
    },
    {
     "name": "stderr",
     "output_type": "stream",
     "text": [
      "Ring Self-intersection at or near point 2768 1198\n"
     ]
    },
    {
     "name": "stdout",
     "output_type": "stream",
     "text": [
      "-- 6040_4_3 10 240\n"
     ]
    },
    {
     "name": "stderr",
     "output_type": "stream",
     "text": [
      "Ring Self-intersection at or near point 2540 2077\n"
     ]
    },
    {
     "name": "stdout",
     "output_type": "stream",
     "text": [
      "-- 6040_4_0 10 241\n",
      "-- 6040_4_1 10 242\n"
     ]
    },
    {
     "name": "stderr",
     "output_type": "stream",
     "text": [
      "Ring Self-intersection at or near point 2474 3043\n"
     ]
    },
    {
     "name": "stdout",
     "output_type": "stream",
     "text": [
      "-- 6040_4_4 10 243\n"
     ]
    },
    {
     "name": "stderr",
     "output_type": "stream",
     "text": [
      "Ring Self-intersection at or near point 547 3120\n"
     ]
    },
    {
     "name": "stdout",
     "output_type": "stream",
     "text": [
      "-- 6010_4_0 10 244\n",
      "-- 6110_0_0 10 245\n",
      "-- 6050_4_4 10 246\n",
      "-- 6110_0_2 10 247\n",
      "-- 6110_0_3 10 248\n",
      "-- 6110_0_4 10 249\n"
     ]
    },
    {
     "name": "stderr",
     "output_type": "stream",
     "text": [
      "Ring Self-intersection at or near point 1113 2901\n"
     ]
    },
    {
     "name": "stdout",
     "output_type": "stream",
     "text": [
      "-- 6050_4_0 10 250\n",
      "-- 6050_4_3 10 251\n"
     ]
    },
    {
     "name": "stderr",
     "output_type": "stream",
     "text": [
      "Self-intersection at or near point 2864.6756756756758 414.94594594594594\n"
     ]
    },
    {
     "name": "stdout",
     "output_type": "stream",
     "text": [
      "-- 6050_4_2 10 252\n",
      "-- 6030_3_0 10 253\n"
     ]
    },
    {
     "name": "stderr",
     "output_type": "stream",
     "text": [
      "Ring Self-intersection at or near point 781 1667\n",
      "Ring Self-intersection at or near point 834 1859\n"
     ]
    },
    {
     "name": "stdout",
     "output_type": "stream",
     "text": [
      "-- 6030_3_1 10 254\n",
      "-- 6030_3_2 10 255\n"
     ]
    },
    {
     "name": "stderr",
     "output_type": "stream",
     "text": [
      "Ring Self-intersection at or near point 1699 2\n"
     ]
    },
    {
     "name": "stdout",
     "output_type": "stream",
     "text": [
      "-- 6030_3_3 10 256\n"
     ]
    },
    {
     "name": "stderr",
     "output_type": "stream",
     "text": [
      "Self-intersection at or near point 3217 340\n"
     ]
    },
    {
     "name": "stdout",
     "output_type": "stream",
     "text": [
      "-- 6030_3_4 10 257\n"
     ]
    },
    {
     "name": "stderr",
     "output_type": "stream",
     "text": [
      "Self-intersection at or near point 1938.9230769230769 629.61538461538464\n",
      "Ring Self-intersection at or near point 1791 1058\n"
     ]
    },
    {
     "name": "stdout",
     "output_type": "stream",
     "text": [
      "-- 6110_2_4 10 258\n",
      "-- 6110_2_2 10 259\n",
      "-- 6110_2_3 10 260\n",
      "-- 6110_2_0 10 261\n"
     ]
    },
    {
     "name": "stderr",
     "output_type": "stream",
     "text": [
      "Ring Self-intersection at or near point 1517 2689\n"
     ]
    },
    {
     "name": "stdout",
     "output_type": "stream",
     "text": [
      "-- 6110_2_1 10 262\n",
      "-- 6120_4_1 10 263\n"
     ]
    },
    {
     "name": "stderr",
     "output_type": "stream",
     "text": [
      "Ring Self-intersection at or near point 39 1872\n"
     ]
    },
    {
     "name": "stdout",
     "output_type": "stream",
     "text": [
      "-- 6120_4_0 10 264\n"
     ]
    },
    {
     "name": "stderr",
     "output_type": "stream",
     "text": [
      "Self-intersection at or near point 3268.7127071823206 1381.9779005524863\n"
     ]
    },
    {
     "name": "stdout",
     "output_type": "stream",
     "text": [
      "-- 6120_4_3 10 265\n",
      "-- 6120_4_2 10 266\n",
      "-- 6110_4_4 10 267\n",
      "-- 6110_4_1 10 268\n"
     ]
    },
    {
     "name": "stderr",
     "output_type": "stream",
     "text": [
      "Self-intersection at or near point 72.881720430107521 1000.989247311828\n"
     ]
    },
    {
     "name": "stdout",
     "output_type": "stream",
     "text": [
      "-- 6110_4_2 10 269\n",
      "-- 6110_4_3 10 270\n"
     ]
    },
    {
     "name": "stderr",
     "output_type": "stream",
     "text": [
      "Ring Self-intersection at or near point 2589 2017\n"
     ]
    },
    {
     "name": "stdout",
     "output_type": "stream",
     "text": [
      "-- 6060_4_4 10 271\n",
      "-- 6060_4_0 10 272\n"
     ]
    },
    {
     "name": "stderr",
     "output_type": "stream",
     "text": [
      "Ring Self-intersection at or near point 656 2982\n"
     ]
    },
    {
     "name": "stdout",
     "output_type": "stream",
     "text": [
      "-- 6060_4_1 10 273\n"
     ]
    },
    {
     "name": "stderr",
     "output_type": "stream",
     "text": [
      "Ring Self-intersection at or near point 2041 1315\n"
     ]
    },
    {
     "name": "stdout",
     "output_type": "stream",
     "text": [
      "-- 6060_4_2 10 274\n"
     ]
    },
    {
     "name": "stderr",
     "output_type": "stream",
     "text": [
      "Ring Self-intersection at or near point 2394 3298\n"
     ]
    },
    {
     "name": "stdout",
     "output_type": "stream",
     "text": [
      "-- 6060_4_3 10 275\n"
     ]
    },
    {
     "name": "stderr",
     "output_type": "stream",
     "text": [
      "Ring Self-intersection at or near point 2878 1981\n",
      "Self-intersection at or near point 383.89743589743591 2890.1794871794873\n"
     ]
    },
    {
     "name": "stdout",
     "output_type": "stream",
     "text": [
      "-- 6100_2_4 10 276\n",
      "-- 6050_3_4 10 277\n",
      "-- 6050_3_2 10 278\n",
      "-- 6050_3_3 10 279\n",
      "-- 6050_3_0 10 280\n",
      "-- 6100_2_2 10 281\n"
     ]
    },
    {
     "name": "stderr",
     "output_type": "stream",
     "text": [
      "Self-intersection at or near point 2397.04 168.80000000000001\n"
     ]
    },
    {
     "name": "stdout",
     "output_type": "stream",
     "text": [
      "-- 6100_0_3 10 282\n"
     ]
    },
    {
     "name": "stderr",
     "output_type": "stream",
     "text": [
      "Ring Self-intersection at or near point 2915 2891\n",
      "Ring Self-intersection at or near point 2545 1360\n",
      "Ring Self-intersection at or near point 3308 3223\n"
     ]
    },
    {
     "name": "stdout",
     "output_type": "stream",
     "text": [
      "-- 6100_0_2 10 283\n"
     ]
    },
    {
     "name": "stderr",
     "output_type": "stream",
     "text": [
      "Ring Self-intersection at or near point 2199 2481\n"
     ]
    },
    {
     "name": "stdout",
     "output_type": "stream",
     "text": [
      "-- 6100_0_1 10 284\n",
      "-- 6100_0_0 10 285\n",
      "-- 6100_0_4 10 286\n",
      "-- 6060_0_0 10 287\n"
     ]
    },
    {
     "name": "stderr",
     "output_type": "stream",
     "text": [
      "Self-intersection at or near point 859 274\n"
     ]
    },
    {
     "name": "stdout",
     "output_type": "stream",
     "text": [
      "-- 6060_0_1 10 288\n"
     ]
    },
    {
     "name": "stderr",
     "output_type": "stream",
     "text": [
      "Ring Self-intersection at or near point 3298 1942\n"
     ]
    },
    {
     "name": "stdout",
     "output_type": "stream",
     "text": [
      "-- 6060_0_2 10 289\n"
     ]
    },
    {
     "name": "stderr",
     "output_type": "stream",
     "text": [
      "Ring Self-intersection at or near point 1097 2590\n",
      "Ring Self-intersection at or near point 974 1860\n"
     ]
    },
    {
     "name": "stdout",
     "output_type": "stream",
     "text": [
      "-- 6060_0_3 10 290\n",
      "-- 6060_0_4 10 291\n"
     ]
    },
    {
     "name": "stderr",
     "output_type": "stream",
     "text": [
      "Ring Self-intersection at or near point 995 654\n"
     ]
    },
    {
     "name": "stdout",
     "output_type": "stream",
     "text": [
      "-- 6160_1_0 10 292\n"
     ]
    },
    {
     "name": "stderr",
     "output_type": "stream",
     "text": [
      "Ring Self-intersection at or near point 3217 3164\n"
     ]
    },
    {
     "name": "stdout",
     "output_type": "stream",
     "text": [
      "-- 6060_2_4 10 293\n"
     ]
    },
    {
     "name": "stderr",
     "output_type": "stream",
     "text": [
      "Ring Self-intersection at or near point 1411 487\n"
     ]
    },
    {
     "name": "stdout",
     "output_type": "stream",
     "text": [
      "-- 6060_2_2 10 294\n",
      "-- 6060_2_0 10 295\n",
      "-- 6160_1_1 10 296\n"
     ]
    },
    {
     "name": "stderr",
     "output_type": "stream",
     "text": [
      "Ring Self-intersection at or near point 2858 3199\n"
     ]
    },
    {
     "name": "stdout",
     "output_type": "stream",
     "text": [
      "-- 6040_3_1 10 297\n"
     ]
    },
    {
     "name": "stderr",
     "output_type": "stream",
     "text": [
      "Ring Self-intersection at or near point 2196 2015\n"
     ]
    },
    {
     "name": "stdout",
     "output_type": "stream",
     "text": [
      "-- 6040_3_0 10 298\n"
     ]
    },
    {
     "name": "stderr",
     "output_type": "stream",
     "text": [
      "Ring Self-intersection at or near point 1821 1178\n"
     ]
    },
    {
     "name": "stdout",
     "output_type": "stream",
     "text": [
      "-- 6040_3_3 10 299\n"
     ]
    },
    {
     "name": "stderr",
     "output_type": "stream",
     "text": [
      "Ring Self-intersection at or near point 1775 2772\n"
     ]
    },
    {
     "name": "stdout",
     "output_type": "stream",
     "text": [
      "-- 6040_3_2 10 300\n"
     ]
    },
    {
     "name": "stderr",
     "output_type": "stream",
     "text": [
      "Ring Self-intersection at or near point 500 1945\n"
     ]
    },
    {
     "name": "stdout",
     "output_type": "stream",
     "text": [
      "-- 6040_3_4 10 301\n"
     ]
    },
    {
     "name": "stderr",
     "output_type": "stream",
     "text": [
      "Ring Self-intersection at or near point 1726 1901\n"
     ]
    },
    {
     "name": "stdout",
     "output_type": "stream",
     "text": [
      "-- 6090_0_4 10 302\n",
      "-- 6160_1_3 10 303\n"
     ]
    },
    {
     "name": "stderr",
     "output_type": "stream",
     "text": [
      "Ring Self-intersection at or near point 1119 155\n"
     ]
    },
    {
     "name": "stdout",
     "output_type": "stream",
     "text": [
      "-- 6090_0_1 10 304\n"
     ]
    },
    {
     "name": "stderr",
     "output_type": "stream",
     "text": [
      "Ring Self-intersection at or near point 1821 1447\n"
     ]
    },
    {
     "name": "stdout",
     "output_type": "stream",
     "text": [
      "-- 6090_0_0 10 305\n"
     ]
    },
    {
     "name": "stderr",
     "output_type": "stream",
     "text": [
      "Ring Self-intersection at or near point 2854 1057\n"
     ]
    },
    {
     "name": "stdout",
     "output_type": "stream",
     "text": [
      "-- 6090_0_3 10 306\n"
     ]
    },
    {
     "name": "stderr",
     "output_type": "stream",
     "text": [
      "Ring Self-intersection at or near point 1467 3102\n"
     ]
    },
    {
     "name": "stdout",
     "output_type": "stream",
     "text": [
      "-- 6090_0_2 10 307\n"
     ]
    },
    {
     "name": "stderr",
     "output_type": "stream",
     "text": [
      "Ring Self-intersection at or near point 2475 504\n"
     ]
    },
    {
     "name": "stdout",
     "output_type": "stream",
     "text": [
      "-- 6090_2_3 10 308\n",
      "-- 6090_2_2 10 309\n",
      "-- 6090_2_1 10 310\n"
     ]
    },
    {
     "name": "stderr",
     "output_type": "stream",
     "text": [
      "Ring Self-intersection at or near point 2160 3194\n"
     ]
    },
    {
     "name": "stdout",
     "output_type": "stream",
     "text": [
      "-- 6040_1_4 10 311\n"
     ]
    },
    {
     "name": "stderr",
     "output_type": "stream",
     "text": [
      "Ring Self-intersection at or near point 2369 2286\n"
     ]
    },
    {
     "name": "stdout",
     "output_type": "stream",
     "text": [
      "-- 6040_1_2 10 312\n"
     ]
    },
    {
     "name": "stderr",
     "output_type": "stream",
     "text": [
      "Self-intersection at or near point 131.05405405405406 2567.1891891891892\n"
     ]
    },
    {
     "name": "stdout",
     "output_type": "stream",
     "text": [
      "-- 6040_1_1 10 313\n",
      "-- 6090_2_4 10 314\n"
     ]
    },
    {
     "name": "stderr",
     "output_type": "stream",
     "text": [
      "Ring Self-intersection at or near point 3319 1397\n"
     ]
    },
    {
     "name": "stdout",
     "output_type": "stream",
     "text": [
      "-- 6030_0_4 10 315\n"
     ]
    },
    {
     "name": "stderr",
     "output_type": "stream",
     "text": [
      "Ring Self-intersection at or near point 1759 2343\n"
     ]
    },
    {
     "name": "stdout",
     "output_type": "stream",
     "text": [
      "-- 6030_0_3 10 316\n"
     ]
    },
    {
     "name": "stderr",
     "output_type": "stream",
     "text": [
      "Self-intersection at or near point 2737 2587.25\n",
      "Ring Self-intersection at or near point 518 2633\n"
     ]
    },
    {
     "name": "stdout",
     "output_type": "stream",
     "text": [
      "-- 6030_0_2 10 317\n",
      "-- 6030_0_1 10 318\n",
      "-- 6030_0_0 10 319\n"
     ]
    },
    {
     "name": "stderr",
     "output_type": "stream",
     "text": [
      "Ring Self-intersection at or near point 2345 2114\n"
     ]
    },
    {
     "name": "stdout",
     "output_type": "stream",
     "text": [
      "-- 6050_1_0 10 320\n",
      "-- 6050_1_1 10 321\n",
      "-- 6050_1_2 10 322\n",
      "-- 6050_1_3 10 323\n",
      "-- 6050_1_4 10 324\n",
      "-- 6120_1_0 10 325\n"
     ]
    },
    {
     "name": "stderr",
     "output_type": "stream",
     "text": [
      "Ring Self-intersection at or near point 1885 47\n"
     ]
    },
    {
     "name": "stdout",
     "output_type": "stream",
     "text": [
      "-- 6120_1_1 10 326\n",
      "-- 6120_1_2 10 327\n",
      "-- 6120_1_3 10 328\n",
      "-- 6120_1_4 10 329\n",
      "-- 6120_0_4 10 330\n",
      "-- 6160_1_4 10 331\n"
     ]
    },
    {
     "name": "stderr",
     "output_type": "stream",
     "text": [
      "Ring Self-intersection at or near point 878 2826\n",
      "Self-intersection at or near point 982 1493\n"
     ]
    },
    {
     "name": "stdout",
     "output_type": "stream",
     "text": [
      "-- 6130_3_0 10 332\n",
      "-- 6140_0_4 10 333\n",
      "-- 6140_0_3 10 334\n",
      "-- 6140_0_2 10 335\n",
      "-- 6160_1_2 10 336\n"
     ]
    },
    {
     "name": "stderr",
     "output_type": "stream",
     "text": [
      "Ring Self-intersection at or near point 2105 2857\n"
     ]
    },
    {
     "name": "stdout",
     "output_type": "stream",
     "text": [
      "-- 6140_0_0 10 337\n",
      "-- 6120_3_4 10 338\n"
     ]
    },
    {
     "name": "stderr",
     "output_type": "stream",
     "text": [
      "Ring Self-intersection at or near point 1795 3030\n",
      "Self-intersection at or near point 2518 1822.5\n"
     ]
    },
    {
     "name": "stdout",
     "output_type": "stream",
     "text": [
      "-- 6120_3_2 10 339\n"
     ]
    },
    {
     "name": "stderr",
     "output_type": "stream",
     "text": [
      "Ring Self-intersection at or near point 2872 2251\n",
      "Self-intersection at or near point 891.22641509433959 2429.8301886792451\n"
     ]
    },
    {
     "name": "stdout",
     "output_type": "stream",
     "text": [
      "-- 6120_3_3 10 340\n"
     ]
    },
    {
     "name": "stderr",
     "output_type": "stream",
     "text": [
      "Ring Self-intersection at or near point 880 2463\n"
     ]
    },
    {
     "name": "stdout",
     "output_type": "stream",
     "text": [
      "-- 6120_3_0 10 341\n"
     ]
    },
    {
     "name": "stderr",
     "output_type": "stream",
     "text": [
      "Ring Self-intersection at or near point 2873 2809\n"
     ]
    },
    {
     "name": "stdout",
     "output_type": "stream",
     "text": [
      "-- 6120_3_1 10 342\n"
     ]
    },
    {
     "name": "stderr",
     "output_type": "stream",
     "text": [
      "Self-intersection at or near point 1021.4084507042254 1378.0985915492959\n"
     ]
    },
    {
     "name": "stdout",
     "output_type": "stream",
     "text": [
      "-- 6100_1_2 10 343\n"
     ]
    },
    {
     "name": "stderr",
     "output_type": "stream",
     "text": [
      "Self-intersection at or near point 2754.1100000000001 2461.4499999999998\n",
      "Ring Self-intersection at or near point 1359 2307\n"
     ]
    },
    {
     "name": "stdout",
     "output_type": "stream",
     "text": [
      "-- 6100_1_0 10 344\n"
     ]
    },
    {
     "name": "stderr",
     "output_type": "stream",
     "text": [
      "Ring Self-intersection at or near point 1747 2578\n"
     ]
    },
    {
     "name": "stdout",
     "output_type": "stream",
     "text": [
      "-- 6100_1_1 10 345\n",
      "-- 6100_1_4 10 346\n",
      "-- 6140_4_3 10 347\n",
      "-- 6140_4_2 10 348\n",
      "-- 6140_4_1 10 349\n"
     ]
    },
    {
     "name": "stderr",
     "output_type": "stream",
     "text": [
      "Self-intersection at or near point 1142.6666666666667 179.16666666666666\n",
      "Self-intersection at or near point 3310.7228915662649 1497.301204819277\n"
     ]
    },
    {
     "name": "stdout",
     "output_type": "stream",
     "text": [
      "-- 6140_4_0 10 350\n",
      "-- 6140_4_4 10 351\n",
      "-- 6160_0_4 10 352\n"
     ]
    },
    {
     "name": "stderr",
     "output_type": "stream",
     "text": [
      "Ring Self-intersection at or near point 1524 3229\n"
     ]
    },
    {
     "name": "stdout",
     "output_type": "stream",
     "text": [
      "-- 6140_2_1 10 353\n",
      "-- 6140_2_0 10 354\n"
     ]
    },
    {
     "name": "stderr",
     "output_type": "stream",
     "text": [
      "Self-intersection at or near point 1845.0714285714287 993.21428571428567\n"
     ]
    },
    {
     "name": "stdout",
     "output_type": "stream",
     "text": [
      "-- 6140_2_3 10 355\n"
     ]
    },
    {
     "name": "stderr",
     "output_type": "stream",
     "text": [
      "Ring Self-intersection at or near point 1191 530\n"
     ]
    },
    {
     "name": "stdout",
     "output_type": "stream",
     "text": [
      "-- 6140_2_2 10 356\n",
      "-- 6140_2_4 10 357\n"
     ]
    },
    {
     "name": "stderr",
     "output_type": "stream",
     "text": [
      "Ring Self-intersection at or near point 2615 695\n"
     ]
    },
    {
     "name": "stdout",
     "output_type": "stream",
     "text": [
      "-- 6030_4_3 10 358\n",
      "-- 6030_4_2 10 359\n"
     ]
    },
    {
     "name": "stderr",
     "output_type": "stream",
     "text": [
      "Self-intersection at or near point 466.969696969697 1306.6969696969697\n",
      "Ring Self-intersection at or near point 2832 825\n"
     ]
    },
    {
     "name": "stdout",
     "output_type": "stream",
     "text": [
      "-- 6030_4_1 10 360\n"
     ]
    },
    {
     "name": "stderr",
     "output_type": "stream",
     "text": [
      "Self-intersection at or near point 2741 1622\n"
     ]
    },
    {
     "name": "stdout",
     "output_type": "stream",
     "text": [
      "-- 6030_4_0 10 361\n"
     ]
    },
    {
     "name": "stderr",
     "output_type": "stream",
     "text": [
      "Self-intersection at or near point 2380 3211\n"
     ]
    },
    {
     "name": "stdout",
     "output_type": "stream",
     "text": [
      "-- 6030_4_4 10 362\n",
      "-- 6130_3_4 10 363\n"
     ]
    },
    {
     "name": "stderr",
     "output_type": "stream",
     "text": [
      "Ring Self-intersection at or near point 2753 2220\n"
     ]
    },
    {
     "name": "stdout",
     "output_type": "stream",
     "text": [
      "-- 6030_2_1 10 364\n",
      "-- 6030_2_0 10 365\n"
     ]
    },
    {
     "name": "stderr",
     "output_type": "stream",
     "text": [
      "Ring Self-intersection at or near point 2064 1540\n"
     ]
    },
    {
     "name": "stdout",
     "output_type": "stream",
     "text": [
      "-- 6030_2_3 10 366\n",
      "-- 6030_2_2 10 367\n",
      "-- 6030_2_4 10 368\n"
     ]
    },
    {
     "name": "stderr",
     "output_type": "stream",
     "text": [
      "Self-intersection at or near point 3266 699\n"
     ]
    },
    {
     "name": "stdout",
     "output_type": "stream",
     "text": [
      "-- 6090_3_2 10 369\n",
      "-- 6090_3_3 10 370\n",
      "-- 6090_3_0 10 371\n"
     ]
    },
    {
     "name": "stderr",
     "output_type": "stream",
     "text": [
      "Ring Self-intersection at or near point 852 2550\n"
     ]
    },
    {
     "name": "stdout",
     "output_type": "stream",
     "text": [
      "-- 6090_3_1 10 372\n"
     ]
    },
    {
     "name": "stderr",
     "output_type": "stream",
     "text": [
      "Ring Self-intersection at or near point 2524 3261\n"
     ]
    },
    {
     "name": "stdout",
     "output_type": "stream",
     "text": [
      "-- 6090_3_4 10 373\n"
     ]
    },
    {
     "name": "stderr",
     "output_type": "stream",
     "text": [
      "Ring Self-intersection at or near point 1368 1777\n"
     ]
    },
    {
     "name": "stdout",
     "output_type": "stream",
     "text": [
      "-- 6080_3_4 10 374\n",
      "-- 6170_4_4 10 375\n"
     ]
    },
    {
     "name": "stderr",
     "output_type": "stream",
     "text": [
      "Ring Self-intersection at or near point 180 2339\n"
     ]
    },
    {
     "name": "stdout",
     "output_type": "stream",
     "text": [
      "-- 6080_3_1 10 376\n",
      "-- 6080_3_0 10 377\n",
      "-- 6080_3_3 10 378\n"
     ]
    },
    {
     "name": "stderr",
     "output_type": "stream",
     "text": [
      "Ring Self-intersection at or near point 2145 3337\n"
     ]
    },
    {
     "name": "stdout",
     "output_type": "stream",
     "text": [
      "-- 6080_3_2 10 379\n",
      "-- 6160_4_1 10 380\n"
     ]
    },
    {
     "name": "stderr",
     "output_type": "stream",
     "text": [
      "Ring Self-intersection at or near point 3079 761\n"
     ]
    },
    {
     "name": "stdout",
     "output_type": "stream",
     "text": [
      "-- 6160_4_0 10 381\n"
     ]
    },
    {
     "name": "stderr",
     "output_type": "stream",
     "text": [
      "Ring Self-intersection at or near point 1371 3298\n"
     ]
    },
    {
     "name": "stdout",
     "output_type": "stream",
     "text": [
      "-- 6160_4_3 10 382\n"
     ]
    },
    {
     "name": "stderr",
     "output_type": "stream",
     "text": [
      "Ring Self-intersection at or near point 489 2711\n"
     ]
    },
    {
     "name": "stdout",
     "output_type": "stream",
     "text": [
      "-- 6160_4_2 10 383\n"
     ]
    },
    {
     "name": "stderr",
     "output_type": "stream",
     "text": [
      "Ring Self-intersection at or near point 28 640\n"
     ]
    },
    {
     "name": "stdout",
     "output_type": "stream",
     "text": [
      "-- 6160_4_4 10 384\n",
      "-- 6080_1_3 10 385\n",
      "-- 6080_1_2 10 386\n"
     ]
    },
    {
     "name": "stderr",
     "output_type": "stream",
     "text": [
      "Ring Self-intersection at or near point 2413 1419\n"
     ]
    },
    {
     "name": "stdout",
     "output_type": "stream",
     "text": [
      "-- 6080_1_1 10 387\n",
      "-- 6080_1_0 10 388\n",
      "-- 6080_1_4 10 389\n",
      "-- 6170_2_0 10 390\n"
     ]
    },
    {
     "name": "stderr",
     "output_type": "stream",
     "text": [
      "Ring Self-intersection at or near point 1258 3017\n"
     ]
    },
    {
     "name": "stdout",
     "output_type": "stream",
     "text": [
      "-- 6170_2_1 10 391\n",
      "-- 6170_2_2 10 392\n"
     ]
    },
    {
     "name": "stderr",
     "output_type": "stream",
     "text": [
      "Ring Self-intersection at or near point 1003 3073\n"
     ]
    },
    {
     "name": "stdout",
     "output_type": "stream",
     "text": [
      "-- 6170_2_3 10 393\n",
      "-- 6170_0_2 10 394\n"
     ]
    },
    {
     "name": "stderr",
     "output_type": "stream",
     "text": [
      "Ring Self-intersection at or near point 1741 2026\n"
     ]
    },
    {
     "name": "stdout",
     "output_type": "stream",
     "text": [
      "-- 6170_0_3 10 395\n"
     ]
    },
    {
     "name": "stderr",
     "output_type": "stream",
     "text": [
      "Ring Self-intersection at or near point 2760 1300\n"
     ]
    },
    {
     "name": "stdout",
     "output_type": "stream",
     "text": [
      "-- 6170_0_0 10 396\n"
     ]
    },
    {
     "name": "stderr",
     "output_type": "stream",
     "text": [
      "Ring Self-intersection at or near point 3207 2474\n"
     ]
    },
    {
     "name": "stdout",
     "output_type": "stream",
     "text": [
      "-- 6170_0_1 10 397\n"
     ]
    },
    {
     "name": "stderr",
     "output_type": "stream",
     "text": [
      "Ring Self-intersection at or near point 61 1861\n"
     ]
    },
    {
     "name": "stdout",
     "output_type": "stream",
     "text": [
      "-- 6090_1_4 10 398\n"
     ]
    },
    {
     "name": "stderr",
     "output_type": "stream",
     "text": [
      "Ring Self-intersection at or near point 167 2470\n"
     ]
    },
    {
     "name": "stdout",
     "output_type": "stream",
     "text": [
      "-- 6120_4_4 10 399\n",
      "-- 6090_1_0 10 400\n"
     ]
    },
    {
     "name": "stderr",
     "output_type": "stream",
     "text": [
      "Ring Self-intersection at or near point 339 2442\n"
     ]
    },
    {
     "name": "stdout",
     "output_type": "stream",
     "text": [
      "-- 6090_1_1 10 401\n"
     ]
    },
    {
     "name": "stderr",
     "output_type": "stream",
     "text": [
      "Ring Self-intersection at or near point 2043 2952\n"
     ]
    },
    {
     "name": "stdout",
     "output_type": "stream",
     "text": [
      "-- 6090_1_2 10 402\n",
      "-- 6090_1_3 10 403\n",
      "-- 6120_0_1 10 404\n"
     ]
    },
    {
     "name": "stderr",
     "output_type": "stream",
     "text": [
      "Ring Self-intersection at or near point 1536 3027\n"
     ]
    },
    {
     "name": "stdout",
     "output_type": "stream",
     "text": [
      "-- 6120_0_0 10 405\n"
     ]
    },
    {
     "name": "stderr",
     "output_type": "stream",
     "text": [
      "Ring Self-intersection at or near point 1553 1540\n"
     ]
    },
    {
     "name": "stdout",
     "output_type": "stream",
     "text": [
      "-- 6030_1_4 10 406\n",
      "-- 6120_0_2 10 407\n",
      "-- 6030_1_2 10 408\n"
     ]
    },
    {
     "name": "stderr",
     "output_type": "stream",
     "text": [
      "Ring Self-intersection at or near point 32 1823\n"
     ]
    },
    {
     "name": "stdout",
     "output_type": "stream",
     "text": [
      "-- 6030_1_3 10 409\n",
      "-- 6030_1_0 10 410\n",
      "-- 6030_1_1 10 411\n",
      "-- 6130_3_1 10 412\n",
      "-- 6050_4_1 10 413\n",
      "-- 6130_3_3 10 414\n"
     ]
    },
    {
     "name": "stderr",
     "output_type": "stream",
     "text": [
      "Ring Self-intersection at or near point 1083 879\n"
     ]
    },
    {
     "name": "stdout",
     "output_type": "stream",
     "text": [
      "-- 6130_3_2 10 415\n"
     ]
    },
    {
     "name": "stderr",
     "output_type": "stream",
     "text": [
      "Ring Self-intersection at or near point 2563 62\n"
     ]
    },
    {
     "name": "stdout",
     "output_type": "stream",
     "text": [
      "-- 6160_0_1 10 416\n"
     ]
    },
    {
     "name": "stderr",
     "output_type": "stream",
     "text": [
      "Ring Self-intersection at or near point 2133 3324\n"
     ]
    },
    {
     "name": "stdout",
     "output_type": "stream",
     "text": [
      "-- 6160_0_0 10 417\n"
     ]
    },
    {
     "name": "stderr",
     "output_type": "stream",
     "text": [
      "Ring Self-intersection at or near point 3231 2503\n"
     ]
    },
    {
     "name": "stdout",
     "output_type": "stream",
     "text": [
      "-- 6160_0_3 10 418\n",
      "-- 6160_0_2 10 419\n"
     ]
    },
    {
     "name": "stderr",
     "output_type": "stream",
     "text": [
      "Ring Self-intersection at or near point 431 1403\n"
     ]
    },
    {
     "name": "stdout",
     "output_type": "stream",
     "text": [
      "-- 6160_2_3 10 420\n",
      "-- 6160_2_2 10 421\n"
     ]
    },
    {
     "name": "stderr",
     "output_type": "stream",
     "text": [
      "Ring Self-intersection at or near point 486 965\n"
     ]
    },
    {
     "name": "stdout",
     "output_type": "stream",
     "text": [
      "-- 6160_2_0 10 422\n",
      "-- 6160_2_4 10 423\n"
     ]
    },
    {
     "name": "stderr",
     "output_type": "stream",
     "text": [
      "Ring Self-intersection at or near point 970 2896\n"
     ]
    },
    {
     "name": "stdout",
     "output_type": "stream",
     "text": [
      "-- 6130_1_4 10 424\n",
      "-- 6130_1_3 10 425\n",
      "-- 6130_1_2 10 426\n"
     ]
    },
    {
     "name": "stderr",
     "output_type": "stream",
     "text": [
      "Ring Self-intersection at or near point 3338 2672\n"
     ]
    },
    {
     "name": "stdout",
     "output_type": "stream",
     "text": [
      "-- 6130_1_1 10 427\n",
      "-- 6130_1_0 10 428\n"
     ]
    }
   ],
   "source": [
    "submission_file = '../results/submission_' + str(datetime.now().strftime(\"%Y-%m-%d-%H-%M\")) + '.csv'\n",
    "rewrite_submission(CSV_FILE_NEW, submission_file, class_pp_func_list, class_shape_pp_func_list)"
   ]
  },
  {
   "cell_type": "code",
   "execution_count": 14,
   "metadata": {
    "collapsed": true,
    "deletable": true,
    "editable": true
   },
   "outputs": [],
   "source": [
    "import pandas as pd"
   ]
  },
  {
   "cell_type": "code",
   "execution_count": 15,
   "metadata": {
    "collapsed": false,
    "deletable": true,
    "editable": true
   },
   "outputs": [],
   "source": [
    "df1 = pd.read_csv(CSV_FILE_NEW)\n",
    "df2 = pd.read_csv(submission_file)"
   ]
  },
  {
   "cell_type": "code",
   "execution_count": 16,
   "metadata": {
    "collapsed": false,
    "deletable": true,
    "editable": true
   },
   "outputs": [],
   "source": [
    "assert (df1['ImageId'] == df2['ImageId']).all(), \"WTF\"\n",
    "assert (df1['ClassType'] == df2['ClassType']).all(), \"WTF\""
   ]
  },
  {
   "cell_type": "code",
   "execution_count": 17,
   "metadata": {
    "collapsed": false,
    "deletable": true,
    "editable": true
   },
   "outputs": [],
   "source": [
    "# assert (df1['MultipolygonWKT'] == df2['MultipolygonWKT']).all(), \"WTF\""
   ]
  },
  {
   "cell_type": "code",
   "execution_count": null,
   "metadata": {
    "collapsed": true,
    "deletable": true,
    "editable": true
   },
   "outputs": [],
   "source": []
  },
  {
   "cell_type": "code",
   "execution_count": null,
   "metadata": {
    "collapsed": true,
    "deletable": true,
    "editable": true
   },
   "outputs": [],
   "source": []
  },
  {
   "cell_type": "markdown",
   "metadata": {
    "deletable": true,
    "editable": true
   },
   "source": [
    "Visual data analysis"
   ]
  },
  {
   "cell_type": "code",
   "execution_count": 19,
   "metadata": {
    "collapsed": true,
    "deletable": true,
    "editable": true
   },
   "outputs": [],
   "source": [
    "import gdal\n",
    "from visu_utils import scale_percentile\n",
    "\n",
    "def generate_complete_image(image_id):\n",
    "    filename = os.path.join(\"..\", \"results\", \"visu\", '%s.tif' % image_id)\n",
    "    if os.path.exists(filename):\n",
    "        print \"Image is already created. Remove it\"\n",
    "        os.remove(filename)        \n",
    "\n",
    "    tile_size = (1024, 1024)\n",
    "    n, m = 5, 5\n",
    "    complete_image = np.zeros((5*tile_size[0], 5*tile_size[1]), dtype=np.uint16)\n",
    "    counter = 0\n",
    "    for i in range(n):\n",
    "        ys = i*tile_size[1]\n",
    "        ye = ys + tile_size[1]\n",
    "        for j in range(m):\n",
    "            xs = j*tile_size[0]\n",
    "            xe = xs + tile_size[0]\n",
    "            _id = image_id + \"_%i_%i\" % (i, j)\n",
    "            img = get_image_data(_id, 'pan')\n",
    "            img = cv2.resize(img, dsize=tile_size)    \n",
    "            complete_image[ys:ye, xs:xe] = img\n",
    "\n",
    "    complete_image_8u = scale_percentile(complete_image, 0.1, 99.9)             \n",
    "    # Initialize output file:\n",
    "    driver = gdal.GetDriverByName('GTiff')\n",
    "    dataset = driver.Create(filename, complete_image_8u.shape[1], complete_image_8u.shape[0], 1, gdal.GDT_Byte)\n",
    "    assert dataset is not None, \"Failed to create a file\"\n",
    "\n",
    "    band = dataset.GetRasterBand(1)\n",
    "    band.WriteArray(complete_image_8u, xoff=0, yoff=0)\n",
    "\n",
    "    dataset = None"
   ]
  },
  {
   "cell_type": "code",
   "execution_count": 25,
   "metadata": {
    "collapsed": false,
    "deletable": true,
    "editable": true
   },
   "outputs": [],
   "source": [
    "import os\n",
    "from submission_utils import get_data_csv\n",
    "from shapely.wkt import loads\n",
    "from shapely.affinity import scale, translate\n",
    "\n",
    "def get_transformed_polygons(data_csv, x, y, w, h):\n",
    "    out = {}\n",
    "    image_id = data_csv[0][0]\n",
    "    xs, ys = get_scalers(image_id, h, w)\n",
    "    for poly_info in data_csv:\n",
    "        if \"MULTIPOLYGON\" not in poly_info[2][:20]:\n",
    "            continue\n",
    "        polygons = loads(poly_info[2])\n",
    "        new_polygons = scale(polygons, xfact=xs, yfact=ys, origin=(0, 0, 0))        \n",
    "        new_polygons = translate(new_polygons, xoff=x, yoff=y)\n",
    "        out[int(poly_info[1])] = new_polygons\n",
    "    return out\n",
    "\n",
    "from collections import defaultdict\n",
    "\n",
    "def generate_complete_shp_from_csv(image_id, csv_filename, suffix=''):\n",
    "    \n",
    "    filename = os.path.join(\"..\", \"results\", \"visu\", '%s_%s.shp' % (image_id, suffix))\n",
    "    if os.path.exists(filename):\n",
    "        print \"Image is already created. Remove it\"\n",
    "        os.remove(filename)        \n",
    "        \n",
    "    tile_size = (1024, 1024)\n",
    "    n, m = 5, 5\n",
    "    all_polygons = defaultdict(list)\n",
    "    counter = 0\n",
    "    for i in range(n):\n",
    "        y = i*tile_size[1]\n",
    "        for j in range(m):\n",
    "            x = j*tile_size[0]\n",
    "            _id = image_id + \"_%i_%i\" % (i, j)\n",
    "            print \"--\", _id\n",
    "            data_csv = get_data_csv(_id, csv_filename)        \n",
    "            if data_csv is None:\n",
    "                continue\n",
    "            polygons = get_transformed_polygons(data_csv, x, y, tile_size[0], tile_size[1])\n",
    "            for k in polygons:\n",
    "                all_polygons[k].append(polygons[k])\n",
    "    write_shp_from_polygons(filename, image_id, all_polygons)\n"
   ]
  },
  {
   "cell_type": "code",
   "execution_count": 54,
   "metadata": {
    "collapsed": true,
    "deletable": true,
    "editable": true
   },
   "outputs": [],
   "source": [
    "CSV_FILE_LAST = submission_file"
   ]
  },
  {
   "cell_type": "code",
   "execution_count": 22,
   "metadata": {
    "collapsed": false,
    "deletable": true,
    "editable": true,
    "scrolled": true
   },
   "outputs": [],
   "source": [
    "# get_image_ids(CSV_FILE_LAST)"
   ]
  },
  {
   "cell_type": "code",
   "execution_count": 61,
   "metadata": {
    "collapsed": true
   },
   "outputs": [],
   "source": [
    "image_id = \"6110\"\n",
    "# image_id = \"6120\"\n",
    "# image_id = \"6070\"\n",
    "# image_id = \"6080\"\n",
    "# image_id = \"6050\"\n",
    "\n",
    "# image_id = \"6140\""
   ]
  },
  {
   "cell_type": "code",
   "execution_count": 46,
   "metadata": {
    "collapsed": false,
    "deletable": true,
    "editable": true
   },
   "outputs": [],
   "source": [
    "generate_complete_image(image_id)"
   ]
  },
  {
   "cell_type": "code",
   "execution_count": 62,
   "metadata": {
    "collapsed": false,
    "deletable": true,
    "editable": true
   },
   "outputs": [
    {
     "name": "stdout",
     "output_type": "stream",
     "text": [
      "-- 6110_0_0\n",
      "-- 6110_0_1\n",
      "-- 6110_0_2\n",
      "-- 6110_0_3\n",
      "-- 6110_0_4\n",
      "-- 6110_1_0\n",
      "-- 6110_1_1\n",
      "-- 6110_1_2\n",
      "-- 6110_1_3\n",
      "-- 6110_1_4\n",
      "-- 6110_2_0\n",
      "-- 6110_2_1\n",
      "-- 6110_2_2\n",
      "-- 6110_2_3\n",
      "-- 6110_2_4\n",
      "-- 6110_3_0\n",
      "-- 6110_3_1\n",
      "-- 6110_3_2\n",
      "-- 6110_3_3\n",
      "-- 6110_3_4\n",
      "-- 6110_4_0\n",
      "-- 6110_4_1\n",
      "-- 6110_4_2\n",
      "-- 6110_4_3\n",
      "-- 6110_4_4\n",
      "Written succesfully file :  ../results/visu/6110_2017-03-07-02-17.shp\n"
     ]
    }
   ],
   "source": [
    "generate_complete_shp_from_csv(image_id, CSV_FILE_LAST, CSV_FILE_LAST[-20:-4])"
   ]
  },
  {
   "cell_type": "code",
   "execution_count": null,
   "metadata": {
    "collapsed": true,
    "deletable": true,
    "editable": true
   },
   "outputs": [],
   "source": []
  },
  {
   "cell_type": "code",
   "execution_count": null,
   "metadata": {
    "collapsed": true,
    "deletable": true,
    "editable": true
   },
   "outputs": [],
   "source": []
  },
  {
   "cell_type": "code",
   "execution_count": null,
   "metadata": {
    "collapsed": true,
    "deletable": true,
    "editable": true
   },
   "outputs": [],
   "source": []
  }
 ],
 "metadata": {
  "kernelspec": {
   "display_name": "Python 2",
   "language": "python",
   "name": "python2"
  },
  "language_info": {
   "codemirror_mode": {
    "name": "ipython",
    "version": 2
   },
   "file_extension": ".py",
   "mimetype": "text/x-python",
   "name": "python",
   "nbconvert_exporter": "python",
   "pygments_lexer": "ipython2",
   "version": "2.7.13"
  }
 },
 "nbformat": 4,
 "nbformat_minor": 2
}
