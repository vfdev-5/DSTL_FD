{
 "cells": [
  {
   "cell_type": "markdown",
   "metadata": {
    "deletable": true,
    "editable": true
   },
   "source": [
    "# Post-processing CSV"
   ]
  },
  {
   "cell_type": "code",
   "execution_count": 1,
   "metadata": {
    "collapsed": true,
    "deletable": true,
    "editable": true
   },
   "outputs": [],
   "source": [
    "# https://ipython.org/ipython-doc/3/config/extensions/autoreload.html\n",
    "%load_ext autoreload\n",
    "%autoreload 2"
   ]
  },
  {
   "cell_type": "code",
   "execution_count": 2,
   "metadata": {
    "collapsed": false,
    "deletable": true,
    "editable": true
   },
   "outputs": [
    {
     "name": "stderr",
     "output_type": "stream",
     "text": [
      "/usr/local/lib/python2.7/site-packages/matplotlib/font_manager.py:273: UserWarning: Matplotlib is building the font cache using fc-list. This may take a moment.\n",
      "  warnings.warn('Matplotlib is building the font cache using fc-list. This may take a moment.')\n"
     ]
    }
   ],
   "source": [
    "from datetime import datetime\n",
    "\n",
    "\n",
    "import cv2\n",
    "import numpy as np\n",
    "import matplotlib.pylab as plt\n",
    "\n",
    "%matplotlib inline"
   ]
  },
  {
   "cell_type": "code",
   "execution_count": 3,
   "metadata": {
    "collapsed": true,
    "deletable": true,
    "editable": true
   },
   "outputs": [],
   "source": [
    "import sys\n",
    "sys.path.append(\"../common/\")"
   ]
  },
  {
   "cell_type": "code",
   "execution_count": 4,
   "metadata": {
    "collapsed": true,
    "deletable": true,
    "editable": true
   },
   "outputs": [],
   "source": [
    "from data_utils import get_scalers, LABELS, TRAIN_IMAGE_IDS\n",
    "from image_utils import get_image_data\n",
    "from submission_utils import submission_iterator, write_shp_from_polygons, write_shp_from_csv, write_shp_from_mask\n",
    "from submission_utils import get_scaled_polygons, get_polygons, compute_label_image, get_data_csv, get_image_ids\n",
    "from submission_utils import rewrite_submission\n",
    "from visu_utils import plt_st, display_img_1b"
   ]
  },
  {
   "cell_type": "code",
   "execution_count": 5,
   "metadata": {
    "collapsed": false,
    "deletable": true,
    "editable": true
   },
   "outputs": [
    {
     "name": "stdout",
     "output_type": "stream",
     "text": [
      "0 None\n",
      "1 Buildings\n",
      "2 Misc. Manmade structures\n",
      "3 Road\n",
      "4 Track\n",
      "5 Trees\n",
      "6 Crops\n",
      "7 Waterway\n",
      "8 Standing water\n",
      "9 Vehicle Large\n",
      "10 Vehicle Small\n"
     ]
    }
   ],
   "source": [
    "for i, l in enumerate(LABELS):\n",
    "    print i, l"
   ]
  },
  {
   "cell_type": "markdown",
   "metadata": {
    "deletable": true,
    "editable": true
   },
   "source": [
    "Compare submission's predictions raw and post-processed on trained data with ground truth"
   ]
  },
  {
   "cell_type": "code",
   "execution_count": 6,
   "metadata": {
    "collapsed": false,
    "deletable": true,
    "editable": true
   },
   "outputs": [],
   "source": [
    "from np_metrics import score"
   ]
  },
  {
   "cell_type": "markdown",
   "metadata": {
    "deletable": true,
    "editable": true
   },
   "source": [
    "Get common image ids from submission file and training image ids"
   ]
  },
  {
   "cell_type": "code",
   "execution_count": 7,
   "metadata": {
    "collapsed": true,
    "deletable": true,
    "editable": true
   },
   "outputs": [],
   "source": [
    "def write_shp_pred_pp(image_id, csv_file):\n",
    "    data_csv = get_data_csv(image_id, csv_file)\n",
    "    assert data_csv is not None, \"No data_csv\"\n",
    "    write_shp_from_csv(\"../results/shp/%s_new.shp\" % image_id, data_csv)\n",
    "    polygons = get_scaled_polygons(data_csv)\n",
    "    y_pred_raw = compute_label_image(image_id, polygons)\n",
    "    y_pred_pp = mask_postprocessing(y_pred_raw, class_pp_func_list)\n",
    "    write_shp_from_mask(\"../results/shp/%s_pp.shp\" % image_id, image_id, y_pred_pp)"
   ]
  },
  {
   "cell_type": "code",
   "execution_count": 8,
   "metadata": {
    "collapsed": false,
    "deletable": true,
    "editable": true
   },
   "outputs": [],
   "source": [
    "def compare_true_pred_pp(image_id, csv_file, write_shp=True, visualize_labels=()):\n",
    "    y_true = get_image_data(image_id, 'label')\n",
    "    data_csv = get_data_csv(image_id, csv_file)\n",
    "    assert data_csv is not None, \"No data_csv\"\n",
    "    if write_shp:\n",
    "        write_shp_from_csv(\"../results/shp/%s_new.shp\" % image_id, data_csv)\n",
    "    polygons = get_scaled_polygons(data_csv)    \n",
    "    y_pred_raw = compute_label_image(image_id, polygons)\n",
    "    \n",
    "    h = min(y_true.shape[0], y_pred_raw.shape[0])\n",
    "    w = min(y_true.shape[1], y_pred_raw.shape[1])\n",
    "    s1 = score(y_true[:h,:w,:], y_pred_raw[:h,:w,:])    \n",
    "    print \"True vs Pred Raw: \", s1\n",
    "    \n",
    "    polygons = shape_postprocessing(polygons, class_shape_pp_func_list)\n",
    "    y_pred_pp = compute_label_image(image_id, polygons)\n",
    "    y_pred_pp = mask_postprocessing(y_pred_pp, class_pp_func_list)\n",
    "    \n",
    "    h = min(y_true.shape[0], y_pred_pp.shape[0])\n",
    "    w = min(y_true.shape[1], y_pred_pp.shape[1])\n",
    "    s2 = score(y_true[:h,:w,:], y_pred_pp[:h,:w,:])\n",
    "    print \"True vs Pred PP: \", s2\n",
    "    if write_shp:\n",
    "        write_shp_from_mask(\"../results/shp/%s_pp.shp\" % image_id, image_id, y_pred_pp)\n",
    "        \n",
    "        \n",
    "        \n",
    "    if len(visualize_labels) > 0:\n",
    "        ll = len(visualize_labels)\n",
    "        for i in visualize_labels:\n",
    "            if i % 2 == 0:\n",
    "                plt_st(12, 6)\n",
    "            plt.subplot(131)\n",
    "            display_img_1b(y_true[:,:,i])\n",
    "            plt.title(\"Truth\")\n",
    "            plt.subplot(132)\n",
    "            display_img_1b(y_pred_raw[:,:,i])\n",
    "            plt.title(\"Raw\")\n",
    "            plt.subplot(133)\n",
    "            display_img_1b(y_pred_pp[:,:,i])\n",
    "            plt.title(\"PP\")\n",
    "        \n",
    "        \n",
    "        \n",
    "    return s1, s2"
   ]
  },
  {
   "cell_type": "code",
   "execution_count": 34,
   "metadata": {
    "collapsed": true,
    "deletable": true,
    "editable": true
   },
   "outputs": [],
   "source": [
    "#CSV_FILE_NEW = \"../results/sub_mix_20170304_2329.csv\"\n",
    "#CSV_FILE_NEW = \"../results/submission_2017-03-05-23-26.csv\"\n",
    "CSV_FILE_NEW = \"../results/union_201703072227.csv\"\n",
    "CSV_FILE_TRAIN = \"../results/sub_model_1_20170304_1826_nan.csv\"\n"
   ]
  },
  {
   "cell_type": "code",
   "execution_count": 35,
   "metadata": {
    "collapsed": false,
    "deletable": true,
    "editable": true
   },
   "outputs": [],
   "source": [
    "from postprocessing_utils import mask_postprocessing\n",
    "from postprocessing_utils import trees_postprocessing, buildings_postprocessing, roads_postprocessing, standing_water_postprocessing\n",
    "from postprocessing_utils import shape_postprocessing, roads_shape_postprocessing\n",
    "from postprocessing_utils import buildings_shape_postprocessing\n",
    "\n",
    "\n",
    "class_pp_func_list = {\n",
    "    1: buildings_postprocessing, \n",
    "#     3: roads_postprocessing,\n",
    "    5: trees_postprocessing, \n",
    "    8: standing_water_postprocessing, \n",
    "}\n",
    "\n",
    "class_shape_pp_func_list = {\n",
    "    #1: buildings_shape_postprocessing, # Hand-made labeling is forbidden :(\n",
    "    3: roads_shape_postprocessing\n",
    "}"
   ]
  },
  {
   "cell_type": "code",
   "execution_count": null,
   "metadata": {
    "collapsed": true
   },
   "outputs": [],
   "source": []
  },
  {
   "cell_type": "markdown",
   "metadata": {
    "collapsed": true,
    "deletable": true,
    "editable": true
   },
   "source": [
    "Check on all training data:"
   ]
  },
  {
   "cell_type": "code",
   "execution_count": 36,
   "metadata": {
    "collapsed": true,
    "deletable": true,
    "editable": true
   },
   "outputs": [],
   "source": [
    "train_ids = TRAIN_IMAGE_IDS"
   ]
  },
  {
   "cell_type": "code",
   "execution_count": 13,
   "metadata": {
    "collapsed": true,
    "deletable": true,
    "editable": true
   },
   "outputs": [
    {
     "name": "stdout",
     "output_type": "stream",
     "text": [
      "-- 6040_2_2\n",
      "True vs Pred Raw:  0.124523\n",
      "True vs Pred PP:  0.124417\n",
      "-- 6120_2_2\n",
      "True vs Pred Raw:  0.301466\n",
      "True vs Pred PP:  0.305632\n",
      "-- 6120_2_0\n",
      "True vs Pred Raw:  0.332018\n",
      "True vs Pred PP:  0.336076\n",
      "-- 6090_2_0\n",
      "True vs Pred Raw:  0.14743\n",
      "True vs Pred PP:  0.15652\n",
      "-- 6040_1_3\n",
      "True vs Pred Raw:  0.137345\n",
      "True vs Pred PP:  0.136793\n",
      "-- 6040_1_0\n",
      "True vs Pred Raw:  0.145944\n",
      "True vs Pred PP:  0.143905\n",
      "-- 6100_1_3\n",
      "True vs Pred Raw:  0.349125\n",
      "True vs Pred PP:  0.364399\n",
      "-- 6010_4_2\n",
      "True vs Pred Raw:  0.131629\n",
      "True vs Pred PP:  0.132173\n",
      "-- 6110_4_0\n",
      "True vs Pred Raw:  0.398946\n",
      "True vs Pred PP:  0.406851\n",
      "-- 6140_3_1\n",
      "True vs Pred Raw:  0.335387\n",
      "True vs Pred PP:  0.345627\n",
      "-- 6110_1_2\n",
      "True vs Pred Raw:  0.233097\n",
      "True vs Pred PP:  0.240389\n",
      "-- 6100_2_3\n",
      "True vs Pred Raw:  0.293448\n",
      "True vs Pred PP:  0.306018\n",
      "-- 6150_2_3\n",
      "True vs Pred Raw:  0.2014\n",
      "True vs Pred PP:  0.204052\n",
      "-- 6160_2_1\n",
      "True vs Pred Raw:  0.139019\n",
      "True vs Pred PP:  0.139813\n",
      "-- 6140_1_2\n",
      "True vs Pred Raw:  0.243752\n",
      "True vs Pred PP:  0.249001\n",
      "-- 6110_3_1\n",
      "True vs Pred Raw:  0.355562\n",
      "True vs Pred PP:  0.368799\n",
      "-- 6010_4_4\n",
      "True vs Pred Raw:  0.120205\n",
      "True vs Pred PP:  0.120366\n",
      "-- 6170_2_4\n",
      "True vs Pred Raw:  0.220104\n",
      "True vs Pred PP:  0.218792\n",
      "-- 6170_4_1\n",
      "True vs Pred Raw:  0.117173\n",
      "True vs Pred PP:  0.117373\n",
      "-- 6170_0_4\n",
      "True vs Pred Raw:  0.1282\n",
      "True vs Pred PP:  0.12805\n",
      "-- 6060_2_3\n",
      "True vs Pred Raw:  0.183337\n",
      "True vs Pred PP:  0.185607\n",
      "-- 6070_2_3\n",
      "True vs Pred Raw:  0.213583\n",
      "True vs Pred PP:  0.215051\n",
      "-- 6010_1_2\n",
      "True vs Pred Raw:  0.119722\n",
      "True vs Pred PP:  0.120306\n",
      "-- 6040_4_4\n",
      "True vs Pred Raw:  0.121834\n",
      "True vs Pred PP:  0.120129\n",
      "-- 6100_2_2\n",
      "True vs Pred Raw:  0.256762\n",
      "True vs Pred PP:  0.276458\n",
      "Final score:  0.214040441513 0.218503859043\n"
     ]
    }
   ],
   "source": [
    "total_s1 = 0\n",
    "total_s2 = 0\n",
    "for image_id in train_ids:\n",
    "    print \"--\", image_id\n",
    "    s1, s2 = compare_true_pred_pp(image_id, CSV_FILE_TRAIN, write_shp=False)\n",
    "    total_s1 += s1\n",
    "    total_s2 += s2\n",
    "\n",
    "total_s1 *= 1.0 / len(train_ids)\n",
    "total_s2 *= 1.0 / len(train_ids)\n",
    "print \"Final score: \", total_s1, total_s2"
   ]
  },
  {
   "cell_type": "markdown",
   "metadata": {
    "deletable": true,
    "editable": true
   },
   "source": [
    "Standing water\n",
    "\n",
    "-- 6040_2_2\n",
    "True vs Pred Raw:  0.124523\n",
    "True vs Pred PP:  0.124523\n",
    "-- 6120_2_2\n",
    "True vs Pred Raw:  0.301466\n",
    "True vs Pred PP:  0.302711\n",
    "-- 6120_2_0\n",
    "True vs Pred Raw:  0.332018\n",
    "True vs Pred PP:  0.332018\n",
    "-- 6090_2_0\n",
    "True vs Pred Raw:  0.14743\n",
    "True vs Pred PP:  0.155803\n",
    "-- 6040_1_3\n",
    "True vs Pred Raw:  0.137345\n",
    "True vs Pred PP:  0.137345\n",
    "-- 6040_1_0\n",
    "True vs Pred Raw:  0.145944\n",
    "True vs Pred PP:  0.145944\n",
    "-- 6100_1_3\n",
    "True vs Pred Raw:  0.349125\n",
    "True vs Pred PP:  0.352157\n",
    "-- 6010_4_2\n",
    "True vs Pred Raw:  0.131629\n",
    "True vs Pred PP:  0.131629\n",
    "-- 6110_4_0\n",
    "True vs Pred Raw:  0.398946\n",
    "True vs Pred PP:  0.399476\n",
    "-- 6140_3_1\n",
    "True vs Pred Raw:  0.335387\n",
    "True vs Pred PP:  0.338185\n",
    "-- 6110_1_2\n",
    "True vs Pred Raw:  0.233097\n",
    "True vs Pred PP:  0.23354\n",
    "-- 6100_2_3\n",
    "True vs Pred Raw:  0.293448\n",
    "True vs Pred PP:  0.295865\n",
    "-- 6150_2_3\n",
    "True vs Pred Raw:  0.2014\n",
    "True vs Pred PP:  0.2014\n",
    "-- 6160_2_1\n",
    "True vs Pred Raw:  0.139019\n",
    "True vs Pred PP:  0.139019\n",
    "-- 6140_1_2\n",
    "True vs Pred Raw:  0.243752\n",
    "True vs Pred PP:  0.243999\n",
    "-- 6110_3_1\n",
    "True vs Pred Raw:  0.355562\n",
    "True vs Pred PP:  0.358455\n",
    "-- 6010_4_4\n",
    "True vs Pred Raw:  0.120205\n",
    "True vs Pred PP:  0.120205\n",
    "-- 6170_2_4\n",
    "True vs Pred Raw:  0.220104\n",
    "True vs Pred PP:  0.219598\n",
    "-- 6170_4_1\n",
    "True vs Pred Raw:  0.117173\n",
    "True vs Pred PP:  0.117173\n",
    "-- 6170_0_4\n",
    "True vs Pred Raw:  0.1282\n",
    "True vs Pred PP:  0.1282\n",
    "-- 6060_2_3\n",
    "True vs Pred Raw:  0.183337\n",
    "True vs Pred PP:  0.183337\n",
    "-- 6070_2_3\n",
    "True vs Pred Raw:  0.213583\n",
    "True vs Pred PP:  0.212168\n",
    "-- 6010_1_2\n",
    "True vs Pred Raw:  0.119722\n",
    "True vs Pred PP:  0.119722\n",
    "-- 6040_4_4\n",
    "True vs Pred Raw:  0.121834\n",
    "True vs Pred PP:  0.121834\n",
    "-- 6100_2_2\n",
    "True vs Pred Raw:  0.256762\n",
    "True vs Pred PP:  0.256735\n",
    "Final score:  0.214040441513 0.214841640592\n",
    "\n",
    "\n",
    "\n",
    "Buildings + Roads1 + Trees + Water\n",
    "\n",
    "-- 6040_2_2\n",
    "True vs Pred Raw:  0.124523\n",
    "True vs Pred PP:  0.124417\n",
    "-- 6120_2_2\n",
    "True vs Pred Raw:  0.301466\n",
    "True vs Pred PP:  0.300468\n",
    "-- 6120_2_0\n",
    "True vs Pred Raw:  0.332018\n",
    "True vs Pred PP:  0.333829\n",
    "-- 6090_2_0\n",
    "True vs Pred Raw:  0.14743\n",
    "True vs Pred PP:  0.15652\n",
    "-- 6040_1_3\n",
    "True vs Pred Raw:  0.137345\n",
    "True vs Pred PP:  0.136793\n",
    "-- 6040_1_0\n",
    "True vs Pred Raw:  0.145944\n",
    "True vs Pred PP:  0.143904\n",
    "-- 6100_1_3\n",
    "True vs Pred Raw:  0.349125\n",
    "True vs Pred PP:  0.36002\n",
    "-- 6010_4_2\n",
    "True vs Pred Raw:  0.131629\n",
    "True vs Pred PP:  0.132173\n",
    "-- 6110_4_0\n",
    "True vs Pred Raw:  0.398946\n",
    "True vs Pred PP:  0.406208\n",
    "-- 6140_3_1\n",
    "True vs Pred Raw:  0.335387\n",
    "True vs Pred PP:  0.343092\n",
    "-- 6110_1_2\n",
    "True vs Pred Raw:  0.233097\n",
    "True vs Pred PP:  0.23561\n",
    "-- 6100_2_3\n",
    "True vs Pred Raw:  0.293448\n",
    "True vs Pred PP:  0.297894\n",
    "-- 6150_2_3\n",
    "True vs Pred Raw:  0.2014\n",
    "True vs Pred PP:  0.204052\n",
    "-- 6160_2_1\n",
    "True vs Pred Raw:  0.139019\n",
    "True vs Pred PP:  0.1398\n",
    "-- 6140_1_2\n",
    "True vs Pred Raw:  0.243752\n",
    "True vs Pred PP:  0.246068\n",
    "-- 6110_3_1\n",
    "True vs Pred Raw:  0.355562\n",
    "True vs Pred PP:  0.36527\n",
    "-- 6010_4_4\n",
    "True vs Pred Raw:  0.120205\n",
    "True vs Pred PP:  0.120364\n",
    "-- 6170_2_4\n",
    "True vs Pred Raw:  0.220104\n",
    "True vs Pred PP:  0.218764\n",
    "-- 6170_4_1\n",
    "True vs Pred Raw:  0.117173\n",
    "True vs Pred PP:  0.117373\n",
    "-- 6170_0_4\n",
    "True vs Pred Raw:  0.1282\n",
    "True vs Pred PP:  0.12805\n",
    "-- 6060_2_3\n",
    "True vs Pred Raw:  0.183337\n",
    "True vs Pred PP:  0.185514\n",
    "-- 6070_2_3\n",
    "True vs Pred Raw:  0.213583\n",
    "True vs Pred PP:  0.21341\n",
    "-- 6010_1_2\n",
    "True vs Pred Raw:  0.119722\n",
    "True vs Pred PP:  0.120306\n",
    "-- 6040_4_4\n",
    "True vs Pred Raw:  0.121834\n",
    "True vs Pred PP:  0.120114\n",
    "-- 6100_2_2\n",
    "True vs Pred Raw:  0.256762\n",
    "True vs Pred PP:  0.262434\n",
    "Final score:  0.214040441513 0.21649792999"
   ]
  },
  {
   "cell_type": "markdown",
   "metadata": {
    "deletable": true,
    "editable": true
   },
   "source": [
    "## Save new submission"
   ]
  },
  {
   "cell_type": "code",
   "execution_count": 37,
   "metadata": {
    "collapsed": false
   },
   "outputs": [],
   "source": [
    "from shapely.ops import unary_union\n",
    "from submission_utils import merge_pair_images, rewrite_submission_with_new_polygons\n",
    "\n",
    "def merge_trees(polygons_1, polygons_2):\n",
    "    return unary_union([polygons_1, polygons_2])\n",
    "\n",
    "def merge_waterway(polygons_1, polygons_2):\n",
    "    return unary_union([polygons_1, polygons_2])\n",
    "\n",
    "def merge_roads(polygons_1, polygons_2):\n",
    "    return unary_union([polygons_1, polygons_2])\n",
    "\n",
    "\n",
    "class_merge_funcs = {\n",
    "    #5: merge_trees,\n",
    "    7: merge_waterway,\n",
    "    3: merge_roads\n",
    "}"
   ]
  },
  {
   "cell_type": "code",
   "execution_count": 38,
   "metadata": {
    "collapsed": true
   },
   "outputs": [],
   "source": [
    "pair_images = [(\"6110\", \"6140\"), (\"6020\", \"6130\"), (\"6030\", \"6150\")]"
   ]
  },
  {
   "cell_type": "code",
   "execution_count": 39,
   "metadata": {
    "collapsed": false
   },
   "outputs": [
    {
     "data": {
      "text/plain": [
       "'../results/union_201703072227.csv'"
      ]
     },
     "execution_count": 39,
     "metadata": {},
     "output_type": "execute_result"
    }
   ],
   "source": [
    "CSV_FILE_NEW"
   ]
  },
  {
   "cell_type": "code",
   "execution_count": 41,
   "metadata": {
    "collapsed": false,
    "scrolled": true
   },
   "outputs": [
    {
     "name": "stdout",
     "output_type": "stream",
     "text": [
      "--- 6110_0_0 6140_0_0\n",
      "--- merge ...\n",
      "--- 6110_0_1 6140_0_1\n",
      "--- merge ...\n",
      "--- 6110_0_2 6140_0_2\n",
      "--- merge ...\n",
      "--- 6110_0_3 6140_0_3\n",
      "--- merge ...\n",
      "--- 6110_0_4 6140_0_4\n",
      "--- merge ...\n",
      "--- 6110_1_0 6140_1_0\n",
      "--- merge ...\n",
      "--- 6110_1_1 6140_1_1\n",
      "--- merge ...\n",
      "--- 6110_1_2 6140_1_2\n",
      "--- 6110_1_3 6140_1_3\n",
      "--- merge ...\n",
      "--- 6110_1_4 6140_1_4\n",
      "--- merge ...\n",
      "--- 6110_2_0 6140_2_0\n",
      "--- merge ...\n",
      "--- 6110_2_1 6140_2_1\n",
      "--- merge ...\n",
      "--- 6110_2_2 6140_2_2\n",
      "--- merge ...\n",
      "--- 6110_2_3 6140_2_3\n",
      "--- merge ...\n",
      "--- 6110_2_4 6140_2_4\n",
      "--- merge ...\n",
      "--- 6110_3_0 6140_3_0\n",
      "--- merge ...\n",
      "--- 6110_3_1 6140_3_1\n",
      "--- 6110_3_2 6140_3_2\n",
      "--- merge ...\n",
      "--- 6110_3_3 6140_3_3\n",
      "--- merge ...\n",
      "--- 6110_3_4 6140_3_4\n",
      "--- merge ...\n",
      "--- 6110_4_0 6140_4_0\n",
      "--- 6110_4_1 6140_4_1\n",
      "--- merge ...\n",
      "--- 6110_4_2 6140_4_2\n",
      "--- merge ...\n",
      "--- 6110_4_3 6140_4_3\n",
      "--- merge ...\n",
      "--- 6110_4_4 6140_4_4\n",
      "--- merge ...\n",
      "--- 6020_0_0 6130_0_0\n",
      "--- merge ...\n",
      "--- 6020_0_1 6130_0_1\n",
      "--- merge ...\n",
      "--- 6020_0_2 6130_0_2\n",
      "--- merge ...\n",
      "--- 6020_0_3 6130_0_3\n",
      "--- merge ...\n",
      "--- 6020_0_4 6130_0_4\n",
      "--- merge ...\n",
      "--- 6020_1_0 6130_1_0\n",
      "--- merge ...\n",
      "--- 6020_1_1 6130_1_1\n",
      "--- merge ...\n",
      "--- 6020_1_2 6130_1_2\n",
      "--- merge ...\n",
      "--- 6020_1_3 6130_1_3\n",
      "--- merge ...\n",
      "--- 6020_1_4 6130_1_4\n",
      "--- merge ...\n",
      "--- 6020_2_0 6130_2_0\n",
      "--- merge ...\n",
      "--- 6020_2_1 6130_2_1\n",
      "--- merge ...\n",
      "--- 6020_2_2 6130_2_2\n",
      "--- merge ...\n",
      "--- 6020_2_3 6130_2_3\n",
      "--- merge ...\n",
      "--- 6020_2_4 6130_2_4\n",
      "--- merge ...\n",
      "--- 6020_3_0 6130_3_0\n",
      "--- merge ...\n",
      "--- 6020_3_1 6130_3_1\n",
      "--- merge ...\n",
      "--- 6020_3_2 6130_3_2\n",
      "--- merge ...\n",
      "--- 6020_3_3 6130_3_3\n",
      "--- merge ...\n",
      "--- 6020_3_4 6130_3_4\n",
      "--- merge ...\n",
      "--- 6020_4_0 6130_4_0\n",
      "--- merge ...\n",
      "--- 6020_4_1 6130_4_1\n",
      "--- merge ...\n",
      "--- 6020_4_2 6130_4_2\n",
      "--- merge ...\n",
      "--- 6020_4_3 6130_4_3\n",
      "--- merge ...\n",
      "--- 6020_4_4 6130_4_4\n",
      "--- merge ...\n",
      "--- 6030_0_0 6150_0_0\n",
      "--- merge ...\n",
      "--- 6030_0_1 6150_0_1\n",
      "--- merge ...\n",
      "--- 6030_0_2 6150_0_2\n",
      "--- merge ...\n",
      "--- 6030_0_3 6150_0_3\n",
      "--- merge ...\n",
      "--- 6030_0_4 6150_0_4\n",
      "--- merge ...\n",
      "--- 6030_1_0 6150_1_0\n",
      "--- merge ...\n",
      "--- 6030_1_1 6150_1_1\n",
      "--- merge ...\n",
      "--- 6030_1_2 6150_1_2\n",
      "--- merge ...\n",
      "--- 6030_1_3 6150_1_3\n",
      "--- merge ...\n",
      "--- 6030_1_4 6150_1_4\n",
      "--- merge ...\n",
      "--- 6030_2_0 6150_2_0\n",
      "--- merge ...\n",
      "--- 6030_2_1 6150_2_1\n",
      "--- merge ...\n",
      "--- 6030_2_2 6150_2_2\n",
      "--- merge ...\n",
      "--- 6030_2_3 6150_2_3\n",
      "--- 6030_2_4 6150_2_4\n",
      "--- merge ...\n",
      "--- 6030_3_0 6150_3_0\n",
      "--- merge ...\n",
      "--- 6030_3_1 6150_3_1\n",
      "--- merge ...\n",
      "--- 6030_3_2 6150_3_2\n",
      "--- merge ...\n",
      "--- 6030_3_3 6150_3_3\n",
      "--- merge ...\n",
      "--- 6030_3_4 6150_3_4\n",
      "--- merge ...\n",
      "--- 6030_4_0 6150_4_0\n",
      "--- merge ...\n",
      "--- 6030_4_1 6150_4_1\n",
      "--- merge ...\n",
      "--- 6030_4_2 6150_4_2\n",
      "--- merge ...\n",
      "--- 6030_4_3 6150_4_3\n",
      "--- merge ...\n",
      "--- 6030_4_4 6150_4_4\n",
      "--- merge ...\n"
     ]
    },
    {
     "name": "stderr",
     "output_type": "stream",
     "text": [
      "Self-intersection at or near point 2790.0000000000232 1409.0000000000257\n",
      "Self-intersection at or near point 2790.0000000000232 1409.0000000000257\n"
     ]
    }
   ],
   "source": [
    "results = merge_pair_images(pair_images, CSV_FILE_NEW, class_merge_funcs, merge_labels=(7, 3))"
   ]
  },
  {
   "cell_type": "code",
   "execution_count": 63,
   "metadata": {
    "collapsed": false
   },
   "outputs": [
    {
     "data": {
      "text/plain": [
       "'../results/union_201703072227.csv'"
      ]
     },
     "execution_count": 63,
     "metadata": {},
     "output_type": "execute_result"
    }
   ],
   "source": [
    "CSV_FILE_NEW"
   ]
  },
  {
   "cell_type": "code",
   "execution_count": 62,
   "metadata": {
    "collapsed": false,
    "scrolled": true
   },
   "outputs": [
    {
     "name": "stdout",
     "output_type": "stream",
     "text": [
      "-- 6120_2_4 10 0\n",
      "-- 6120_2_3 10 1\n",
      "-- 6120_2_1 10 2\n",
      "-- 6180_2_4 10 3\n",
      "-- 6180_2_1 10 4\n",
      "-- 6180_2_0 10 5\n",
      "-- 6180_2_3 10 6\n",
      "-- 6180_2_2 10 7\n",
      "-- 6180_0_3 10 8\n",
      "-- 6180_0_2 10 9\n",
      "-- 6180_0_1 10 10\n",
      "-- 6180_0_0 10 11\n",
      "-- 6180_0_4 10 12\n",
      "-- 6080_4_4 10 13\n",
      "-- 6080_4_2 10 14\n",
      "-- 6080_4_3 10 15\n",
      "-- 6080_4_0 10 16\n",
      "-- 6080_4_1 10 17\n",
      "-- 6090_4_1 10 18\n",
      "-- 6090_4_0 10 19\n",
      "-- 6090_4_3 10 20\n",
      "-- 6090_4_2 10 21\n",
      "-- 6090_4_4 10 22\n",
      "-- 6180_4_4 10 23\n",
      "-- 6180_4_3 10 24\n",
      "-- 6180_4_2 10 25\n",
      "-- 6180_4_1 10 26\n",
      "-- 6180_4_0 10 27\n",
      "-- 6160_3_2 10 28\n",
      "-- 6160_3_3 10 29\n",
      "-- 6160_3_0 10 30\n",
      "-- 6160_3_1 10 31\n",
      "-- 6160_3_4 10 32\n",
      "-- 6080_2_4 10 33\n",
      "-- 6080_2_0 10 34\n",
      "-- 6080_2_1 10 35\n",
      "-- 6080_2_2 10 36\n",
      "-- 6080_2_3 10 37\n",
      "-- 6080_0_2 10 38\n",
      "-- 6080_0_3 10 39\n",
      "-- 6080_0_0 10 40\n",
      "-- 6080_0_1 10 41\n",
      "-- 6080_0_4 10 42\n",
      "-- 6010_0_4 10 43\n",
      "-- 6010_0_1 10 44\n",
      "-- 6010_0_0 10 45\n",
      "-- 6010_0_3 10 46\n",
      "-- 6010_0_2 10 47\n",
      "-- 6010_2_3 10 48\n",
      "-- 6010_2_2 10 49\n",
      "-- 6010_2_1 10 50\n",
      "-- 6010_2_0 10 51\n",
      "-- 6010_2_4 10 52\n",
      "-- 6010_4_1 10 53\n",
      "-- 6170_3_4 10 54\n",
      "-- 6010_4_3 10 55\n",
      "-- 6170_3_1 10 56\n",
      "-- 6170_3_0 10 57\n",
      "-- 6170_3_3 10 58\n",
      "-- 6170_3_2 10 59\n",
      "-- 6170_1_3 10 60\n",
      "-- 6170_1_2 10 61\n",
      "-- 6170_1_1 10 62\n",
      "-- 6170_1_0 10 63\n",
      "-- 6170_1_4 10 64\n",
      "-- 6130_4_2 10 65\n",
      "-- 6130_4_3 10 67\n",
      "-- 6130_4_0 10 69\n",
      "-- 6130_4_1 10 71\n",
      "-- 6130_4_4 10 73\n",
      "-- 6150_3_3 10 75\n",
      "-- 6150_3_2 10 77\n",
      "-- 6150_3_1 10 79\n",
      "-- 6150_3_0 10 81\n",
      "-- 6150_3_4 10 83\n",
      "-- 6130_2_0 10 85\n",
      "-- 6130_2_1 10 87\n",
      "-- 6130_2_2 10 89\n",
      "-- 6130_2_3 10 91\n",
      "-- 6130_2_4 10 93\n",
      "-- 6130_0_4 10 95\n",
      "-- 6130_0_2 10 97\n",
      "-- 6130_0_3 10 99\n",
      "-- 6130_0_0 10 101\n",
      "-- 6130_0_1 10 103\n",
      "-- 6150_1_4 10 105\n",
      "-- 6150_1_1 10 107\n",
      "-- 6150_1_0 10 109\n",
      "-- 6150_1_3 10 111\n",
      "-- 6150_1_2 10 113\n",
      "-- 6180_3_4 10 115\n",
      "-- 6180_3_0 10 116\n",
      "-- 6180_3_1 10 117\n",
      "-- 6180_3_2 10 118\n",
      "-- 6180_3_3 10 119\n",
      "-- 6180_1_2 10 120\n",
      "-- 6180_1_3 10 121\n",
      "-- 6180_1_0 10 122\n",
      "-- 6180_1_1 10 123\n",
      "-- 6180_1_4 10 124\n",
      "-- 6010_1_4 10 125\n",
      "-- 6010_1_0 10 126\n",
      "-- 6010_1_1 10 127\n",
      "-- 6010_1_2 10 128\n",
      "-- 6010_1_3 10 129\n",
      "-- 6010_3_2 10 130\n",
      "-- 6010_3_3 10 131\n",
      "-- 6010_3_0 10 132\n",
      "-- 6010_3_1 10 133\n",
      "-- 6010_3_4 10 134\n",
      "-- 6020_0_4 10 135\n",
      "-- 6020_0_0 10 137\n",
      "-- 6020_0_1 10 139\n",
      "-- 6020_0_2 10 141\n",
      "-- 6020_0_3 10 143\n",
      "-- 6020_2_2 10 145\n",
      "-- 6020_2_3 10 147\n",
      "-- 6020_2_0 10 149\n",
      "-- 6020_2_1 10 151\n",
      "-- 6020_2_4 10 153\n",
      "-- 6020_4_0 10 155\n",
      "-- 6020_4_1 10 157\n",
      "-- 6020_4_2 10 159\n",
      "-- 6020_4_3 10 161\n",
      "-- 6020_4_4 10 163\n",
      "-- 6110_0_1 10 165\n",
      "-- 6150_0_4 10 167\n",
      "-- 6150_0_0 10 169\n",
      "-- 6150_0_1 10 171\n",
      "-- 6150_0_2 10 173\n",
      "-- 6150_0_3 10 175\n",
      "-- 6100_2_1 10 177\n",
      "-- 6100_2_0 10 178\n",
      "-- 6150_2_2 10 179\n",
      "-- 6150_2_0 10 181\n",
      "-- 6150_2_1 10 183\n",
      "-- 6150_2_4 10 185\n",
      "-- 6170_4_2 10 187\n",
      "-- 6050_3_1 10 188\n",
      "-- 6170_4_3 10 189\n",
      "-- 6150_4_0 10 190\n",
      "-- 6150_4_1 10 192\n",
      "-- 6150_4_2 10 194\n",
      "-- 6150_4_3 10 196\n",
      "-- 6150_4_4 10 198\n",
      "-- 6170_4_0 10 200\n",
      "-- 6070_3_4 10 201\n",
      "-- 6070_3_0 10 202\n",
      "-- 6070_3_1 10 203\n",
      "-- 6070_3_2 10 204\n",
      "-- 6070_3_3 10 205\n",
      "-- 6070_1_2 10 206\n",
      "-- 6070_1_3 10 207\n",
      "-- 6070_1_0 10 208\n",
      "-- 6070_1_1 10 209\n",
      "-- 6070_1_4 10 210\n",
      "-- 6120_0_3 10 211\n",
      "-- 6110_1_1 10 212\n",
      "-- 6110_1_0 10 214\n",
      "-- 6110_1_3 10 216\n",
      "-- 6110_1_4 10 218\n",
      "-- 6110_3_4 10 220\n",
      "-- 6110_3_3 10 222\n",
      "-- 6110_3_2 10 224\n",
      "-- 6110_3_0 10 226\n",
      "-- 6060_2_1 10 228\n",
      "-- 6140_3_3 10 229\n",
      "-- 6020_1_4 10 231\n",
      "-- 6020_1_1 10 233\n",
      "-- 6020_1_0 10 235\n",
      "-- 6020_1_3 10 237\n",
      "-- 6020_1_2 10 239\n",
      "-- 6020_3_3 10 241\n",
      "-- 6020_3_2 10 243\n",
      "-- 6020_3_1 10 245\n",
      "-- 6020_3_0 10 247\n",
      "-- 6020_3_4 10 249\n",
      "-- 6050_2_4 10 251\n",
      "-- 6050_2_3 10 252\n",
      "-- 6050_2_2 10 253\n",
      "-- 6050_2_1 10 254\n",
      "-- 6050_2_0 10 255\n",
      "-- 6100_3_4 10 256\n",
      "-- 6100_3_0 10 257\n",
      "-- 6100_3_1 10 258\n",
      "-- 6100_3_2 10 259\n",
      "-- 6100_3_3 10 260\n",
      "-- 6060_1_1 10 261\n",
      "-- 6060_1_0 10 262\n",
      "-- 6060_1_3 10 263\n",
      "-- 6060_1_2 10 264\n",
      "-- 6060_1_4 10 265\n",
      "-- 6060_3_4 10 266\n",
      "-- 6060_3_3 10 267\n",
      "-- 6060_3_2 10 268\n",
      "-- 6060_3_1 10 269\n",
      "-- 6060_3_0 10 270\n",
      "-- 6070_2_4 10 271\n",
      "-- 6070_2_1 10 272\n",
      "-- 6070_2_0 10 273\n",
      "-- 6070_2_3 10 274\n",
      "-- 6070_2_2 10 275\n",
      "-- 6040_2_0 10 276\n",
      "-- 6040_2_1 10 277\n",
      "-- 6040_2_3 10 278\n",
      "-- 6040_2_4 10 279\n",
      "-- 6070_0_3 10 280\n",
      "-- 6070_0_2 10 281\n",
      "-- 6070_0_1 10 282\n",
      "-- 6070_0_0 10 283\n",
      "-- 6070_0_4 10 284\n",
      "-- 6100_4_3 10 285\n",
      "-- 6040_0_4 10 286\n",
      "-- 6040_0_2 10 287\n",
      "-- 6040_0_3 10 288\n",
      "-- 6040_0_0 10 289\n",
      "-- 6040_0_1 10 290\n",
      "-- 6050_0_1 10 291\n",
      "-- 6050_0_0 10 292\n",
      "-- 6050_0_3 10 293\n",
      "-- 6050_0_2 10 294\n",
      "-- 6050_0_4 10 295\n",
      "-- 6070_4_4 10 296\n",
      "-- 6070_4_3 10 297\n",
      "-- 6070_4_2 10 298\n",
      "-- 6070_4_1 10 299\n",
      "-- 6070_4_0 10 300\n",
      "-- 6140_3_0 10 301\n",
      "-- 6140_3_2 10 303\n",
      "-- 6100_4_4 10 305\n",
      "-- 6140_3_4 10 306\n",
      "-- 6100_4_2 10 308\n",
      "-- 6100_4_1 10 309\n",
      "-- 6100_4_0 10 310\n",
      "-- 6140_0_1 10 311\n",
      "-- 6140_1_4 10 313\n",
      "-- 6140_1_3 10 315\n",
      "-- 6140_1_0 10 317\n",
      "-- 6140_1_1 10 319\n",
      "-- 6040_4_2 10 321\n",
      "-- 6040_4_3 10 322\n",
      "-- 6040_4_0 10 323\n",
      "-- 6040_4_1 10 324\n",
      "-- 6040_4_4 10 325\n",
      "-- 6010_4_0 10 326\n",
      "-- 6110_0_0 10 327\n",
      "-- 6050_4_4 10 329\n",
      "-- 6110_0_2 10 330\n",
      "-- 6110_0_3 10 332\n",
      "-- 6110_0_4 10 334\n",
      "-- 6050_4_0 10 336\n",
      "-- 6050_4_3 10 337\n",
      "-- 6050_4_2 10 338\n",
      "-- 6030_3_0 10 339\n",
      "-- 6030_3_1 10 341\n",
      "-- 6030_3_2 10 343\n",
      "-- 6030_3_3 10 345\n",
      "-- 6030_3_4 10 347\n",
      "-- 6110_2_4 10 349\n",
      "-- 6110_2_2 10 351\n",
      "-- 6110_2_3 10 353\n",
      "-- 6110_2_0 10 355\n",
      "-- 6110_2_1 10 357\n",
      "-- 6120_4_1 10 359\n",
      "-- 6120_4_0 10 360\n",
      "-- 6120_4_3 10 361\n",
      "-- 6120_4_2 10 362\n",
      "-- 6110_4_4 10 363\n",
      "-- 6110_4_1 10 365\n",
      "-- 6110_4_2 10 367\n",
      "-- 6110_4_3 10 369\n",
      "-- 6060_4_4 10 371\n",
      "-- 6060_4_0 10 372\n",
      "-- 6060_4_1 10 373\n",
      "-- 6060_4_2 10 374\n",
      "-- 6060_4_3 10 375\n",
      "-- 6100_2_4 10 376\n",
      "-- 6050_3_4 10 377\n",
      "-- 6050_3_2 10 378\n",
      "-- 6050_3_3 10 379\n",
      "-- 6050_3_0 10 380\n",
      "-- 6100_2_2 10 381\n",
      "-- 6100_0_3 10 382\n",
      "-- 6100_0_2 10 383\n",
      "-- 6100_0_1 10 384\n",
      "-- 6100_0_0 10 385\n",
      "-- 6100_0_4 10 386\n",
      "-- 6060_0_0 10 387\n",
      "-- 6060_0_1 10 388\n",
      "-- 6060_0_2 10 389\n",
      "-- 6060_0_3 10 390\n",
      "-- 6060_0_4 10 391\n",
      "-- 6160_1_0 10 392\n",
      "-- 6060_2_4 10 393\n",
      "-- 6060_2_2 10 394\n",
      "-- 6060_2_0 10 395\n",
      "-- 6160_1_1 10 396\n",
      "-- 6040_3_1 10 397\n",
      "-- 6040_3_0 10 398\n",
      "-- 6040_3_3 10 399\n",
      "-- 6040_3_2 10 400\n",
      "-- 6040_3_4 10 401\n",
      "-- 6090_0_4 10 402\n",
      "-- 6160_1_3 10 403\n",
      "-- 6090_0_1 10 404\n",
      "-- 6090_0_0 10 405\n",
      "-- 6090_0_3 10 406\n",
      "-- 6090_0_2 10 407\n",
      "-- 6090_2_3 10 408\n",
      "-- 6090_2_2 10 409\n",
      "-- 6090_2_1 10 410\n",
      "-- 6040_1_4 10 411\n",
      "-- 6040_1_2 10 412\n",
      "-- 6040_1_1 10 413\n",
      "-- 6090_2_4 10 414\n",
      "-- 6030_0_4 10 415\n",
      "-- 6030_0_3 10 417\n",
      "-- 6030_0_2 10 419\n",
      "-- 6030_0_1 10 421\n",
      "-- 6030_0_0 10 423\n",
      "-- 6050_1_0 10 425\n",
      "-- 6050_1_1 10 426\n",
      "-- 6050_1_2 10 427\n",
      "-- 6050_1_3 10 428\n",
      "-- 6050_1_4 10 429\n",
      "-- 6120_1_0 10 430\n",
      "-- 6120_1_1 10 431\n",
      "-- 6120_1_2 10 432\n",
      "-- 6120_1_3 10 433\n",
      "-- 6120_1_4 10 434\n",
      "-- 6120_0_4 10 435\n",
      "-- 6160_1_4 10 436\n",
      "-- 6130_3_0 10 437\n",
      "-- 6140_0_4 10 439\n",
      "-- 6140_0_3 10 441\n",
      "-- 6140_0_2 10 443\n",
      "-- 6160_1_2 10 445\n",
      "-- 6140_0_0 10 446\n",
      "-- 6120_3_4 10 448\n",
      "-- 6120_3_2 10 449\n",
      "-- 6120_3_3 10 450\n",
      "-- 6120_3_0 10 451\n",
      "-- 6120_3_1 10 452\n",
      "-- 6100_1_2 10 453\n",
      "-- 6100_1_0 10 454\n",
      "-- 6100_1_1 10 455\n",
      "-- 6100_1_4 10 456\n",
      "-- 6140_4_3 10 457\n",
      "-- 6140_4_2 10 459\n",
      "-- 6140_4_1 10 461\n",
      "-- 6140_4_0 10 463\n",
      "-- 6140_4_4 10 464\n",
      "-- 6160_0_4 10 466\n",
      "-- 6140_2_1 10 467\n",
      "-- 6140_2_0 10 469\n",
      "-- 6140_2_3 10 471\n",
      "-- 6140_2_2 10 473\n",
      "-- 6140_2_4 10 475\n",
      "-- 6030_4_3 10 477\n",
      "-- 6030_4_2 10 479\n",
      "-- 6030_4_1 10 481\n",
      "-- 6030_4_0 10 483\n",
      "-- 6030_4_4 10 485\n",
      "-- 6130_3_4 10 487\n",
      "-- 6030_2_1 10 489\n",
      "-- 6030_2_0 10 491\n",
      "-- 6030_2_3 10 493\n",
      "-- 6030_2_2 10 494\n",
      "-- 6030_2_4 10 496\n",
      "-- 6090_3_2 10 498\n",
      "-- 6090_3_3 10 499\n",
      "-- 6090_3_0 10 500\n",
      "-- 6090_3_1 10 501\n",
      "-- 6090_3_4 10 502\n",
      "-- 6080_3_4 10 503\n",
      "-- 6170_4_4 10 504\n",
      "-- 6080_3_1 10 505\n",
      "-- 6080_3_0 10 506\n",
      "-- 6080_3_3 10 507\n",
      "-- 6080_3_2 10 508\n",
      "-- 6160_4_1 10 509\n",
      "-- 6160_4_0 10 510\n",
      "-- 6160_4_3 10 511\n",
      "-- 6160_4_2 10 512\n",
      "-- 6160_4_4 10 513\n",
      "-- 6080_1_3 10 514\n",
      "-- 6080_1_2 10 515\n",
      "-- 6080_1_1 10 516\n",
      "-- 6080_1_0 10 517\n",
      "-- 6080_1_4 10 518\n",
      "-- 6170_2_0 10 519\n",
      "-- 6170_2_1 10 520\n",
      "-- 6170_2_2 10 521\n",
      "-- 6170_2_3 10 522\n",
      "-- 6170_0_2 10 523\n",
      "-- 6170_0_3 10 524\n",
      "-- 6170_0_0 10 525\n",
      "-- 6170_0_1 10 526\n",
      "-- 6090_1_4 10 527\n",
      "-- 6120_4_4 10 528\n",
      "-- 6090_1_0 10 529\n",
      "-- 6090_1_1 10 530\n",
      "-- 6090_1_2 10 531\n",
      "-- 6090_1_3 10 532\n",
      "-- 6120_0_1 10 533\n",
      "-- 6120_0_0 10 534\n",
      "-- 6030_1_4 10 535\n",
      "-- 6120_0_2 10 537\n",
      "-- 6030_1_2 10 538\n",
      "-- 6030_1_3 10 540\n",
      "-- 6030_1_0 10 542\n",
      "-- 6030_1_1 10 544\n",
      "-- 6130_3_1 10 546\n",
      "-- 6050_4_1 10 548\n",
      "-- 6130_3_3 10 549\n",
      "-- 6130_3_2 10 551\n",
      "-- 6160_0_1 10 553\n",
      "-- 6160_0_0 10 554\n",
      "-- 6160_0_3 10 555\n",
      "-- 6160_0_2 10 556\n",
      "-- 6160_2_3 10 557\n",
      "-- 6160_2_2 10 558\n",
      "-- 6160_2_0 10 559\n",
      "-- 6160_2_4 10 560\n",
      "-- 6130_1_4 10 561\n",
      "-- 6130_1_3 10 563\n",
      "-- 6130_1_2 10 565\n",
      "-- 6130_1_1 10 567\n",
      "-- 6130_1_0 10 569\n"
     ]
    }
   ],
   "source": [
    "rewrite_submission_with_new_polygons(CSV_FILE_NEW, CSV_FILE_NEW[:-4] + '_pairs_merge.csv', results)"
   ]
  },
  {
   "cell_type": "code",
   "execution_count": 67,
   "metadata": {
    "collapsed": false,
    "deletable": true,
    "editable": true,
    "scrolled": true
   },
   "outputs": [
    {
     "name": "stdout",
     "output_type": "stream",
     "text": [
      "-- 6120_2_4 10 0\n",
      "-- 6120_2_3 10 1\n"
     ]
    },
    {
     "name": "stderr",
     "output_type": "stream",
     "text": [
      "Self-intersection at or near point 3193.5167785234898 1985.6040268456377\n"
     ]
    },
    {
     "name": "stdout",
     "output_type": "stream",
     "text": [
      "-- 6120_2_1 10 2\n",
      "-- 6180_2_4 10 3\n"
     ]
    },
    {
     "name": "stderr",
     "output_type": "stream",
     "text": [
      "Ring Self-intersection at or near point 2247 3101\n"
     ]
    },
    {
     "name": "stdout",
     "output_type": "stream",
     "text": [
      "-- 6180_2_1 10 4\n"
     ]
    },
    {
     "name": "stderr",
     "output_type": "stream",
     "text": [
      "Ring Self-intersection at or near point 1126 3165\n"
     ]
    },
    {
     "name": "stdout",
     "output_type": "stream",
     "text": [
      "-- 6180_2_0 10 5\n"
     ]
    },
    {
     "name": "stderr",
     "output_type": "stream",
     "text": [
      "Ring Self-intersection at or near point 1229 3266\n"
     ]
    },
    {
     "name": "stdout",
     "output_type": "stream",
     "text": [
      "-- 6180_2_3 10 6\n"
     ]
    },
    {
     "name": "stderr",
     "output_type": "stream",
     "text": [
      "Ring Self-intersection at or near point 1582 2914\n"
     ]
    },
    {
     "name": "stdout",
     "output_type": "stream",
     "text": [
      "-- 6180_2_2 10 7\n"
     ]
    },
    {
     "name": "stderr",
     "output_type": "stream",
     "text": [
      "Ring Self-intersection at or near point 2219 3108\n"
     ]
    },
    {
     "name": "stdout",
     "output_type": "stream",
     "text": [
      "-- 6180_0_3 10 8\n"
     ]
    },
    {
     "name": "stderr",
     "output_type": "stream",
     "text": [
      "Ring Self-intersection at or near point 255 3022\n"
     ]
    },
    {
     "name": "stdout",
     "output_type": "stream",
     "text": [
      "-- 6180_0_2 10 9\n"
     ]
    },
    {
     "name": "stderr",
     "output_type": "stream",
     "text": [
      "Ring Self-intersection at or near point 760 2884\n"
     ]
    },
    {
     "name": "stdout",
     "output_type": "stream",
     "text": [
      "-- 6180_0_1 10 10\n"
     ]
    },
    {
     "name": "stderr",
     "output_type": "stream",
     "text": [
      "Ring Self-intersection at or near point 2672 2043\n"
     ]
    },
    {
     "name": "stdout",
     "output_type": "stream",
     "text": [
      "-- 6180_0_0 10 11\n"
     ]
    },
    {
     "name": "stderr",
     "output_type": "stream",
     "text": [
      "Ring Self-intersection at or near point 591 2383\n"
     ]
    },
    {
     "name": "stdout",
     "output_type": "stream",
     "text": [
      "-- 6180_0_4 10 12\n"
     ]
    },
    {
     "name": "stderr",
     "output_type": "stream",
     "text": [
      "Ring Self-intersection at or near point 1726 2680\n",
      "Self-intersection at or near point 2976.2307692307691 324.92307692307691\n"
     ]
    },
    {
     "name": "stdout",
     "output_type": "stream",
     "text": [
      "-- 6080_4_4 10 13\n"
     ]
    },
    {
     "name": "stderr",
     "output_type": "stream",
     "text": [
      "Ring Self-intersection at or near point 2923 3030\n"
     ]
    },
    {
     "name": "stdout",
     "output_type": "stream",
     "text": [
      "-- 6080_4_2 10 14\n"
     ]
    },
    {
     "name": "stderr",
     "output_type": "stream",
     "text": [
      "Self-intersection at or near point 3303.4054054054054 1455.1351351351352\n",
      "Ring Self-intersection at or near point 3294 1265\n",
      "Self-intersection at or near point 170 3034\n"
     ]
    },
    {
     "name": "stdout",
     "output_type": "stream",
     "text": [
      "-- 6080_4_3 10 15\n"
     ]
    },
    {
     "name": "stderr",
     "output_type": "stream",
     "text": [
      "Ring Self-intersection at or near point 2257 2583\n"
     ]
    },
    {
     "name": "stdout",
     "output_type": "stream",
     "text": [
      "-- 6080_4_0 10 16\n"
     ]
    },
    {
     "name": "stderr",
     "output_type": "stream",
     "text": [
      "Ring Self-intersection at or near point 1778 601\n"
     ]
    },
    {
     "name": "stdout",
     "output_type": "stream",
     "text": [
      "-- 6080_4_1 10 17\n"
     ]
    },
    {
     "name": "stderr",
     "output_type": "stream",
     "text": [
      "Ring Self-intersection at or near point 2116 2642\n"
     ]
    },
    {
     "name": "stdout",
     "output_type": "stream",
     "text": [
      "-- 6090_4_1 10 18\n"
     ]
    },
    {
     "name": "stderr",
     "output_type": "stream",
     "text": [
      "Ring Self-intersection at or near point 907 1889\n"
     ]
    },
    {
     "name": "stdout",
     "output_type": "stream",
     "text": [
      "-- 6090_4_0 10 19\n",
      "-- 6090_4_3 10 20\n"
     ]
    },
    {
     "name": "stderr",
     "output_type": "stream",
     "text": [
      "Ring Self-intersection at or near point 573 1487\n"
     ]
    },
    {
     "name": "stdout",
     "output_type": "stream",
     "text": [
      "-- 6090_4_2 10 21\n"
     ]
    },
    {
     "name": "stderr",
     "output_type": "stream",
     "text": [
      "Ring Self-intersection at or near point 974 2287\n"
     ]
    },
    {
     "name": "stdout",
     "output_type": "stream",
     "text": [
      "-- 6090_4_4 10 22\n"
     ]
    },
    {
     "name": "stderr",
     "output_type": "stream",
     "text": [
      "Ring Self-intersection at or near point 3310 3253\n"
     ]
    },
    {
     "name": "stdout",
     "output_type": "stream",
     "text": [
      "-- 6180_4_4 10 23\n"
     ]
    },
    {
     "name": "stderr",
     "output_type": "stream",
     "text": [
      "Ring Self-intersection at or near point 1993 3290\n"
     ]
    },
    {
     "name": "stdout",
     "output_type": "stream",
     "text": [
      "-- 6180_4_3 10 24\n"
     ]
    },
    {
     "name": "stderr",
     "output_type": "stream",
     "text": [
      "Ring Self-intersection at or near point 2182 2571\n"
     ]
    },
    {
     "name": "stdout",
     "output_type": "stream",
     "text": [
      "-- 6180_4_2 10 25\n"
     ]
    },
    {
     "name": "stderr",
     "output_type": "stream",
     "text": [
      "Ring Self-intersection at or near point 3078 2310\n"
     ]
    },
    {
     "name": "stdout",
     "output_type": "stream",
     "text": [
      "-- 6180_4_1 10 26\n"
     ]
    },
    {
     "name": "stderr",
     "output_type": "stream",
     "text": [
      "Ring Self-intersection at or near point 99 3299\n"
     ]
    },
    {
     "name": "stdout",
     "output_type": "stream",
     "text": [
      "-- 6180_4_0 10 27\n"
     ]
    },
    {
     "name": "stderr",
     "output_type": "stream",
     "text": [
      "Self-intersection at or near point 66.73684210526315 3135.2631578947367\n"
     ]
    },
    {
     "name": "stdout",
     "output_type": "stream",
     "text": [
      "-- 6160_3_2 10 28\n"
     ]
    },
    {
     "name": "stderr",
     "output_type": "stream",
     "text": [
      "Ring Self-intersection at or near point 980 1634\n"
     ]
    },
    {
     "name": "stdout",
     "output_type": "stream",
     "text": [
      "-- 6160_3_3 10 29\n"
     ]
    },
    {
     "name": "stderr",
     "output_type": "stream",
     "text": [
      "Ring Self-intersection at or near point 1978 247\n"
     ]
    },
    {
     "name": "stdout",
     "output_type": "stream",
     "text": [
      "-- 6160_3_0 10 30\n"
     ]
    },
    {
     "name": "stderr",
     "output_type": "stream",
     "text": [
      "Ring Self-intersection at or near point 1900 3029\n"
     ]
    },
    {
     "name": "stdout",
     "output_type": "stream",
     "text": [
      "-- 6160_3_1 10 31\n"
     ]
    },
    {
     "name": "stderr",
     "output_type": "stream",
     "text": [
      "Ring Self-intersection at or near point 321 2123\n"
     ]
    },
    {
     "name": "stdout",
     "output_type": "stream",
     "text": [
      "-- 6160_3_4 10 32\n"
     ]
    },
    {
     "name": "stderr",
     "output_type": "stream",
     "text": [
      "Self-intersection at or near point 2092.3170731707319 1372.9756097560976\n"
     ]
    },
    {
     "name": "stdout",
     "output_type": "stream",
     "text": [
      "-- 6080_2_4 10 33\n",
      "-- 6080_2_0 10 34\n"
     ]
    },
    {
     "name": "stderr",
     "output_type": "stream",
     "text": [
      "Ring Self-intersection at or near point 3098 1396\n"
     ]
    },
    {
     "name": "stdout",
     "output_type": "stream",
     "text": [
      "-- 6080_2_1 10 35\n"
     ]
    },
    {
     "name": "stderr",
     "output_type": "stream",
     "text": [
      "Ring Self-intersection at or near point 208 1267\n"
     ]
    },
    {
     "name": "stdout",
     "output_type": "stream",
     "text": [
      "-- 6080_2_2 10 36\n"
     ]
    },
    {
     "name": "stderr",
     "output_type": "stream",
     "text": [
      "Self-intersection at or near point 1156.9142857142858 3220.0571428571429\n"
     ]
    },
    {
     "name": "stdout",
     "output_type": "stream",
     "text": [
      "-- 6080_2_3 10 37\n"
     ]
    },
    {
     "name": "stderr",
     "output_type": "stream",
     "text": [
      "Self-intersection at or near point 2991.7777777777778 1283\n"
     ]
    },
    {
     "name": "stdout",
     "output_type": "stream",
     "text": [
      "-- 6080_0_2 10 38\n"
     ]
    },
    {
     "name": "stderr",
     "output_type": "stream",
     "text": [
      "Self-intersection at or near point 825.468085106383 1083.7872340425531\n",
      "Ring Self-intersection at or near point 1154 1172\n"
     ]
    },
    {
     "name": "stdout",
     "output_type": "stream",
     "text": [
      "-- 6080_0_3 10 39\n"
     ]
    },
    {
     "name": "stderr",
     "output_type": "stream",
     "text": [
      "Self-intersection at or near point 2733.818181818182 1217.090909090909\n"
     ]
    },
    {
     "name": "stdout",
     "output_type": "stream",
     "text": [
      "-- 6080_0_0 10 40\n"
     ]
    },
    {
     "name": "stderr",
     "output_type": "stream",
     "text": [
      "Ring Self-intersection at or near point 3312 2626\n"
     ]
    },
    {
     "name": "stdout",
     "output_type": "stream",
     "text": [
      "-- 6080_0_1 10 41\n"
     ]
    },
    {
     "name": "stderr",
     "output_type": "stream",
     "text": [
      "Self-intersection at or near point 2543.2077922077924 878.18181818181813\n"
     ]
    },
    {
     "name": "stdout",
     "output_type": "stream",
     "text": [
      "-- 6080_0_4 10 42\n"
     ]
    },
    {
     "name": "stderr",
     "output_type": "stream",
     "text": [
      "Ring Self-intersection at or near point 3126 2813\n"
     ]
    },
    {
     "name": "stdout",
     "output_type": "stream",
     "text": [
      "-- 6010_0_4 10 43\n"
     ]
    },
    {
     "name": "stderr",
     "output_type": "stream",
     "text": [
      "Ring Self-intersection at or near point 3000 3182\n"
     ]
    },
    {
     "name": "stdout",
     "output_type": "stream",
     "text": [
      "-- 6010_0_1 10 44\n",
      "-- 6010_0_0 10 45\n",
      "-- 6010_0_3 10 46\n"
     ]
    },
    {
     "name": "stderr",
     "output_type": "stream",
     "text": [
      "Ring Self-intersection at or near point 2089 2854\n"
     ]
    },
    {
     "name": "stdout",
     "output_type": "stream",
     "text": [
      "-- 6010_0_2 10 47\n"
     ]
    },
    {
     "name": "stderr",
     "output_type": "stream",
     "text": [
      "Ring Self-intersection at or near point 2573 3135\n"
     ]
    },
    {
     "name": "stdout",
     "output_type": "stream",
     "text": [
      "-- 6010_2_3 10 48\n"
     ]
    },
    {
     "name": "stderr",
     "output_type": "stream",
     "text": [
      "Ring Self-intersection at or near point 550 2873\n"
     ]
    },
    {
     "name": "stdout",
     "output_type": "stream",
     "text": [
      "-- 6010_2_2 10 49\n"
     ]
    },
    {
     "name": "stderr",
     "output_type": "stream",
     "text": [
      "Ring Self-intersection at or near point 2222 1331\n"
     ]
    },
    {
     "name": "stdout",
     "output_type": "stream",
     "text": [
      "-- 6010_2_1 10 50\n",
      "-- 6010_2_0 10 51\n"
     ]
    },
    {
     "name": "stderr",
     "output_type": "stream",
     "text": [
      "Ring Self-intersection at or near point 2347 2979\n"
     ]
    },
    {
     "name": "stdout",
     "output_type": "stream",
     "text": [
      "-- 6010_2_4 10 52\n"
     ]
    },
    {
     "name": "stderr",
     "output_type": "stream",
     "text": [
      "Ring Self-intersection at or near point 1145 2445\n"
     ]
    },
    {
     "name": "stdout",
     "output_type": "stream",
     "text": [
      "-- 6010_4_1 10 53\n"
     ]
    },
    {
     "name": "stderr",
     "output_type": "stream",
     "text": [
      "Ring Self-intersection at or near point 3098 419\n"
     ]
    },
    {
     "name": "stdout",
     "output_type": "stream",
     "text": [
      "-- 6170_3_4 10 54\n",
      "-- 6010_4_3 10 55\n"
     ]
    },
    {
     "name": "stderr",
     "output_type": "stream",
     "text": [
      "Ring Self-intersection at or near point 3084 2760\n"
     ]
    },
    {
     "name": "stdout",
     "output_type": "stream",
     "text": [
      "-- 6170_3_1 10 56\n"
     ]
    },
    {
     "name": "stderr",
     "output_type": "stream",
     "text": [
      "Ring Self-intersection at or near point 2554 1390\n"
     ]
    },
    {
     "name": "stdout",
     "output_type": "stream",
     "text": [
      "-- 6170_3_0 10 57\n"
     ]
    },
    {
     "name": "stderr",
     "output_type": "stream",
     "text": [
      "Ring Self-intersection at or near point 2324 3302\n"
     ]
    },
    {
     "name": "stdout",
     "output_type": "stream",
     "text": [
      "-- 6170_3_3 10 58\n"
     ]
    },
    {
     "name": "stderr",
     "output_type": "stream",
     "text": [
      "Ring Self-intersection at or near point 102 3172\n"
     ]
    },
    {
     "name": "stdout",
     "output_type": "stream",
     "text": [
      "-- 6170_3_2 10 59\n"
     ]
    },
    {
     "name": "stderr",
     "output_type": "stream",
     "text": [
      "Ring Self-intersection at or near point 1282 1612\n"
     ]
    },
    {
     "name": "stdout",
     "output_type": "stream",
     "text": [
      "-- 6170_1_3 10 60\n"
     ]
    },
    {
     "name": "stderr",
     "output_type": "stream",
     "text": [
      "Ring Self-intersection at or near point 1274 2893\n"
     ]
    },
    {
     "name": "stdout",
     "output_type": "stream",
     "text": [
      "-- 6170_1_2 10 61\n"
     ]
    },
    {
     "name": "stderr",
     "output_type": "stream",
     "text": [
      "Ring Self-intersection at or near point 2640 757\n"
     ]
    },
    {
     "name": "stdout",
     "output_type": "stream",
     "text": [
      "-- 6170_1_1 10 62\n"
     ]
    },
    {
     "name": "stderr",
     "output_type": "stream",
     "text": [
      "Ring Self-intersection at or near point 486 1123\n"
     ]
    },
    {
     "name": "stdout",
     "output_type": "stream",
     "text": [
      "-- 6170_1_0 10 63\n"
     ]
    },
    {
     "name": "stderr",
     "output_type": "stream",
     "text": [
      "Ring Self-intersection at or near point 813 2200\n"
     ]
    },
    {
     "name": "stdout",
     "output_type": "stream",
     "text": [
      "-- 6170_1_4 10 64\n"
     ]
    },
    {
     "name": "stderr",
     "output_type": "stream",
     "text": [
      "Ring Self-intersection at or near point 278 2968\n"
     ]
    },
    {
     "name": "stdout",
     "output_type": "stream",
     "text": [
      "-- 6130_4_2 10 65\n",
      "-- 6130_4_3 10 66\n"
     ]
    },
    {
     "name": "stderr",
     "output_type": "stream",
     "text": [
      "Ring Self-intersection at or near point 834 3163\n"
     ]
    },
    {
     "name": "stdout",
     "output_type": "stream",
     "text": [
      "-- 6130_4_0 10 67\n",
      "-- 6130_4_1 10 68\n"
     ]
    },
    {
     "name": "stderr",
     "output_type": "stream",
     "text": [
      "Ring Self-intersection at or near point 3010 3195\n"
     ]
    },
    {
     "name": "stdout",
     "output_type": "stream",
     "text": [
      "-- 6130_4_4 10 69\n"
     ]
    },
    {
     "name": "stderr",
     "output_type": "stream",
     "text": [
      "Ring Self-intersection at or near point 644 120\n"
     ]
    },
    {
     "name": "stdout",
     "output_type": "stream",
     "text": [
      "-- 6150_3_3 10 70\n"
     ]
    },
    {
     "name": "stderr",
     "output_type": "stream",
     "text": [
      "Ring Self-intersection at or near point 2472 2090\n"
     ]
    },
    {
     "name": "stdout",
     "output_type": "stream",
     "text": [
      "-- 6150_3_2 10 71\n"
     ]
    },
    {
     "name": "stderr",
     "output_type": "stream",
     "text": [
      "Ring Self-intersection at or near point 1589 1482\n"
     ]
    },
    {
     "name": "stdout",
     "output_type": "stream",
     "text": [
      "-- 6150_3_1 10 72\n"
     ]
    },
    {
     "name": "stderr",
     "output_type": "stream",
     "text": [
      "Ring Self-intersection at or near point 1962 865\n"
     ]
    },
    {
     "name": "stdout",
     "output_type": "stream",
     "text": [
      "-- 6150_3_0 10 73\n"
     ]
    },
    {
     "name": "stderr",
     "output_type": "stream",
     "text": [
      "Ring Self-intersection at or near point 87 1835\n"
     ]
    },
    {
     "name": "stdout",
     "output_type": "stream",
     "text": [
      "-- 6150_3_4 10 74\n",
      "-- 6130_2_0 10 75\n"
     ]
    },
    {
     "name": "stderr",
     "output_type": "stream",
     "text": [
      "Ring Self-intersection at or near point 1352 2040\n"
     ]
    },
    {
     "name": "stdout",
     "output_type": "stream",
     "text": [
      "-- 6130_2_1 10 76\n"
     ]
    },
    {
     "name": "stderr",
     "output_type": "stream",
     "text": [
      "Ring Self-intersection at or near point 1026 2413\n"
     ]
    },
    {
     "name": "stdout",
     "output_type": "stream",
     "text": [
      "-- 6130_2_2 10 77\n"
     ]
    },
    {
     "name": "stderr",
     "output_type": "stream",
     "text": [
      "Ring Self-intersection at or near point 16 1315\n"
     ]
    },
    {
     "name": "stdout",
     "output_type": "stream",
     "text": [
      "-- 6130_2_3 10 78\n",
      "-- 6130_2_4 10 79\n",
      "-- 6130_0_4 10 80\n"
     ]
    },
    {
     "name": "stderr",
     "output_type": "stream",
     "text": [
      "Ring Self-intersection at or near point 1842 232\n",
      "Ring Self-intersection at or near point 133 415\n"
     ]
    },
    {
     "name": "stdout",
     "output_type": "stream",
     "text": [
      "-- 6130_0_2 10 81\n",
      "-- 6130_0_3 10 82\n",
      "-- 6130_0_0 10 83\n",
      "-- 6130_0_1 10 84\n",
      "-- 6150_1_4 10 85\n"
     ]
    },
    {
     "name": "stderr",
     "output_type": "stream",
     "text": [
      "Ring Self-intersection at or near point 1608 1794\n"
     ]
    },
    {
     "name": "stdout",
     "output_type": "stream",
     "text": [
      "-- 6150_1_1 10 86\n"
     ]
    },
    {
     "name": "stderr",
     "output_type": "stream",
     "text": [
      "Ring Self-intersection at or near point 1913 2894\n"
     ]
    },
    {
     "name": "stdout",
     "output_type": "stream",
     "text": [
      "-- 6150_1_0 10 87\n"
     ]
    },
    {
     "name": "stderr",
     "output_type": "stream",
     "text": [
      "Ring Self-intersection at or near point 220 3262\n"
     ]
    },
    {
     "name": "stdout",
     "output_type": "stream",
     "text": [
      "-- 6150_1_3 10 88\n",
      "-- 6150_1_2 10 89\n",
      "-- 6180_3_4 10 90\n"
     ]
    },
    {
     "name": "stderr",
     "output_type": "stream",
     "text": [
      "Ring Self-intersection at or near point 2912 2643\n"
     ]
    },
    {
     "name": "stdout",
     "output_type": "stream",
     "text": [
      "-- 6180_3_0 10 91\n"
     ]
    },
    {
     "name": "stderr",
     "output_type": "stream",
     "text": [
      "Ring Self-intersection at or near point 679 2913\n"
     ]
    },
    {
     "name": "stdout",
     "output_type": "stream",
     "text": [
      "-- 6180_3_1 10 92\n"
     ]
    },
    {
     "name": "stderr",
     "output_type": "stream",
     "text": [
      "Ring Self-intersection at or near point 1616 3315\n"
     ]
    },
    {
     "name": "stdout",
     "output_type": "stream",
     "text": [
      "-- 6180_3_2 10 93\n"
     ]
    },
    {
     "name": "stderr",
     "output_type": "stream",
     "text": [
      "Ring Self-intersection at or near point 641 2489\n"
     ]
    },
    {
     "name": "stdout",
     "output_type": "stream",
     "text": [
      "-- 6180_3_3 10 94\n"
     ]
    },
    {
     "name": "stderr",
     "output_type": "stream",
     "text": [
      "Ring Self-intersection at or near point 2773 2417\n"
     ]
    },
    {
     "name": "stdout",
     "output_type": "stream",
     "text": [
      "-- 6180_1_2 10 95\n"
     ]
    },
    {
     "name": "stderr",
     "output_type": "stream",
     "text": [
      "Ring Self-intersection at or near point 1318 3074\n"
     ]
    },
    {
     "name": "stdout",
     "output_type": "stream",
     "text": [
      "-- 6180_1_3 10 96\n"
     ]
    },
    {
     "name": "stderr",
     "output_type": "stream",
     "text": [
      "Ring Self-intersection at or near point 951 3177\n"
     ]
    },
    {
     "name": "stdout",
     "output_type": "stream",
     "text": [
      "-- 6180_1_0 10 97\n"
     ]
    },
    {
     "name": "stderr",
     "output_type": "stream",
     "text": [
      "Ring Self-intersection at or near point 1270 3117\n"
     ]
    },
    {
     "name": "stdout",
     "output_type": "stream",
     "text": [
      "-- 6180_1_1 10 98\n"
     ]
    },
    {
     "name": "stderr",
     "output_type": "stream",
     "text": [
      "Ring Self-intersection at or near point 739 2749\n"
     ]
    },
    {
     "name": "stdout",
     "output_type": "stream",
     "text": [
      "-- 6180_1_4 10 99\n"
     ]
    },
    {
     "name": "stderr",
     "output_type": "stream",
     "text": [
      "Ring Self-intersection at or near point 803 3186\n"
     ]
    },
    {
     "name": "stdout",
     "output_type": "stream",
     "text": [
      "-- 6010_1_4 10 100\n"
     ]
    },
    {
     "name": "stderr",
     "output_type": "stream",
     "text": [
      "Self-intersection at or near point 1260.3214285714287 1972.6785714285713\n"
     ]
    },
    {
     "name": "stdout",
     "output_type": "stream",
     "text": [
      "-- 6010_1_0 10 101\n"
     ]
    },
    {
     "name": "stderr",
     "output_type": "stream",
     "text": [
      "Ring Self-intersection at or near point 3388 3036\n"
     ]
    },
    {
     "name": "stdout",
     "output_type": "stream",
     "text": [
      "-- 6010_1_1 10 102\n"
     ]
    },
    {
     "name": "stderr",
     "output_type": "stream",
     "text": [
      "Ring Self-intersection at or near point 18 2821\n"
     ]
    },
    {
     "name": "stdout",
     "output_type": "stream",
     "text": [
      "-- 6010_1_2 10 103\n"
     ]
    },
    {
     "name": "stderr",
     "output_type": "stream",
     "text": [
      "Ring Self-intersection at or near point 142 1651\n"
     ]
    },
    {
     "name": "stdout",
     "output_type": "stream",
     "text": [
      "-- 6010_1_3 10 104\n"
     ]
    },
    {
     "name": "stderr",
     "output_type": "stream",
     "text": [
      "Ring Self-intersection at or near point 1481 3052\n"
     ]
    },
    {
     "name": "stdout",
     "output_type": "stream",
     "text": [
      "-- 6010_3_2 10 105\n"
     ]
    },
    {
     "name": "stderr",
     "output_type": "stream",
     "text": [
      "Ring Self-intersection at or near point 3319 3003\n"
     ]
    },
    {
     "name": "stdout",
     "output_type": "stream",
     "text": [
      "-- 6010_3_3 10 106\n"
     ]
    },
    {
     "name": "stderr",
     "output_type": "stream",
     "text": [
      "Ring Self-intersection at or near point 1051 3235\n"
     ]
    },
    {
     "name": "stdout",
     "output_type": "stream",
     "text": [
      "-- 6010_3_0 10 107\n"
     ]
    },
    {
     "name": "stderr",
     "output_type": "stream",
     "text": [
      "Ring Self-intersection at or near point 2876 2216\n"
     ]
    },
    {
     "name": "stdout",
     "output_type": "stream",
     "text": [
      "-- 6010_3_1 10 108\n",
      "-- 6010_3_4 10 109\n"
     ]
    },
    {
     "name": "stderr",
     "output_type": "stream",
     "text": [
      "Ring Self-intersection at or near point 2329 3223\n",
      "Self-intersection at or near point 2183.2452830188681 1021.2075471698113\n"
     ]
    },
    {
     "name": "stdout",
     "output_type": "stream",
     "text": [
      "-- 6020_0_4 10 110\n"
     ]
    },
    {
     "name": "stderr",
     "output_type": "stream",
     "text": [
      "Ring Self-intersection at or near point 1337 2690\n"
     ]
    },
    {
     "name": "stdout",
     "output_type": "stream",
     "text": [
      "-- 6020_0_0 10 111\n"
     ]
    },
    {
     "name": "stderr",
     "output_type": "stream",
     "text": [
      "Ring Self-intersection at or near point 602 2275\n"
     ]
    },
    {
     "name": "stdout",
     "output_type": "stream",
     "text": [
      "-- 6020_0_1 10 112\n",
      "-- 6020_0_2 10 113\n",
      "-- 6020_0_3 10 114\n"
     ]
    },
    {
     "name": "stderr",
     "output_type": "stream",
     "text": [
      "Ring Self-intersection at or near point 2577 1498\n"
     ]
    },
    {
     "name": "stdout",
     "output_type": "stream",
     "text": [
      "-- 6020_2_2 10 115\n"
     ]
    },
    {
     "name": "stderr",
     "output_type": "stream",
     "text": [
      "Ring Self-intersection at or near point 6 1284\n"
     ]
    },
    {
     "name": "stdout",
     "output_type": "stream",
     "text": [
      "-- 6020_2_3 10 116\n",
      "-- 6020_2_0 10 117\n",
      "-- 6020_2_1 10 118\n",
      "-- 6020_2_4 10 119\n",
      "-- 6020_4_0 10 120\n",
      "-- 6020_4_1 10 121\n",
      "-- 6020_4_2 10 122\n"
     ]
    },
    {
     "name": "stderr",
     "output_type": "stream",
     "text": [
      "Ring Self-intersection at or near point 2464 1586\n"
     ]
    },
    {
     "name": "stdout",
     "output_type": "stream",
     "text": [
      "-- 6020_4_3 10 123\n",
      "-- 6020_4_4 10 124\n",
      "-- 6110_0_1 10 125\n",
      "-- 6150_0_4 10 126\n"
     ]
    },
    {
     "name": "stderr",
     "output_type": "stream",
     "text": [
      "Ring Self-intersection at or near point 599 1405\n"
     ]
    },
    {
     "name": "stdout",
     "output_type": "stream",
     "text": [
      "-- 6150_0_0 10 127\n",
      "-- 6150_0_1 10 128\n"
     ]
    },
    {
     "name": "stderr",
     "output_type": "stream",
     "text": [
      "Ring Self-intersection at or near point 2176 3046\n"
     ]
    },
    {
     "name": "stdout",
     "output_type": "stream",
     "text": [
      "-- 6150_0_2 10 129\n",
      "-- 6150_0_3 10 130\n"
     ]
    },
    {
     "name": "stderr",
     "output_type": "stream",
     "text": [
      "Ring Self-intersection at or near point 697 1605\n"
     ]
    },
    {
     "name": "stdout",
     "output_type": "stream",
     "text": [
      "-- 6100_2_1 10 131\n",
      "-- 6100_2_0 10 132\n",
      "-- 6150_2_2 10 133\n"
     ]
    },
    {
     "name": "stderr",
     "output_type": "stream",
     "text": [
      "Ring Self-intersection at or near point 1563 2004\n"
     ]
    },
    {
     "name": "stdout",
     "output_type": "stream",
     "text": [
      "-- 6150_2_0 10 134\n"
     ]
    },
    {
     "name": "stderr",
     "output_type": "stream",
     "text": [
      "Ring Self-intersection at or near point 2504 2447\n"
     ]
    },
    {
     "name": "stdout",
     "output_type": "stream",
     "text": [
      "-- 6150_2_1 10 135\n"
     ]
    },
    {
     "name": "stderr",
     "output_type": "stream",
     "text": [
      "Ring Self-intersection at or near point 990 347\n"
     ]
    },
    {
     "name": "stdout",
     "output_type": "stream",
     "text": [
      "-- 6150_2_4 10 136\n"
     ]
    },
    {
     "name": "stderr",
     "output_type": "stream",
     "text": [
      "Ring Self-intersection at or near point 670 2763\n"
     ]
    },
    {
     "name": "stdout",
     "output_type": "stream",
     "text": [
      "-- 6170_4_2 10 137\n"
     ]
    },
    {
     "name": "stderr",
     "output_type": "stream",
     "text": [
      "Ring Self-intersection at or near point 932 664\n"
     ]
    },
    {
     "name": "stdout",
     "output_type": "stream",
     "text": [
      "-- 6050_3_1 10 138\n",
      "-- 6170_4_3 10 139\n",
      "-- 6150_4_0 10 140\n",
      "-- 6150_4_1 10 141\n"
     ]
    },
    {
     "name": "stderr",
     "output_type": "stream",
     "text": [
      "Ring Self-intersection at or near point 226 2369\n"
     ]
    },
    {
     "name": "stdout",
     "output_type": "stream",
     "text": [
      "-- 6150_4_2 10 142\n",
      "-- 6150_4_3 10 143\n",
      "-- 6150_4_4 10 144\n",
      "-- 6170_4_0 10 145\n"
     ]
    },
    {
     "name": "stderr",
     "output_type": "stream",
     "text": [
      "Ring Self-intersection at or near point 537 2179\n"
     ]
    },
    {
     "name": "stdout",
     "output_type": "stream",
     "text": [
      "-- 6070_3_4 10 146\n"
     ]
    },
    {
     "name": "stderr",
     "output_type": "stream",
     "text": [
      "Ring Self-intersection at or near point 2446 2732\n"
     ]
    },
    {
     "name": "stdout",
     "output_type": "stream",
     "text": [
      "-- 6070_3_0 10 147\n",
      "-- 6070_3_1 10 148\n"
     ]
    },
    {
     "name": "stderr",
     "output_type": "stream",
     "text": [
      "Self-intersection at or near point 3253 118.52941176470588\n",
      "Self-intersection at or near point 179.34210526315789 173.13157894736841\n"
     ]
    },
    {
     "name": "stdout",
     "output_type": "stream",
     "text": [
      "-- 6070_3_2 10 149\n"
     ]
    },
    {
     "name": "stderr",
     "output_type": "stream",
     "text": [
      "Ring Self-intersection at or near point 103 3074\n",
      "Interior is disconnected at or near point 2744 0\n"
     ]
    },
    {
     "name": "stdout",
     "output_type": "stream",
     "text": [
      "-- 6070_3_3 10 150\n"
     ]
    },
    {
     "name": "stderr",
     "output_type": "stream",
     "text": [
      "Ring Self-intersection at or near point 182 2289\n"
     ]
    },
    {
     "name": "stdout",
     "output_type": "stream",
     "text": [
      "-- 6070_1_2 10 151\n"
     ]
    },
    {
     "name": "stderr",
     "output_type": "stream",
     "text": [
      "Ring Self-intersection at or near point 2247 2893\n"
     ]
    },
    {
     "name": "stdout",
     "output_type": "stream",
     "text": [
      "-- 6070_1_3 10 152\n"
     ]
    },
    {
     "name": "stderr",
     "output_type": "stream",
     "text": [
      "Self-intersection at or near point 1524.9622641509434 1383.4905660377358\n"
     ]
    },
    {
     "name": "stdout",
     "output_type": "stream",
     "text": [
      "-- 6070_1_0 10 153\n",
      "-- 6070_1_1 10 154\n",
      "-- 6070_1_4 10 155\n",
      "-- 6120_0_3 10 156\n"
     ]
    },
    {
     "name": "stderr",
     "output_type": "stream",
     "text": [
      "Self-intersection at or near point 2893.91796875 1412.27734375\n"
     ]
    },
    {
     "name": "stdout",
     "output_type": "stream",
     "text": [
      "-- 6110_1_1 10 157\n",
      "-- 6110_1_0 10 158\n",
      "-- 6110_1_3 10 159\n",
      "-- 6110_1_4 10 160\n",
      "-- 6110_3_4 10 161\n",
      "-- 6110_3_3 10 162\n"
     ]
    },
    {
     "name": "stderr",
     "output_type": "stream",
     "text": [
      "Ring Self-intersection at or near point 3351 2223\n"
     ]
    },
    {
     "name": "stdout",
     "output_type": "stream",
     "text": [
      "-- 6110_3_2 10 163\n"
     ]
    },
    {
     "name": "stderr",
     "output_type": "stream",
     "text": [
      "Self-intersection at or near point 2321.1505376344085 1795.8924731182797\n"
     ]
    },
    {
     "name": "stdout",
     "output_type": "stream",
     "text": [
      "-- 6110_3_0 10 164\n"
     ]
    },
    {
     "name": "stderr",
     "output_type": "stream",
     "text": [
      "Self-intersection at or near point 2033.4343434343434 1757.6363636363637\n"
     ]
    },
    {
     "name": "stdout",
     "output_type": "stream",
     "text": [
      "-- 6060_2_1 10 165\n",
      "-- 6140_3_3 10 166\n"
     ]
    },
    {
     "name": "stderr",
     "output_type": "stream",
     "text": [
      "Ring Self-intersection at or near point 2417 737\n"
     ]
    },
    {
     "name": "stdout",
     "output_type": "stream",
     "text": [
      "-- 6020_1_4 10 167\n"
     ]
    },
    {
     "name": "stderr",
     "output_type": "stream",
     "text": [
      "Self-intersection at or near point 2473.032710280374 408.93925233644859\n",
      "Ring Self-intersection at or near point 2379 2537\n"
     ]
    },
    {
     "name": "stdout",
     "output_type": "stream",
     "text": [
      "-- 6020_1_1 10 168\n"
     ]
    },
    {
     "name": "stderr",
     "output_type": "stream",
     "text": [
      "Ring Self-intersection at or near point 3319 2517\n"
     ]
    },
    {
     "name": "stdout",
     "output_type": "stream",
     "text": [
      "-- 6020_1_0 10 169\n"
     ]
    },
    {
     "name": "stderr",
     "output_type": "stream",
     "text": [
      "Ring Self-intersection at or near point 2142 1577\n"
     ]
    },
    {
     "name": "stdout",
     "output_type": "stream",
     "text": [
      "-- 6020_1_3 10 170\n",
      "-- 6020_1_2 10 171\n",
      "-- 6020_3_3 10 172\n",
      "-- 6020_3_2 10 173\n"
     ]
    },
    {
     "name": "stderr",
     "output_type": "stream",
     "text": [
      "Ring Self-intersection at or near point 212 779\n"
     ]
    },
    {
     "name": "stdout",
     "output_type": "stream",
     "text": [
      "-- 6020_3_1 10 174\n",
      "-- 6020_3_0 10 175\n"
     ]
    },
    {
     "name": "stderr",
     "output_type": "stream",
     "text": [
      "Ring Self-intersection at or near point 1708 2474\n"
     ]
    },
    {
     "name": "stdout",
     "output_type": "stream",
     "text": [
      "-- 6020_3_4 10 176\n",
      "-- 6050_2_4 10 177\n",
      "-- 6050_2_3 10 178\n"
     ]
    },
    {
     "name": "stderr",
     "output_type": "stream",
     "text": [
      "Self-intersection at or near point 1468.2264150943397 192.77358490566039\n"
     ]
    },
    {
     "name": "stdout",
     "output_type": "stream",
     "text": [
      "-- 6050_2_2 10 179\n",
      "-- 6050_2_1 10 180\n"
     ]
    },
    {
     "name": "stderr",
     "output_type": "stream",
     "text": [
      "Self-intersection at or near point 2937.2105263157896 1781.4736842105262\n",
      "Self-intersection at or near point 2629 436\n"
     ]
    },
    {
     "name": "stdout",
     "output_type": "stream",
     "text": [
      "-- 6050_2_0 10 181\n",
      "-- 6100_3_4 10 182\n",
      "-- 6100_3_0 10 183\n"
     ]
    },
    {
     "name": "stderr",
     "output_type": "stream",
     "text": [
      "Self-intersection at or near point 2822.6363636363635 2008\n"
     ]
    },
    {
     "name": "stdout",
     "output_type": "stream",
     "text": [
      "-- 6100_3_1 10 184\n",
      "-- 6100_3_2 10 185\n",
      "-- 6100_3_3 10 186\n"
     ]
    },
    {
     "name": "stderr",
     "output_type": "stream",
     "text": [
      "Self-intersection at or near point 1807 351.95652173913044\n",
      "Self-intersection at or near point 2592.8695652173915 303.95652173913044\n"
     ]
    },
    {
     "name": "stdout",
     "output_type": "stream",
     "text": [
      "-- 6060_1_1 10 187\n",
      "-- 6060_1_0 10 188\n",
      "-- 6060_1_3 10 189\n",
      "-- 6060_1_2 10 190\n",
      "-- 6060_1_4 10 191\n"
     ]
    },
    {
     "name": "stderr",
     "output_type": "stream",
     "text": [
      "Ring Self-intersection at or near point 1560 1308\n",
      "Ring Self-intersection at or near point 1503 300\n"
     ]
    },
    {
     "name": "stdout",
     "output_type": "stream",
     "text": [
      "-- 6060_3_4 10 192\n"
     ]
    },
    {
     "name": "stderr",
     "output_type": "stream",
     "text": [
      "Interior is disconnected at or near point 2530 261\n"
     ]
    },
    {
     "name": "stdout",
     "output_type": "stream",
     "text": [
      "-- 6060_3_3 10 193\n"
     ]
    },
    {
     "name": "stderr",
     "output_type": "stream",
     "text": [
      "Self-intersection at or near point 559 3332\n"
     ]
    },
    {
     "name": "stdout",
     "output_type": "stream",
     "text": [
      "-- 6060_3_2 10 194\n"
     ]
    },
    {
     "name": "stderr",
     "output_type": "stream",
     "text": [
      "Ring Self-intersection at or near point 748 2251\n"
     ]
    },
    {
     "name": "stdout",
     "output_type": "stream",
     "text": [
      "-- 6060_3_1 10 195\n"
     ]
    },
    {
     "name": "stderr",
     "output_type": "stream",
     "text": [
      "Ring Self-intersection at or near point 2939 3272\n"
     ]
    },
    {
     "name": "stdout",
     "output_type": "stream",
     "text": [
      "-- 6060_3_0 10 196\n"
     ]
    },
    {
     "name": "stderr",
     "output_type": "stream",
     "text": [
      "Ring Self-intersection at or near point 1363 2672\n"
     ]
    },
    {
     "name": "stdout",
     "output_type": "stream",
     "text": [
      "-- 6070_2_4 10 197\n",
      "-- 6070_2_1 10 198\n"
     ]
    },
    {
     "name": "stderr",
     "output_type": "stream",
     "text": [
      "Ring Self-intersection at or near point 2853 2541\n"
     ]
    },
    {
     "name": "stdout",
     "output_type": "stream",
     "text": [
      "-- 6070_2_0 10 199\n",
      "-- 6070_2_3 10 200\n"
     ]
    },
    {
     "name": "stderr",
     "output_type": "stream",
     "text": [
      "Self-intersection at or near point 3197.75 3184.125\n",
      "Ring Self-intersection at or near point 2259 2003\n"
     ]
    },
    {
     "name": "stdout",
     "output_type": "stream",
     "text": [
      "-- 6070_2_2 10 201\n"
     ]
    },
    {
     "name": "stderr",
     "output_type": "stream",
     "text": [
      "Ring Self-intersection at or near point 2601 2854\n"
     ]
    },
    {
     "name": "stdout",
     "output_type": "stream",
     "text": [
      "-- 6040_2_0 10 202\n"
     ]
    },
    {
     "name": "stderr",
     "output_type": "stream",
     "text": [
      "Ring Self-intersection at or near point 2701 3215\n"
     ]
    },
    {
     "name": "stdout",
     "output_type": "stream",
     "text": [
      "-- 6040_2_1 10 203\n"
     ]
    },
    {
     "name": "stderr",
     "output_type": "stream",
     "text": [
      "Ring Self-intersection at or near point 2846 2798\n"
     ]
    },
    {
     "name": "stdout",
     "output_type": "stream",
     "text": [
      "-- 6040_2_3 10 204\n"
     ]
    },
    {
     "name": "stderr",
     "output_type": "stream",
     "text": [
      "Ring Self-intersection at or near point 1507 536\n"
     ]
    },
    {
     "name": "stdout",
     "output_type": "stream",
     "text": [
      "-- 6040_2_4 10 205\n"
     ]
    },
    {
     "name": "stderr",
     "output_type": "stream",
     "text": [
      "Ring Self-intersection at or near point 2392 2209\n"
     ]
    },
    {
     "name": "stdout",
     "output_type": "stream",
     "text": [
      "-- 6070_0_3 10 206\n"
     ]
    },
    {
     "name": "stderr",
     "output_type": "stream",
     "text": [
      "Ring Self-intersection at or near point 2021 3221\n"
     ]
    },
    {
     "name": "stdout",
     "output_type": "stream",
     "text": [
      "-- 6070_0_2 10 207\n"
     ]
    },
    {
     "name": "stderr",
     "output_type": "stream",
     "text": [
      "Ring Self-intersection at or near point 1863 1801\n",
      "Self-intersection at or near point 1902 15.75\n"
     ]
    },
    {
     "name": "stdout",
     "output_type": "stream",
     "text": [
      "-- 6070_0_1 10 208\n"
     ]
    },
    {
     "name": "stderr",
     "output_type": "stream",
     "text": [
      "Ring Self-intersection at or near point 3074 1116\n"
     ]
    },
    {
     "name": "stdout",
     "output_type": "stream",
     "text": [
      "-- 6070_0_0 10 209\n",
      "-- 6070_0_4 10 210\n",
      "-- 6100_4_3 10 211\n",
      "-- 6040_0_4 10 212\n"
     ]
    },
    {
     "name": "stderr",
     "output_type": "stream",
     "text": [
      "Ring Self-intersection at or near point 1683 2650\n"
     ]
    },
    {
     "name": "stdout",
     "output_type": "stream",
     "text": [
      "-- 6040_0_2 10 213\n"
     ]
    },
    {
     "name": "stderr",
     "output_type": "stream",
     "text": [
      "Ring Self-intersection at or near point 711 2967\n"
     ]
    },
    {
     "name": "stdout",
     "output_type": "stream",
     "text": [
      "-- 6040_0_3 10 214\n"
     ]
    },
    {
     "name": "stderr",
     "output_type": "stream",
     "text": [
      "Ring Self-intersection at or near point 2563 2311\n"
     ]
    },
    {
     "name": "stdout",
     "output_type": "stream",
     "text": [
      "-- 6040_0_0 10 215\n"
     ]
    },
    {
     "name": "stderr",
     "output_type": "stream",
     "text": [
      "Ring Self-intersection at or near point 1898 2229\n"
     ]
    },
    {
     "name": "stdout",
     "output_type": "stream",
     "text": [
      "-- 6040_0_1 10 216\n"
     ]
    },
    {
     "name": "stderr",
     "output_type": "stream",
     "text": [
      "Ring Self-intersection at or near point 754 3272\n"
     ]
    },
    {
     "name": "stdout",
     "output_type": "stream",
     "text": [
      "-- 6050_0_1 10 217\n",
      "-- 6050_0_0 10 218\n"
     ]
    },
    {
     "name": "stderr",
     "output_type": "stream",
     "text": [
      "Ring Self-intersection at or near point 695 2003\n"
     ]
    },
    {
     "name": "stdout",
     "output_type": "stream",
     "text": [
      "-- 6050_0_3 10 219\n",
      "-- 6050_0_2 10 220\n",
      "-- 6050_0_4 10 221\n",
      "-- 6070_4_4 10 222\n",
      "-- 6070_4_3 10 223\n"
     ]
    },
    {
     "name": "stderr",
     "output_type": "stream",
     "text": [
      "Ring Self-intersection at or near point 495 3293\n"
     ]
    },
    {
     "name": "stdout",
     "output_type": "stream",
     "text": [
      "-- 6070_4_2 10 224\n"
     ]
    },
    {
     "name": "stderr",
     "output_type": "stream",
     "text": [
      "Ring Self-intersection at or near point 168 1238\n",
      "Self-intersection at or near point 870.10891089108907 1100.9900990099011\n"
     ]
    },
    {
     "name": "stdout",
     "output_type": "stream",
     "text": [
      "-- 6070_4_1 10 225\n"
     ]
    },
    {
     "name": "stderr",
     "output_type": "stream",
     "text": [
      "Self-intersection at or near point 1519.7142857142858 1029.4285714285713\n"
     ]
    },
    {
     "name": "stdout",
     "output_type": "stream",
     "text": [
      "-- 6070_4_0 10 226\n",
      "-- 6140_3_0 10 227\n",
      "-- 6140_3_2 10 228\n",
      "-- 6100_4_4 10 229\n",
      "-- 6140_3_4 10 230\n",
      "-- 6100_4_2 10 231\n"
     ]
    },
    {
     "name": "stderr",
     "output_type": "stream",
     "text": [
      "Ring Self-intersection at or near point 3180 10\n"
     ]
    },
    {
     "name": "stdout",
     "output_type": "stream",
     "text": [
      "-- 6100_4_1 10 232\n",
      "-- 6100_4_0 10 233\n",
      "-- 6140_0_1 10 234\n",
      "-- 6140_1_4 10 235\n",
      "-- 6140_1_3 10 236\n"
     ]
    },
    {
     "name": "stderr",
     "output_type": "stream",
     "text": [
      "Ring Self-intersection at or near point 2900 2011\n"
     ]
    },
    {
     "name": "stdout",
     "output_type": "stream",
     "text": [
      "-- 6140_1_0 10 237\n",
      "-- 6140_1_1 10 238\n"
     ]
    },
    {
     "name": "stderr",
     "output_type": "stream",
     "text": [
      "Self-intersection at or near point 2865 904\n",
      "Ring Self-intersection at or near point 3215 1602\n"
     ]
    },
    {
     "name": "stdout",
     "output_type": "stream",
     "text": [
      "-- 6040_4_2 10 239\n"
     ]
    },
    {
     "name": "stderr",
     "output_type": "stream",
     "text": [
      "Ring Self-intersection at or near point 54 2287\n"
     ]
    },
    {
     "name": "stdout",
     "output_type": "stream",
     "text": [
      "-- 6040_4_3 10 240\n"
     ]
    },
    {
     "name": "stderr",
     "output_type": "stream",
     "text": [
      "Ring Self-intersection at or near point 1074 2397\n"
     ]
    },
    {
     "name": "stdout",
     "output_type": "stream",
     "text": [
      "-- 6040_4_0 10 241\n"
     ]
    },
    {
     "name": "stderr",
     "output_type": "stream",
     "text": [
      "Ring Self-intersection at or near point 2084 3317\n"
     ]
    },
    {
     "name": "stdout",
     "output_type": "stream",
     "text": [
      "-- 6040_4_1 10 242\n"
     ]
    },
    {
     "name": "stderr",
     "output_type": "stream",
     "text": [
      "Ring Self-intersection at or near point 2400 3193\n"
     ]
    },
    {
     "name": "stdout",
     "output_type": "stream",
     "text": [
      "-- 6040_4_4 10 243\n"
     ]
    },
    {
     "name": "stderr",
     "output_type": "stream",
     "text": [
      "Ring Self-intersection at or near point 964 2552\n"
     ]
    },
    {
     "name": "stdout",
     "output_type": "stream",
     "text": [
      "-- 6010_4_0 10 244\n"
     ]
    },
    {
     "name": "stderr",
     "output_type": "stream",
     "text": [
      "Ring Self-intersection at or near point 655 2549\n"
     ]
    },
    {
     "name": "stdout",
     "output_type": "stream",
     "text": [
      "-- 6110_0_0 10 245\n"
     ]
    },
    {
     "name": "stderr",
     "output_type": "stream",
     "text": [
      "Self-intersection at or near point 1463.1391304347826 1203.1391304347826\n"
     ]
    },
    {
     "name": "stdout",
     "output_type": "stream",
     "text": [
      "-- 6050_4_4 10 246\n",
      "-- 6110_0_2 10 247\n",
      "-- 6110_0_3 10 248\n",
      "-- 6110_0_4 10 249\n",
      "-- 6050_4_0 10 250\n",
      "-- 6050_4_3 10 251\n"
     ]
    },
    {
     "name": "stderr",
     "output_type": "stream",
     "text": [
      "Self-intersection at or near point 2597.037037037037 212.07407407407408\n"
     ]
    },
    {
     "name": "stdout",
     "output_type": "stream",
     "text": [
      "-- 6050_4_2 10 252\n",
      "-- 6030_3_0 10 253\n"
     ]
    },
    {
     "name": "stderr",
     "output_type": "stream",
     "text": [
      "Ring Self-intersection at or near point 2256 275\n",
      "Self-intersection at or near point 582.9859154929577 1575.1126760563379\n"
     ]
    },
    {
     "name": "stdout",
     "output_type": "stream",
     "text": [
      "-- 6030_3_1 10 254\n"
     ]
    },
    {
     "name": "stderr",
     "output_type": "stream",
     "text": [
      "Ring Self-intersection at or near point 3211 2270\n"
     ]
    },
    {
     "name": "stdout",
     "output_type": "stream",
     "text": [
      "-- 6030_3_2 10 255\n",
      "-- 6030_3_3 10 256\n"
     ]
    },
    {
     "name": "stderr",
     "output_type": "stream",
     "text": [
      "Self-intersection at or near point 3349.8989898989898 270.97979797979798\n"
     ]
    },
    {
     "name": "stdout",
     "output_type": "stream",
     "text": [
      "-- 6030_3_4 10 257\n"
     ]
    },
    {
     "name": "stderr",
     "output_type": "stream",
     "text": [
      "Self-intersection at or near point 1697.4782608695652 805.56521739130437\n",
      "Ring Self-intersection at or near point 1720 1018\n"
     ]
    },
    {
     "name": "stdout",
     "output_type": "stream",
     "text": [
      "-- 6110_2_4 10 258\n"
     ]
    },
    {
     "name": "stderr",
     "output_type": "stream",
     "text": [
      "Ring Self-intersection at or near point 2106 200\n"
     ]
    },
    {
     "name": "stdout",
     "output_type": "stream",
     "text": [
      "-- 6110_2_2 10 259\n"
     ]
    },
    {
     "name": "stderr",
     "output_type": "stream",
     "text": [
      "Self-intersection at or near point 1451.4666666666667 634\n"
     ]
    },
    {
     "name": "stdout",
     "output_type": "stream",
     "text": [
      "-- 6110_2_3 10 260\n",
      "-- 6110_2_0 10 261\n",
      "-- 6110_2_1 10 262\n"
     ]
    },
    {
     "name": "stderr",
     "output_type": "stream",
     "text": [
      "Ring Self-intersection at or near point 3376 268\n"
     ]
    },
    {
     "name": "stdout",
     "output_type": "stream",
     "text": [
      "-- 6120_4_1 10 263\n",
      "-- 6120_4_0 10 264\n"
     ]
    },
    {
     "name": "stderr",
     "output_type": "stream",
     "text": [
      "Ring Self-intersection at or near point 2271 2133\n"
     ]
    },
    {
     "name": "stdout",
     "output_type": "stream",
     "text": [
      "-- 6120_4_3 10 265\n",
      "-- 6120_4_2 10 266\n"
     ]
    },
    {
     "name": "stderr",
     "output_type": "stream",
     "text": [
      "Ring Self-intersection at or near point 1599 1638\n"
     ]
    },
    {
     "name": "stdout",
     "output_type": "stream",
     "text": [
      "-- 6110_4_4 10 267\n"
     ]
    },
    {
     "name": "stderr",
     "output_type": "stream",
     "text": [
      "Ring Self-intersection at or near point 2564 1480\n"
     ]
    },
    {
     "name": "stdout",
     "output_type": "stream",
     "text": [
      "-- 6110_4_1 10 268\n"
     ]
    },
    {
     "name": "stderr",
     "output_type": "stream",
     "text": [
      "Self-intersection at or near point 214.94594594594594 1373.2702702702702\n"
     ]
    },
    {
     "name": "stdout",
     "output_type": "stream",
     "text": [
      "-- 6110_4_2 10 269\n",
      "-- 6110_4_3 10 270\n"
     ]
    },
    {
     "name": "stderr",
     "output_type": "stream",
     "text": [
      "Ring Self-intersection at or near point 2492 2205\n"
     ]
    },
    {
     "name": "stdout",
     "output_type": "stream",
     "text": [
      "-- 6060_4_4 10 271\n"
     ]
    },
    {
     "name": "stderr",
     "output_type": "stream",
     "text": [
      "Ring Self-intersection at or near point 1142 3157\n"
     ]
    },
    {
     "name": "stdout",
     "output_type": "stream",
     "text": [
      "-- 6060_4_0 10 272\n",
      "-- 6060_4_1 10 273\n",
      "-- 6060_4_2 10 274\n"
     ]
    },
    {
     "name": "stderr",
     "output_type": "stream",
     "text": [
      "Ring Self-intersection at or near point 2135 1399\n"
     ]
    },
    {
     "name": "stdout",
     "output_type": "stream",
     "text": [
      "-- 6060_4_3 10 275\n"
     ]
    },
    {
     "name": "stderr",
     "output_type": "stream",
     "text": [
      "Self-intersection at or near point 1484 1589.8823529411766\n"
     ]
    },
    {
     "name": "stdout",
     "output_type": "stream",
     "text": [
      "-- 6100_2_4 10 276\n"
     ]
    },
    {
     "name": "stderr",
     "output_type": "stream",
     "text": [
      "Self-intersection at or near point 2859.8000000000002 933.20000000000005\n"
     ]
    },
    {
     "name": "stdout",
     "output_type": "stream",
     "text": [
      "-- 6050_3_4 10 277\n",
      "-- 6050_3_2 10 278\n",
      "-- 6050_3_3 10 279\n",
      "-- 6050_3_0 10 280\n",
      "-- 6100_2_2 10 281\n"
     ]
    },
    {
     "name": "stderr",
     "output_type": "stream",
     "text": [
      "Self-intersection at or near point 2396.0099009900991 168.9009900990099\n",
      "Ring Self-intersection at or near point 3350 3212\n"
     ]
    },
    {
     "name": "stdout",
     "output_type": "stream",
     "text": [
      "-- 6100_0_3 10 282\n"
     ]
    },
    {
     "name": "stderr",
     "output_type": "stream",
     "text": [
      "Ring Self-intersection at or near point 1601 138\n",
      "Ring Self-intersection at or near point 3308 3222\n"
     ]
    },
    {
     "name": "stdout",
     "output_type": "stream",
     "text": [
      "-- 6100_0_2 10 283\n"
     ]
    },
    {
     "name": "stderr",
     "output_type": "stream",
     "text": [
      "Ring Self-intersection at or near point 2070 1305\n"
     ]
    },
    {
     "name": "stdout",
     "output_type": "stream",
     "text": [
      "-- 6100_0_1 10 284\n"
     ]
    },
    {
     "name": "stderr",
     "output_type": "stream",
     "text": [
      "Ring Self-intersection at or near point 816 2062\n"
     ]
    },
    {
     "name": "stdout",
     "output_type": "stream",
     "text": [
      "-- 6100_0_0 10 285\n",
      "-- 6100_0_4 10 286\n",
      "-- 6060_0_0 10 287\n",
      "-- 6060_0_1 10 288\n",
      "-- 6060_0_2 10 289\n",
      "-- 6060_0_3 10 290\n"
     ]
    },
    {
     "name": "stderr",
     "output_type": "stream",
     "text": [
      "Ring Self-intersection at or near point 2749 2174\n"
     ]
    },
    {
     "name": "stdout",
     "output_type": "stream",
     "text": [
      "-- 6060_0_4 10 291\n"
     ]
    },
    {
     "name": "stderr",
     "output_type": "stream",
     "text": [
      "Ring Self-intersection at or near point 1058 1329\n"
     ]
    },
    {
     "name": "stdout",
     "output_type": "stream",
     "text": [
      "-- 6160_1_0 10 292\n"
     ]
    },
    {
     "name": "stderr",
     "output_type": "stream",
     "text": [
      "Ring Self-intersection at or near point 3017 3121\n"
     ]
    },
    {
     "name": "stdout",
     "output_type": "stream",
     "text": [
      "-- 6060_2_4 10 293\n",
      "-- 6060_2_2 10 294\n",
      "-- 6060_2_0 10 295\n",
      "-- 6160_1_1 10 296\n"
     ]
    },
    {
     "name": "stderr",
     "output_type": "stream",
     "text": [
      "Ring Self-intersection at or near point 3261 2567\n"
     ]
    },
    {
     "name": "stdout",
     "output_type": "stream",
     "text": [
      "-- 6040_3_1 10 297\n"
     ]
    },
    {
     "name": "stderr",
     "output_type": "stream",
     "text": [
      "Ring Self-intersection at or near point 2613 1777\n"
     ]
    },
    {
     "name": "stdout",
     "output_type": "stream",
     "text": [
      "-- 6040_3_0 10 298\n"
     ]
    },
    {
     "name": "stderr",
     "output_type": "stream",
     "text": [
      "Ring Self-intersection at or near point 2796 3188\n"
     ]
    },
    {
     "name": "stdout",
     "output_type": "stream",
     "text": [
      "-- 6040_3_3 10 299\n"
     ]
    },
    {
     "name": "stderr",
     "output_type": "stream",
     "text": [
      "Ring Self-intersection at or near point 728 2342\n"
     ]
    },
    {
     "name": "stdout",
     "output_type": "stream",
     "text": [
      "-- 6040_3_2 10 300\n"
     ]
    },
    {
     "name": "stderr",
     "output_type": "stream",
     "text": [
      "Ring Self-intersection at or near point 478 2779\n"
     ]
    },
    {
     "name": "stdout",
     "output_type": "stream",
     "text": [
      "-- 6040_3_4 10 301\n"
     ]
    },
    {
     "name": "stderr",
     "output_type": "stream",
     "text": [
      "Ring Self-intersection at or near point 3241 2657\n"
     ]
    },
    {
     "name": "stdout",
     "output_type": "stream",
     "text": [
      "-- 6090_0_4 10 302\n"
     ]
    },
    {
     "name": "stderr",
     "output_type": "stream",
     "text": [
      "Ring Self-intersection at or near point 1244 1809\n"
     ]
    },
    {
     "name": "stdout",
     "output_type": "stream",
     "text": [
      "-- 6160_1_3 10 303\n"
     ]
    },
    {
     "name": "stderr",
     "output_type": "stream",
     "text": [
      "Ring Self-intersection at or near point 1300 773\n"
     ]
    },
    {
     "name": "stdout",
     "output_type": "stream",
     "text": [
      "-- 6090_0_1 10 304\n"
     ]
    },
    {
     "name": "stderr",
     "output_type": "stream",
     "text": [
      "Ring Self-intersection at or near point 206 3089\n"
     ]
    },
    {
     "name": "stdout",
     "output_type": "stream",
     "text": [
      "-- 6090_0_0 10 305\n"
     ]
    },
    {
     "name": "stderr",
     "output_type": "stream",
     "text": [
      "Ring Self-intersection at or near point 2630 2825\n"
     ]
    },
    {
     "name": "stdout",
     "output_type": "stream",
     "text": [
      "-- 6090_0_3 10 306\n"
     ]
    },
    {
     "name": "stderr",
     "output_type": "stream",
     "text": [
      "Ring Self-intersection at or near point 812 2408\n"
     ]
    },
    {
     "name": "stdout",
     "output_type": "stream",
     "text": [
      "-- 6090_0_2 10 307\n"
     ]
    },
    {
     "name": "stderr",
     "output_type": "stream",
     "text": [
      "Ring Self-intersection at or near point 2176 1037\n"
     ]
    },
    {
     "name": "stdout",
     "output_type": "stream",
     "text": [
      "-- 6090_2_3 10 308\n"
     ]
    },
    {
     "name": "stderr",
     "output_type": "stream",
     "text": [
      "Ring Self-intersection at or near point 1079 1474\n"
     ]
    },
    {
     "name": "stdout",
     "output_type": "stream",
     "text": [
      "-- 6090_2_2 10 309\n"
     ]
    },
    {
     "name": "stderr",
     "output_type": "stream",
     "text": [
      "Ring Self-intersection at or near point 2662 320\n"
     ]
    },
    {
     "name": "stdout",
     "output_type": "stream",
     "text": [
      "-- 6090_2_1 10 310\n"
     ]
    },
    {
     "name": "stderr",
     "output_type": "stream",
     "text": [
      "Ring Self-intersection at or near point 2133 3238\n"
     ]
    },
    {
     "name": "stdout",
     "output_type": "stream",
     "text": [
      "-- 6040_1_4 10 311\n"
     ]
    },
    {
     "name": "stderr",
     "output_type": "stream",
     "text": [
      "Ring Self-intersection at or near point 697 3144\n"
     ]
    },
    {
     "name": "stdout",
     "output_type": "stream",
     "text": [
      "-- 6040_1_2 10 312\n"
     ]
    },
    {
     "name": "stderr",
     "output_type": "stream",
     "text": [
      "Ring Self-intersection at or near point 2246 2205\n"
     ]
    },
    {
     "name": "stdout",
     "output_type": "stream",
     "text": [
      "-- 6040_1_1 10 313\n"
     ]
    },
    {
     "name": "stderr",
     "output_type": "stream",
     "text": [
      "Ring Self-intersection at or near point 937 2945\n"
     ]
    },
    {
     "name": "stdout",
     "output_type": "stream",
     "text": [
      "-- 6090_2_4 10 314\n"
     ]
    },
    {
     "name": "stderr",
     "output_type": "stream",
     "text": [
      "Ring Self-intersection at or near point 2284 2698\n"
     ]
    },
    {
     "name": "stdout",
     "output_type": "stream",
     "text": [
      "-- 6030_0_4 10 315\n"
     ]
    },
    {
     "name": "stderr",
     "output_type": "stream",
     "text": [
      "Self-intersection at or near point 2464.1568627450979 132.80392156862746\n"
     ]
    },
    {
     "name": "stdout",
     "output_type": "stream",
     "text": [
      "-- 6030_0_3 10 316\n",
      "-- 6030_0_2 10 317\n"
     ]
    },
    {
     "name": "stderr",
     "output_type": "stream",
     "text": [
      "Ring Self-intersection at or near point 1764 2733\n"
     ]
    },
    {
     "name": "stdout",
     "output_type": "stream",
     "text": [
      "-- 6030_0_1 10 318\n"
     ]
    },
    {
     "name": "stderr",
     "output_type": "stream",
     "text": [
      "Ring Self-intersection at or near point 1599 2637\n"
     ]
    },
    {
     "name": "stdout",
     "output_type": "stream",
     "text": [
      "-- 6030_0_0 10 319\n"
     ]
    },
    {
     "name": "stderr",
     "output_type": "stream",
     "text": [
      "Self-intersection at or near point 2086.9743589743589 2664.8461538461538\n"
     ]
    },
    {
     "name": "stdout",
     "output_type": "stream",
     "text": [
      "-- 6050_1_0 10 320\n",
      "-- 6050_1_1 10 321\n",
      "-- 6050_1_2 10 322\n"
     ]
    },
    {
     "name": "stderr",
     "output_type": "stream",
     "text": [
      "Self-intersection at or near point 1459.6375838926174 3287.8322147651006\n"
     ]
    },
    {
     "name": "stdout",
     "output_type": "stream",
     "text": [
      "-- 6050_1_3 10 323\n",
      "-- 6050_1_4 10 324\n",
      "-- 6120_1_0 10 325\n",
      "-- 6120_1_1 10 326\n"
     ]
    },
    {
     "name": "stderr",
     "output_type": "stream",
     "text": [
      "Ring Self-intersection at or near point 1754 695\n"
     ]
    },
    {
     "name": "stdout",
     "output_type": "stream",
     "text": [
      "-- 6120_1_2 10 327\n"
     ]
    },
    {
     "name": "stderr",
     "output_type": "stream",
     "text": [
      "Ring Self-intersection at or near point 1225 1597\n"
     ]
    },
    {
     "name": "stdout",
     "output_type": "stream",
     "text": [
      "-- 6120_1_3 10 328\n",
      "-- 6120_1_4 10 329\n",
      "-- 6120_0_4 10 330\n",
      "-- 6160_1_4 10 331\n"
     ]
    },
    {
     "name": "stderr",
     "output_type": "stream",
     "text": [
      "Ring Self-intersection at or near point 2969 2163\n",
      "Ring Self-intersection at or near point 984 1493\n"
     ]
    },
    {
     "name": "stdout",
     "output_type": "stream",
     "text": [
      "-- 6130_3_0 10 332\n"
     ]
    },
    {
     "name": "stderr",
     "output_type": "stream",
     "text": [
      "Ring Self-intersection at or near point 1613 3209\n"
     ]
    },
    {
     "name": "stdout",
     "output_type": "stream",
     "text": [
      "-- 6140_0_4 10 333\n",
      "-- 6140_0_3 10 334\n",
      "-- 6140_0_2 10 335\n",
      "-- 6160_1_2 10 336\n"
     ]
    },
    {
     "name": "stderr",
     "output_type": "stream",
     "text": [
      "Ring Self-intersection at or near point 2641 3065\n"
     ]
    },
    {
     "name": "stdout",
     "output_type": "stream",
     "text": [
      "-- 6140_0_0 10 337\n"
     ]
    },
    {
     "name": "stderr",
     "output_type": "stream",
     "text": [
      "Ring Self-intersection at or near point 1420 83\n"
     ]
    },
    {
     "name": "stdout",
     "output_type": "stream",
     "text": [
      "-- 6120_3_4 10 338\n",
      "-- 6120_3_2 10 339\n"
     ]
    },
    {
     "name": "stderr",
     "output_type": "stream",
     "text": [
      "Ring Self-intersection at or near point 425 2358\n"
     ]
    },
    {
     "name": "stdout",
     "output_type": "stream",
     "text": [
      "-- 6120_3_3 10 340\n",
      "-- 6120_3_0 10 341\n"
     ]
    },
    {
     "name": "stderr",
     "output_type": "stream",
     "text": [
      "Ring Self-intersection at or near point 45 157\n"
     ]
    },
    {
     "name": "stdout",
     "output_type": "stream",
     "text": [
      "-- 6120_3_1 10 342\n"
     ]
    },
    {
     "name": "stderr",
     "output_type": "stream",
     "text": [
      "Ring Self-intersection at or near point 1730 1960\n"
     ]
    },
    {
     "name": "stdout",
     "output_type": "stream",
     "text": [
      "-- 6100_1_2 10 343\n"
     ]
    },
    {
     "name": "stderr",
     "output_type": "stream",
     "text": [
      "Self-intersection at or near point 3302.2307692307691 2392.6153846153848\n",
      "Ring Self-intersection at or near point 714 2164\n"
     ]
    },
    {
     "name": "stdout",
     "output_type": "stream",
     "text": [
      "-- 6100_1_0 10 344\n"
     ]
    },
    {
     "name": "stderr",
     "output_type": "stream",
     "text": [
      "Ring Self-intersection at or near point 1399 3029\n"
     ]
    },
    {
     "name": "stdout",
     "output_type": "stream",
     "text": [
      "-- 6100_1_1 10 345\n",
      "-- 6100_1_4 10 346\n",
      "-- 6140_4_3 10 347\n",
      "-- 6140_4_2 10 348\n",
      "-- 6140_4_1 10 349\n"
     ]
    },
    {
     "name": "stderr",
     "output_type": "stream",
     "text": [
      "Self-intersection at or near point 1142.7692307692307 179.15384615384616\n",
      "Self-intersection at or near point 3311.775212636695 1496.2515188335358\n"
     ]
    },
    {
     "name": "stdout",
     "output_type": "stream",
     "text": [
      "-- 6140_4_0 10 350\n",
      "-- 6140_4_4 10 351\n"
     ]
    },
    {
     "name": "stderr",
     "output_type": "stream",
     "text": [
      "Ring Self-intersection at or near point 763 811\n"
     ]
    },
    {
     "name": "stdout",
     "output_type": "stream",
     "text": [
      "-- 6160_0_4 10 352\n"
     ]
    },
    {
     "name": "stderr",
     "output_type": "stream",
     "text": [
      "Ring Self-intersection at or near point 1840 2402\n"
     ]
    },
    {
     "name": "stdout",
     "output_type": "stream",
     "text": [
      "-- 6140_2_1 10 353\n",
      "-- 6140_2_0 10 354\n"
     ]
    },
    {
     "name": "stderr",
     "output_type": "stream",
     "text": [
      "Ring Self-intersection at or near point 1553 599\n"
     ]
    },
    {
     "name": "stdout",
     "output_type": "stream",
     "text": [
      "-- 6140_2_3 10 355\n",
      "-- 6140_2_2 10 356\n",
      "-- 6140_2_4 10 357\n"
     ]
    },
    {
     "name": "stderr",
     "output_type": "stream",
     "text": [
      "Ring Self-intersection at or near point 2900 3052\n",
      "Self-intersection at or near point 2854.125 44.875\n"
     ]
    },
    {
     "name": "stdout",
     "output_type": "stream",
     "text": [
      "-- 6030_4_3 10 358\n",
      "-- 6030_4_2 10 359\n"
     ]
    },
    {
     "name": "stderr",
     "output_type": "stream",
     "text": [
      "Self-intersection at or near point 2540.0476190476193 2740.8095238095239\n",
      "Self-intersection at or near point 2780.5094339622642 997.05660377358492\n"
     ]
    },
    {
     "name": "stdout",
     "output_type": "stream",
     "text": [
      "-- 6030_4_1 10 360\n"
     ]
    },
    {
     "name": "stderr",
     "output_type": "stream",
     "text": [
      "Ring Self-intersection at or near point 2393 2467\n",
      "Self-intersection at or near point 2486 1411\n"
     ]
    },
    {
     "name": "stdout",
     "output_type": "stream",
     "text": [
      "-- 6030_4_0 10 361\n"
     ]
    },
    {
     "name": "stderr",
     "output_type": "stream",
     "text": [
      "Ring Self-intersection at or near point 129 2441\n"
     ]
    },
    {
     "name": "stdout",
     "output_type": "stream",
     "text": [
      "-- 6030_4_4 10 362\n",
      "-- 6130_3_4 10 363\n",
      "-- 6030_2_1 10 364\n"
     ]
    },
    {
     "name": "stderr",
     "output_type": "stream",
     "text": [
      "Ring Self-intersection at or near point 3386 761\n"
     ]
    },
    {
     "name": "stdout",
     "output_type": "stream",
     "text": [
      "-- 6030_2_0 10 365\n"
     ]
    },
    {
     "name": "stderr",
     "output_type": "stream",
     "text": [
      "Ring Self-intersection at or near point 1519 3093\n",
      "Self-intersection at or near point 2792.1333333333332 1825.3333333333333\n"
     ]
    },
    {
     "name": "stdout",
     "output_type": "stream",
     "text": [
      "-- 6030_2_3 10 366\n"
     ]
    },
    {
     "name": "stderr",
     "output_type": "stream",
     "text": [
      "Ring Self-intersection at or near point 1178 725\n"
     ]
    },
    {
     "name": "stdout",
     "output_type": "stream",
     "text": [
      "-- 6030_2_2 10 367\n"
     ]
    },
    {
     "name": "stderr",
     "output_type": "stream",
     "text": [
      "Ring Self-intersection at or near point 2750 2942\n"
     ]
    },
    {
     "name": "stdout",
     "output_type": "stream",
     "text": [
      "-- 6030_2_4 10 368\n"
     ]
    },
    {
     "name": "stderr",
     "output_type": "stream",
     "text": [
      "Self-intersection at or near point 3102 1498\n"
     ]
    },
    {
     "name": "stdout",
     "output_type": "stream",
     "text": [
      "-- 6090_3_2 10 369\n",
      "-- 6090_3_3 10 370\n"
     ]
    },
    {
     "name": "stderr",
     "output_type": "stream",
     "text": [
      "Ring Self-intersection at or near point 742 2622\n"
     ]
    },
    {
     "name": "stdout",
     "output_type": "stream",
     "text": [
      "-- 6090_3_0 10 371\n"
     ]
    },
    {
     "name": "stderr",
     "output_type": "stream",
     "text": [
      "Ring Self-intersection at or near point 434 2543\n"
     ]
    },
    {
     "name": "stdout",
     "output_type": "stream",
     "text": [
      "-- 6090_3_1 10 372\n"
     ]
    },
    {
     "name": "stderr",
     "output_type": "stream",
     "text": [
      "Ring Self-intersection at or near point 782 2596\n"
     ]
    },
    {
     "name": "stdout",
     "output_type": "stream",
     "text": [
      "-- 6090_3_4 10 373\n"
     ]
    },
    {
     "name": "stderr",
     "output_type": "stream",
     "text": [
      "Ring Self-intersection at or near point 501 2603\n",
      "Self-intersection at or near point 2294.7220077220077 2597.3822393822393\n"
     ]
    },
    {
     "name": "stdout",
     "output_type": "stream",
     "text": [
      "-- 6080_3_4 10 374\n",
      "-- 6170_4_4 10 375\n"
     ]
    },
    {
     "name": "stderr",
     "output_type": "stream",
     "text": [
      "Ring Self-intersection at or near point 3086 3215\n"
     ]
    },
    {
     "name": "stdout",
     "output_type": "stream",
     "text": [
      "-- 6080_3_1 10 376\n"
     ]
    },
    {
     "name": "stderr",
     "output_type": "stream",
     "text": [
      "Ring Self-intersection at or near point 1598 987\n"
     ]
    },
    {
     "name": "stdout",
     "output_type": "stream",
     "text": [
      "-- 6080_3_0 10 377\n"
     ]
    },
    {
     "name": "stderr",
     "output_type": "stream",
     "text": [
      "Self-intersection at or near point 1609.1532846715329 2483.007299270073\n"
     ]
    },
    {
     "name": "stdout",
     "output_type": "stream",
     "text": [
      "-- 6080_3_3 10 378\n",
      "-- 6080_3_2 10 379\n"
     ]
    },
    {
     "name": "stderr",
     "output_type": "stream",
     "text": [
      "Self-intersection at or near point 2857.0384615384614 1959\n"
     ]
    },
    {
     "name": "stdout",
     "output_type": "stream",
     "text": [
      "-- 6160_4_1 10 380\n"
     ]
    },
    {
     "name": "stderr",
     "output_type": "stream",
     "text": [
      "Ring Self-intersection at or near point 858 2924\n"
     ]
    },
    {
     "name": "stdout",
     "output_type": "stream",
     "text": [
      "-- 6160_4_0 10 381\n"
     ]
    },
    {
     "name": "stderr",
     "output_type": "stream",
     "text": [
      "Ring Self-intersection at or near point 1955 3091\n"
     ]
    },
    {
     "name": "stdout",
     "output_type": "stream",
     "text": [
      "-- 6160_4_3 10 382\n"
     ]
    },
    {
     "name": "stderr",
     "output_type": "stream",
     "text": [
      "Ring Self-intersection at or near point 3196 3109\n"
     ]
    },
    {
     "name": "stdout",
     "output_type": "stream",
     "text": [
      "-- 6160_4_2 10 383\n"
     ]
    },
    {
     "name": "stderr",
     "output_type": "stream",
     "text": [
      "Ring Self-intersection at or near point 1387 1383\n"
     ]
    },
    {
     "name": "stdout",
     "output_type": "stream",
     "text": [
      "-- 6160_4_4 10 384\n"
     ]
    },
    {
     "name": "stderr",
     "output_type": "stream",
     "text": [
      "Ring Self-intersection at or near point 751 2703\n"
     ]
    },
    {
     "name": "stdout",
     "output_type": "stream",
     "text": [
      "-- 6080_1_3 10 385\n"
     ]
    },
    {
     "name": "stderr",
     "output_type": "stream",
     "text": [
      "Ring Self-intersection at or near point 3222 2833\n"
     ]
    },
    {
     "name": "stdout",
     "output_type": "stream",
     "text": [
      "-- 6080_1_2 10 386\n"
     ]
    },
    {
     "name": "stderr",
     "output_type": "stream",
     "text": [
      "Ring Self-intersection at or near point 1136 1087\n"
     ]
    },
    {
     "name": "stdout",
     "output_type": "stream",
     "text": [
      "-- 6080_1_1 10 387\n",
      "-- 6080_1_0 10 388\n",
      "-- 6080_1_4 10 389\n",
      "-- 6170_2_0 10 390\n"
     ]
    },
    {
     "name": "stderr",
     "output_type": "stream",
     "text": [
      "Ring Self-intersection at or near point 1569 2231\n"
     ]
    },
    {
     "name": "stdout",
     "output_type": "stream",
     "text": [
      "-- 6170_2_1 10 391\n"
     ]
    },
    {
     "name": "stderr",
     "output_type": "stream",
     "text": [
      "Ring Self-intersection at or near point 362 3211\n"
     ]
    },
    {
     "name": "stdout",
     "output_type": "stream",
     "text": [
      "-- 6170_2_2 10 392\n"
     ]
    },
    {
     "name": "stderr",
     "output_type": "stream",
     "text": [
      "Ring Self-intersection at or near point 2806 2833\n"
     ]
    },
    {
     "name": "stdout",
     "output_type": "stream",
     "text": [
      "-- 6170_2_3 10 393\n"
     ]
    },
    {
     "name": "stderr",
     "output_type": "stream",
     "text": [
      "Ring Self-intersection at or near point 1708 864\n"
     ]
    },
    {
     "name": "stdout",
     "output_type": "stream",
     "text": [
      "-- 6170_0_2 10 394\n"
     ]
    },
    {
     "name": "stderr",
     "output_type": "stream",
     "text": [
      "Ring Self-intersection at or near point 3320 2846\n"
     ]
    },
    {
     "name": "stdout",
     "output_type": "stream",
     "text": [
      "-- 6170_0_3 10 395\n"
     ]
    },
    {
     "name": "stderr",
     "output_type": "stream",
     "text": [
      "Ring Self-intersection at or near point 1206 2879\n"
     ]
    },
    {
     "name": "stdout",
     "output_type": "stream",
     "text": [
      "-- 6170_0_0 10 396\n"
     ]
    },
    {
     "name": "stderr",
     "output_type": "stream",
     "text": [
      "Ring Self-intersection at or near point 1988 3244\n"
     ]
    },
    {
     "name": "stdout",
     "output_type": "stream",
     "text": [
      "-- 6170_0_1 10 397\n"
     ]
    },
    {
     "name": "stderr",
     "output_type": "stream",
     "text": [
      "Ring Self-intersection at or near point 2859 2650\n"
     ]
    },
    {
     "name": "stdout",
     "output_type": "stream",
     "text": [
      "-- 6090_1_4 10 398\n",
      "-- 6120_4_4 10 399\n",
      "-- 6090_1_0 10 400\n"
     ]
    },
    {
     "name": "stderr",
     "output_type": "stream",
     "text": [
      "Ring Self-intersection at or near point 1326 3022\n"
     ]
    },
    {
     "name": "stdout",
     "output_type": "stream",
     "text": [
      "-- 6090_1_1 10 401\n"
     ]
    },
    {
     "name": "stderr",
     "output_type": "stream",
     "text": [
      "Ring Self-intersection at or near point 2010 2698\n"
     ]
    },
    {
     "name": "stdout",
     "output_type": "stream",
     "text": [
      "-- 6090_1_2 10 402\n",
      "-- 6090_1_3 10 403\n",
      "-- 6120_0_1 10 404\n",
      "-- 6120_0_0 10 405\n",
      "-- 6030_1_4 10 406\n"
     ]
    },
    {
     "name": "stderr",
     "output_type": "stream",
     "text": [
      "Ring Self-intersection at or near point 3382 100\n"
     ]
    },
    {
     "name": "stdout",
     "output_type": "stream",
     "text": [
      "-- 6120_0_2 10 407\n"
     ]
    },
    {
     "name": "stderr",
     "output_type": "stream",
     "text": [
      "Ring Self-intersection at or near point 1103 2035\n"
     ]
    },
    {
     "name": "stdout",
     "output_type": "stream",
     "text": [
      "-- 6030_1_2 10 408\n"
     ]
    },
    {
     "name": "stderr",
     "output_type": "stream",
     "text": [
      "Ring Self-intersection at or near point 3225 184\n"
     ]
    },
    {
     "name": "stdout",
     "output_type": "stream",
     "text": [
      "-- 6030_1_3 10 409\n",
      "-- 6030_1_0 10 410\n"
     ]
    },
    {
     "name": "stderr",
     "output_type": "stream",
     "text": [
      "Ring Self-intersection at or near point 3244 2929\n"
     ]
    },
    {
     "name": "stdout",
     "output_type": "stream",
     "text": [
      "-- 6030_1_1 10 411\n"
     ]
    },
    {
     "name": "stderr",
     "output_type": "stream",
     "text": [
      "Ring Self-intersection at or near point 907 2089\n"
     ]
    },
    {
     "name": "stdout",
     "output_type": "stream",
     "text": [
      "-- 6130_3_1 10 412\n"
     ]
    },
    {
     "name": "stderr",
     "output_type": "stream",
     "text": [
      "Ring Self-intersection at or near point 882 976\n"
     ]
    },
    {
     "name": "stdout",
     "output_type": "stream",
     "text": [
      "-- 6050_4_1 10 413\n",
      "-- 6130_3_3 10 414\n"
     ]
    },
    {
     "name": "stderr",
     "output_type": "stream",
     "text": [
      "Ring Self-intersection at or near point 561 136\n"
     ]
    },
    {
     "name": "stdout",
     "output_type": "stream",
     "text": [
      "-- 6130_3_2 10 415\n",
      "-- 6160_0_1 10 416\n"
     ]
    },
    {
     "name": "stderr",
     "output_type": "stream",
     "text": [
      "Ring Self-intersection at or near point 2771 3335\n"
     ]
    },
    {
     "name": "stdout",
     "output_type": "stream",
     "text": [
      "-- 6160_0_0 10 417\n"
     ]
    },
    {
     "name": "stderr",
     "output_type": "stream",
     "text": [
      "Ring Self-intersection at or near point 3280 1710\n"
     ]
    },
    {
     "name": "stdout",
     "output_type": "stream",
     "text": [
      "-- 6160_0_3 10 418\n"
     ]
    },
    {
     "name": "stderr",
     "output_type": "stream",
     "text": [
      "Ring Self-intersection at or near point 883 2987\n"
     ]
    },
    {
     "name": "stdout",
     "output_type": "stream",
     "text": [
      "-- 6160_0_2 10 419\n"
     ]
    },
    {
     "name": "stderr",
     "output_type": "stream",
     "text": [
      "Ring Self-intersection at or near point 400 3158\n"
     ]
    },
    {
     "name": "stdout",
     "output_type": "stream",
     "text": [
      "-- 6160_2_3 10 420\n"
     ]
    },
    {
     "name": "stderr",
     "output_type": "stream",
     "text": [
      "Ring Self-intersection at or near point 781 3105\n"
     ]
    },
    {
     "name": "stdout",
     "output_type": "stream",
     "text": [
      "-- 6160_2_2 10 421\n"
     ]
    },
    {
     "name": "stderr",
     "output_type": "stream",
     "text": [
      "Ring Self-intersection at or near point 2078 1248\n"
     ]
    },
    {
     "name": "stdout",
     "output_type": "stream",
     "text": [
      "-- 6160_2_0 10 422\n",
      "-- 6160_2_4 10 423\n"
     ]
    },
    {
     "name": "stderr",
     "output_type": "stream",
     "text": [
      "Ring Self-intersection at or near point 979 1158\n"
     ]
    },
    {
     "name": "stdout",
     "output_type": "stream",
     "text": [
      "-- 6130_1_4 10 424\n"
     ]
    },
    {
     "name": "stderr",
     "output_type": "stream",
     "text": [
      "Self-intersection at or near point 2758.0235294117647 782.88235294117646\n",
      "Ring Self-intersection at or near point 1744 2340\n"
     ]
    },
    {
     "name": "stdout",
     "output_type": "stream",
     "text": [
      "-- 6130_1_3 10 425\n"
     ]
    },
    {
     "name": "stderr",
     "output_type": "stream",
     "text": [
      "Ring Self-intersection at or near point 3203 1515\n"
     ]
    },
    {
     "name": "stdout",
     "output_type": "stream",
     "text": [
      "-- 6130_1_2 10 426\n",
      "-- 6130_1_1 10 427\n"
     ]
    },
    {
     "name": "stderr",
     "output_type": "stream",
     "text": [
      "Ring Self-intersection at or near point 1020 2057\n"
     ]
    },
    {
     "name": "stdout",
     "output_type": "stream",
     "text": [
      "-- 6130_1_0 10 428\n"
     ]
    }
   ],
   "source": [
    "submission_file = '../results/submission_' + str(datetime.now().strftime(\"%Y-%m-%d-%H-%M\")) + '.csv'\n",
    "rewrite_submission(CSV_FILE_NEW[:-4] + '_pairs_merge.csv', submission_file, class_pp_func_list, class_shape_pp_func_list)"
   ]
  },
  {
   "cell_type": "code",
   "execution_count": 70,
   "metadata": {
    "collapsed": true,
    "deletable": true,
    "editable": true
   },
   "outputs": [],
   "source": [
    "import pandas as pd"
   ]
  },
  {
   "cell_type": "code",
   "execution_count": 71,
   "metadata": {
    "collapsed": false,
    "deletable": true,
    "editable": true
   },
   "outputs": [],
   "source": [
    "df1 = pd.read_csv(CSV_FILE_NEW)\n",
    "df2 = pd.read_csv(submission_file)"
   ]
  },
  {
   "cell_type": "code",
   "execution_count": 72,
   "metadata": {
    "collapsed": false,
    "deletable": true,
    "editable": true
   },
   "outputs": [],
   "source": [
    "assert (df1['ImageId'] == df2['ImageId']).all(), \"WTF\"\n",
    "assert (df1['ClassType'] == df2['ClassType']).all(), \"WTF\""
   ]
  },
  {
   "cell_type": "code",
   "execution_count": 17,
   "metadata": {
    "collapsed": false,
    "deletable": true,
    "editable": true
   },
   "outputs": [],
   "source": [
    "# assert (df1['MultipolygonWKT'] == df2['MultipolygonWKT']).all(), \"WTF\""
   ]
  },
  {
   "cell_type": "code",
   "execution_count": null,
   "metadata": {
    "collapsed": true,
    "deletable": true,
    "editable": true
   },
   "outputs": [],
   "source": []
  },
  {
   "cell_type": "code",
   "execution_count": null,
   "metadata": {
    "collapsed": true,
    "deletable": true,
    "editable": true
   },
   "outputs": [],
   "source": []
  },
  {
   "cell_type": "markdown",
   "metadata": {
    "deletable": true,
    "editable": true
   },
   "source": [
    "## Visual data analysis\n",
    "\n",
    "### Generate a 6XYZ image and SHP"
   ]
  },
  {
   "cell_type": "code",
   "execution_count": 19,
   "metadata": {
    "collapsed": true,
    "deletable": true,
    "editable": true
   },
   "outputs": [],
   "source": [
    "import gdal\n",
    "from visu_utils import scale_percentile\n",
    "\n",
    "def generate_complete_image(image_id):\n",
    "    filename = os.path.join(\"..\", \"results\", \"visu\", '%s.tif' % image_id)\n",
    "    if os.path.exists(filename):\n",
    "        print \"Image is already created. Remove it\"\n",
    "        os.remove(filename)        \n",
    "\n",
    "    tile_size = (1024, 1024)\n",
    "    n, m = 5, 5\n",
    "    complete_image = np.zeros((5*tile_size[0], 5*tile_size[1]), dtype=np.uint16)\n",
    "    counter = 0\n",
    "    for i in range(n):\n",
    "        ys = i*tile_size[1]\n",
    "        ye = ys + tile_size[1]\n",
    "        for j in range(m):\n",
    "            xs = j*tile_size[0]\n",
    "            xe = xs + tile_size[0]\n",
    "            _id = image_id + \"_%i_%i\" % (i, j)\n",
    "            img = get_image_data(_id, 'pan')\n",
    "            img = cv2.resize(img, dsize=tile_size)    \n",
    "            complete_image[ys:ye, xs:xe] = img\n",
    "\n",
    "    complete_image_8u = scale_percentile(complete_image, 0.1, 99.9)             \n",
    "    # Initialize output file:\n",
    "    driver = gdal.GetDriverByName('GTiff')\n",
    "    dataset = driver.Create(filename, complete_image_8u.shape[1], complete_image_8u.shape[0], 1, gdal.GDT_Byte)\n",
    "    assert dataset is not None, \"Failed to create a file\"\n",
    "\n",
    "    band = dataset.GetRasterBand(1)\n",
    "    band.WriteArray(complete_image_8u, xoff=0, yoff=0)\n",
    "\n",
    "    dataset = None"
   ]
  },
  {
   "cell_type": "code",
   "execution_count": 17,
   "metadata": {
    "collapsed": false,
    "deletable": true,
    "editable": true
   },
   "outputs": [],
   "source": [
    "import os\n",
    "from submission_utils import get_data_csv\n",
    "from shapely.wkt import loads\n",
    "from shapely.affinity import scale, translate\n",
    "\n",
    "def get_transformed_polygons(data_csv, x, y, w, h):\n",
    "    out = {}\n",
    "    image_id = data_csv[0][0]\n",
    "    xs, ys = get_scalers(image_id, h, w)\n",
    "    for poly_info in data_csv:\n",
    "        if \"MULTIPOLYGON\" not in poly_info[2][:20]:\n",
    "            continue\n",
    "        polygons = loads(poly_info[2])\n",
    "        new_polygons = scale(polygons, xfact=xs, yfact=ys, origin=(0, 0, 0))        \n",
    "        new_polygons = translate(new_polygons, xoff=x, yoff=y)\n",
    "        out[int(poly_info[1])] = new_polygons\n",
    "    return out\n",
    "\n",
    "from collections import defaultdict\n",
    "\n",
    "def generate_complete_shp_from_csv(image_id, csv_filename, suffix=''):\n",
    "    \n",
    "    filename = os.path.join(\"..\", \"results\", \"visu\", '%s_%s.shp' % (image_id, suffix))\n",
    "    if os.path.exists(filename):\n",
    "        print \"Image is already created. Remove it\"\n",
    "        os.remove(filename)        \n",
    "        \n",
    "    tile_size = (1024, 1024)\n",
    "    n, m = 5, 5\n",
    "    all_polygons = defaultdict(list)\n",
    "    counter = 0\n",
    "    for i in range(n):\n",
    "        y = i*tile_size[1]\n",
    "        for j in range(m):\n",
    "            x = j*tile_size[0]\n",
    "            _id = image_id + \"_%i_%i\" % (i, j)\n",
    "            print \"--\", _id\n",
    "            data_csv = get_data_csv(_id, csv_filename)        \n",
    "            if data_csv is None:\n",
    "                continue\n",
    "            polygons = get_transformed_polygons(data_csv, x, y, tile_size[0], tile_size[1])\n",
    "            for k in polygons:\n",
    "                all_polygons[k].append(polygons[k])\n",
    "    write_shp_from_polygons(filename, image_id, all_polygons)\n"
   ]
  },
  {
   "cell_type": "code",
   "execution_count": 16,
   "metadata": {
    "collapsed": false,
    "deletable": true,
    "editable": true
   },
   "outputs": [
    {
     "ename": "NameError",
     "evalue": "name 'submission_file' is not defined",
     "output_type": "error",
     "traceback": [
      "\u001b[0;31m---------------------------------------------------------------------------\u001b[0m",
      "\u001b[0;31mNameError\u001b[0m                                 Traceback (most recent call last)",
      "\u001b[0;32m<ipython-input-16-bc6c87fc0637>\u001b[0m in \u001b[0;36m<module>\u001b[0;34m()\u001b[0m\n\u001b[0;32m----> 1\u001b[0;31m \u001b[0mCSV_FILE_LAST\u001b[0m \u001b[0;34m=\u001b[0m \u001b[0msubmission_file\u001b[0m\u001b[0;34m\u001b[0m\u001b[0m\n\u001b[0m\u001b[1;32m      2\u001b[0m \u001b[0mCSV_FILE_LAST\u001b[0m\u001b[0;34m[\u001b[0m\u001b[0;34m-\u001b[0m\u001b[0;36m20\u001b[0m\u001b[0;34m:\u001b[0m\u001b[0;34m-\u001b[0m\u001b[0;36m4\u001b[0m\u001b[0;34m]\u001b[0m\u001b[0;34m\u001b[0m\u001b[0m\n",
      "\u001b[0;31mNameError\u001b[0m: name 'submission_file' is not defined"
     ]
    }
   ],
   "source": [
    "CSV_FILE_LAST = submission_file\n",
    "CSV_FILE_LAST[-20:-4]"
   ]
  },
  {
   "cell_type": "code",
   "execution_count": 22,
   "metadata": {
    "collapsed": false,
    "deletable": true,
    "editable": true,
    "scrolled": true
   },
   "outputs": [],
   "source": [
    "# get_image_ids(CSV_FILE_LAST)"
   ]
  },
  {
   "cell_type": "code",
   "execution_count": 61,
   "metadata": {
    "collapsed": true,
    "deletable": true,
    "editable": true
   },
   "outputs": [],
   "source": [
    "image_id = \"6110\"\n",
    "# image_id = \"6120\"\n",
    "# image_id = \"6070\"\n",
    "# image_id = \"6080\"\n",
    "# image_id = \"6050\"\n",
    "\n",
    "# image_id = \"6140\""
   ]
  },
  {
   "cell_type": "code",
   "execution_count": 46,
   "metadata": {
    "collapsed": false,
    "deletable": true,
    "editable": true
   },
   "outputs": [],
   "source": [
    "generate_complete_image(image_id)"
   ]
  },
  {
   "cell_type": "code",
   "execution_count": 62,
   "metadata": {
    "collapsed": false,
    "deletable": true,
    "editable": true,
    "scrolled": true
   },
   "outputs": [
    {
     "name": "stdout",
     "output_type": "stream",
     "text": [
      "-- 6110_0_0\n",
      "-- 6110_0_1\n",
      "-- 6110_0_2\n",
      "-- 6110_0_3\n",
      "-- 6110_0_4\n",
      "-- 6110_1_0\n",
      "-- 6110_1_1\n",
      "-- 6110_1_2\n",
      "-- 6110_1_3\n",
      "-- 6110_1_4\n",
      "-- 6110_2_0\n",
      "-- 6110_2_1\n",
      "-- 6110_2_2\n",
      "-- 6110_2_3\n",
      "-- 6110_2_4\n",
      "-- 6110_3_0\n",
      "-- 6110_3_1\n",
      "-- 6110_3_2\n",
      "-- 6110_3_3\n",
      "-- 6110_3_4\n",
      "-- 6110_4_0\n",
      "-- 6110_4_1\n",
      "-- 6110_4_2\n",
      "-- 6110_4_3\n",
      "-- 6110_4_4\n",
      "Written succesfully file :  ../results/visu/6110_2017-03-07-02-17.shp\n"
     ]
    }
   ],
   "source": [
    "generate_complete_shp_from_csv(image_id, CSV_FILE_LAST, CSV_FILE_LAST[-20:-4])"
   ]
  },
  {
   "cell_type": "code",
   "execution_count": null,
   "metadata": {
    "collapsed": true
   },
   "outputs": [],
   "source": []
  },
  {
   "cell_type": "markdown",
   "metadata": {},
   "source": [
    "### Generate a SHP with all prediction for all image_id"
   ]
  },
  {
   "cell_type": "code",
   "execution_count": 15,
   "metadata": {
    "collapsed": false,
    "deletable": true,
    "editable": true
   },
   "outputs": [],
   "source": [
    "import os\n",
    "from collections import defaultdict\n",
    "from data_utils import ALL_IMAGE_IDS\n",
    "all_ids = sorted(np.unique([iid[:-4] for iid in ALL_IMAGE_IDS]).tolist())\n",
    "\n",
    "def generate_all_shp_from_csv(csv_filename, suffix=''):\n",
    "    filename = os.path.join(\"..\", \"results\", \"visu\", 'all_predictions_%s.shp' % (suffix))\n",
    "    assert not os.path.exists(filename), \"Image is already created. Remove it manually\"\n",
    "        \n",
    "    n_tiles = 18\n",
    "    nx = 5\n",
    "    ny = int(np.ceil(n_tiles / float(nx)))\n",
    "    \n",
    "    tile_size = (850, 850)\n",
    "    all_polygons = defaultdict(list)\n",
    "    count = 0\n",
    "    for data_csv in submission_iterator(csv_filename):  \n",
    "        image_id = data_csv[0][0]\n",
    "        count += 1\n",
    "        print \"--\", image_id\n",
    "        index = all_ids.index(image_id[:4])\n",
    "        i, j = (int(image_id[7]), int(image_id[5]))\n",
    "        \n",
    "        xi = index % nx * (5*tile_size[0]) + i*tile_size[0]\n",
    "        yi = int(np.floor(index * 1.0 / nx)) * (5*tile_size[1]) + j*tile_size[1]        \n",
    "        #print xi, yi\n",
    "        polygons = get_transformed_polygons(data_csv, xi, yi, tile_size[0], tile_size[1])\n",
    "        for k in polygons:\n",
    "            all_polygons[k].append(polygons[k])\n",
    "    write_shp_from_polygons(filename, \"ALL\", all_polygons)    "
   ]
  },
  {
   "cell_type": "code",
   "execution_count": 68,
   "metadata": {
    "collapsed": false
   },
   "outputs": [
    {
     "data": {
      "text/plain": [
       "'../results/submission_2017-03-07-23-29.csv'"
      ]
     },
     "execution_count": 68,
     "metadata": {},
     "output_type": "execute_result"
    }
   ],
   "source": [
    "submission_file\n",
    "# CSV_FILE_NEW[:-4] + '_pairs_merge.csv'"
   ]
  },
  {
   "cell_type": "code",
   "execution_count": 69,
   "metadata": {
    "collapsed": false,
    "deletable": true,
    "editable": true,
    "scrolled": true
   },
   "outputs": [
    {
     "name": "stdout",
     "output_type": "stream",
     "text": [
      "-- 6120_2_4\n",
      "-- 6120_2_3\n",
      "-- 6120_2_1\n",
      "-- 6180_2_4\n",
      "-- 6180_2_1\n",
      "-- 6180_2_0\n",
      "-- 6180_2_3\n",
      "-- 6180_2_2\n",
      "-- 6180_0_3\n",
      "-- 6180_0_2\n",
      "-- 6180_0_1\n",
      "-- 6180_0_0\n",
      "-- 6180_0_4\n",
      "-- 6080_4_4\n",
      "-- 6080_4_2\n",
      "-- 6080_4_3\n",
      "-- 6080_4_0\n",
      "-- 6080_4_1\n",
      "-- 6090_4_1\n",
      "-- 6090_4_0\n",
      "-- 6090_4_3\n",
      "-- 6090_4_2\n",
      "-- 6090_4_4\n",
      "-- 6180_4_4\n",
      "-- 6180_4_3\n",
      "-- 6180_4_2\n",
      "-- 6180_4_1\n",
      "-- 6180_4_0\n",
      "-- 6160_3_2\n",
      "-- 6160_3_3\n",
      "-- 6160_3_0\n",
      "-- 6160_3_1\n",
      "-- 6160_3_4\n",
      "-- 6080_2_4\n",
      "-- 6080_2_0\n",
      "-- 6080_2_1\n",
      "-- 6080_2_2\n",
      "-- 6080_2_3\n",
      "-- 6080_0_2\n",
      "-- 6080_0_3\n",
      "-- 6080_0_0\n",
      "-- 6080_0_1\n",
      "-- 6080_0_4\n",
      "-- 6010_0_4\n",
      "-- 6010_0_1\n",
      "-- 6010_0_0\n",
      "-- 6010_0_3\n",
      "-- 6010_0_2\n",
      "-- 6010_2_3\n",
      "-- 6010_2_2\n",
      "-- 6010_2_1\n",
      "-- 6010_2_0\n",
      "-- 6010_2_4\n",
      "-- 6010_4_1\n",
      "-- 6170_3_4\n",
      "-- 6010_4_3\n",
      "-- 6170_3_1\n",
      "-- 6170_3_0\n",
      "-- 6170_3_3\n",
      "-- 6170_3_2\n",
      "-- 6170_1_3\n",
      "-- 6170_1_2\n",
      "-- 6170_1_1\n",
      "-- 6170_1_0\n",
      "-- 6170_1_4\n",
      "-- 6130_4_2\n",
      "-- 6130_4_3\n",
      "-- 6130_4_0\n",
      "-- 6130_4_1\n",
      "-- 6130_4_4\n",
      "-- 6150_3_3\n",
      "-- 6150_3_2\n",
      "-- 6150_3_1\n",
      "-- 6150_3_0\n",
      "-- 6150_3_4\n",
      "-- 6130_2_0\n",
      "-- 6130_2_1\n",
      "-- 6130_2_2\n",
      "-- 6130_2_3\n",
      "-- 6130_2_4\n",
      "-- 6130_0_4\n",
      "-- 6130_0_2\n",
      "-- 6130_0_3\n",
      "-- 6130_0_0\n",
      "-- 6130_0_1\n",
      "-- 6150_1_4\n",
      "-- 6150_1_1\n",
      "-- 6150_1_0\n",
      "-- 6150_1_3\n",
      "-- 6150_1_2\n",
      "-- 6180_3_4\n",
      "-- 6180_3_0\n",
      "-- 6180_3_1\n",
      "-- 6180_3_2\n",
      "-- 6180_3_3\n",
      "-- 6180_1_2\n",
      "-- 6180_1_3\n",
      "-- 6180_1_0\n",
      "-- 6180_1_1\n",
      "-- 6180_1_4\n",
      "-- 6010_1_4\n",
      "-- 6010_1_0\n",
      "-- 6010_1_1\n",
      "-- 6010_1_2\n",
      "-- 6010_1_3\n",
      "-- 6010_3_2\n",
      "-- 6010_3_3\n",
      "-- 6010_3_0\n",
      "-- 6010_3_1\n",
      "-- 6010_3_4\n",
      "-- 6020_0_4\n",
      "-- 6020_0_0\n",
      "-- 6020_0_1\n",
      "-- 6020_0_2\n",
      "-- 6020_0_3\n",
      "-- 6020_2_2\n",
      "-- 6020_2_3\n",
      "-- 6020_2_0\n",
      "-- 6020_2_1\n",
      "-- 6020_2_4\n",
      "-- 6020_4_0\n",
      "-- 6020_4_1\n",
      "-- 6020_4_2\n",
      "-- 6020_4_3\n",
      "-- 6020_4_4\n",
      "-- 6110_0_1\n",
      "-- 6150_0_4\n",
      "-- 6150_0_0\n",
      "-- 6150_0_1\n",
      "-- 6150_0_2\n",
      "-- 6150_0_3\n",
      "-- 6100_2_1\n",
      "-- 6100_2_0\n",
      "-- 6150_2_2\n",
      "-- 6150_2_0\n",
      "-- 6150_2_1\n",
      "-- 6150_2_4\n",
      "-- 6170_4_2\n",
      "-- 6050_3_1\n",
      "-- 6170_4_3\n",
      "-- 6150_4_0\n",
      "-- 6150_4_1\n",
      "-- 6150_4_2\n",
      "-- 6150_4_3\n",
      "-- 6150_4_4\n",
      "-- 6170_4_0\n",
      "-- 6070_3_4\n",
      "-- 6070_3_0\n",
      "-- 6070_3_1\n",
      "-- 6070_3_2\n",
      "-- 6070_3_3\n",
      "-- 6070_1_2\n",
      "-- 6070_1_3\n",
      "-- 6070_1_0\n",
      "-- 6070_1_1\n",
      "-- 6070_1_4\n",
      "-- 6120_0_3\n",
      "-- 6110_1_1\n",
      "-- 6110_1_0\n",
      "-- 6110_1_3\n",
      "-- 6110_1_4\n",
      "-- 6110_3_4\n",
      "-- 6110_3_3\n",
      "-- 6110_3_2\n",
      "-- 6110_3_0\n",
      "-- 6060_2_1\n",
      "-- 6140_3_3\n",
      "-- 6020_1_4\n",
      "-- 6020_1_1\n",
      "-- 6020_1_0\n",
      "-- 6020_1_3\n",
      "-- 6020_1_2\n",
      "-- 6020_3_3\n",
      "-- 6020_3_2\n",
      "-- 6020_3_1\n",
      "-- 6020_3_0\n",
      "-- 6020_3_4\n",
      "-- 6050_2_4\n",
      "-- 6050_2_3\n",
      "-- 6050_2_2\n",
      "-- 6050_2_1\n",
      "-- 6050_2_0\n",
      "-- 6100_3_4\n",
      "-- 6100_3_0\n",
      "-- 6100_3_1\n",
      "-- 6100_3_2\n",
      "-- 6100_3_3\n",
      "-- 6060_1_1\n",
      "-- 6060_1_0\n",
      "-- 6060_1_3\n",
      "-- 6060_1_2\n",
      "-- 6060_1_4\n",
      "-- 6060_3_4\n",
      "-- 6060_3_3\n",
      "-- 6060_3_2\n",
      "-- 6060_3_1\n",
      "-- 6060_3_0\n",
      "-- 6070_2_4\n",
      "-- 6070_2_1\n",
      "-- 6070_2_0\n",
      "-- 6070_2_3\n",
      "-- 6070_2_2\n",
      "-- 6040_2_0\n",
      "-- 6040_2_1\n",
      "-- 6040_2_3\n",
      "-- 6040_2_4\n",
      "-- 6070_0_3\n",
      "-- 6070_0_2\n",
      "-- 6070_0_1\n",
      "-- 6070_0_0\n",
      "-- 6070_0_4\n",
      "-- 6100_4_3\n",
      "-- 6040_0_4\n",
      "-- 6040_0_2\n",
      "-- 6040_0_3\n",
      "-- 6040_0_0\n",
      "-- 6040_0_1\n",
      "-- 6050_0_1\n",
      "-- 6050_0_0\n",
      "-- 6050_0_3\n",
      "-- 6050_0_2\n",
      "-- 6050_0_4\n",
      "-- 6070_4_4\n",
      "-- 6070_4_3\n",
      "-- 6070_4_2\n",
      "-- 6070_4_1\n",
      "-- 6070_4_0\n",
      "-- 6140_3_0\n",
      "-- 6140_3_2\n",
      "-- 6100_4_4\n",
      "-- 6140_3_4\n",
      "-- 6100_4_2\n",
      "-- 6100_4_1\n",
      "-- 6100_4_0\n",
      "-- 6140_0_1\n",
      "-- 6140_1_4\n",
      "-- 6140_1_3\n",
      "-- 6140_1_0\n",
      "-- 6140_1_1\n",
      "-- 6040_4_2\n",
      "-- 6040_4_3\n",
      "-- 6040_4_0\n",
      "-- 6040_4_1\n",
      "-- 6040_4_4\n",
      "-- 6010_4_0\n",
      "-- 6110_0_0\n",
      "-- 6050_4_4\n",
      "-- 6110_0_2\n",
      "-- 6110_0_3\n",
      "-- 6110_0_4\n",
      "-- 6050_4_0\n",
      "-- 6050_4_3\n",
      "-- 6050_4_2\n",
      "-- 6030_3_0\n",
      "-- 6030_3_1\n",
      "-- 6030_3_2\n",
      "-- 6030_3_3\n",
      "-- 6030_3_4\n",
      "-- 6110_2_4\n",
      "-- 6110_2_2\n",
      "-- 6110_2_3\n",
      "-- 6110_2_0\n",
      "-- 6110_2_1\n",
      "-- 6120_4_1\n",
      "-- 6120_4_0\n",
      "-- 6120_4_3\n",
      "-- 6120_4_2\n",
      "-- 6110_4_4\n",
      "-- 6110_4_1\n",
      "-- 6110_4_2\n",
      "-- 6110_4_3\n",
      "-- 6060_4_4\n",
      "-- 6060_4_0\n",
      "-- 6060_4_1\n",
      "-- 6060_4_2\n",
      "-- 6060_4_3\n",
      "-- 6100_2_4\n",
      "-- 6050_3_4\n",
      "-- 6050_3_2\n",
      "-- 6050_3_3\n",
      "-- 6050_3_0\n",
      "-- 6100_2_2\n",
      "-- 6100_0_3\n",
      "-- 6100_0_2\n",
      "-- 6100_0_1\n",
      "-- 6100_0_0\n",
      "-- 6100_0_4\n",
      "-- 6060_0_0\n",
      "-- 6060_0_1\n",
      "-- 6060_0_2\n",
      "-- 6060_0_3\n",
      "-- 6060_0_4\n",
      "-- 6160_1_0\n",
      "-- 6060_2_4\n",
      "-- 6060_2_2\n",
      "-- 6060_2_0\n",
      "-- 6160_1_1\n",
      "-- 6040_3_1\n",
      "-- 6040_3_0\n",
      "-- 6040_3_3\n",
      "-- 6040_3_2\n",
      "-- 6040_3_4\n",
      "-- 6090_0_4\n",
      "-- 6160_1_3\n",
      "-- 6090_0_1\n",
      "-- 6090_0_0\n",
      "-- 6090_0_3\n",
      "-- 6090_0_2\n",
      "-- 6090_2_3\n",
      "-- 6090_2_2\n",
      "-- 6090_2_1\n",
      "-- 6040_1_4\n",
      "-- 6040_1_2\n",
      "-- 6040_1_1\n",
      "-- 6090_2_4\n",
      "-- 6030_0_4\n",
      "-- 6030_0_3\n",
      "-- 6030_0_2\n",
      "-- 6030_0_1\n",
      "-- 6030_0_0\n",
      "-- 6050_1_0\n",
      "-- 6050_1_1\n",
      "-- 6050_1_2\n",
      "-- 6050_1_3\n",
      "-- 6050_1_4\n",
      "-- 6120_1_0\n",
      "-- 6120_1_1\n",
      "-- 6120_1_2\n",
      "-- 6120_1_3\n",
      "-- 6120_1_4\n",
      "-- 6120_0_4\n",
      "-- 6160_1_4\n",
      "-- 6130_3_0\n",
      "-- 6140_0_4\n",
      "-- 6140_0_3\n",
      "-- 6140_0_2\n",
      "-- 6160_1_2\n",
      "-- 6140_0_0\n",
      "-- 6120_3_4\n",
      "-- 6120_3_2\n",
      "-- 6120_3_3\n",
      "-- 6120_3_0\n",
      "-- 6120_3_1\n",
      "-- 6100_1_2\n",
      "-- 6100_1_0\n",
      "-- 6100_1_1\n",
      "-- 6100_1_4\n",
      "-- 6140_4_3\n",
      "-- 6140_4_2\n",
      "-- 6140_4_1\n",
      "-- 6140_4_0\n",
      "-- 6140_4_4\n",
      "-- 6160_0_4\n",
      "-- 6140_2_1\n",
      "-- 6140_2_0\n",
      "-- 6140_2_3\n",
      "-- 6140_2_2\n",
      "-- 6140_2_4\n",
      "-- 6030_4_3\n",
      "-- 6030_4_2\n",
      "-- 6030_4_1\n",
      "-- 6030_4_0\n",
      "-- 6030_4_4\n",
      "-- 6130_3_4\n",
      "-- 6030_2_1\n",
      "-- 6030_2_0\n",
      "-- 6030_2_3\n",
      "-- 6030_2_2\n",
      "-- 6030_2_4\n",
      "-- 6090_3_2\n",
      "-- 6090_3_3\n",
      "-- 6090_3_0\n",
      "-- 6090_3_1\n",
      "-- 6090_3_4\n",
      "-- 6080_3_4\n",
      "-- 6170_4_4\n",
      "-- 6080_3_1\n",
      "-- 6080_3_0\n",
      "-- 6080_3_3\n",
      "-- 6080_3_2\n",
      "-- 6160_4_1\n",
      "-- 6160_4_0\n",
      "-- 6160_4_3\n",
      "-- 6160_4_2\n",
      "-- 6160_4_4\n",
      "-- 6080_1_3\n",
      "-- 6080_1_2\n",
      "-- 6080_1_1\n",
      "-- 6080_1_0\n",
      "-- 6080_1_4\n",
      "-- 6170_2_0\n",
      "-- 6170_2_1\n",
      "-- 6170_2_2\n",
      "-- 6170_2_3\n",
      "-- 6170_0_2\n",
      "-- 6170_0_3\n",
      "-- 6170_0_0\n",
      "-- 6170_0_1\n",
      "-- 6090_1_4\n",
      "-- 6120_4_4\n",
      "-- 6090_1_0\n",
      "-- 6090_1_1\n",
      "-- 6090_1_2\n",
      "-- 6090_1_3\n",
      "-- 6120_0_1\n",
      "-- 6120_0_0\n",
      "-- 6030_1_4\n",
      "-- 6120_0_2\n",
      "-- 6030_1_2\n",
      "-- 6030_1_3\n",
      "-- 6030_1_0\n",
      "-- 6030_1_1\n",
      "-- 6130_3_1\n",
      "-- 6050_4_1\n",
      "-- 6130_3_3\n",
      "-- 6130_3_2\n",
      "-- 6160_0_1\n",
      "-- 6160_0_0\n",
      "-- 6160_0_3\n",
      "-- 6160_0_2\n",
      "-- 6160_2_3\n",
      "-- 6160_2_2\n",
      "-- 6160_2_0\n",
      "-- 6160_2_4\n",
      "-- 6130_1_4\n",
      "-- 6130_1_3\n",
      "-- 6130_1_2\n",
      "-- 6130_1_1\n",
      "-- 6130_1_0\n",
      "Written succesfully file :  ../results/visu/all_predictions_2017-03-07-23-29.shp\n"
     ]
    }
   ],
   "source": [
    "generate_all_shp_from_csv(\"../results/submission_2017-03-07-23-29.csv\", \"2017-03-07-23-29\")"
   ]
  },
  {
   "cell_type": "code",
   "execution_count": null,
   "metadata": {
    "collapsed": true,
    "deletable": true,
    "editable": true
   },
   "outputs": [],
   "source": []
  },
  {
   "cell_type": "code",
   "execution_count": null,
   "metadata": {
    "collapsed": true
   },
   "outputs": [],
   "source": []
  }
 ],
 "metadata": {
  "kernelspec": {
   "display_name": "Python 2",
   "language": "python",
   "name": "python2"
  },
  "language_info": {
   "codemirror_mode": {
    "name": "ipython",
    "version": 2
   },
   "file_extension": ".py",
   "mimetype": "text/x-python",
   "name": "python",
   "nbconvert_exporter": "python",
   "pygments_lexer": "ipython2",
   "version": "2.7.13"
  }
 },
 "nbformat": 4,
 "nbformat_minor": 2
}
