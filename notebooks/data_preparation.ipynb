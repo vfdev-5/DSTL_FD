{
 "cells": [
  {
   "cell_type": "markdown",
   "metadata": {},
   "source": [
    "# Data preparation"
   ]
  },
  {
   "cell_type": "code",
   "execution_count": 1,
   "metadata": {
    "collapsed": true
   },
   "outputs": [],
   "source": [
    "# https://ipython.org/ipython-doc/3/config/extensions/autoreload.html\n",
    "%load_ext autoreload\n",
    "%autoreload 2"
   ]
  },
  {
   "cell_type": "markdown",
   "metadata": {},
   "source": [
    "Image preprocessing: *variant 2*\n",
    "\n",
    "1) Alignement between panchromatic and SWIR\n",
    "\n",
    "\n",
    "\n",
    "2) Image tiling \n",
    "For each training and label images: (image_ms_pan, image_swir_pan) ~ (3348, 3391, 16), label_image ~ (3348, 3391, 10)\n",
    "- Divide into tiles with overlapping\n",
    "- Apply transformations: flip, ... keras preprocessing\n",
    "- Normalize to [0, 1] \n",
    "- Save to file"
   ]
  },
  {
   "cell_type": "code",
   "execution_count": 2,
   "metadata": {
    "collapsed": false
   },
   "outputs": [
    {
     "name": "stderr",
     "output_type": "stream",
     "text": [
      "/usr/local/lib/python2.7/site-packages/matplotlib/font_manager.py:273: UserWarning: Matplotlib is building the font cache using fc-list. This may take a moment.\n",
      "  warnings.warn('Matplotlib is building the font cache using fc-list. This may take a moment.')\n"
     ]
    }
   ],
   "source": [
    "import numpy as np\n",
    "import matplotlib.pylab as plt\n",
    "%matplotlib inline\n",
    "\n",
    "import cv2 "
   ]
  },
  {
   "cell_type": "code",
   "execution_count": 3,
   "metadata": {
    "collapsed": true
   },
   "outputs": [],
   "source": [
    "import sys\n",
    "sys.path.append(\"../common/\")\n",
    "\n",
    "from data_utils import TRAIN_IMAGE_IDS, get_resized_polygons, generate_label_file, LABELS\n",
    "from image_utils import generate_pansharpened, imwrite, get_filename, generate_aligned_swir\n",
    "from visu_utils import display_img_1b\n",
    "from geo_utils.GeoImage import GeoImage\n",
    "from geo_utils.GeoImageTiler import GeoImageTiler"
   ]
  },
  {
   "cell_type": "code",
   "execution_count": 4,
   "metadata": {
    "collapsed": true
   },
   "outputs": [],
   "source": [
    "import os\n",
    "from image_utils import TRAIN_LABEL_TILES, TRAIN_TILES, get_tile_filename"
   ]
  },
  {
   "cell_type": "markdown",
   "metadata": {},
   "source": [
    "Generate tiles : 17 bands images and 11 bands labels"
   ]
  },
  {
   "cell_type": "code",
   "execution_count": 6,
   "metadata": {
    "collapsed": false,
    "scrolled": true
   },
   "outputs": [
    {
     "name": "stdout",
     "output_type": "stream",
     "text": [
      "-- 6040_2_2 1 / 25\n",
      "-- 6120_2_2 2 / 25\n",
      "-- 6120_2_0 3 / 25\n",
      "-- 6090_2_0 4 / 25\n",
      "-- 6040_1_3 5 / 25\n",
      "-- 6040_1_0 6 / 25\n",
      "-- 6100_1_3 7 / 25\n",
      "-- 6010_4_2 8 / 25\n",
      "-- 6110_4_0 9 / 25\n",
      "-- 6140_3_1 10 / 25\n",
      "-- 6110_1_2 11 / 25\n",
      "-- 6100_2_3 12 / 25\n",
      "-- 6150_2_3 13 / 25\n",
      "-- 6160_2_1 14 / 25\n",
      "-- 6140_1_2 15 / 25\n",
      "-- 6110_3_1 16 / 25\n",
      "-- 6010_4_4 17 / 25\n",
      "-- 6170_2_4 18 / 25\n",
      "-- 6170_4_1 19 / 25\n",
      "-- 6170_0_4 20 / 25\n",
      "-- 6060_2_3 21 / 25\n",
      "-- 6070_2_3 22 / 25\n",
      "-- 6010_1_2 23 / 25\n",
      "-- 6040_4_4 24 / 25\n",
      "-- 6100_2_2 25 / 25\n"
     ]
    }
   ],
   "source": [
    "tile_size = (512, 512)\n",
    "overlapping = 64\n",
    "include_nodata = False\n",
    "\n",
    "for i, image_id in enumerate(TRAIN_IMAGE_IDS):\n",
    "    print \"--\", image_id, i+1, \"/\", len(TRAIN_IMAGE_IDS)\n",
    "    \n",
    "    # Generate aligned swir file\n",
    "    generate_aligned_swir(image_id)    \n",
    "    \n",
    "    # Generate pansharpened\n",
    "    generate_pansharpened(image_id, 'ms')\n",
    "    generate_pansharpened(image_id, 'swir_aligned')\n",
    "    # Generate label image\n",
    "    generate_label_file(image_id, multi_dim=True)\n",
    "\n",
    "    gimg_pan = GeoImage(get_filename(image_id, 'pan'))\n",
    "    gimg_ms = GeoImage(get_filename(image_id, 'ms_pan'))\n",
    "    gimg_swir = GeoImage(get_filename(image_id, 'swir_pan'))\n",
    "    gimg_label = GeoImage(get_filename(image_id, 'label'))\n",
    "    \n",
    "    gimg_pan_tiles = GeoImageTiler(gimg_pan, tile_size=tile_size, overlapping=overlapping, include_nodata=include_nodata, nodata_value=0.0)\n",
    "    gimg_ms_tiles = GeoImageTiler(gimg_ms, tile_size=tile_size, overlapping=overlapping, include_nodata=include_nodata, nodata_value=0.0)\n",
    "    gimg_swir_tiles = GeoImageTiler(gimg_swir, tile_size=tile_size, overlapping=overlapping, include_nodata=include_nodata, nodata_value=0.0)\n",
    "    gimg_label_tiles = GeoImageTiler(gimg_label, tile_size=tile_size, overlapping=overlapping, include_nodata=include_nodata, nodata_value=0.0)\n",
    "    \n",
    "    for tile_info_pan, tile_info_ms, tile_info_swir, tile_info_label in \\\n",
    "            zip(gimg_pan_tiles, gimg_ms_tiles, gimg_swir_tiles, gimg_label_tiles):\n",
    "    \n",
    "        tile_pan, xoffset_pan, yoffset_pan = tile_info_pan\n",
    "        tile_ms, xoffset_ms, yoffset_ms = tile_info_ms\n",
    "        tile_swir, xoffset_swir, yoffset_swir = tile_info_swir\n",
    "        tile_label, xoffset_label, yoffset_label = tile_info_label\n",
    "\n",
    "        h, w, _ = tile_pan.shape\n",
    "        x = np.zeros((h, w, 17), dtype=np.uint16)\n",
    "        x[:,:,0] = tile_pan[:,:,0]; x[:,:,1:9] = tile_ms; x[:,:,9:] = tile_swir\n",
    "        imwrite(get_tile_filename(image_id, xoffset_ms, yoffset_ms, '17b'), x)\n",
    "        y = tile_label\n",
    "        imwrite(get_tile_filename(image_id, xoffset_label, yoffset_label, 'label'), y)    \n",
    "\n",
    "gimg_pan.close()\n",
    "gimg_ms.close()\n",
    "gimg_swir.close()\n",
    "gimg_label.close()"
   ]
  },
  {
   "cell_type": "code",
   "execution_count": 11,
   "metadata": {
    "collapsed": false
   },
   "outputs": [
    {
     "name": "stdout",
     "output_type": "stream",
     "text": [
      "(448, 448, 17) uint16\n",
      "(448, 448, 11) uint8\n"
     ]
    }
   ],
   "source": [
    "gimg_test = GeoImage(TRAIN_TILES + '/6040_2_2_0_0.tif')\n",
    "img = gimg_test.get_data()\n",
    "print img.shape, img.dtype\n",
    "\n",
    "gimg_test_label = GeoImage(TRAIN_LABEL_TILES + '/6040_2_2_0_0.tif')\n",
    "img_label = gimg_test_label.get_data()\n",
    "print img_label.shape, img_label.dtype\n"
   ]
  },
  {
   "cell_type": "code",
   "execution_count": 12,
   "metadata": {
    "collapsed": false
   },
   "outputs": [
    {
     "data": {
      "text/plain": [
       "<matplotlib.image.AxesImage at 0x139a28950>"
      ]
     },
     "execution_count": 12,
     "metadata": {},
     "output_type": "execute_result"
    },
    {
     "data": {
      "image/png": "[encoded data removed]",
      "text/plain": [
       "<matplotlib.figure.Figure at 0x1397ffe90>"
      ]
     },
     "metadata": {},
     "output_type": "display_data"
    }
   ],
   "source": [
    "nimg = img * 1.0/2**12\n",
    "plt.figure()\n",
    "plt.subplot(121)\n",
    "plt.imshow(nimg[:,:,0], cmap='gray')\n",
    "plt.subplot(122)\n",
    "plt.imshow(img_label[:,:,0], cmap='gray')"
   ]
  },
  {
   "cell_type": "code",
   "execution_count": 9,
   "metadata": {
    "collapsed": false
   },
   "outputs": [
    {
     "data": {
      "text/plain": [
       "<matplotlib.image.AxesImage at 0x1397e2c10>"
      ]
     },
     "execution_count": 9,
     "metadata": {},
     "output_type": "execute_result"
    },
    {
     "data": {
      "image/png": "[encoded data removed]",
      "text/plain": [
       "<matplotlib.figure.Figure at 0x1396bdf10>"
      ]
     },
     "metadata": {},
     "output_type": "display_data"
    }
   ],
   "source": [
    "from image_utils import get_image_tile_data\n",
    "\n",
    "img = get_image_tile_data(TRAIN_TILES + '/6040_2_2_0_0.tif')\n",
    "\n",
    "nimg = img * 1.0/2**12\n",
    "plt.figure()\n",
    "plt.imshow(nimg[:,:,0], cmap='gray')"
   ]
  },
  {
   "cell_type": "code",
   "execution_count": null,
   "metadata": {
    "collapsed": true
   },
   "outputs": [],
   "source": []
  },
  {
   "cell_type": "code",
   "execution_count": null,
   "metadata": {
    "collapsed": true
   },
   "outputs": [],
   "source": []
  },
  {
   "cell_type": "code",
   "execution_count": 10,
   "metadata": {
    "collapsed": false
   },
   "outputs": [
    {
     "data": {
      "text/plain": [
       "(3348, 3391, 11)"
      ]
     },
     "execution_count": 10,
     "metadata": {},
     "output_type": "execute_result"
    }
   ],
   "source": [
    "from image_utils import get_image_data\n",
    "label_img = get_image_data(\"6100_2_2\", 'label')\n",
    "label_img.shape"
   ]
  },
  {
   "cell_type": "code",
   "execution_count": 9,
   "metadata": {
    "collapsed": true
   },
   "outputs": [],
   "source": [
    "\n",
    "def normalize_image(img_data, interp=cv2.INTER_CUBIC):\n",
    "    img_data = cv2.resize(img_data, dsize=(512, 512), interpolation=interp)\n",
    "    out = np.zeros_like(img_data)\n",
    "    for c in range(img_data.shape[2]):        \n",
    "        min_value, max_value, _, _ = cv2.minMaxLoc(img_data[:,:,c])\n",
    "        out[:,:,c] = (img_data[:,:,c] - min_value)/(max_value - min_value + 0.0001)            \n",
    "    out = out.transpose([2,0,1])\n",
    "    out = out[None,:]\n",
    "    return out"
   ]
  },
  {
   "cell_type": "code",
   "execution_count": null,
   "metadata": {
    "collapsed": true
   },
   "outputs": [],
   "source": []
  },
  {
   "cell_type": "code",
   "execution_count": null,
   "metadata": {
    "collapsed": true
   },
   "outputs": [],
   "source": []
  },
  {
   "cell_type": "markdown",
   "metadata": {},
   "source": [
    "Generate 1-band labels and 17 bands image tiles"
   ]
  },
  {
   "cell_type": "code",
   "execution_count": 5,
   "metadata": {
    "collapsed": false
   },
   "outputs": [
    {
     "name": "stderr",
     "output_type": "stream",
     "text": [
      "WARNING:root:File '../input/generated/6040_2_2_A_aligned.tif' is already existing\n",
      "WARNING:root:File '../input/generated/6040_2_2_M_P.tif' is already existing\n",
      "WARNING:root:File '../input/generated/6040_2_2_A_P.tif' is already existing\n"
     ]
    },
    {
     "name": "stdout",
     "output_type": "stream",
     "text": [
      "-- 6040_2_2\n"
     ]
    },
    {
     "name": "stderr",
     "output_type": "stream",
     "text": [
      "WARNING:root:No geo transformer found\n",
      "WARNING:root:No geo transformer found\n",
      "WARNING:root:No geo transformer found\n",
      "WARNING:root:No geo transformer found\n",
      "WARNING:root:File '../input/generated/6120_2_2_A_aligned.tif' is already existing\n",
      "WARNING:root:File '../input/generated/6120_2_2_M_P.tif' is already existing\n",
      "WARNING:root:File '../input/generated/6120_2_2_A_P.tif' is already existing\n"
     ]
    },
    {
     "name": "stdout",
     "output_type": "stream",
     "text": [
      "-- 6120_2_2\n"
     ]
    },
    {
     "name": "stderr",
     "output_type": "stream",
     "text": [
      "WARNING:root:No geo transformer found\n",
      "WARNING:root:No geo transformer found\n",
      "WARNING:root:No geo transformer found\n",
      "WARNING:root:No geo transformer found\n",
      "WARNING:root:File '../input/generated/6120_2_0_A_aligned.tif' is already existing\n",
      "WARNING:root:File '../input/generated/6120_2_0_M_P.tif' is already existing\n",
      "WARNING:root:File '../input/generated/6120_2_0_A_P.tif' is already existing\n"
     ]
    },
    {
     "name": "stdout",
     "output_type": "stream",
     "text": [
      "-- 6120_2_0\n"
     ]
    },
    {
     "name": "stderr",
     "output_type": "stream",
     "text": [
      "WARNING:root:No geo transformer found\n",
      "WARNING:root:No geo transformer found\n",
      "WARNING:root:No geo transformer found\n",
      "WARNING:root:No geo transformer found\n",
      "WARNING:root:File '../input/generated/6090_2_0_A_aligned.tif' is already existing\n",
      "WARNING:root:File '../input/generated/6090_2_0_M_P.tif' is already existing\n",
      "WARNING:root:File '../input/generated/6090_2_0_A_P.tif' is already existing\n"
     ]
    },
    {
     "name": "stdout",
     "output_type": "stream",
     "text": [
      "-- 6090_2_0\n"
     ]
    },
    {
     "name": "stderr",
     "output_type": "stream",
     "text": [
      "WARNING:root:No geo transformer found\n",
      "WARNING:root:No geo transformer found\n",
      "WARNING:root:No geo transformer found\n",
      "WARNING:root:No geo transformer found\n",
      "WARNING:root:File '../input/generated/6040_1_3_A_aligned.tif' is already existing\n",
      "WARNING:root:File '../input/generated/6040_1_3_M_P.tif' is already existing\n",
      "WARNING:root:File '../input/generated/6040_1_3_A_P.tif' is already existing\n"
     ]
    },
    {
     "name": "stdout",
     "output_type": "stream",
     "text": [
      "-- 6040_1_3\n"
     ]
    },
    {
     "name": "stderr",
     "output_type": "stream",
     "text": [
      "WARNING:root:No geo transformer found\n",
      "WARNING:root:No geo transformer found\n",
      "WARNING:root:No geo transformer found\n",
      "WARNING:root:No geo transformer found\n",
      "WARNING:root:File '../input/generated/6040_1_0_A_aligned.tif' is already existing\n",
      "WARNING:root:File '../input/generated/6040_1_0_M_P.tif' is already existing\n",
      "WARNING:root:File '../input/generated/6040_1_0_A_P.tif' is already existing\n"
     ]
    },
    {
     "name": "stdout",
     "output_type": "stream",
     "text": [
      "-- 6040_1_0\n"
     ]
    },
    {
     "name": "stderr",
     "output_type": "stream",
     "text": [
      "WARNING:root:No geo transformer found\n",
      "WARNING:root:No geo transformer found\n",
      "WARNING:root:No geo transformer found\n",
      "WARNING:root:No geo transformer found\n",
      "WARNING:root:File '../input/generated/6100_1_3_A_aligned.tif' is already existing\n",
      "WARNING:root:File '../input/generated/6100_1_3_M_P.tif' is already existing\n",
      "WARNING:root:File '../input/generated/6100_1_3_A_P.tif' is already existing\n"
     ]
    },
    {
     "name": "stdout",
     "output_type": "stream",
     "text": [
      "-- 6100_1_3\n"
     ]
    },
    {
     "name": "stderr",
     "output_type": "stream",
     "text": [
      "WARNING:root:No geo transformer found\n",
      "WARNING:root:No geo transformer found\n",
      "WARNING:root:No geo transformer found\n",
      "WARNING:root:No geo transformer found\n",
      "WARNING:root:File '../input/generated/6010_4_2_A_aligned.tif' is already existing\n",
      "WARNING:root:File '../input/generated/6010_4_2_M_P.tif' is already existing\n",
      "WARNING:root:File '../input/generated/6010_4_2_A_P.tif' is already existing\n"
     ]
    },
    {
     "name": "stdout",
     "output_type": "stream",
     "text": [
      "-- 6010_4_2\n"
     ]
    },
    {
     "name": "stderr",
     "output_type": "stream",
     "text": [
      "WARNING:root:No geo transformer found\n",
      "WARNING:root:No geo transformer found\n",
      "WARNING:root:No geo transformer found\n",
      "WARNING:root:No geo transformer found\n",
      "WARNING:root:File '../input/generated/6110_4_0_A_aligned.tif' is already existing\n",
      "WARNING:root:File '../input/generated/6110_4_0_M_P.tif' is already existing\n",
      "WARNING:root:File '../input/generated/6110_4_0_A_P.tif' is already existing\n"
     ]
    },
    {
     "name": "stdout",
     "output_type": "stream",
     "text": [
      "-- 6110_4_0\n"
     ]
    },
    {
     "name": "stderr",
     "output_type": "stream",
     "text": [
      "WARNING:root:No geo transformer found\n",
      "WARNING:root:No geo transformer found\n",
      "WARNING:root:No geo transformer found\n",
      "WARNING:root:No geo transformer found\n",
      "WARNING:root:File '../input/generated/6140_3_1_A_aligned.tif' is already existing\n",
      "WARNING:root:File '../input/generated/6140_3_1_M_P.tif' is already existing\n",
      "WARNING:root:File '../input/generated/6140_3_1_A_P.tif' is already existing\n"
     ]
    },
    {
     "name": "stdout",
     "output_type": "stream",
     "text": [
      "-- 6140_3_1\n"
     ]
    },
    {
     "name": "stderr",
     "output_type": "stream",
     "text": [
      "WARNING:root:No geo transformer found\n",
      "WARNING:root:No geo transformer found\n",
      "WARNING:root:No geo transformer found\n",
      "WARNING:root:No geo transformer found\n",
      "WARNING:root:File '../input/generated/6110_1_2_A_aligned.tif' is already existing\n",
      "WARNING:root:File '../input/generated/6110_1_2_M_P.tif' is already existing\n",
      "WARNING:root:File '../input/generated/6110_1_2_A_P.tif' is already existing\n"
     ]
    },
    {
     "name": "stdout",
     "output_type": "stream",
     "text": [
      "-- 6110_1_2\n"
     ]
    },
    {
     "name": "stderr",
     "output_type": "stream",
     "text": [
      "WARNING:root:No geo transformer found\n",
      "WARNING:root:No geo transformer found\n",
      "WARNING:root:No geo transformer found\n",
      "WARNING:root:No geo transformer found\n",
      "WARNING:root:File '../input/generated/6100_2_3_A_aligned.tif' is already existing\n",
      "WARNING:root:File '../input/generated/6100_2_3_M_P.tif' is already existing\n",
      "WARNING:root:File '../input/generated/6100_2_3_A_P.tif' is already existing\n"
     ]
    },
    {
     "name": "stdout",
     "output_type": "stream",
     "text": [
      "-- 6100_2_3\n"
     ]
    },
    {
     "name": "stderr",
     "output_type": "stream",
     "text": [
      "WARNING:root:No geo transformer found\n",
      "WARNING:root:No geo transformer found\n",
      "WARNING:root:No geo transformer found\n",
      "WARNING:root:No geo transformer found\n",
      "WARNING:root:File '../input/generated/6150_2_3_A_aligned.tif' is already existing\n",
      "WARNING:root:File '../input/generated/6150_2_3_M_P.tif' is already existing\n",
      "WARNING:root:File '../input/generated/6150_2_3_A_P.tif' is already existing\n"
     ]
    },
    {
     "name": "stdout",
     "output_type": "stream",
     "text": [
      "-- 6150_2_3\n"
     ]
    },
    {
     "name": "stderr",
     "output_type": "stream",
     "text": [
      "WARNING:root:No geo transformer found\n",
      "WARNING:root:No geo transformer found\n",
      "WARNING:root:No geo transformer found\n",
      "WARNING:root:No geo transformer found\n",
      "WARNING:root:File '../input/generated/6160_2_1_A_aligned.tif' is already existing\n",
      "WARNING:root:File '../input/generated/6160_2_1_M_P.tif' is already existing\n",
      "WARNING:root:File '../input/generated/6160_2_1_A_P.tif' is already existing\n"
     ]
    },
    {
     "name": "stdout",
     "output_type": "stream",
     "text": [
      "-- 6160_2_1\n"
     ]
    },
    {
     "name": "stderr",
     "output_type": "stream",
     "text": [
      "WARNING:root:No geo transformer found\n",
      "WARNING:root:No geo transformer found\n",
      "WARNING:root:No geo transformer found\n",
      "WARNING:root:No geo transformer found\n",
      "WARNING:root:File '../input/generated/6140_1_2_A_aligned.tif' is already existing\n",
      "WARNING:root:File '../input/generated/6140_1_2_M_P.tif' is already existing\n",
      "WARNING:root:File '../input/generated/6140_1_2_A_P.tif' is already existing\n"
     ]
    },
    {
     "name": "stdout",
     "output_type": "stream",
     "text": [
      "-- 6140_1_2\n"
     ]
    },
    {
     "name": "stderr",
     "output_type": "stream",
     "text": [
      "WARNING:root:No geo transformer found\n",
      "WARNING:root:No geo transformer found\n",
      "WARNING:root:No geo transformer found\n",
      "WARNING:root:No geo transformer found\n",
      "WARNING:root:File '../input/generated/6110_3_1_A_aligned.tif' is already existing\n",
      "WARNING:root:File '../input/generated/6110_3_1_M_P.tif' is already existing\n",
      "WARNING:root:File '../input/generated/6110_3_1_A_P.tif' is already existing\n"
     ]
    },
    {
     "name": "stdout",
     "output_type": "stream",
     "text": [
      "-- 6110_3_1\n"
     ]
    },
    {
     "name": "stderr",
     "output_type": "stream",
     "text": [
      "WARNING:root:No geo transformer found\n",
      "WARNING:root:No geo transformer found\n",
      "WARNING:root:No geo transformer found\n",
      "WARNING:root:No geo transformer found\n",
      "WARNING:root:File '../input/generated/6010_4_4_A_aligned.tif' is already existing\n",
      "WARNING:root:File '../input/generated/6010_4_4_M_P.tif' is already existing\n",
      "WARNING:root:File '../input/generated/6010_4_4_A_P.tif' is already existing\n"
     ]
    },
    {
     "name": "stdout",
     "output_type": "stream",
     "text": [
      "-- 6010_4_4\n"
     ]
    },
    {
     "name": "stderr",
     "output_type": "stream",
     "text": [
      "WARNING:root:No geo transformer found\n",
      "WARNING:root:No geo transformer found\n",
      "WARNING:root:No geo transformer found\n",
      "WARNING:root:No geo transformer found\n",
      "WARNING:root:File '../input/generated/6170_2_4_A_aligned.tif' is already existing\n",
      "WARNING:root:File '../input/generated/6170_2_4_M_P.tif' is already existing\n",
      "WARNING:root:File '../input/generated/6170_2_4_A_P.tif' is already existing\n"
     ]
    },
    {
     "name": "stdout",
     "output_type": "stream",
     "text": [
      "-- 6170_2_4\n"
     ]
    },
    {
     "name": "stderr",
     "output_type": "stream",
     "text": [
      "WARNING:root:No geo transformer found\n",
      "WARNING:root:No geo transformer found\n",
      "WARNING:root:No geo transformer found\n",
      "WARNING:root:No geo transformer found\n",
      "WARNING:root:File '../input/generated/6170_4_1_A_aligned.tif' is already existing\n",
      "WARNING:root:File '../input/generated/6170_4_1_M_P.tif' is already existing\n",
      "WARNING:root:File '../input/generated/6170_4_1_A_P.tif' is already existing\n"
     ]
    },
    {
     "name": "stdout",
     "output_type": "stream",
     "text": [
      "-- 6170_4_1\n"
     ]
    },
    {
     "name": "stderr",
     "output_type": "stream",
     "text": [
      "WARNING:root:No geo transformer found\n",
      "WARNING:root:No geo transformer found\n",
      "WARNING:root:No geo transformer found\n",
      "WARNING:root:No geo transformer found\n",
      "WARNING:root:File '../input/generated/6170_0_4_A_aligned.tif' is already existing\n",
      "WARNING:root:File '../input/generated/6170_0_4_M_P.tif' is already existing\n",
      "WARNING:root:File '../input/generated/6170_0_4_A_P.tif' is already existing\n"
     ]
    },
    {
     "name": "stdout",
     "output_type": "stream",
     "text": [
      "-- 6170_0_4\n"
     ]
    },
    {
     "name": "stderr",
     "output_type": "stream",
     "text": [
      "WARNING:root:No geo transformer found\n",
      "WARNING:root:No geo transformer found\n",
      "WARNING:root:No geo transformer found\n",
      "WARNING:root:No geo transformer found\n",
      "WARNING:root:File '../input/generated/6060_2_3_A_aligned.tif' is already existing\n",
      "WARNING:root:File '../input/generated/6060_2_3_M_P.tif' is already existing\n",
      "WARNING:root:File '../input/generated/6060_2_3_A_P.tif' is already existing\n"
     ]
    },
    {
     "name": "stdout",
     "output_type": "stream",
     "text": [
      "-- 6060_2_3\n"
     ]
    },
    {
     "name": "stderr",
     "output_type": "stream",
     "text": [
      "WARNING:root:No geo transformer found\n",
      "WARNING:root:No geo transformer found\n",
      "WARNING:root:No geo transformer found\n",
      "WARNING:root:No geo transformer found\n",
      "WARNING:root:File '../input/generated/6070_2_3_A_aligned.tif' is already existing\n",
      "WARNING:root:File '../input/generated/6070_2_3_M_P.tif' is already existing\n",
      "WARNING:root:File '../input/generated/6070_2_3_A_P.tif' is already existing\n"
     ]
    },
    {
     "name": "stdout",
     "output_type": "stream",
     "text": [
      "-- 6070_2_3\n"
     ]
    },
    {
     "name": "stderr",
     "output_type": "stream",
     "text": [
      "WARNING:root:No geo transformer found\n",
      "WARNING:root:No geo transformer found\n",
      "WARNING:root:No geo transformer found\n",
      "WARNING:root:No geo transformer found\n",
      "WARNING:root:File '../input/generated/6010_1_2_A_aligned.tif' is already existing\n",
      "WARNING:root:File '../input/generated/6010_1_2_M_P.tif' is already existing\n",
      "WARNING:root:File '../input/generated/6010_1_2_A_P.tif' is already existing\n"
     ]
    },
    {
     "name": "stdout",
     "output_type": "stream",
     "text": [
      "-- 6010_1_2\n"
     ]
    },
    {
     "name": "stderr",
     "output_type": "stream",
     "text": [
      "WARNING:root:No geo transformer found\n",
      "WARNING:root:No geo transformer found\n",
      "WARNING:root:No geo transformer found\n",
      "WARNING:root:No geo transformer found\n",
      "WARNING:root:File '../input/generated/6040_4_4_A_aligned.tif' is already existing\n",
      "WARNING:root:File '../input/generated/6040_4_4_M_P.tif' is already existing\n",
      "WARNING:root:File '../input/generated/6040_4_4_A_P.tif' is already existing\n"
     ]
    },
    {
     "name": "stdout",
     "output_type": "stream",
     "text": [
      "-- 6040_4_4\n"
     ]
    },
    {
     "name": "stderr",
     "output_type": "stream",
     "text": [
      "WARNING:root:No geo transformer found\n",
      "WARNING:root:No geo transformer found\n",
      "WARNING:root:No geo transformer found\n",
      "WARNING:root:No geo transformer found\n",
      "WARNING:root:File '../input/generated/6100_2_2_A_aligned.tif' is already existing\n",
      "WARNING:root:File '../input/generated/6100_2_2_M_P.tif' is already existing\n",
      "WARNING:root:File '../input/generated/6100_2_2_A_P.tif' is already existing\n"
     ]
    },
    {
     "name": "stdout",
     "output_type": "stream",
     "text": [
      "-- 6100_2_2\n"
     ]
    },
    {
     "name": "stderr",
     "output_type": "stream",
     "text": [
      "WARNING:root:No geo transformer found\n",
      "WARNING:root:No geo transformer found\n",
      "WARNING:root:No geo transformer found\n",
      "WARNING:root:No geo transformer found\n"
     ]
    }
   ],
   "source": [
    "tile_size = (512, 512)\n",
    "overlapping = 64\n",
    "include_nodata = True\n",
    "\n",
    "for i, image_id in enumerate(TRAIN_IMAGE_IDS):\n",
    "    print \"--\", image_id, i, \"/\", len(TRAIN_IMAGE_IDS)\n",
    "    \n",
    "    # Generate aligned swir file\n",
    "    generate_aligned_swir(image_id)    \n",
    "    \n",
    "    # Generate pansharpened\n",
    "    generate_pansharpened(image_id, 'ms')\n",
    "    generate_pansharpened(image_id, 'swir_aligned')\n",
    "    # Generate label image\n",
    "    generate_label_file(image_id, multi_dim=False)\n",
    "\n",
    "    gimg_pan = GeoImage(get_filename(image_id, 'pan'))\n",
    "    gimg_ms = GeoImage(get_filename(image_id, 'ms_pan'))\n",
    "    gimg_swir = GeoImage(get_filename(image_id, 'swir_pan'))\n",
    "    gimg_label = GeoImage(get_filename(image_id, 'label_1d'))\n",
    "    \n",
    "    gimg_pan_tiles = GeoImageTiler(gimg_pan, tile_size=tile_size, overlapping=overlapping, include_nodata=include_nodata, nodata_value=0.0)\n",
    "    gimg_ms_tiles = GeoImageTiler(gimg_ms, tile_size=tile_size, overlapping=overlapping, include_nodata=include_nodata, nodata_value=0.0)\n",
    "    gimg_swir_tiles = GeoImageTiler(gimg_swir, tile_size=tile_size, overlapping=overlapping, include_nodata=include_nodata, nodata_value=0.0)\n",
    "    gimg_label_tiles = GeoImageTiler(gimg_label, tile_size=tile_size, overlapping=overlapping, include_nodata=include_nodata, nodata_value=0.0)\n",
    "    \n",
    "    for tile_info_pan, tile_info_ms, tile_info_swir, tile_info_label in \\\n",
    "            zip(gimg_pan_tiles, gimg_ms_tiles, gimg_swir_tiles, gimg_label_tiles):\n",
    "    \n",
    "        tile_pan, xoffset_pan, yoffset_pan = tile_info_pan\n",
    "        tile_ms, xoffset_ms, yoffset_ms = tile_info_ms\n",
    "        tile_swir, xoffset_swir, yoffset_swir = tile_info_swir\n",
    "        tile_label, xoffset_label, yoffset_label = tile_info_label\n",
    "\n",
    "        h, w, _ = tile_pan.shape\n",
    "        x = np.zeros((h, w, 17), dtype=np.uint16)\n",
    "        x[:,:,0] = tile_pan[:,:,0]; x[:,:,1:9] = tile_ms; x[:,:,9:] = tile_swir\n",
    "        imwrite(get_tile_filename(image_id, xoffset_ms, yoffset_ms, '17b'), x)\n",
    "        y = tile_label\n",
    "        imwrite(get_tile_filename(image_id, xoffset_label, yoffset_label, 'label_1d'), y)    "
   ]
  },
  {
   "cell_type": "code",
   "execution_count": null,
   "metadata": {
    "collapsed": true
   },
   "outputs": [],
   "source": []
  }
 ],
 "metadata": {
  "kernelspec": {
   "display_name": "Python 2",
   "language": "python",
   "name": "python2"
  },
  "language_info": {
   "codemirror_mode": {
    "name": "ipython",
    "version": 2
   },
   "file_extension": ".py",
   "mimetype": "text/x-python",
   "name": "python",
   "nbconvert_exporter": "python",
   "pygments_lexer": "ipython2",
   "version": "2.7.13"
  }
 },
 "nbformat": 4,
 "nbformat_minor": 2
}
