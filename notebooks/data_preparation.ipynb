{
 "cells": [
  {
   "cell_type": "markdown",
   "metadata": {},
   "source": [
    "# Data preparation"
   ]
  },
  {
   "cell_type": "code",
   "execution_count": 1,
   "metadata": {
    "collapsed": true
   },
   "outputs": [],
   "source": [
    "# https://ipython.org/ipython-doc/3/config/extensions/autoreload.html\n",
    "%load_ext autoreload\n",
    "%autoreload 2"
   ]
  },
  {
   "cell_type": "code",
   "execution_count": 4,
   "metadata": {
    "collapsed": false
   },
   "outputs": [
    {
     "name": "stderr",
     "output_type": "stream",
     "text": [
      "WARNING:root:File '../input/generated/6040_2_2_M_P.tif' is already existing\n",
      "WARNING:root:File '../input/generated/6040_2_2_A_P.tif' is already existing\n"
     ]
    },
    {
     "name": "stdout",
     "output_type": "stream",
     "text": [
      "-- 6040_2_2\n",
      "-- 6120_2_2\n",
      "-- 6120_2_0\n",
      "-- 6090_2_0\n",
      "-- 6040_1_3\n",
      "-- 6040_1_0\n",
      "-- 6100_1_3\n",
      "-- 6010_4_2\n",
      "-- 6110_4_0\n",
      "-- 6140_3_1\n",
      "-- 6110_1_2\n",
      "-- 6100_2_3\n",
      "-- 6150_2_3\n",
      "-- 6160_2_1\n",
      "-- 6140_1_2\n",
      "-- 6110_3_1\n",
      "-- 6010_4_4\n",
      "-- 6170_2_4\n",
      "-- 6170_4_1\n",
      "-- 6170_0_4\n",
      "-- 6060_2_3\n",
      "-- 6070_2_3\n",
      "-- 6010_1_2\n",
      "-- 6040_4_4\n",
      "-- 6100_2_2\n"
     ]
    }
   ],
   "source": [
    "import sys\n",
    "sys.path.append(\"../common/\")\n",
    "\n",
    "from data_utils import TRAIN_IMAGE_IDS, get_resized_polygons, generate_label_file\n",
    "from image_utils import generate_pansharpened\n",
    "\n",
    "for image_id in TRAIN_IMAGE_IDS:\n",
    "    print \"--\", image_id\n",
    "    # Generate pansharpened\n",
    "    generate_pansharpened(image_id, 'ms')\n",
    "    generate_pansharpened(image_id, 'swir')\n",
    "    \n",
    "    # generate label mask\n",
    "    generate_label_file(image_id)\n"
   ]
  },
  {
   "cell_type": "code",
   "execution_count": null,
   "metadata": {
    "collapsed": true
   },
   "outputs": [],
   "source": []
  }
 ],
 "metadata": {
  "kernelspec": {
   "display_name": "Python 2",
   "language": "python",
   "name": "python2"
  },
  "language_info": {
   "codemirror_mode": {
    "name": "ipython",
    "version": 2
   },
   "file_extension": ".py",
   "mimetype": "text/x-python",
   "name": "python",
   "nbconvert_exporter": "python",
   "pygments_lexer": "ipython2",
   "version": "2.7.11"
  }
 },
 "nbformat": 4,
 "nbformat_minor": 2
}
