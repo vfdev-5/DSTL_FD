{
 "cells": [
  {
   "cell_type": "markdown",
   "metadata": {},
   "source": [
    "Test of NN "
   ]
  },
  {
   "cell_type": "code",
   "execution_count": 1,
   "metadata": {
    "collapsed": false
   },
   "outputs": [
    {
     "name": "stderr",
     "output_type": "stream",
     "text": [
      "/usr/local/lib/python2.7/site-packages/matplotlib/font_manager.py:273: UserWarning: Matplotlib is building the font cache using fc-list. This may take a moment.\n",
      "  warnings.warn('Matplotlib is building the font cache using fc-list. This may take a moment.')\n"
     ]
    }
   ],
   "source": [
    "import numpy as np\n",
    "import matplotlib.pylab as plt\n",
    "%matplotlib inline"
   ]
  },
  {
   "cell_type": "code",
   "execution_count": 2,
   "metadata": {
    "collapsed": false
   },
   "outputs": [
    {
     "name": "stderr",
     "output_type": "stream",
     "text": [
      "Using Theano backend.\n"
     ]
    },
    {
     "name": "stdout",
     "output_type": "stream",
     "text": [
      "Keras user configuration is setup\n"
     ]
    }
   ],
   "source": [
    "# Keras common configuration\n",
    "import os\n",
    "from keras.backend import set_image_dim_ordering\n",
    "\n",
    "os.environ['KERAS_BACKEND'] = 'theano'\n",
    "os.environ['THEANO_FLAGS'] = 'mode=FAST_RUN,device=gpu0,floatX=float32,optimizer=fast_compile'\n",
    "set_image_dim_ordering('th')\n",
    "\n",
    "print(\"Keras user configuration is setup\")"
   ]
  },
  {
   "cell_type": "code",
   "execution_count": 3,
   "metadata": {
    "collapsed": false
   },
   "outputs": [],
   "source": [
    "from keras.layers import Convolution2D\n",
    "from keras.models import Sequential, Model\n",
    "from keras.optimizers import Adam"
   ]
  },
  {
   "cell_type": "markdown",
   "metadata": {},
   "source": [
    "\n",
    "What happens between image channels when convolution is computed :\n",
    "\n",
    "- convolution filter is applied on each channel -> we obtain `n_channels` of images\n",
    "- resulting image is computed as weighted sum of `n_channels` images:\n",
    "\n",
    "    `out = conv_img[0] * w[0] + conv_img[1] * w[1] + ... conv_img[n_channels] * w[n_channels]`\n"
   ]
  },
  {
   "cell_type": "code",
   "execution_count": 4,
   "metadata": {
    "collapsed": true
   },
   "outputs": [],
   "source": [
    "input_img = np.zeros((100, 100, 4), dtype=np.uint8)\n",
    "for i in range(1, input_img.shape[2]):\n",
    "    input_img[:,:,i] = i\n",
    "\n",
    "input_img[20:40,20:40,:] = 0"
   ]
  },
  {
   "cell_type": "code",
   "execution_count": 5,
   "metadata": {
    "collapsed": false
   },
   "outputs": [
    {
     "name": "stdout",
     "output_type": "stream",
     "text": [
      "0 3\n"
     ]
    },
    {
     "data": {
      "image/png": "[encoded data removed]",
      "text/plain": [
       "<matplotlib.figure.Figure at 0x1169a0850>"
      ]
     },
     "metadata": {},
     "output_type": "display_data"
    }
   ],
   "source": [
    "plt.figure(figsize=(12,4))\n",
    "plt.subplot(141)\n",
    "plt.imshow(input_img[:,:,0])\n",
    "plt.colorbar()\n",
    "plt.subplot(142)\n",
    "plt.imshow(input_img[:,:,1])\n",
    "plt.colorbar()\n",
    "plt.subplot(143)\n",
    "plt.imshow(input_img[:,:,2])\n",
    "plt.colorbar()\n",
    "plt.subplot(144)\n",
    "plt.imshow(input_img[:,:,3])\n",
    "plt.colorbar()\n",
    "\n",
    "\n",
    "print input_img.min(), input_img.max()"
   ]
  },
  {
   "cell_type": "markdown",
   "metadata": {},
   "source": [
    "Number of weights in Convolution2D:\n",
    "    - n_filters * kernel_width * kernel_height * input_n_channel + n_filters"
   ]
  },
  {
   "cell_type": "code",
   "execution_count": 6,
   "metadata": {
    "collapsed": false
   },
   "outputs": [],
   "source": [
    "weights = np.ones((5,4,1,1))\n",
    "weights[:,0,:,:] = 0\n",
    "weights[:,1,:,:] = 1\n",
    "weights[:,2,:,:] = 2\n",
    "weights[:,3,:,:] = 3\n",
    "b = np.zeros((5))\n",
    "model = Sequential()\n",
    "model.add(Convolution2D(5, 1, 1, input_shape=(4,100,100), weights=[weights, b], border_mode='same', name='conv'))"
   ]
  },
  {
   "cell_type": "code",
   "execution_count": 7,
   "metadata": {
    "collapsed": false
   },
   "outputs": [],
   "source": [
    "model.compile(optimizer=Adam(lr=0.001), loss='categorical_crossentropy', metrics=['accuracy'])"
   ]
  },
  {
   "cell_type": "code",
   "execution_count": 8,
   "metadata": {
    "collapsed": false
   },
   "outputs": [],
   "source": [
    "inputs = input_img.transpose([2,0,1])\n",
    "output_img = model.predict(inputs[None,:,:,:])"
   ]
  },
  {
   "cell_type": "code",
   "execution_count": 9,
   "metadata": {
    "collapsed": false
   },
   "outputs": [
    {
     "data": {
      "text/plain": [
       "(1, 5, 100, 100)"
      ]
     },
     "execution_count": 9,
     "metadata": {},
     "output_type": "execute_result"
    }
   ],
   "source": [
    "output_img.shape"
   ]
  },
  {
   "cell_type": "code",
   "execution_count": 10,
   "metadata": {
    "collapsed": true
   },
   "outputs": [],
   "source": [
    "conv_layer = model.get_layer('conv')"
   ]
  },
  {
   "cell_type": "code",
   "execution_count": 11,
   "metadata": {
    "collapsed": false
   },
   "outputs": [
    {
     "data": {
      "text/plain": [
       "((5, 4, 1, 1), (5,))"
      ]
     },
     "execution_count": 11,
     "metadata": {},
     "output_type": "execute_result"
    }
   ],
   "source": [
    "conv_layer.W.eval().shape, conv_layer.b.eval().shape"
   ]
  },
  {
   "cell_type": "code",
   "execution_count": 12,
   "metadata": {
    "collapsed": false
   },
   "outputs": [
    {
     "name": "stdout",
     "output_type": "stream",
     "text": [
      "0.0 14.0\n"
     ]
    },
    {
     "data": {
      "image/png": "[encoded data removed]",
      "text/plain": [
       "<matplotlib.figure.Figure at 0x116996c10>"
      ]
     },
     "metadata": {},
     "output_type": "display_data"
    }
   ],
   "source": [
    "plt.figure(figsize=(12,4))\n",
    "plt.subplot(151)\n",
    "plt.imshow(output_img[0,0,:,:])\n",
    "plt.colorbar()\n",
    "plt.subplot(152)\n",
    "plt.imshow(output_img[0,1,:,:])\n",
    "plt.colorbar()\n",
    "plt.subplot(153)\n",
    "plt.imshow(output_img[0,2,:,:])\n",
    "plt.colorbar()\n",
    "plt.subplot(154)\n",
    "plt.imshow(output_img[0,3,:,:])\n",
    "plt.colorbar()\n",
    "plt.subplot(155)\n",
    "plt.imshow(output_img[0,4,:,:])\n",
    "plt.colorbar()\n",
    "\n",
    "print output_img.min(), output_img.max()"
   ]
  },
  {
   "cell_type": "code",
   "execution_count": 13,
   "metadata": {
    "collapsed": false
   },
   "outputs": [
    {
     "data": {
      "text/plain": [
       "14"
      ]
     },
     "execution_count": 13,
     "metadata": {},
     "output_type": "execute_result"
    }
   ],
   "source": [
    "a = [0, 1, 2, 3]\n",
    "b = [0, 1, 2, 3]\n",
    "np.dot(a, b)"
   ]
  },
  {
   "cell_type": "markdown",
   "metadata": {},
   "source": [
    "How to multiply channels ?\n",
    "\n",
    "$$\n",
    "O_1 = \\sum w_i c_i \\cdot \\frac{1}{\\sum w'_i c_i} + \\sum w_i c_i \\cdot \\sum w'_i c_i\n",
    "$$\n",
    "\n",
    "$$\n",
    "O_2 = \\sum w_i c_i \\cdot \\sum \\frac{w'_i}{c_i}\n",
    "$$\n",
    "\n",
    "$$\n",
    "O_3 = \\sum w_i c_i + \\sum w_i c_i \\cdot \\sum \\frac{w'_i}{c_i} + \\sum w_i c_i \\cdot \\sum w'_i c_i\n",
    "$$\n",
    "\n",
    "----\n",
    "\n",
    "$$\n",
    "I = \\left[ c_0, c_1, ..., c_n \\right], \\, \\text{where} \\, c_i \\,\\text{is a matrix }[h,w]\n",
    "$$\n",
    "\n",
    "$$\n",
    " C_1 = \\left[ C_1(0), C_1(2), ..., C_1(n^1_f) \\right], \\, \\text{where} \\, C_1(k) = \\sum_i w^k_{1,i} c_i,\n",
    "$$\n",
    "\n",
    "$$\n",
    " C_2 = \\left[ C_2(0), C_2(2), ..., C_2(n^2_f) \\right], \\, \\text{where} \\, C_2(k) = \\sum_i w^k_{2,i} C_1(i),\n",
    "$$\n",
    "$$\n",
    "C_2(k) = \\sum_i w^k_{2,i} \\sum_j w^k_{1,j} c_i,\n",
    "$$\n",
    "\n"
   ]
  },
  {
   "cell_type": "code",
   "execution_count": 22,
   "metadata": {
    "collapsed": true
   },
   "outputs": [],
   "source": [
    "from keras.layers import Input, MaxPooling2D, UpSampling2D, Convolution2D, merge, Reshape, Activation, BatchNormalization\n",
    "from keras import backend as K\n",
    "from keras.engine.topology import Layer\n",
    "from keras.regularizers import l2"
   ]
  },
  {
   "cell_type": "code",
   "execution_count": 23,
   "metadata": {
    "collapsed": true
   },
   "outputs": [],
   "source": [
    "class Inverse(Layer):\n",
    "    \"\"\"Inverse Layer : 1/x \"\"\"\n",
    "    def __init__(self, **kwargs):\n",
    "        super(Inverse, self).__init__(**kwargs)\n",
    "        \n",
    "    def call(self, x, mask=None):\n",
    "        x = x + K.min(x) + 100.0\n",
    "        eps = K.variable(value=K.epsilon())\n",
    "        x = K.pow(x + eps, -1.0)\n",
    "        mean = K.mean(x)\n",
    "        var = K.var(x)\n",
    "        x = K.batch_normalization(x, mean, var, 0.0, 1.0)\n",
    "        return x\n",
    "\n",
    "    def get_output_shape_for(self, input_shape):\n",
    "        return input_shape"
   ]
  },
  {
   "cell_type": "code",
   "execution_count": 73,
   "metadata": {
    "collapsed": false
   },
   "outputs": [],
   "source": [
    "def conv(input_layer, n_filters_0=16, deep=False, l=0.001):    \n",
    "    \"\"\"\n",
    "    \"\"\"\n",
    "    x = Convolution2D(n_filters_0, 3, 3,\n",
    "                    activation='relu',\n",
    "                    W_regularizer=l2(l),\n",
    "                    border_mode='same')(input_layer)\n",
    "    if deep:\n",
    "        x = Convolution2D(2*n_filters_0, 3, 3,\n",
    "                        activation='relu',\n",
    "                        W_regularizer=l2(l),\n",
    "                        border_mode='same')(x)\n",
    "    return x    \n",
    "\n",
    "def conv_downsample(input_layer, **kwargs):    \n",
    "    \"\"\"\n",
    "    \"\"\"\n",
    "    x = conv(input_layer, **kwargs)\n",
    "    x = MaxPooling2D(pool_size=(2, 2))(x)\n",
    "    return x    \n",
    "\n",
    "\n",
    "def composition(input_layer, base_unit, **kwargs):\n",
    "    \"\"\"\n",
    "    x -> x1 ; (x2 * 1/x3) ; (x4 * x5) ; 1/x6\n",
    "    \"\"\"\n",
    "    inverse_layer = Inverse()(input_layer)\n",
    "\n",
    "    x1 = base_unit(input_layer, **kwargs)\n",
    "    x2 = base_unit(input_layer, **kwargs)\n",
    "    x3 = base_unit(inverse_layer, **kwargs)\n",
    "    x4 = base_unit(input_layer, **kwargs)\n",
    "    x5 = base_unit(input_layer, **kwargs)\n",
    "    x6 = base_unit(inverse_layer, **kwargs)\n",
    "\n",
    "    x16 = merge([x1, x6], mode='sum')\n",
    "    x23 = merge([x2, x3], mode='mul')\n",
    "    x45 = merge([x4, x5], mode='mul')\n",
    "\n",
    "    x1236 = merge([x16, x23], mode='sum')\n",
    "    x123456 = merge([x1236, x45], mode='sum')\n",
    "\n",
    "    x123456 = BatchNormalization()(x123456)\n",
    "    return x123456\n",
    "\n",
    "\n",
    "def upsample_merge(x_small, x_large):\n",
    "    x_small = UpSampling2D(size=(2, 2))(x_small)\n",
    "    return merge([x_small, x_large], mode='concat', concat_axis=1)"
   ]
  },
  {
   "cell_type": "markdown",
   "metadata": {},
   "source": [
    "Model : "
   ]
  },
  {
   "cell_type": "code",
   "execution_count": 74,
   "metadata": {
    "collapsed": false
   },
   "outputs": [],
   "source": [
    "n_filters_0 = 2**3\n",
    "n_classes = 10\n",
    "input_height = 256\n",
    "input_width = 256\n",
    "n_channels = 5\n",
    "\n",
    "inputs = Input((n_channels, input_height, input_width))\n",
    "x = inputs\n",
    "\n",
    "x = BatchNormalization()(x)\n",
    "x = Inverse()(x)\n",
    "\n",
    "# x = composition(x, conv, n_filters_0=n_filters_0)\n",
    "outputs = x\n",
    "\n",
    "# # Downsample and store\n",
    "# x = composition(x, conv, n_filters_0=n_filters_0)\n",
    "# x0 = x\n",
    "# x = composition(x, conv_downsample, n_filters_0=n_filters_0*2)\n",
    "# x1 = x\n",
    "# x = composition(x, conv_downsample, n_filters_0=n_filters_0*4)\n",
    "# x2 = x\n",
    "# x = composition(x, conv_downsample, n_filters_0=n_filters_0*8)\n",
    "# x3 = x\n",
    "# x = composition(x, conv_downsample, n_filters_0=n_filters_0*16)\n",
    "\n",
    "# x = conv(x, n_filters_0=n_filters_0*32)\n",
    "\n",
    "# # Upsample and merge\n",
    "# x = upsample_merge(x, x3)\n",
    "# x = composition(x, conv, n_filters_0=n_filters_0*16)\n",
    "# x = upsample_merge(x, x2)\n",
    "# x = composition(x, conv, n_filters_0=n_filters_0*8)\n",
    "# x = upsample_merge(x, x1)\n",
    "# x = composition(x, conv, n_filters_0=n_filters_0*4)\n",
    "# x = upsample_merge(x, x0)\n",
    "# x = composition(x, conv, n_filters_0=n_filters_0*2)\n",
    "\n",
    "# outputs = Convolution2D(n_classes, 1, 1)(x)\n",
    "# outputs = Reshape((n_classes, input_height * input_width))(outputs)\n",
    "# outputs = Activation('softmax')(outputs)\n",
    "# outputs = Reshape((n_classes, input_height, input_width))(outputs)\n",
    "\n",
    "model = Model(input=inputs, output=outputs)"
   ]
  },
  {
   "cell_type": "code",
   "execution_count": 75,
   "metadata": {
    "collapsed": true
   },
   "outputs": [
    {
     "name": "stdout",
     "output_type": "stream",
     "text": [
      "____________________________________________________________________________________________________\n",
      "Layer (type)                     Output Shape          Param #     Connected to                     \n",
      "====================================================================================================\n",
      "input_8 (InputLayer)             (None, 5, 256, 256)   0                                            \n",
      "____________________________________________________________________________________________________\n",
      "batchnormalization_6 (BatchNorma (None, 5, 256, 256)   1024        input_8[0][0]                    \n",
      "____________________________________________________________________________________________________\n",
      "inverse_20 (Inverse)             (None, 5, 256, 256)   0           batchnormalization_6[0][0]       \n",
      "====================================================================================================\n",
      "Total params: 1,024\n",
      "Trainable params: 512\n",
      "Non-trainable params: 512\n",
      "____________________________________________________________________________________________________\n"
     ]
    }
   ],
   "source": [
    "model.summary()"
   ]
  },
  {
   "cell_type": "code",
   "execution_count": 76,
   "metadata": {
    "collapsed": false
   },
   "outputs": [],
   "source": [
    "model.compile(optimizer=Adam(lr=0.001), loss='categorical_crossentropy', metrics=['accuracy'])"
   ]
  },
  {
   "cell_type": "code",
   "execution_count": 77,
   "metadata": {
    "collapsed": true
   },
   "outputs": [],
   "source": [
    "input_img = np.zeros((input_height, input_width, n_channels), dtype=np.uint8)\n",
    "for i in range(1, input_img.shape[2]):\n",
    "    input_img[:,:,i] = i\n",
    "\n",
    "input_img[20:40,20:40,:] = 0"
   ]
  },
  {
   "cell_type": "code",
   "execution_count": 82,
   "metadata": {
    "collapsed": false
   },
   "outputs": [],
   "source": [
    "inputs = input_img.transpose([2,0,1])\n",
    "inputs = inputs[None,:,:,:]\n",
    "output_img = model.predict(inputs)"
   ]
  },
  {
   "cell_type": "code",
   "execution_count": 83,
   "metadata": {
    "collapsed": false
   },
   "outputs": [
    {
     "data": {
      "text/plain": [
       "((1, 5, 256, 256), -0.0059047276, 0.0059319399)"
      ]
     },
     "execution_count": 83,
     "metadata": {},
     "output_type": "execute_result"
    }
   ],
   "source": [
    "output_img.shape, output_img.min(), output_img.max()"
   ]
  },
  {
   "cell_type": "code",
   "execution_count": null,
   "metadata": {
    "collapsed": true
   },
   "outputs": [],
   "source": []
  },
  {
   "cell_type": "code",
   "execution_count": 80,
   "metadata": {
    "collapsed": false
   },
   "outputs": [],
   "source": [
    "y = np.random.rand(1, 5, input_height, input_width)"
   ]
  },
  {
   "cell_type": "code",
   "execution_count": 81,
   "metadata": {
    "collapsed": false
   },
   "outputs": [
    {
     "name": "stdout",
     "output_type": "stream",
     "text": [
      "Epoch 1/10\n",
      "1/1 [==============================] - 0s - loss: 740.6365 - acc: 0.0070\n",
      "Epoch 2/10\n",
      "1/1 [==============================] - 0s - loss: 740.6134 - acc: 0.0070\n",
      "Epoch 3/10\n",
      "1/1 [==============================] - 0s - loss: 740.5904 - acc: 0.0070\n",
      "Epoch 4/10\n",
      "1/1 [==============================] - 0s - loss: 740.5595 - acc: 0.0070\n",
      "Epoch 5/10\n",
      "1/1 [==============================] - 0s - loss: 740.5367 - acc: 0.0070\n",
      "Epoch 6/10\n",
      "1/1 [==============================] - 0s - loss: 740.5219 - acc: 0.0070\n",
      "Epoch 7/10\n",
      "1/1 [==============================] - 0s - loss: 740.4992 - acc: 0.0070\n",
      "Epoch 8/10\n",
      "1/1 [==============================] - 0s - loss: 740.4689 - acc: 0.0070\n",
      "Epoch 9/10\n",
      "1/1 [==============================] - 0s - loss: 740.4542 - acc: 0.0070\n",
      "Epoch 10/10\n",
      "1/1 [==============================] - 0s - loss: 740.4364 - acc: 0.0055\n"
     ]
    }
   ],
   "source": [
    "hist = model.fit(inputs, y, nb_epoch=10)"
   ]
  },
  {
   "cell_type": "code",
   "execution_count": null,
   "metadata": {
    "collapsed": true
   },
   "outputs": [],
   "source": []
  },
  {
   "cell_type": "code",
   "execution_count": 216,
   "metadata": {
    "collapsed": true
   },
   "outputs": [],
   "source": [
    "a = K.variable(value=np.arange(0.0, 1.0, 0.05))"
   ]
  },
  {
   "cell_type": "code",
   "execution_count": 222,
   "metadata": {
    "collapsed": false
   },
   "outputs": [
    {
     "data": {
      "text/plain": [
       "'float32'"
      ]
     },
     "execution_count": 222,
     "metadata": {},
     "output_type": "execute_result"
    }
   ],
   "source": [
    "K.dtype(a)"
   ]
  },
  {
   "cell_type": "code",
   "execution_count": 217,
   "metadata": {
    "collapsed": false
   },
   "outputs": [
    {
     "data": {
      "text/plain": [
       "array([ 0.        ,  0.05      ,  0.1       ,  0.15000001,  0.2       ,\n",
       "        0.25      ,  0.30000001,  0.34999999,  0.40000001,  0.44999999,\n",
       "        0.5       ,  0.55000001,  0.60000002,  0.64999998,  0.69999999,\n",
       "        0.75      ,  0.80000001,  0.85000002,  0.89999998,  0.94999999], dtype=float32)"
      ]
     },
     "execution_count": 217,
     "metadata": {},
     "output_type": "execute_result"
    }
   ],
   "source": [
    "a.eval()"
   ]
  },
  {
   "cell_type": "code",
   "execution_count": 231,
   "metadata": {
    "collapsed": false
   },
   "outputs": [],
   "source": [
    "b = K.cast(K.greater(a, 0.5),'float32')"
   ]
  },
  {
   "cell_type": "code",
   "execution_count": 232,
   "metadata": {
    "collapsed": false
   },
   "outputs": [
    {
     "data": {
      "text/plain": [
       "array([ 0.,  0.,  0.,  0.,  0.,  0.,  0.,  0.,  0.,  0.,  0.,  1.,  1.,\n",
       "        1.,  1.,  1.,  1.,  1.,  1.,  1.], dtype=float32)"
      ]
     },
     "execution_count": 232,
     "metadata": {},
     "output_type": "execute_result"
    }
   ],
   "source": [
    "b.eval()"
   ]
  },
  {
   "cell_type": "code",
   "execution_count": 233,
   "metadata": {
    "collapsed": false
   },
   "outputs": [],
   "source": [
    "c = a * b"
   ]
  },
  {
   "cell_type": "code",
   "execution_count": 234,
   "metadata": {
    "collapsed": false
   },
   "outputs": [
    {
     "data": {
      "text/plain": [
       "array([ 0.        ,  0.        ,  0.        ,  0.        ,  0.        ,\n",
       "        0.        ,  0.        ,  0.        ,  0.        ,  0.        ,\n",
       "        0.        ,  0.55000001,  0.60000002,  0.64999998,  0.69999999,\n",
       "        0.75      ,  0.80000001,  0.85000002,  0.89999998,  0.94999999], dtype=float32)"
      ]
     },
     "execution_count": 234,
     "metadata": {},
     "output_type": "execute_result"
    }
   ],
   "source": [
    "c.eval()"
   ]
  },
  {
   "cell_type": "code",
   "execution_count": null,
   "metadata": {
    "collapsed": true
   },
   "outputs": [],
   "source": []
  }
 ],
 "metadata": {
  "kernelspec": {
   "display_name": "Python 2",
   "language": "python",
   "name": "python2"
  },
  "language_info": {
   "codemirror_mode": {
    "name": "ipython",
    "version": 2
   },
   "file_extension": ".py",
   "mimetype": "text/x-python",
   "name": "python",
   "nbconvert_exporter": "python",
   "pygments_lexer": "ipython2",
   "version": "2.7.13"
  }
 },
 "nbformat": 4,
 "nbformat_minor": 0
}
