{
 "cells": [
  {
   "cell_type": "markdown",
   "metadata": {},
   "source": [
    "Test of NN "
   ]
  },
  {
   "cell_type": "code",
   "execution_count": 1,
   "metadata": {
    "collapsed": true
   },
   "outputs": [],
   "source": [
    "# https://ipython.org/ipython-doc/3/config/extensions/autoreload.html\n",
    "%load_ext autoreload\n",
    "%autoreload 2"
   ]
  },
  {
   "cell_type": "code",
   "execution_count": 2,
   "metadata": {
    "collapsed": false
   },
   "outputs": [
    {
     "name": "stderr",
     "output_type": "stream",
     "text": [
      "/usr/local/lib/python2.7/site-packages/matplotlib/font_manager.py:273: UserWarning: Matplotlib is building the font cache using fc-list. This may take a moment.\n",
      "  warnings.warn('Matplotlib is building the font cache using fc-list. This may take a moment.')\n"
     ]
    }
   ],
   "source": [
    "import numpy as np\n",
    "import matplotlib.pylab as plt\n",
    "%matplotlib inline"
   ]
  },
  {
   "cell_type": "code",
   "execution_count": 3,
   "metadata": {
    "collapsed": false
   },
   "outputs": [
    {
     "name": "stderr",
     "output_type": "stream",
     "text": [
      "Using Theano backend.\n"
     ]
    },
    {
     "name": "stdout",
     "output_type": "stream",
     "text": [
      "Keras user configuration is setup\n"
     ]
    }
   ],
   "source": [
    "# Keras common configuration\n",
    "import os\n",
    "from keras.backend import set_image_dim_ordering\n",
    "\n",
    "os.environ['KERAS_BACKEND'] = 'theano'\n",
    "os.environ['THEANO_FLAGS'] = 'mode=FAST_RUN,device=gpu0,floatX=float32,optimizer=fast_compile'\n",
    "set_image_dim_ordering('th')\n",
    "\n",
    "print(\"Keras user configuration is setup\")"
   ]
  },
  {
   "cell_type": "code",
   "execution_count": 4,
   "metadata": {
    "collapsed": false
   },
   "outputs": [],
   "source": [
    "from keras.layers import Convolution2D\n",
    "from keras.models import Sequential, Model\n",
    "from keras.optimizers import Adam"
   ]
  },
  {
   "cell_type": "markdown",
   "metadata": {},
   "source": [
    "\n",
    "What happens between image channels when convolution is computed :\n",
    "\n",
    "- convolution filter is applied on each channel -> we obtain `n_channels` of images\n",
    "- resulting image is computed as weighted sum of `n_channels` images:\n",
    "\n",
    "    `out = conv_img[0] * w[0] + conv_img[1] * w[1] + ... conv_img[n_channels] * w[n_channels]`\n"
   ]
  },
  {
   "cell_type": "code",
   "execution_count": 5,
   "metadata": {
    "collapsed": true
   },
   "outputs": [],
   "source": [
    "input_img = np.zeros((100, 100, 4), dtype=np.uint8)\n",
    "for i in range(1, input_img.shape[2]):\n",
    "    input_img[:,:,i] = i\n",
    "\n",
    "input_img[20:40,20:40,:] = 0"
   ]
  },
  {
   "cell_type": "code",
   "execution_count": 7,
   "metadata": {
    "collapsed": false
   },
   "outputs": [
    {
     "name": "stdout",
     "output_type": "stream",
     "text": [
      "0 3\n"
     ]
    },
    {
     "data": {
      "image/png": "[encoded data removed]",
      "text/plain": [
       "<matplotlib.figure.Figure at 0x2876e358>"
      ]
     },
     "metadata": {},
     "output_type": "display_data"
    }
   ],
   "source": [
    "plt.figure(figsize=(12,4))\n",
    "plt.subplot(141)\n",
    "plt.imshow(input_img[:,:,0])\n",
    "plt.colorbar()\n",
    "plt.subplot(142)\n",
    "plt.imshow(input_img[:,:,1])\n",
    "plt.colorbar()\n",
    "plt.subplot(143)\n",
    "plt.imshow(input_img[:,:,2])\n",
    "plt.colorbar()\n",
    "plt.subplot(144)\n",
    "plt.imshow(input_img[:,:,3])\n",
    "plt.colorbar()\n",
    "\n",
    "\n",
    "print input_img.min(), input_img.max()"
   ]
  },
  {
   "cell_type": "markdown",
   "metadata": {},
   "source": [
    "Number of weights in Convolution2D:\n",
    "    - n_filters * kernel_width * kernel_height * input_n_channel + n_filters"
   ]
  },
  {
   "cell_type": "code",
   "execution_count": 6,
   "metadata": {
    "collapsed": false
   },
   "outputs": [],
   "source": [
    "weights = np.ones((5,4,1,1))\n",
    "weights[:,0,:,:] = 0\n",
    "weights[:,1,:,:] = 1\n",
    "weights[:,2,:,:] = 2\n",
    "weights[:,3,:,:] = 3\n",
    "b = np.zeros((5))\n",
    "model = Sequential()\n",
    "model.add(Convolution2D(5, 1, 1, input_shape=(4,100,100), weights=[weights, b], border_mode='same', name='conv'))"
   ]
  },
  {
   "cell_type": "code",
   "execution_count": 7,
   "metadata": {
    "collapsed": false
   },
   "outputs": [],
   "source": [
    "model.compile(optimizer=Adam(lr=0.001), loss='categorical_crossentropy', metrics=['accuracy'])"
   ]
  },
  {
   "cell_type": "code",
   "execution_count": 8,
   "metadata": {
    "collapsed": false
   },
   "outputs": [],
   "source": [
    "inputs = input_img.transpose([2,0,1])\n",
    "output_img = model.predict(inputs[None,:,:,:])"
   ]
  },
  {
   "cell_type": "code",
   "execution_count": 9,
   "metadata": {
    "collapsed": false
   },
   "outputs": [
    {
     "data": {
      "text/plain": [
       "(1, 5, 100, 100)"
      ]
     },
     "execution_count": 9,
     "metadata": {},
     "output_type": "execute_result"
    }
   ],
   "source": [
    "output_img.shape"
   ]
  },
  {
   "cell_type": "code",
   "execution_count": 10,
   "metadata": {
    "collapsed": true
   },
   "outputs": [],
   "source": [
    "conv_layer = model.get_layer('conv')"
   ]
  },
  {
   "cell_type": "code",
   "execution_count": 11,
   "metadata": {
    "collapsed": false
   },
   "outputs": [
    {
     "data": {
      "text/plain": [
       "((5, 4, 1, 1), (5,))"
      ]
     },
     "execution_count": 11,
     "metadata": {},
     "output_type": "execute_result"
    }
   ],
   "source": [
    "conv_layer.W.eval().shape, conv_layer.b.eval().shape"
   ]
  },
  {
   "cell_type": "code",
   "execution_count": 12,
   "metadata": {
    "collapsed": false
   },
   "outputs": [
    {
     "name": "stdout",
     "output_type": "stream",
     "text": [
      "0.0 14.0\n"
     ]
    },
    {
     "data": {
      "image/png": "[encoded data removed]",
      "text/plain": [
       "<matplotlib.figure.Figure at 0x116996c10>"
      ]
     },
     "metadata": {},
     "output_type": "display_data"
    }
   ],
   "source": [
    "plt.figure(figsize=(12,4))\n",
    "plt.subplot(151)\n",
    "plt.imshow(output_img[0,0,:,:])\n",
    "plt.colorbar()\n",
    "plt.subplot(152)\n",
    "plt.imshow(output_img[0,1,:,:])\n",
    "plt.colorbar()\n",
    "plt.subplot(153)\n",
    "plt.imshow(output_img[0,2,:,:])\n",
    "plt.colorbar()\n",
    "plt.subplot(154)\n",
    "plt.imshow(output_img[0,3,:,:])\n",
    "plt.colorbar()\n",
    "plt.subplot(155)\n",
    "plt.imshow(output_img[0,4,:,:])\n",
    "plt.colorbar()\n",
    "\n",
    "print output_img.min(), output_img.max()"
   ]
  },
  {
   "cell_type": "code",
   "execution_count": 13,
   "metadata": {
    "collapsed": false
   },
   "outputs": [
    {
     "data": {
      "text/plain": [
       "14"
      ]
     },
     "execution_count": 13,
     "metadata": {},
     "output_type": "execute_result"
    }
   ],
   "source": [
    "a = [0, 1, 2, 3]\n",
    "b = [0, 1, 2, 3]\n",
    "np.dot(a, b)"
   ]
  },
  {
   "cell_type": "markdown",
   "metadata": {},
   "source": [
    "How to multiply channels ?\n",
    "\n",
    "$$\n",
    "O_1 = \\sum w_i c_i \\cdot \\frac{1}{\\sum w'_i c_i} + \\sum w_i c_i \\cdot \\sum w'_i c_i\n",
    "$$\n",
    "\n",
    "$$\n",
    "O_2 = \\sum w_i c_i \\cdot \\sum \\frac{w'_i}{c_i}\n",
    "$$\n",
    "\n",
    "$$\n",
    "O_3 = \\sum w_i c_i + \\sum w_i c_i \\cdot \\sum \\frac{w'_i}{c_i} + \\sum w_i c_i \\cdot \\sum w'_i c_i\n",
    "$$\n",
    "\n",
    "----\n",
    "\n",
    "$$\n",
    "I = \\left[ c_0, c_1, ..., c_n \\right], \\, \\text{where} \\, c_i \\,\\text{is a matrix }[h,w]\n",
    "$$\n",
    "\n",
    "$$\n",
    " C_1 = \\left[ C_1(0), C_1(2), ..., C_1(n^1_f) \\right], \\, \\text{where} \\, C_1(k) = \\sum_i w^k_{1,i} c_i,\n",
    "$$\n",
    "\n",
    "$$\n",
    " C_2 = \\left[ C_2(0), C_2(2), ..., C_2(n^2_f) \\right], \\, \\text{where} \\, C_2(k) = \\sum_i w^k_{2,i} C_1(i),\n",
    "$$\n",
    "$$\n",
    "C_2(k) = \\sum_i w^k_{2,i} \\sum_j w^k_{1,j} c_i,\n",
    "$$\n",
    "\n"
   ]
  },
  {
   "cell_type": "code",
   "execution_count": 1367,
   "metadata": {
    "collapsed": true
   },
   "outputs": [],
   "source": [
    "from keras.layers import Input, MaxPooling2D, UpSampling2D, Convolution2D, merge, Reshape, Activation, BatchNormalization\n",
    "from keras import backend as K\n",
    "from keras.engine.topology import Layer\n",
    "from keras.regularizers import l2\n",
    "from keras.constraints import nonneg, unitnorm, Constraint, maxnorm"
   ]
  },
  {
   "cell_type": "code",
   "execution_count": 1368,
   "metadata": {
    "collapsed": false
   },
   "outputs": [],
   "source": [
    "import sys\n",
    "sys.path.append(\"../common\")\n",
    "from unet import Inverse, ratio, conv, original_termination"
   ]
  },
  {
   "cell_type": "markdown",
   "metadata": {},
   "source": [
    "Model : "
   ]
  },
  {
   "cell_type": "code",
   "execution_count": 1572,
   "metadata": {
    "collapsed": false
   },
   "outputs": [],
   "source": [
    "def identity(input_layer, **kwargs):\n",
    "    return input_layer\n",
    "\n",
    "    \n",
    "class MaxNormNonNeg(Constraint):\n",
    "    \"\"\"\n",
    "    \"\"\"\n",
    "    def __init__(self, m=1, axis=0):\n",
    "        self.m = m\n",
    "        self.axis = axis\n",
    "        \n",
    "    def __call__(self, p):\n",
    "        p *= K.cast(p >= 0., K.floatx())\n",
    "        norms = K.sqrt(K.sum(K.square(p), axis=self.axis, keepdims=True))\n",
    "        desired = K.clip(norms, 0, self.m)\n",
    "        p *= (desired / (K.epsilon() + norms))\n",
    "        return p\n",
    "\n",
    "    def get_config(self):\n",
    "        return {'name': self.__class__.__name__,\n",
    "                'm': self.m,\n",
    "                'axis': self.axis}\n",
    "\n",
    "\n",
    "maxnorm_nonneg=MaxNormNonNeg\n",
    "\n",
    "    \n",
    "def _conv(input_layer, n_filters_0=16, deep=False, size=3):\n",
    "    \"\"\"\n",
    "    \"\"\"\n",
    "    x = Convolution2D(n_filters_0, size, size,\n",
    "                      activation='relu',\n",
    "                      init='glorot_uniform',\n",
    "#                       W_constraint=maxnorm_nonneg(axis=0),\n",
    "                      W_constraint=maxnorm(axis=0),\n",
    "                      border_mode='same')(input_layer)\n",
    "    return x\n"
   ]
  },
  {
   "cell_type": "code",
   "execution_count": 1718,
   "metadata": {
    "collapsed": false
   },
   "outputs": [],
   "source": [
    "n_filters_0 = 2\n",
    "n_classes = 1\n",
    "input_height = 15\n",
    "input_width = 15\n",
    "n_channels = 4*3\n",
    "deep=False\n",
    "\n",
    "inputs = Input((n_channels, input_height, input_width))\n",
    "x = inputs\n",
    "\n",
    "# x = ratio(x, _conv, n_filters_0=n_filters_0, deep=deep, size=1)\n",
    "x = conv(x, n_filters_0, size=1, l=0.0)\n",
    "\n",
    "outputs = original_termination(x, n_classes, input_width, input_height)\n",
    "\n",
    "model = Model(input=inputs, output=outputs)"
   ]
  },
  {
   "cell_type": "code",
   "execution_count": 1719,
   "metadata": {
    "collapsed": false
   },
   "outputs": [
    {
     "name": "stdout",
     "output_type": "stream",
     "text": [
      "____________________________________________________________________________________________________\n",
      "Layer (type)                     Output Shape          Param #     Connected to                     \n",
      "====================================================================================================\n",
      "input_68 (InputLayer)            (None, 12, 15, 15)    0                                            \n",
      "____________________________________________________________________________________________________\n",
      "convolution2d_163 (Convolution2D (None, 2, 15, 15)     26          input_68[0][0]                   \n",
      "____________________________________________________________________________________________________\n",
      "convolution2d_164 (Convolution2D (None, 1, 15, 15)     3           convolution2d_163[0][0]          \n",
      "====================================================================================================\n",
      "Total params: 29\n",
      "Trainable params: 29\n",
      "Non-trainable params: 0\n",
      "____________________________________________________________________________________________________\n"
     ]
    }
   ],
   "source": [
    "model.summary()"
   ]
  },
  {
   "cell_type": "code",
   "execution_count": 1720,
   "metadata": {
    "collapsed": false
   },
   "outputs": [],
   "source": [
    "model.compile(optimizer=Adam(lr=0.01), loss='binary_crossentropy', metrics=['recall', 'precision', 'accuracy'])"
   ]
  },
  {
   "cell_type": "code",
   "execution_count": null,
   "metadata": {
    "collapsed": true
   },
   "outputs": [],
   "source": []
  },
  {
   "cell_type": "code",
   "execution_count": 1721,
   "metadata": {
    "collapsed": false
   },
   "outputs": [],
   "source": [
    "# batch_size = 5\n",
    "# inputs = np.zeros((batch_size, n_channels, input_height, input_width), dtype=np.float)\n",
    "# for j in range(batch_size):\n",
    "#     for i in range(1, inputs.shape[1]):\n",
    "#         inputs[j,i,:,:] = i + j*i - j\n",
    "# inputs[:,:,20:40,20:40] = 0   \n",
    "\n",
    "inputs = np.random.rand(1,4,input_height, input_width) * 0.5 + 2.0\n",
    "\n",
    "inputs[0,0,3:5,5:7] = 3*np.arange(1,5).reshape((2,2))\n",
    "inputs[0,0,4:7,1:3] = 5*np.array([1,1.5,1,1,1.4,1.3]).reshape((3,2))\n",
    "\n",
    "inputs[0,1,3:5,5:7] = 0.1 * np.arange(1,5).reshape((2,2))\n",
    "inputs[0,1,4:7,1:3] = 0.4 * np.array([1,1.5,1,1,1.4,1.3]).reshape((3,2))\n",
    "\n",
    "inputs[0,2,3:5,5:7] = np.random.rand(2, 2) * 0.02 + 1.98\n",
    "inputs[0,2,4:7,1:3] = np.random.rand(3, 2) * 0.02 + 1.98"
   ]
  },
  {
   "cell_type": "code",
   "execution_count": 1702,
   "metadata": {
    "collapsed": false
   },
   "outputs": [
    {
     "data": {
      "text/plain": [
       "(1, 12, 15, 15)"
      ]
     },
     "execution_count": 1702,
     "metadata": {},
     "output_type": "execute_result"
    }
   ],
   "source": [
    "# x = inputs.astype(np.float)\n",
    "# # for i in range(x.shape[1]):\n",
    "# #     mean = np.mean(x[0,i,:,:]) \n",
    "# #     std = np.std(x[0,i,:,:])\n",
    "# #     x[0,i,:,:] -= mean\n",
    "# #     x[0,i,:,:] /= std\n",
    "# print x.min(), x.mean(), x.max()\n",
    "\n",
    "def generate_ratios(inputs):\n",
    "    # Generate channels ratios:\n",
    "    in_shape = inputs.shape\n",
    "    out_shape = list(inputs.shape)\n",
    "    out_shape[1] *= (out_shape[1] - 1)\n",
    "    outputs = np.zeros(out_shape)\n",
    "    for k in range(out_shape[0]):\n",
    "        for i in range(in_shape[1]):\n",
    "            vals = range(in_shape[1])\n",
    "            vals.remove(i)\n",
    "            for j, v in enumerate(vals):\n",
    "                outputs[k,i*(in_shape[1]-1) + j,:,:] = inputs[k,i,:,:] / inputs[k,v,:,:]\n",
    "    return outputs\n",
    "\n",
    "x = generate_ratios(inputs)\n",
    "x.shape"
   ]
  },
  {
   "cell_type": "code",
   "execution_count": 1703,
   "metadata": {
    "collapsed": false
   },
   "outputs": [],
   "source": [
    "# y = np.random.rand(batch_size, n_classes, input_height, input_width)\n",
    "# print y.min(), y.max()\n",
    "\n",
    "y = np.zeros((1,1,input_height, input_width), dtype=np.uint8)\n",
    "y[0,0,3:5,5:7] = 1\n",
    "y[0,0,4:7,1:3] = 1"
   ]
  },
  {
   "cell_type": "code",
   "execution_count": 1704,
   "metadata": {
    "collapsed": false
   },
   "outputs": [
    {
     "data": {
      "text/plain": [
       "<matplotlib.colorbar.Colorbar at 0x14f357190>"
      ]
     },
     "execution_count": 1704,
     "metadata": {},
     "output_type": "execute_result"
    },
    {
     "data": {
      "image/png": "[encoded data removed]",
      "text/plain": [
       "<matplotlib.figure.Figure at 0x14edde3d0>"
      ]
     },
     "metadata": {},
     "output_type": "display_data"
    },
    {
     "data": {
      "image/png": "[encoded data removed]",
      "text/plain": [
       "<matplotlib.figure.Figure at 0x14f1e4790>"
      ]
     },
     "metadata": {},
     "output_type": "display_data"
    }
   ],
   "source": [
    "plt.figure(figsize=(12,4))\n",
    "plt.subplot(141)\n",
    "plt.imshow(x[0,0,:,:], interpolation='none', clim=[-5, 5])\n",
    "plt.colorbar()\n",
    "plt.subplot(142)\n",
    "plt.imshow(x[0,1,:,:], interpolation='none', clim=[-5, 5])\n",
    "plt.colorbar()\n",
    "plt.subplot(143)\n",
    "plt.imshow(x[0,2,:,:], interpolation='none', clim=[-5, 5])\n",
    "plt.colorbar()\n",
    "plt.subplot(144)\n",
    "plt.imshow(x[0,3,:,:], interpolation='none', clim=[-5, 5])\n",
    "plt.colorbar()\n",
    "\n",
    "plt.figure(figsize=(12,4))\n",
    "plt.imshow(y[0,0,:,:], interpolation='none')\n",
    "plt.colorbar()"
   ]
  },
  {
   "cell_type": "code",
   "execution_count": 1714,
   "metadata": {
    "collapsed": false
   },
   "outputs": [
    {
     "name": "stdout",
     "output_type": "stream",
     "text": [
      "Epoch 1/10\n",
      "0s - loss: 0.3458 - recall: 1.0000 - precision: 1.0000 - acc: 1.0000\n",
      "Epoch 2/10\n",
      "0s - loss: 0.3435 - recall: 1.0000 - precision: 1.0000 - acc: 1.0000\n",
      "Epoch 3/10\n",
      "0s - loss: 0.3411 - recall: 1.0000 - precision: 1.0000 - acc: 1.0000\n",
      "Epoch 4/10\n",
      "0s - loss: 0.3388 - recall: 1.0000 - precision: 1.0000 - acc: 1.0000\n",
      "Epoch 5/10\n",
      "0s - loss: 0.3366 - recall: 1.0000 - precision: 1.0000 - acc: 1.0000\n",
      "Epoch 6/10\n",
      "0s - loss: 0.3343 - recall: 1.0000 - precision: 1.0000 - acc: 1.0000\n",
      "Epoch 7/10\n",
      "0s - loss: 0.3320 - recall: 1.0000 - precision: 1.0000 - acc: 1.0000\n",
      "Epoch 8/10\n",
      "0s - loss: 0.3298 - recall: 1.0000 - precision: 1.0000 - acc: 1.0000\n",
      "Epoch 9/10\n",
      "0s - loss: 0.3276 - recall: 1.0000 - precision: 1.0000 - acc: 1.0000\n",
      "Epoch 10/10\n",
      "0s - loss: 0.3254 - recall: 1.0000 - precision: 1.0000 - acc: 1.0000\n"
     ]
    }
   ],
   "source": [
    "batch_size=1\n",
    "hist = model.fit(x, y, nb_epoch=10, batch_size=batch_size, verbose=2)"
   ]
  },
  {
   "cell_type": "code",
   "execution_count": 1715,
   "metadata": {
    "collapsed": false
   },
   "outputs": [
    {
     "name": "stdout",
     "output_type": "stream",
     "text": [
      "[convolution2d_161_W, convolution2d_161_b]\n",
      "[[-0.57733691  0.18543008  0.22254092  0.38671941 -0.18923017  0.21069714\n",
      "  -0.32230693 -0.01268666  0.00278897 -0.75622177 -0.25747666  0.21853904]\n",
      " [ 0.70441955 -0.0105797  -0.80160576 -0.08750843 -0.29840675  0.01550253\n",
      "  -0.16210634 -0.15313412 -0.86475211 -0.174808    0.60426027  0.78348106]] [ 0.         -0.13336879]\n",
      "[convolution2d_162_W, convolution2d_162_b]\n",
      "[[ 0.31033984  0.62778759]] [-0.91099304]\n"
     ]
    }
   ],
   "source": [
    "layer = model.get_layer(index=1)\n",
    "print layer.weights\n",
    "w1 = layer.W.eval()\n",
    "b1 = layer.b.eval()\n",
    "print layer.W.eval()[:,:,0,0], layer.b.eval()\n",
    "\n",
    "layer = model.get_layer(index=2)\n",
    "print layer.weights\n",
    "w2 = layer.W.eval()\n",
    "b2 = layer.b.eval()\n",
    "print layer.W.eval()[:,:,0,0], layer.b.eval()\n",
    "\n",
    "# layer = model.get_layer(index=5)\n",
    "# print layer.weights\n",
    "# w3 = layer.W.eval()\n",
    "# b3 = layer.b.eval()\n",
    "# print layer.W.eval()[:,:,:,:], layer.b.eval()"
   ]
  },
  {
   "cell_type": "code",
   "execution_count": 1569,
   "metadata": {
    "collapsed": false
   },
   "outputs": [],
   "source": [
    "t1 = np.sum(w1 * x, axis=1) + b1\n",
    "t1[t1 < 0] = 0.0\n",
    "t2 = np.sum(w2 * 1.0/x, axis=1) + b2\n",
    "t2[t2 < 0] = 0.0"
   ]
  },
  {
   "cell_type": "code",
   "execution_count": 1043,
   "metadata": {
    "collapsed": false
   },
   "outputs": [],
   "source": [
    "t3 = (t1 * t2).reshape((1,) + t1.shape)\n",
    "t3[t3 < 0] = 0.0"
   ]
  },
  {
   "cell_type": "code",
   "execution_count": 1044,
   "metadata": {
    "collapsed": false
   },
   "outputs": [
    {
     "data": {
      "text/plain": [
       "((1, 1, 15, 15), (1, 1, 1, 1))"
      ]
     },
     "execution_count": 1044,
     "metadata": {},
     "output_type": "execute_result"
    }
   ],
   "source": [
    "t3.shape, w3.shape"
   ]
  },
  {
   "cell_type": "code",
   "execution_count": 1045,
   "metadata": {
    "collapsed": false,
    "scrolled": true
   },
   "outputs": [
    {
     "data": {
      "text/plain": [
       "((1, 1, 15, 15), 0.12985255664113604, 1.0)"
      ]
     },
     "execution_count": 1045,
     "metadata": {},
     "output_type": "execute_result"
    }
   ],
   "source": [
    "out = t3 * w3 + b3\n",
    "out = K.sigmoid(out).eval()\n",
    "out.shape, out.min(), out.max()"
   ]
  },
  {
   "cell_type": "code",
   "execution_count": 976,
   "metadata": {
    "collapsed": false
   },
   "outputs": [],
   "source": [
    "w1[:] = 0.0\n",
    "w1[0,0,:,:] = 1.0\n",
    "w2[:] = 0.0\n",
    "w2[0,1,:,:] = 1.0\n",
    "w3[:] = 1.0\n",
    "\n",
    "layer = model.get_layer(index=2)\n",
    "layer.set_weights(weights=[w1, np.array([0.0])])\n",
    "layer = model.get_layer(index=3)\n",
    "layer.set_weights(weights=[w2, np.array([0.0])])\n",
    "layer = model.get_layer(index=5)\n",
    "layer.set_weights(weights=[w3, np.array([-3.0])])"
   ]
  },
  {
   "cell_type": "code",
   "execution_count": 1716,
   "metadata": {
    "collapsed": false
   },
   "outputs": [
    {
     "data": {
      "text/plain": [
       "((1, 1, 15, 15), 0.28679666, 1.0)"
      ]
     },
     "execution_count": 1716,
     "metadata": {},
     "output_type": "execute_result"
    }
   ],
   "source": [
    "y_pred = model.predict(x)\n",
    "y_pred.shape, y_pred.min(), y_pred.max()"
   ]
  },
  {
   "cell_type": "code",
   "execution_count": 1717,
   "metadata": {
    "collapsed": false
   },
   "outputs": [
    {
     "data": {
      "text/plain": [
       "<matplotlib.colorbar.Colorbar at 0x1412d77d0>"
      ]
     },
     "execution_count": 1717,
     "metadata": {},
     "output_type": "execute_result"
    },
    {
     "data": {
      "image/png": "[encoded data removed]",
      "text/plain": [
       "<matplotlib.figure.Figure at 0x14e033a10>"
      ]
     },
     "metadata": {},
     "output_type": "display_data"
    }
   ],
   "source": [
    "plt.figure(figsize=(12,6))\n",
    "plt.subplot(231)\n",
    "plt.imshow(y[0,0,:,:], interpolation='none', clim=[0, 1])\n",
    "plt.colorbar()\n",
    "plt.subplot(232)\n",
    "plt.imshow(y_pred[0,0,:,:], interpolation='none', clim=[0, 1])\n",
    "plt.colorbar()\n",
    "plt.subplot(234)\n",
    "plt.imshow(x[0,0,:,:], interpolation='none', clim=[0, 5])\n",
    "plt.colorbar()\n",
    "plt.subplot(235)\n",
    "plt.imshow(x[0,1,:,:], interpolation='none', clim=[0, 5])\n",
    "plt.colorbar()\n",
    "plt.subplot(236)\n",
    "plt.imshow(x[0,2,:,:], interpolation='none', clim=[0, 5])\n",
    "plt.colorbar()"
   ]
  },
  {
   "cell_type": "markdown",
   "metadata": {
    "collapsed": true
   },
   "source": [
    "### Channel ratio"
   ]
  },
  {
   "cell_type": "code",
   "execution_count": null,
   "metadata": {
    "collapsed": true
   },
   "outputs": [],
   "source": [
    "# inputs = "
   ]
  },
  {
   "cell_type": "code",
   "execution_count": null,
   "metadata": {
    "collapsed": true
   },
   "outputs": [],
   "source": []
  },
  {
   "cell_type": "code",
   "execution_count": null,
   "metadata": {
    "collapsed": true
   },
   "outputs": [],
   "source": []
  },
  {
   "cell_type": "code",
   "execution_count": null,
   "metadata": {
    "collapsed": true
   },
   "outputs": [],
   "source": []
  },
  {
   "cell_type": "code",
   "execution_count": null,
   "metadata": {
    "collapsed": true
   },
   "outputs": [],
   "source": []
  },
  {
   "cell_type": "code",
   "execution_count": null,
   "metadata": {
    "collapsed": true
   },
   "outputs": [],
   "source": []
  },
  {
   "cell_type": "code",
   "execution_count": 1471,
   "metadata": {
    "collapsed": true
   },
   "outputs": [],
   "source": [
    "def generate_ratios(inputs):\n",
    "    # Generate channels ratios:\n",
    "    in_shape = inputs.shape\n",
    "    out_shape = list(inputs.shape)\n",
    "    out_shape[1] *= (out_shape[1] - 1)\n",
    "    outputs = np.zeros(out_shape)\n",
    "    for k in range(out_shape[0]):\n",
    "        for i in range(in_shape[1]):\n",
    "            vals = range(in_shape[1])\n",
    "            vals.remove(i)\n",
    "            for j, v in enumerate(vals):\n",
    "                outputs[k,i*(in_shape[1]-1) + j,:,:] = inputs[k,i,:,:] / inputs[k,v,:,:]\n",
    "    return outputs"
   ]
  },
  {
   "cell_type": "code",
   "execution_count": 1472,
   "metadata": {
    "collapsed": true
   },
   "outputs": [],
   "source": [
    "x=np.zeros((1,4,5,5))\n",
    "x[0,0,:,:] = 1.0\n",
    "x[0,1,:,:] = 2.0\n",
    "x[0,2,:,:] = 3.0\n",
    "x[0,3,:,:] = 4.0"
   ]
  },
  {
   "cell_type": "code",
   "execution_count": 1473,
   "metadata": {
    "collapsed": false
   },
   "outputs": [
    {
     "data": {
      "text/plain": [
       "(1, 12, 5, 5)"
      ]
     },
     "execution_count": 1473,
     "metadata": {},
     "output_type": "execute_result"
    }
   ],
   "source": [
    "xx = generate_ratios(x)\n",
    "xx.shape"
   ]
  },
  {
   "cell_type": "code",
   "execution_count": 1480,
   "metadata": {
    "collapsed": false
   },
   "outputs": [
    {
     "data": {
      "text/plain": [
       "array([[ 3.,  3.,  3.,  3.,  3.],\n",
       "       [ 3.,  3.,  3.,  3.,  3.],\n",
       "       [ 3.,  3.,  3.,  3.,  3.],\n",
       "       [ 3.,  3.,  3.,  3.,  3.],\n",
       "       [ 3.,  3.,  3.,  3.,  3.]])"
      ]
     },
     "execution_count": 1480,
     "metadata": {},
     "output_type": "execute_result"
    }
   ],
   "source": [
    "xx[0,6,:,:]"
   ]
  },
  {
   "cell_type": "code",
   "execution_count": 1415,
   "metadata": {
    "collapsed": false
   },
   "outputs": [
    {
     "data": {
      "text/plain": [
       "(array([1, 4, 5, 5]),\n",
       " theano.tensor.sharedvar.TensorSharedVariable,\n",
       " theano.tensor.var.TensorVariable)"
      ]
     },
     "execution_count": 1415,
     "metadata": {},
     "output_type": "execute_result"
    }
   ],
   "source": [
    "import theano\n",
    "from theano import tensor as T\n",
    "from theano.\n",
    "\n",
    "X = K.variable(x)\n",
    "in_shape = K.shape(X)\n",
    "in_shape.eval(), type(X), type(in_shape)"
   ]
  },
  {
   "cell_type": "code",
   "execution_count": 1421,
   "metadata": {
    "collapsed": true
   },
   "outputs": [],
   "source": [
    "out_shape = T.set_subtensor(in_shape[1], in_shape[1]*(in_shape[1]-1))"
   ]
  },
  {
   "cell_type": "code",
   "execution_count": 1424,
   "metadata": {
    "collapsed": false
   },
   "outputs": [],
   "source": [
    "results,updates = theano.scan(\n",
    "    lambda i,j : X[:,i,:,:] / X[:,j,:,:],\n",
    "    sequences=[T.arange(X.shape[1]), T.arange(X.shape[1])+1],\n",
    "    outputs_info=None\n",
    ")"
   ]
  },
  {
   "cell_type": "code",
   "execution_count": 1425,
   "metadata": {
    "collapsed": false
   },
   "outputs": [
    {
     "ename": "TypeError",
     "evalue": "Cannot use a shared variable (<TensorType(float32, 4D)>) as explicit input. Consider substituting a non-shared variable via the `givens` parameter",
     "output_type": "error",
     "traceback": [
      "\u001b[0;31m---------------------------------------------------------------------------\u001b[0m",
      "\u001b[0;31mTypeError\u001b[0m                                 Traceback (most recent call last)",
      "\u001b[0;32m<ipython-input-1425-8e18ab02077c>\u001b[0m in \u001b[0;36m<module>\u001b[0;34m()\u001b[0m\n\u001b[0;32m----> 1\u001b[0;31m \u001b[0mmix_channels\u001b[0m \u001b[0;34m=\u001b[0m \u001b[0mtheano\u001b[0m\u001b[0;34m.\u001b[0m\u001b[0mfunction\u001b[0m\u001b[0;34m(\u001b[0m\u001b[0minputs\u001b[0m\u001b[0;34m=\u001b[0m\u001b[0;34m[\u001b[0m\u001b[0mX\u001b[0m\u001b[0;34m]\u001b[0m\u001b[0;34m,\u001b[0m \u001b[0moutputs\u001b[0m\u001b[0;34m=\u001b[0m\u001b[0mresults\u001b[0m\u001b[0;34m)\u001b[0m\u001b[0;34m\u001b[0m\u001b[0m\n\u001b[0m",
      "\u001b[0;32m/usr/local/lib/python2.7/site-packages/theano/compile/function.pyc\u001b[0m in \u001b[0;36mfunction\u001b[0;34m(inputs, outputs, mode, updates, givens, no_default_updates, accept_inplace, name, rebuild_strict, allow_input_downcast, profile, on_unused_input)\u001b[0m\n\u001b[1;32m    318\u001b[0m                    \u001b[0mon_unused_input\u001b[0m\u001b[0;34m=\u001b[0m\u001b[0mon_unused_input\u001b[0m\u001b[0;34m,\u001b[0m\u001b[0;34m\u001b[0m\u001b[0m\n\u001b[1;32m    319\u001b[0m                    \u001b[0mprofile\u001b[0m\u001b[0;34m=\u001b[0m\u001b[0mprofile\u001b[0m\u001b[0;34m,\u001b[0m\u001b[0;34m\u001b[0m\u001b[0m\n\u001b[0;32m--> 320\u001b[0;31m                    output_keys=output_keys)\n\u001b[0m\u001b[1;32m    321\u001b[0m     \u001b[0;31m# We need to add the flag check_aliased inputs if we have any mutable or\u001b[0m\u001b[0;34m\u001b[0m\u001b[0;34m\u001b[0m\u001b[0m\n\u001b[1;32m    322\u001b[0m     \u001b[0;31m# borrowed used defined inputs\u001b[0m\u001b[0;34m\u001b[0m\u001b[0;34m\u001b[0m\u001b[0m\n",
      "\u001b[0;32m/usr/local/lib/python2.7/site-packages/theano/compile/pfunc.pyc\u001b[0m in \u001b[0;36mpfunc\u001b[0;34m(params, outputs, mode, updates, givens, no_default_updates, accept_inplace, name, rebuild_strict, allow_input_downcast, profile, on_unused_input, output_keys)\u001b[0m\n\u001b[1;32m    440\u001b[0m                                          \u001b[0mrebuild_strict\u001b[0m\u001b[0;34m=\u001b[0m\u001b[0mrebuild_strict\u001b[0m\u001b[0;34m,\u001b[0m\u001b[0;34m\u001b[0m\u001b[0m\n\u001b[1;32m    441\u001b[0m                                          \u001b[0mcopy_inputs_over\u001b[0m\u001b[0;34m=\u001b[0m\u001b[0mTrue\u001b[0m\u001b[0;34m,\u001b[0m\u001b[0;34m\u001b[0m\u001b[0m\n\u001b[0;32m--> 442\u001b[0;31m                                          no_default_updates=no_default_updates)\n\u001b[0m\u001b[1;32m    443\u001b[0m     \u001b[0;31m# extracting the arguments\u001b[0m\u001b[0;34m\u001b[0m\u001b[0;34m\u001b[0m\u001b[0m\n\u001b[1;32m    444\u001b[0m     \u001b[0minput_variables\u001b[0m\u001b[0;34m,\u001b[0m \u001b[0mcloned_extended_outputs\u001b[0m\u001b[0;34m,\u001b[0m \u001b[0mother_stuff\u001b[0m \u001b[0;34m=\u001b[0m \u001b[0moutput_vars\u001b[0m\u001b[0;34m\u001b[0m\u001b[0m\n",
      "\u001b[0;32m/usr/local/lib/python2.7/site-packages/theano/compile/pfunc.pyc\u001b[0m in \u001b[0;36mrebuild_collect_shared\u001b[0;34m(outputs, inputs, replace, updates, rebuild_strict, copy_inputs_over, no_default_updates)\u001b[0m\n\u001b[1;32m    173\u001b[0m             raise TypeError(('Cannot use a shared variable (%s) as explicit '\n\u001b[1;32m    174\u001b[0m                              \u001b[0;34m'input. Consider substituting a non-shared'\u001b[0m\u001b[0;34m\u001b[0m\u001b[0m\n\u001b[0;32m--> 175\u001b[0;31m                              ' variable via the `givens` parameter') % v)\n\u001b[0m\u001b[1;32m    176\u001b[0m \u001b[0;34m\u001b[0m\u001b[0m\n\u001b[1;32m    177\u001b[0m     \u001b[0;31m# Fill update_d and update_expr with provided updates\u001b[0m\u001b[0;34m\u001b[0m\u001b[0;34m\u001b[0m\u001b[0m\n",
      "\u001b[0;31mTypeError\u001b[0m: Cannot use a shared variable (<TensorType(float32, 4D)>) as explicit input. Consider substituting a non-shared variable via the `givens` parameter"
     ]
    }
   ],
   "source": [
    "mix_channels = theano.function(inputs=[X], outputs=results)"
   ]
  },
  {
   "cell_type": "code",
   "execution_count": 1420,
   "metadata": {
    "collapsed": false
   },
   "outputs": [
    {
     "data": {
      "text/plain": [
       "array(0.0, dtype=float32)"
      ]
     },
     "execution_count": 1420,
     "metadata": {},
     "output_type": "execute_result"
    }
   ],
   "source": [
    "np.asarray(0., dtype=theano.config.floatX)"
   ]
  },
  {
   "cell_type": "code",
   "execution_count": 1406,
   "metadata": {
    "collapsed": false
   },
   "outputs": [
    {
     "ename": "TypeError",
     "evalue": "TensorType does not support iteration. Maybe you are using builtin.sum instead of theano.tensor.sum? (Maybe .max?)",
     "output_type": "error",
     "traceback": [
      "\u001b[0;31m---------------------------------------------------------------------------\u001b[0m",
      "\u001b[0;31mTypeError\u001b[0m                                 Traceback (most recent call last)",
      "\u001b[0;32m<ipython-input-1406-648d5ecbfc5f>\u001b[0m in \u001b[0;36m<module>\u001b[0;34m()\u001b[0m\n\u001b[1;32m      3\u001b[0m \u001b[0;31m# XX = T.zeros(out_shape)\u001b[0m\u001b[0;34m\u001b[0m\u001b[0;34m\u001b[0m\u001b[0m\n\u001b[1;32m      4\u001b[0m \u001b[0;34m\u001b[0m\u001b[0m\n\u001b[0;32m----> 5\u001b[0;31m \u001b[0;32mfor\u001b[0m \u001b[0mc\u001b[0m \u001b[0;32min\u001b[0m \u001b[0mX\u001b[0m\u001b[0;34m:\u001b[0m\u001b[0;34m\u001b[0m\u001b[0m\n\u001b[0m\u001b[1;32m      6\u001b[0m     \u001b[0;32mprint\u001b[0m \u001b[0mc\u001b[0m\u001b[0;34m.\u001b[0m\u001b[0meval\u001b[0m\u001b[0;34m(\u001b[0m\u001b[0;34m)\u001b[0m\u001b[0;34m\u001b[0m\u001b[0m\n",
      "\u001b[0;32m/usr/local/lib/python2.7/site-packages/theano/tensor/var.pyc\u001b[0m in \u001b[0;36m__iter__\u001b[0;34m(self)\u001b[0m\n\u001b[1;32m    551\u001b[0m         \u001b[0;32mexcept\u001b[0m \u001b[0mTypeError\u001b[0m\u001b[0;34m:\u001b[0m\u001b[0;34m\u001b[0m\u001b[0m\n\u001b[1;32m    552\u001b[0m             \u001b[0;31m# This prevents accidental iteration via builtin.sum(self)\u001b[0m\u001b[0;34m\u001b[0m\u001b[0;34m\u001b[0m\u001b[0m\n\u001b[0;32m--> 553\u001b[0;31m             raise TypeError(('TensorType does not support iteration. '\n\u001b[0m\u001b[1;32m    554\u001b[0m                              \u001b[0;34m'Maybe you are using builtin.sum instead of '\u001b[0m\u001b[0;34m\u001b[0m\u001b[0m\n\u001b[1;32m    555\u001b[0m                              'theano.tensor.sum? (Maybe .max?)'))\n",
      "\u001b[0;31mTypeError\u001b[0m: TensorType does not support iteration. Maybe you are using builtin.sum instead of theano.tensor.sum? (Maybe .max?)"
     ]
    }
   ],
   "source": [
    "# out_shape = T.set_subtensor(in_shape[1], in_shape[1]*(in_shape[1]-1))\n",
    "# out_shape.eval()\n",
    "# XX = T.zeros(out_shape)\n",
    "\n",
    "# X = T.matrix(\"X\")\n",
    "# results, updates = theano.scan(lambda i, j, t_f: T.cast(X[i, j] + t_f, floatX),\n",
    "#                   sequences=[T.arange(X.shape[0]), T.arange(X.shape[1])],\n",
    "#                   outputs_info=np.asarray(0., dtype=floatX))\n",
    "# result = results[-1]\n",
    "# compute_trace = theano.function(inputs=[X], outputs=result)\n",
    "\n",
    "# # test value\n",
    "# x = np.eye(5, dtype=theano.config.floatX)\n",
    "# x[0] = np.arange(5, dtype=theano.config.floatX)\n",
    "# print(compute_trace(x))\n"
   ]
  },
  {
   "cell_type": "code",
   "execution_count": null,
   "metadata": {
    "collapsed": true
   },
   "outputs": [],
   "source": []
  },
  {
   "cell_type": "code",
   "execution_count": 20,
   "metadata": {
    "collapsed": false
   },
   "outputs": [],
   "source": [
    "a = 2*K.ones((3, 5, 10,10))\n",
    "b = 3*K.ones((3, 5, 10,10))"
   ]
  },
  {
   "cell_type": "code",
   "execution_count": 21,
   "metadata": {
    "collapsed": false
   },
   "outputs": [],
   "source": [
    "c = K.concatenate([a, b], axis=1)"
   ]
  },
  {
   "cell_type": "code",
   "execution_count": 22,
   "metadata": {
    "collapsed": false
   },
   "outputs": [
    {
     "data": {
      "text/plain": [
       "array([ 3, 10, 10, 10])"
      ]
     },
     "execution_count": 22,
     "metadata": {},
     "output_type": "execute_result"
    }
   ],
   "source": [
    "K.shape(c).eval()"
   ]
  },
  {
   "cell_type": "code",
   "execution_count": null,
   "metadata": {
    "collapsed": true
   },
   "outputs": [],
   "source": []
  },
  {
   "cell_type": "code",
   "execution_count": null,
   "metadata": {
    "collapsed": true
   },
   "outputs": [],
   "source": []
  },
  {
   "cell_type": "code",
   "execution_count": null,
   "metadata": {
    "collapsed": true
   },
   "outputs": [],
   "source": []
  },
  {
   "cell_type": "code",
   "execution_count": 231,
   "metadata": {
    "collapsed": false
   },
   "outputs": [],
   "source": [
    "b = K.cast(K.greater(a, 0.5),'float32')"
   ]
  },
  {
   "cell_type": "code",
   "execution_count": 232,
   "metadata": {
    "collapsed": false
   },
   "outputs": [
    {
     "data": {
      "text/plain": [
       "array([ 0.,  0.,  0.,  0.,  0.,  0.,  0.,  0.,  0.,  0.,  0.,  1.,  1.,\n",
       "        1.,  1.,  1.,  1.,  1.,  1.,  1.], dtype=float32)"
      ]
     },
     "execution_count": 232,
     "metadata": {},
     "output_type": "execute_result"
    }
   ],
   "source": [
    "b.eval()"
   ]
  },
  {
   "cell_type": "code",
   "execution_count": 233,
   "metadata": {
    "collapsed": false
   },
   "outputs": [],
   "source": [
    "c = a * b"
   ]
  },
  {
   "cell_type": "code",
   "execution_count": 234,
   "metadata": {
    "collapsed": false
   },
   "outputs": [
    {
     "data": {
      "text/plain": [
       "array([ 0.        ,  0.        ,  0.        ,  0.        ,  0.        ,\n",
       "        0.        ,  0.        ,  0.        ,  0.        ,  0.        ,\n",
       "        0.        ,  0.55000001,  0.60000002,  0.64999998,  0.69999999,\n",
       "        0.75      ,  0.80000001,  0.85000002,  0.89999998,  0.94999999], dtype=float32)"
      ]
     },
     "execution_count": 234,
     "metadata": {},
     "output_type": "execute_result"
    }
   ],
   "source": [
    "c.eval()"
   ]
  },
  {
   "cell_type": "code",
   "execution_count": null,
   "metadata": {
    "collapsed": true
   },
   "outputs": [],
   "source": []
  }
 ],
 "metadata": {
  "kernelspec": {
   "display_name": "Python 2",
   "language": "python",
   "name": "python2"
  },
  "language_info": {
   "codemirror_mode": {
    "name": "ipython",
    "version": 2
   },
   "file_extension": ".py",
   "mimetype": "text/x-python",
   "name": "python",
   "nbconvert_exporter": "python",
   "pygments_lexer": "ipython2",
   "version": "2.7.13"
  }
 },
 "nbformat": 4,
 "nbformat_minor": 0
}
