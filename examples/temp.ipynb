{
 "cells": [
  {
   "cell_type": "markdown",
   "metadata": {},
   "source": [
    "~~Download [SpaceNet utils](https://github.com/SpaceNetChallenge/utilities.git)~~"
   ]
  },
  {
   "cell_type": "code",
   "execution_count": null,
   "metadata": {
    "collapsed": true
   },
   "outputs": [],
   "source": [
    "#!if [ ! -d \"../common/spacenet_utils\" ]; then cd ../common; git clone https://github.com/SpaceNetChallenge/utilities.git spacenet_utils; fi"
   ]
  },
  {
   "cell_type": "code",
   "execution_count": null,
   "metadata": {
    "collapsed": true
   },
   "outputs": [],
   "source": [
    "# import sys \n",
    "# sys.path.append(\"../common/spacenet_utils/python/\")\n",
    "# from spaceNet import geoTools as gT"
   ]
  },
  {
   "cell_type": "code",
   "execution_count": null,
   "metadata": {
    "collapsed": true
   },
   "outputs": [],
   "source": []
  },
  {
   "cell_type": "code",
   "execution_count": null,
   "metadata": {
    "collapsed": true
   },
   "outputs": [],
   "source": []
  },
  {
   "cell_type": "markdown",
   "metadata": {},
   "source": [
    "Test pansharpen"
   ]
  },
  {
   "cell_type": "code",
   "execution_count": 40,
   "metadata": {
    "collapsed": true
   },
   "outputs": [],
   "source": [
    "# https://ipython.org/ipython-doc/3/config/extensions/autoreload.html\n",
    "%load_ext autoreload\n",
    "%autoreload 2"
   ]
  },
  {
   "cell_type": "code",
   "execution_count": 28,
   "metadata": {
    "collapsed": false
   },
   "outputs": [],
   "source": [
    "import os\n",
    "from gdal_pansharpen import gdal_pansharpen\n",
    "\n",
    "DATA_16_BANDS='../input/sixteen_band/'\n",
    "GENERATED_DATA_16_BANDS = \"../input/generated/\""
   ]
  },
  {
   "cell_type": "code",
   "execution_count": null,
   "metadata": {
    "collapsed": true
   },
   "outputs": [],
   "source": [
    "len(list(os.listdir(GENERATED_DATA_16_BANDS))), len(list(os.listdir(DATA_16_BANDS))), "
   ]
  },
  {
   "cell_type": "code",
   "execution_count": 41,
   "metadata": {
    "collapsed": true
   },
   "outputs": [],
   "source": [
    "import sys\n",
    "sys.path.append(\"../common/\")\n",
    "from data_utils import get_filename"
   ]
  },
  {
   "cell_type": "code",
   "execution_count": null,
   "metadata": {
    "collapsed": true
   },
   "outputs": [],
   "source": [
    "import logging\n",
    "\n",
    "# GDAL\n",
    "from gdal_pansharpen import gdal_pansharpen\n",
    "\n",
    "def generate_pansharpened(image_id, image_type):\n",
    "    \"\"\"\n",
    "    Method to create pansharpened images from multispectral or swir images\n",
    "    Created file is placed in GENERATED_DATA_16_BANDS folder\n",
    "    \n",
    "    :image_type: 'ms' or 'swir'\n",
    "    \"\"\"\n",
    "    outfname = get_filename(image_id, image_type + '_pan')\n",
    "    if os.path.exists(outfname):\n",
    "        logging.warn(\"File '%s' is already existing\" % outfname)\n",
    "        return \n",
    "    \n",
    "    fname = get_filename(image_id, image_type)\n",
    "    fname_pan = get_filename(image_id, 'pan')\n",
    "    gdal_pansharpen(['', fname_pan, fname, outfname])    "
   ]
  },
  {
   "cell_type": "code",
   "execution_count": 39,
   "metadata": {
    "collapsed": true
   },
   "outputs": [
    {
     "name": "stdout",
     "output_type": "stream",
     "text": [
      "--  6010_0_0\n",
      "--  6010_0_1\n",
      "--  6010_0_2\n",
      "--  6010_0_3\n",
      "--  6010_0_4\n",
      "--  6010_1_0\n",
      "--  6010_1_1\n",
      "--  6010_1_2\n",
      "--  6010_1_3\n",
      "--  6010_1_4\n",
      "--  6010_2_0\n",
      "--  6010_2_1\n",
      "--  6010_2_2\n",
      "--  6010_2_3\n",
      "--  6010_2_4\n",
      "--  6010_3_0\n",
      "--  6010_3_1\n",
      "--  6010_3_2\n",
      "--  6010_3_3\n",
      "--  6010_3_4\n",
      "--  6010_4_0\n",
      "--  6010_4_1\n",
      "--  6010_4_2\n",
      "--  6010_4_3\n",
      "--  6010_4_4\n",
      "--  6020_0_0\n",
      "--  6020_0_1\n",
      "--  6020_0_2\n",
      "--  6020_0_3\n",
      "--  6020_0_4\n",
      "--  6020_1_0\n",
      "--  6020_1_1\n",
      "--  6020_1_2\n",
      "--  6020_1_3\n",
      "--  6020_1_4\n",
      "--  6020_2_0\n",
      "--  6020_2_1\n",
      "--  6020_2_2\n",
      "--  6020_2_3\n",
      "--  6020_2_4\n",
      "--  6020_3_0\n",
      "--  6020_3_1\n",
      "--  6020_3_2\n",
      "--  6020_3_3\n",
      "--  6020_3_4\n",
      "--  6020_4_0\n",
      "--  6020_4_1\n",
      "--  6020_4_2\n",
      "--  6020_4_3\n",
      "--  6020_4_4\n",
      "--  6030_0_0\n",
      "--  6030_0_1\n",
      "--  6030_0_2\n",
      "--  6030_0_3\n",
      "--  6030_0_4\n",
      "--  6030_1_0\n",
      "--  6030_1_1\n",
      "--  6030_1_2\n",
      "--  6030_1_3\n",
      "--  6030_1_4\n",
      "--  6030_2_0\n",
      "--  6030_2_1\n",
      "--  6030_2_2\n",
      "--  6030_2_3\n",
      "--  6030_2_4\n",
      "--  6030_3_0\n",
      "--  6030_3_1\n",
      "--  6030_3_2\n",
      "--  6030_3_3\n",
      "--  6030_3_4\n",
      "--  6030_4_0\n",
      "--  6030_4_1\n",
      "--  6030_4_2\n",
      "--  6030_4_3\n",
      "--  6030_4_4\n",
      "--  6040_0_0\n",
      "--  6040_0_1\n",
      "--  6040_0_2\n",
      "--  6040_0_3\n",
      "--  6040_0_4\n",
      "--  6040_1_0\n",
      "--  6040_1_1\n",
      "--  6040_1_2\n",
      "--  6040_1_3\n",
      "--  6040_1_4\n",
      "--  6040_2_0\n",
      "--  6040_2_1\n",
      "--  6040_2_2\n",
      "--  6040_2_3\n",
      "--  6040_2_4\n",
      "--  6040_3_0\n",
      "--  6040_3_1\n",
      "--  6040_3_2\n",
      "--  6040_3_3\n",
      "--  6040_3_4\n",
      "--  6040_4_0\n",
      "--  6040_4_1\n",
      "--  6040_4_2\n",
      "--  6040_4_3\n",
      "--  6040_4_4\n",
      "--  6050_0_0\n",
      "--  6050_0_1\n",
      "--  6050_0_2\n",
      "--  6050_0_3\n",
      "--  6050_0_4\n",
      "--  6050_1_0\n",
      "--  6050_1_1\n",
      "--  6050_1_2\n",
      "--  6050_1_3\n",
      "--  6050_1_4\n",
      "--  6050_2_0\n",
      "--  6050_2_1\n",
      "--  6050_2_2\n",
      "--  6050_2_3\n",
      "--  6050_2_4\n",
      "--  6050_3_0\n",
      "--  6050_3_1\n",
      "--  6050_3_2\n",
      "--  6050_3_3\n",
      "--  6050_3_4\n",
      "--  6050_4_0\n",
      "--  6050_4_1\n",
      "--  6050_4_2\n",
      "--  6050_4_3\n",
      "--  6050_4_4\n",
      "--  6060_0_0\n",
      "--  6060_0_1\n",
      "--  6060_0_2\n",
      "--  6060_0_3\n",
      "--  6060_0_4\n",
      "--  6060_1_0\n"
     ]
    },
    {
     "ename": "KeyboardInterrupt",
     "evalue": "",
     "output_type": "error",
     "traceback": [
      "\u001b[0;31m---------------------------------------------------------------------------\u001b[0m",
      "\u001b[0;31mKeyboardInterrupt\u001b[0m                         Traceback (most recent call last)",
      "\u001b[0;32m<ipython-input-39-4f40acd03fa3>\u001b[0m in \u001b[0;36m<module>\u001b[0;34m()\u001b[0m\n\u001b[1;32m      5\u001b[0m \u001b[1;33m\u001b[0m\u001b[0m\n\u001b[1;32m      6\u001b[0m \u001b[0mfname_pan\u001b[0m\u001b[1;33m,\u001b[0m \u001b[0mfname_ms\u001b[0m\u001b[1;33m,\u001b[0m \u001b[0mfname_swir\u001b[0m \u001b[1;33m=\u001b[0m \u001b[1;33m[\u001b[0m\u001b[0mNone\u001b[0m\u001b[1;33m,\u001b[0m \u001b[0mNone\u001b[0m\u001b[1;33m,\u001b[0m \u001b[0mNone\u001b[0m\u001b[1;33m]\u001b[0m\u001b[1;33m\u001b[0m\u001b[0m\n\u001b[0;32m----> 7\u001b[0;31m \u001b[1;32mfor\u001b[0m \u001b[0mfname\u001b[0m \u001b[1;32min\u001b[0m \u001b[0mos\u001b[0m\u001b[1;33m.\u001b[0m\u001b[0mlistdir\u001b[0m\u001b[1;33m(\u001b[0m\u001b[0mDATA_16_BANDS\u001b[0m\u001b[1;33m)\u001b[0m\u001b[1;33m:\u001b[0m\u001b[1;33m\u001b[0m\u001b[0m\n\u001b[0m\u001b[1;32m      8\u001b[0m \u001b[1;33m\u001b[0m\u001b[0m\n\u001b[1;32m      9\u001b[0m     \u001b[1;32mif\u001b[0m \u001b[1;34m'_P'\u001b[0m \u001b[1;32min\u001b[0m \u001b[0mfname\u001b[0m\u001b[1;33m:\u001b[0m\u001b[1;33m\u001b[0m\u001b[0m\n",
      "\u001b[0;31mKeyboardInterrupt\u001b[0m: "
     ]
    }
   ],
   "source": [
    "if not os.path.exists(GENERATED_DATA_16_BANDS):\n",
    "    os.mkdir(GENERATED_DATA_16_BANDS)\n",
    "\n",
    "\n",
    "fname_pan, fname_ms, fname_swir = [None, None, None]\n",
    "for fname in os.listdir(DATA_16_BANDS):\n",
    "    \n",
    "    if '_P' in fname:\n",
    "        fname_pan = fname\n",
    "    elif '_M' in fname:\n",
    "        fname_ms = fname\n",
    "    elif '_A' in fname:\n",
    "        fname_swir = fname\n",
    "    \n",
    "    if fname_pan is not None and \\\n",
    "        fname_ms is not None and \\\n",
    "        fname_swir is not None:\n",
    "        assert fname_pan[:-5] == fname_ms[:-5] == fname_swir[:-5], \"Wrong files are catched: %s, %s, %s\" % (fname_pan, fname_ms, fname_swir)\n",
    "        print \"-- \", fname_pan[:-6]\n",
    "        \n",
    "        fname_pan = os.path.join(DATA_16_BANDS, fname_pan)\n",
    "        outfname = os.path.join(GENERATED_DATA_16_BANDS, fname_ms[:-4] + '_P.tif')\n",
    "        fname_ms = os.path.join(DATA_16_BANDS, fname_ms)\n",
    "        gdal_pansharpen(['', fname_pan, fname_ms, outfname])\n",
    "\n",
    "        outfname = os.path.join(GENERATED_DATA_16_BANDS, fname_swir[:-4] + '_P.tif')\n",
    "        fname_swir = os.path.join(DATA_16_BANDS, fname_swir)\n",
    "        gdal_pansharpen(['', fname_pan, fname_swir, outfname])\n",
    "        \n",
    "        fname_pan, fname_ms, fname_swir = [None, None, None]\n"
   ]
  },
  {
   "cell_type": "code",
   "execution_count": 25,
   "metadata": {
    "collapsed": true
   },
   "outputs": [],
   "source": [
    "import sys"
   ]
  },
  {
   "cell_type": "code",
   "execution_count": 26,
   "metadata": {
    "collapsed": false
   },
   "outputs": [
    {
     "data": {
      "text/plain": [
       "['f:\\\\vfomin\\\\myexamples\\\\dl\\\\venv\\\\lib\\\\site-packages\\\\ipykernel\\\\__main__.py',\n",
       " '-f',\n",
       " 'C:\\\\Users\\\\victor.fomin\\\\AppData\\\\Roaming\\\\jupyter\\\\runtime\\\\kernel-0bc83b45-0a32-47cf-b3c9-b278139be479.json']"
      ]
     },
     "execution_count": 26,
     "metadata": {},
     "output_type": "execute_result"
    }
   ],
   "source": [
    "sys.argv"
   ]
  },
  {
   "cell_type": "code",
   "execution_count": null,
   "metadata": {
    "collapsed": true
   },
   "outputs": [],
   "source": []
  },
  {
   "cell_type": "code",
   "execution_count": null,
   "metadata": {
    "collapsed": true
   },
   "outputs": [],
   "source": []
  },
  {
   "cell_type": "markdown",
   "metadata": {},
   "source": []
  },
  {
   "cell_type": "code",
   "execution_count": 53,
   "metadata": {
    "collapsed": true
   },
   "outputs": [],
   "source": [
    "rpolygons = get_resized_polygons(image_id, 'pan')"
   ]
  },
  {
   "cell_type": "code",
   "execution_count": 130,
   "metadata": {
    "collapsed": false
   },
   "outputs": [
    {
     "name": "stdout",
     "output_type": "stream",
     "text": [
      "Polygon 30 0 <class 'shapely.geometry.polygon.LinearRing'>\n",
      "Polygon 17 0 <class 'shapely.geometry.polygon.LinearRing'>\n",
      "Polygon 120 0 <class 'shapely.geometry.polygon.LinearRing'>\n",
      "Polygon 19 0 <class 'shapely.geometry.polygon.LinearRing'>\n",
      "Polygon 11 0 <class 'shapely.geometry.polygon.LinearRing'>\n",
      "Polygon 7 0 <class 'shapely.geometry.polygon.LinearRing'>\n",
      "Polygon 18 0 <class 'shapely.geometry.polygon.LinearRing'>\n",
      "Polygon 7 0 <class 'shapely.geometry.polygon.LinearRing'>\n",
      "Polygon 21 0 <class 'shapely.geometry.polygon.LinearRing'>\n",
      "Polygon 8 0 <class 'shapely.geometry.polygon.LinearRing'>\n",
      "Polygon 17 0 <class 'shapely.geometry.polygon.LinearRing'>\n",
      "Polygon 5 0 <class 'shapely.geometry.polygon.LinearRing'>\n",
      "Polygon 5 0 <class 'shapely.geometry.polygon.LinearRing'>\n",
      "Polygon 19 0 <class 'shapely.geometry.polygon.LinearRing'>\n",
      "Polygon 6 0 <class 'shapely.geometry.polygon.LinearRing'>\n",
      "Polygon 20 0 <class 'shapely.geometry.polygon.LinearRing'>\n",
      "Polygon 779 27 <class 'shapely.geometry.polygon.LinearRing'>\n",
      "Polygon 997 1 <class 'shapely.geometry.polygon.LinearRing'>\n",
      "Polygon 10 0 <class 'shapely.geometry.polygon.LinearRing'>\n",
      "Polygon 15 0 <class 'shapely.geometry.polygon.LinearRing'>\n",
      "Polygon 32 0 <class 'shapely.geometry.polygon.LinearRing'>\n",
      "Polygon 144 1 <class 'shapely.geometry.polygon.LinearRing'>\n",
      "Polygon 26 0 <class 'shapely.geometry.polygon.LinearRing'>\n",
      "Polygon 5 0 <class 'shapely.geometry.polygon.LinearRing'>\n",
      "Polygon 40 0 <class 'shapely.geometry.polygon.LinearRing'>\n",
      "Polygon 24 0 <class 'shapely.geometry.polygon.LinearRing'>\n",
      "Polygon 14 0 <class 'shapely.geometry.polygon.LinearRing'>\n"
     ]
    }
   ],
   "source": [
    "for polygon in rpolygons[4]:\n",
    "    print polygon.type, len(polygon.exterior.coords), len(polygon.interiors), type(polygon.exterior)"
   ]
  },
  {
   "cell_type": "code",
   "execution_count": 125,
   "metadata": {
    "collapsed": false
   },
   "outputs": [
    {
     "data": {
      "text/plain": [
       "(dtype('int32'), array([[ 716, 3193],\n",
       "        [ 716, 3195],\n",
       "        [ 656, 3193],\n",
       "        [ 564, 3196],\n",
       "        [ 552, 3198],\n",
       "        [ 497, 3219],\n",
       "        [ 477, 3217],\n",
       "        [ 407, 3201],\n",
       "        [ 366, 3194],\n",
       "        [ 358, 3194],\n",
       "        [ 340, 3200],\n",
       "        [ 267, 3277],\n",
       "        [ 213, 3333],\n",
       "        [ 200, 3347],\n",
       "        [ 199, 3347],\n",
       "        [ 200, 3345],\n",
       "        [ 294, 3239],\n",
       "        [ 329, 3203],\n",
       "        [ 341, 3196],\n",
       "        [ 357, 3190],\n",
       "        [ 375, 3189],\n",
       "        [ 438, 3205],\n",
       "        [ 482, 3215],\n",
       "        [ 507, 3212],\n",
       "        [ 526, 3205],\n",
       "        [ 552, 3192],\n",
       "        [ 576, 3191],\n",
       "        [ 641, 3187],\n",
       "        [ 701, 3190],\n",
       "        [ 716, 3193]]))"
      ]
     },
     "execution_count": 125,
     "metadata": {},
     "output_type": "execute_result"
    }
   ],
   "source": [
    "polygon = rpolygons[4][0]\n",
    "round_coords = lambda x: np.array(x).round().astype(np.int32)    \n",
    "exterior = round_coords(polygon.exterior.coords)\n",
    "exterior.dtype, exterior"
   ]
  },
  {
   "cell_type": "code",
   "execution_count": null,
   "metadata": {
    "collapsed": true
   },
   "outputs": [],
   "source": [
    "[None, 0\n",
    " 'Buildings', 1 \n",
    " 'Misc. Manmade structures', 2 \n",
    " 'Road', 3 \n",
    " 'Track', 4\n",
    " 'Trees', 5\n",
    " 'Crops', 6\n",
    " 'Waterway', 7\n",
    " 'Standing water', 8\n",
    " 'Vehicle Large', 9\n",
    " 'Vehicle Small'] 10"
   ]
  },
  {
   "cell_type": "code",
   "execution_count": 95,
   "metadata": {
    "collapsed": false
   },
   "outputs": [],
   "source": [
    "from data_utils import LABELS"
   ]
  },
  {
   "cell_type": "code",
   "execution_count": 121,
   "metadata": {
    "collapsed": false
   },
   "outputs": [],
   "source": [
    "ORDERED_LABEL_IDS = [\n",
    "    0, # Nothing\n",
    "    6, # Crops\n",
    "    4, # Track\n",
    "    3, # Road\n",
    "    8, # Standing water\n",
    "    7, # Waterway\n",
    "    2, # Structures\n",
    "    10, # Small vehicle\n",
    "    9, # Large vehicle\n",
    "    1, # Building\n",
    "    5, # Trees\n",
    "]"
   ]
  },
  {
   "cell_type": "code",
   "execution_count": 155,
   "metadata": {
    "collapsed": true
   },
   "outputs": [],
   "source": [
    "img = get_image_data(image_id, 'label')"
   ]
  },
  {
   "cell_type": "code",
   "execution_count": 156,
   "metadata": {
    "collapsed": false
   },
   "outputs": [
    {
     "data": {
      "text/plain": [
       "(dtype('uint8'), 0, 10, (3348L, 3391L))"
      ]
     },
     "execution_count": 156,
     "metadata": {},
     "output_type": "execute_result"
    }
   ],
   "source": [
    "img.dtype, img.min(), img.max(), img.shape"
   ]
  },
  {
   "cell_type": "code",
   "execution_count": 158,
   "metadata": {
    "collapsed": false
   },
   "outputs": [
    {
     "data": {
      "text/plain": [
       "<matplotlib.colorbar.Colorbar at 0x15b7a208>"
      ]
     },
     "execution_count": 158,
     "metadata": {},
     "output_type": "execute_result"
    },
    {
     "data": {
      "image/png": "[encoded data removed]",
      "text/plain": [
       "<matplotlib.figure.Figure at 0x129268d0>"
      ]
     },
     "metadata": {},
     "output_type": "display_data"
    }
   ],
   "source": [
    "plt.figure(figsize=(12,12))\n",
    "plt.imshow(img, cmap=plt.get_cmap('Paired', 10))\n",
    "plt.colorbar()"
   ]
  },
  {
   "cell_type": "code",
   "execution_count": 154,
   "metadata": {
    "collapsed": false
   },
   "outputs": [],
   "source": [
    "generate_label_file(image_id)"
   ]
  },
  {
   "cell_type": "code",
   "execution_count": 153,
   "metadata": {
    "collapsed": false
   },
   "outputs": [],
   "source": [
    "import cv2\n",
    "\n",
    "def generate_label_file(image_id):\n",
    "    image_data = generate_label_image(image_id)\n",
    "    outfname = get_filename(image_id, 'label')\n",
    "    cv2.imwrite(outfname, out)\n",
    "\n",
    "def generate_label_image(image_id):\n",
    "    rpolygons = get_resized_polygons(image_id, 'pan')\n",
    "    out_size = get_image_data(image_id, 'pan', return_shape_only=True)\n",
    "    out = np.zeros(out_size[:2], np.uint8)\n",
    "    round_coords = lambda x: np.array(x).round().astype(np.int32)    \n",
    "    for class_type in ORDERED_LABEL_IDS:\n",
    "        if class_type not in rpolygons:\n",
    "            continue\n",
    "        one_class_mask = np.zeros(out_size[:2], np.uint8)\n",
    "        for polygon in rpolygons[class_type]:\n",
    "            exterior = [round_coords(polygon.exterior.coords)]\n",
    "            interiors = [round_coords(poly.coords) for poly in polygon.interiors]\n",
    "            cv2.fillPoly(one_class_mask, exterior, class_type)\n",
    "            cv2.fillPoly(one_class_mask, interiors, 0)\n",
    "        out = np.maximum(out, one_class_mask)\n",
    "    return out"
   ]
  },
  {
   "cell_type": "code",
   "execution_count": null,
   "metadata": {
    "collapsed": true
   },
   "outputs": [],
   "source": [
    "import numpy as np\n",
    "import matplotlib.pylab as plt\n",
    "%matplotlib inline"
   ]
  },
  {
   "cell_type": "code",
   "execution_count": 141,
   "metadata": {
    "collapsed": false,
    "scrolled": true
   },
   "outputs": [
    {
     "data": {
      "text/plain": [
       "((3348L, 3391L), 0, 10)"
      ]
     },
     "execution_count": 141,
     "metadata": {},
     "output_type": "execute_result"
    }
   ],
   "source": [
    "image_id = \"6100_2_2\"\n",
    "out = generate_label_image(image_id)\n",
    "out.shape, out.min(), out.max()"
   ]
  },
  {
   "cell_type": "code",
   "execution_count": 124,
   "metadata": {
    "collapsed": false
   },
   "outputs": [
    {
     "data": {
      "text/plain": [
       "<matplotlib.colorbar.Colorbar at 0x137ee710>"
      ]
     },
     "execution_count": 124,
     "metadata": {},
     "output_type": "execute_result"
    },
    {
     "data": {
      "image/png": "[encoded data removed]",
      "text/plain": [
       "<matplotlib.figure.Figure at 0x18f7e5c0>"
      ]
     },
     "metadata": {},
     "output_type": "display_data"
    }
   ],
   "source": [
    "plt.figure(figsize=(12,12))\n",
    "plt.imshow(out, cmap=plt.get_cmap('Paired', 10))\n",
    "plt.colorbar()"
   ]
  },
  {
   "cell_type": "code",
   "execution_count": 133,
   "metadata": {
    "collapsed": true
   },
   "outputs": [],
   "source": [
    "plt.imsave('test.png', out, cmap=plt.get_cmap('Paired', 10))"
   ]
  },
  {
   "cell_type": "code",
   "execution_count": 72,
   "metadata": {
    "collapsed": false
   },
   "outputs": [
    {
     "data": {
      "text/plain": [
       "((2L, 5L), dtype('int32'))"
      ]
     },
     "execution_count": 72,
     "metadata": {},
     "output_type": "execute_result"
    }
   ],
   "source": [
    "exterior.T.shape, exterior.dtype"
   ]
  },
  {
   "cell_type": "code",
   "execution_count": 78,
   "metadata": {
    "collapsed": false
   },
   "outputs": [
    {
     "data": {
      "text/plain": [
       "<matplotlib.image.AxesImage at 0x19a7ada0>"
      ]
     },
     "execution_count": 78,
     "metadata": {},
     "output_type": "execute_result"
    },
    {
     "data": {
      "image/png": "[encoded data removed]",
      "text/plain": [
       "<matplotlib.figure.Figure at 0x180b8908>"
      ]
     },
     "metadata": {},
     "output_type": "display_data"
    }
   ],
   "source": [
    "tst = np.zeros((100, 100), dtype=np.uint8)\n",
    "exterior = np.array([[10, 10], [75, 30], [55, 70], [25, 65], [10, 10]]).astype(np.int32)\n",
    "cv2.fillPoly(tst, [exterior], 255)\n",
    "# cv2.polylines(tst, [exterior], True, (255,255,255)) \n",
    "\n",
    "plt.imshow(tst)"
   ]
  },
  {
   "cell_type": "code",
   "execution_count": null,
   "metadata": {
    "collapsed": true
   },
   "outputs": [],
   "source": []
  },
  {
   "cell_type": "code",
   "execution_count": 47,
   "metadata": {
    "collapsed": true
   },
   "outputs": [],
   "source": [
    "from data_utils import TRAIN_IMAGE_IDS, get_resized_polygons\n",
    "from image_utils import get_filename, generate_pansharpened, generate_label_image"
   ]
  },
  {
   "cell_type": "code",
   "execution_count": 161,
   "metadata": {
    "collapsed": false
   },
   "outputs": [
    {
     "name": "stdout",
     "output_type": "stream",
     "text": [
      "6040_2_2\n",
      "6120_2_2\n",
      "6120_2_0\n",
      "6090_2_0\n",
      "6040_1_3\n",
      "6040_1_0\n",
      "6100_1_3\n",
      "6010_4_2\n",
      "6110_4_0\n",
      "6140_3_1\n",
      "6110_1_2\n",
      "6100_2_3\n",
      "6150_2_3\n",
      "6160_2_1\n",
      "6140_1_2\n",
      "6110_3_1\n",
      "6010_4_4\n",
      "6170_2_4\n",
      "6170_4_1\n",
      "6170_0_4\n",
      "6060_2_3\n",
      "6070_2_3\n",
      "6010_1_2\n",
      "6040_4_4\n",
      "6100_2_2\n"
     ]
    }
   ],
   "source": [
    "import shutil\n",
    "\n",
    "from data_utils import TRAIN_IMAGE_IDS, get_resized_polygons\n",
    "from image_utils import get_filename, generate_pansharpened, generate_label_file \n",
    "\n",
    "for image_id in TRAIN_IMAGE_IDS:\n",
    "    print image_id\n",
    "    # Generate pansharpened\n",
    "    #generate_pansharpened(image_id, 'ms')\n",
    "    #generate_pansharpened(image_id, 'swir')\n",
    "    \n",
    "    # generate label mask\n",
    "    generate_label_file(image_id)\n",
    "    \n",
    "\n",
    "# shutil.copy()"
   ]
  },
  {
   "cell_type": "code",
   "execution_count": null,
   "metadata": {
    "collapsed": true
   },
   "outputs": [],
   "source": []
  }
 ],
 "metadata": {
  "kernelspec": {
   "display_name": "Python 2",
   "language": "python",
   "name": "python2"
  },
  "language_info": {
   "codemirror_mode": {
    "name": "ipython",
    "version": 2
   },
   "file_extension": ".py",
   "mimetype": "text/x-python",
   "name": "python",
   "nbconvert_exporter": "python",
   "pygments_lexer": "ipython2",
   "version": "2.7.11"
  }
 },
 "nbformat": 4,
 "nbformat_minor": 2
}
