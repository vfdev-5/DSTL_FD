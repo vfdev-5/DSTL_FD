{
 "cells": [
  {
   "cell_type": "markdown",
   "metadata": {},
   "source": [
    "~~Download [SpaceNet utils](https://github.com/SpaceNetChallenge/utilities.git)~~"
   ]
  },
  {
   "cell_type": "code",
   "execution_count": null,
   "metadata": {
    "collapsed": true
   },
   "outputs": [],
   "source": [
    "#!if [ ! -d \"../common/spacenet_utils\" ]; then cd ../common; git clone https://github.com/SpaceNetChallenge/utilities.git spacenet_utils; fi"
   ]
  },
  {
   "cell_type": "code",
   "execution_count": null,
   "metadata": {
    "collapsed": true
   },
   "outputs": [],
   "source": [
    "# import sys \n",
    "# sys.path.append(\"../common/spacenet_utils/python/\")\n",
    "# from spaceNet import geoTools as gT"
   ]
  },
  {
   "cell_type": "code",
   "execution_count": null,
   "metadata": {
    "collapsed": true
   },
   "outputs": [],
   "source": []
  },
  {
   "cell_type": "code",
   "execution_count": null,
   "metadata": {
    "collapsed": true
   },
   "outputs": [],
   "source": []
  },
  {
   "cell_type": "markdown",
   "metadata": {},
   "source": [
    "Test pansharpen"
   ]
  },
  {
   "cell_type": "code",
   "execution_count": 40,
   "metadata": {
    "collapsed": true
   },
   "outputs": [],
   "source": [
    "# https://ipython.org/ipython-doc/3/config/extensions/autoreload.html\n",
    "%load_ext autoreload\n",
    "%autoreload 2"
   ]
  },
  {
   "cell_type": "code",
   "execution_count": 28,
   "metadata": {
    "collapsed": false
   },
   "outputs": [],
   "source": [
    "import os\n",
    "from gdal_pansharpen import gdal_pansharpen\n",
    "\n",
    "DATA_16_BANDS='../input/sixteen_band/'\n",
    "GENERATED_DATA_16_BANDS = \"../input/generated/\""
   ]
  },
  {
   "cell_type": "code",
   "execution_count": null,
   "metadata": {
    "collapsed": true
   },
   "outputs": [],
   "source": [
    "len(list(os.listdir(GENERATED_DATA_16_BANDS))), len(list(os.listdir(DATA_16_BANDS))), "
   ]
  },
  {
   "cell_type": "code",
   "execution_count": 41,
   "metadata": {
    "collapsed": true
   },
   "outputs": [],
   "source": [
    "import sys\n",
    "sys.path.append(\"../common/\")\n",
    "from data_utils import get_filename"
   ]
  },
  {
   "cell_type": "code",
   "execution_count": null,
   "metadata": {
    "collapsed": true
   },
   "outputs": [],
   "source": [
    "import logging\n",
    "\n",
    "# GDAL\n",
    "from gdal_pansharpen import gdal_pansharpen\n",
    "\n",
    "def generate_pansharpened(image_id, image_type):\n",
    "    \"\"\"\n",
    "    Method to create pansharpened images from multispectral or swir images\n",
    "    Created file is placed in GENERATED_DATA_16_BANDS folder\n",
    "    \n",
    "    :image_type: 'ms' or 'swir'\n",
    "    \"\"\"\n",
    "    outfname = get_filename(image_id, image_type + '_pan')\n",
    "    if os.path.exists(outfname):\n",
    "        logging.warn(\"File '%s' is already existing\" % outfname)\n",
    "        return \n",
    "    \n",
    "    fname = get_filename(image_id, image_type)\n",
    "    fname_pan = get_filename(image_id, 'pan')\n",
    "    gdal_pansharpen(['', fname_pan, fname, outfname])    "
   ]
  },
  {
   "cell_type": "code",
   "execution_count": 39,
   "metadata": {
    "collapsed": false,
    "scrolled": false
   },
   "outputs": [
    {
     "name": "stdout",
     "output_type": "stream",
     "text": [
      "--  6010_0_0\n",
      "--  6010_0_1\n",
      "--  6010_0_2\n",
      "--  6010_0_3\n",
      "--  6010_0_4\n",
      "--  6010_1_0\n",
      "--  6010_1_1\n",
      "--  6010_1_2\n",
      "--  6010_1_3\n",
      "--  6010_1_4\n",
      "--  6010_2_0\n",
      "--  6010_2_1\n",
      "--  6010_2_2\n",
      "--  6010_2_3\n",
      "--  6010_2_4\n",
      "--  6010_3_0\n",
      "--  6010_3_1\n",
      "--  6010_3_2\n",
      "--  6010_3_3\n",
      "--  6010_3_4\n",
      "--  6010_4_0\n",
      "--  6010_4_1\n",
      "--  6010_4_2\n",
      "--  6010_4_3\n",
      "--  6010_4_4\n",
      "--  6020_0_0\n",
      "--  6020_0_1\n",
      "--  6020_0_2\n",
      "--  6020_0_3\n",
      "--  6020_0_4\n",
      "--  6020_1_0\n",
      "--  6020_1_1\n",
      "--  6020_1_2\n",
      "--  6020_1_3\n",
      "--  6020_1_4\n",
      "--  6020_2_0\n",
      "--  6020_2_1\n",
      "--  6020_2_2\n",
      "--  6020_2_3\n",
      "--  6020_2_4\n",
      "--  6020_3_0\n",
      "--  6020_3_1\n",
      "--  6020_3_2\n",
      "--  6020_3_3\n",
      "--  6020_3_4\n",
      "--  6020_4_0\n",
      "--  6020_4_1\n",
      "--  6020_4_2\n",
      "--  6020_4_3\n",
      "--  6020_4_4\n",
      "--  6030_0_0\n",
      "--  6030_0_1\n",
      "--  6030_0_2\n",
      "--  6030_0_3\n",
      "--  6030_0_4\n",
      "--  6030_1_0\n",
      "--  6030_1_1\n",
      "--  6030_1_2\n",
      "--  6030_1_3\n",
      "--  6030_1_4\n",
      "--  6030_2_0\n",
      "--  6030_2_1\n",
      "--  6030_2_2\n",
      "--  6030_2_3\n",
      "--  6030_2_4\n",
      "--  6030_3_0\n",
      "--  6030_3_1\n",
      "--  6030_3_2\n",
      "--  6030_3_3\n",
      "--  6030_3_4\n",
      "--  6030_4_0\n",
      "--  6030_4_1\n",
      "--  6030_4_2\n",
      "--  6030_4_3\n",
      "--  6030_4_4\n",
      "--  6040_0_0\n",
      "--  6040_0_1\n",
      "--  6040_0_2\n",
      "--  6040_0_3\n",
      "--  6040_0_4\n",
      "--  6040_1_0\n",
      "--  6040_1_1\n",
      "--  6040_1_2\n",
      "--  6040_1_3\n",
      "--  6040_1_4\n",
      "--  6040_2_0\n",
      "--  6040_2_1\n",
      "--  6040_2_2\n",
      "--  6040_2_3\n",
      "--  6040_2_4\n",
      "--  6040_3_0\n",
      "--  6040_3_1\n",
      "--  6040_3_2\n",
      "--  6040_3_3\n",
      "--  6040_3_4\n",
      "--  6040_4_0\n",
      "--  6040_4_1\n",
      "--  6040_4_2\n",
      "--  6040_4_3\n",
      "--  6040_4_4\n",
      "--  6050_0_0\n",
      "--  6050_0_1\n",
      "--  6050_0_2\n",
      "--  6050_0_3\n",
      "--  6050_0_4\n",
      "--  6050_1_0\n",
      "--  6050_1_1\n",
      "--  6050_1_2\n",
      "--  6050_1_3\n",
      "--  6050_1_4\n",
      "--  6050_2_0\n",
      "--  6050_2_1\n",
      "--  6050_2_2\n",
      "--  6050_2_3\n",
      "--  6050_2_4\n",
      "--  6050_3_0\n",
      "--  6050_3_1\n",
      "--  6050_3_2\n",
      "--  6050_3_3\n",
      "--  6050_3_4\n",
      "--  6050_4_0\n",
      "--  6050_4_1\n",
      "--  6050_4_2\n",
      "--  6050_4_3\n",
      "--  6050_4_4\n",
      "--  6060_0_0\n",
      "--  6060_0_1\n",
      "--  6060_0_2\n",
      "--  6060_0_3\n",
      "--  6060_0_4\n",
      "--  6060_1_0\n"
     ]
    },
    {
     "ename": "KeyboardInterrupt",
     "evalue": "",
     "output_type": "error",
     "traceback": [
      "\u001b[0;31m---------------------------------------------------------------------------\u001b[0m",
      "\u001b[0;31mKeyboardInterrupt\u001b[0m                         Traceback (most recent call last)",
      "\u001b[0;32m<ipython-input-39-4f40acd03fa3>\u001b[0m in \u001b[0;36m<module>\u001b[0;34m()\u001b[0m\n\u001b[1;32m      5\u001b[0m \u001b[1;33m\u001b[0m\u001b[0m\n\u001b[1;32m      6\u001b[0m \u001b[0mfname_pan\u001b[0m\u001b[1;33m,\u001b[0m \u001b[0mfname_ms\u001b[0m\u001b[1;33m,\u001b[0m \u001b[0mfname_swir\u001b[0m \u001b[1;33m=\u001b[0m \u001b[1;33m[\u001b[0m\u001b[0mNone\u001b[0m\u001b[1;33m,\u001b[0m \u001b[0mNone\u001b[0m\u001b[1;33m,\u001b[0m \u001b[0mNone\u001b[0m\u001b[1;33m]\u001b[0m\u001b[1;33m\u001b[0m\u001b[0m\n\u001b[0;32m----> 7\u001b[0;31m \u001b[1;32mfor\u001b[0m \u001b[0mfname\u001b[0m \u001b[1;32min\u001b[0m \u001b[0mos\u001b[0m\u001b[1;33m.\u001b[0m\u001b[0mlistdir\u001b[0m\u001b[1;33m(\u001b[0m\u001b[0mDATA_16_BANDS\u001b[0m\u001b[1;33m)\u001b[0m\u001b[1;33m:\u001b[0m\u001b[1;33m\u001b[0m\u001b[0m\n\u001b[0m\u001b[1;32m      8\u001b[0m \u001b[1;33m\u001b[0m\u001b[0m\n\u001b[1;32m      9\u001b[0m     \u001b[1;32mif\u001b[0m \u001b[1;34m'_P'\u001b[0m \u001b[1;32min\u001b[0m \u001b[0mfname\u001b[0m\u001b[1;33m:\u001b[0m\u001b[1;33m\u001b[0m\u001b[0m\n",
      "\u001b[0;31mKeyboardInterrupt\u001b[0m: "
     ]
    }
   ],
   "source": [
    "if not os.path.exists(GENERATED_DATA_16_BANDS):\n",
    "    os.mkdir(GENERATED_DATA_16_BANDS)\n",
    "\n",
    "\n",
    "fname_pan, fname_ms, fname_swir = [None, None, None]\n",
    "for fname in os.listdir(DATA_16_BANDS):\n",
    "    \n",
    "    if '_P' in fname:\n",
    "        fname_pan = fname\n",
    "    elif '_M' in fname:\n",
    "        fname_ms = fname\n",
    "    elif '_A' in fname:\n",
    "        fname_swir = fname\n",
    "    \n",
    "    if fname_pan is not None and \\\n",
    "        fname_ms is not None and \\\n",
    "        fname_swir is not None:\n",
    "        assert fname_pan[:-5] == fname_ms[:-5] == fname_swir[:-5], \"Wrong files are catched: %s, %s, %s\" % (fname_pan, fname_ms, fname_swir)\n",
    "        print \"-- \", fname_pan[:-6]\n",
    "        \n",
    "        fname_pan = os.path.join(DATA_16_BANDS, fname_pan)\n",
    "        outfname = os.path.join(GENERATED_DATA_16_BANDS, fname_ms[:-4] + '_P.tif')\n",
    "        fname_ms = os.path.join(DATA_16_BANDS, fname_ms)\n",
    "        gdal_pansharpen(['', fname_pan, fname_ms, outfname])\n",
    "\n",
    "        outfname = os.path.join(GENERATED_DATA_16_BANDS, fname_swir[:-4] + '_P.tif')\n",
    "        fname_swir = os.path.join(DATA_16_BANDS, fname_swir)\n",
    "        gdal_pansharpen(['', fname_pan, fname_swir, outfname])\n",
    "        \n",
    "        fname_pan, fname_ms, fname_swir = [None, None, None]\n"
   ]
  },
  {
   "cell_type": "code",
   "execution_count": 25,
   "metadata": {
    "collapsed": true
   },
   "outputs": [],
   "source": [
    "import sys"
   ]
  },
  {
   "cell_type": "code",
   "execution_count": 26,
   "metadata": {
    "collapsed": false
   },
   "outputs": [
    {
     "data": {
      "text/plain": [
       "['f:\\\\vfomin\\\\myexamples\\\\dl\\\\venv\\\\lib\\\\site-packages\\\\ipykernel\\\\__main__.py',\n",
       " '-f',\n",
       " 'C:\\\\Users\\\\victor.fomin\\\\AppData\\\\Roaming\\\\jupyter\\\\runtime\\\\kernel-0bc83b45-0a32-47cf-b3c9-b278139be479.json']"
      ]
     },
     "execution_count": 26,
     "metadata": {},
     "output_type": "execute_result"
    }
   ],
   "source": [
    "sys.argv"
   ]
  },
  {
   "cell_type": "code",
   "execution_count": null,
   "metadata": {
    "collapsed": true
   },
   "outputs": [],
   "source": []
  }
 ],
 "metadata": {
  "kernelspec": {
   "display_name": "Python 2",
   "language": "python",
   "name": "python2"
  },
  "language_info": {
   "codemirror_mode": {
    "name": "ipython",
    "version": 2
   },
   "file_extension": ".py",
   "mimetype": "text/x-python",
   "name": "python",
   "nbconvert_exporter": "python",
   "pygments_lexer": "ipython2",
   "version": "2.7.11"
  }
 },
 "nbformat": 4,
 "nbformat_minor": 2
}
